{
 "cells": [
  {
   "cell_type": "markdown",
   "metadata": {},
   "source": [
    "# AI Project : Simplified Wumpus World and First Order Logic\n",
    "\n",
    "We based our project on the aima 2017 library. We have used the following files :\n",
    "* agent.py - contains the wumpus world environment\n",
    "* logic.py - contains databases and solvers\n",
    "* planning.py - contains first order logic algorithm\n",
    "\n",
    "\n",
    "In this file we are using first order logic, we use the graph solver from the aima library. Nevertheless, the library is not complete. For example it doesn't implement the followings for the first order logic :\n",
    "* <=>\n",
    "* ~\n",
    "* forall(x)\n",
    "* thereexist(x)\n",
    "\n",
    "The first order solver used ask something to the knowledge base is also very slow. \n",
    "In this file we are using a very simplified version of the wumpus world. We assume that the position of the gold and the obstacles are known and use the graphlan algorithm to find the best path."
   ]
  },
  {
   "cell_type": "markdown",
   "metadata": {},
   "source": [
    "# Generate and draw the wumpus world\n",
    "\n",
    "In this part we generate a wumpus world."
   ]
  },
  {
   "cell_type": "code",
   "execution_count": 2,
   "metadata": {
    "collapsed": false
   },
   "outputs": [],
   "source": [
    "from ipythonblocks import BlockGrid\n",
    "from IPython.display import clear_output\n",
    "from agents import *\n",
    "import time\n",
    "\n",
    "color = {\"Breeze\": (225, 225, 225),\n",
    "        \"Pit\": (0,0,0),\n",
    "        \"Gold\": (253, 208, 23),\n",
    "        \"Glitter\": (253, 208, 23),\n",
    "        \"Wumpus\": (255, 0, 255),\n",
    "        \"Stench\": (128, 0, 128),\n",
    "        \"Explorer\": (0, 0, 255),\n",
    "        \"Wall\": (255, 0, 0)\n",
    "        }\n",
    "\n",
    "def program(percepts):\n",
    "    '''Returns an action based on it's percepts'''\n",
    "    print(percepts)\n",
    "    return input()\n",
    "\n",
    "w = WumpusEnvironment(program, 7,7)         \n",
    "grid = BlockGrid(w.width, w.height, fill=(123, 234, 123))\n",
    "\n",
    "def draw_grid(world):\n",
    "    global grid\n",
    "    grid[:] = (123, 234, 123)\n",
    "    for x in range(0, len(world)):\n",
    "        for y in range(0, len(world[x])):\n",
    "            if len(world[x][y]):\n",
    "                g = -1\n",
    "                for i in world[x][y]:\n",
    "                    h = world[x][y].index(i)\n",
    "                    if(isinstance(i, Gold)):\n",
    "                        g = world[x][y].index(i)\n",
    "                        break\n",
    "                    elif(isinstance(i, Wumpus)):\n",
    "                        g = h\n",
    "                    elif(isinstance(i, Pit)):\n",
    "                        if (not isinstance(world[x][y][g],Wumpus)):\n",
    "                            g = h\n",
    "\n",
    "                grid[y, x] = color[world[x][y][g].__class__.__name__]"
   ]
  },
  {
   "cell_type": "markdown",
   "metadata": {},
   "source": [
    "## First order logic\n",
    "\n",
    "We connect the tiles together, assume safe everything that is not a pit or a wumpus, take the gold as a goal and define the action move.\n",
    "We tried to implement a more complicated world but the solver was taking several minutes to answer. We decided then decided to switch to porositional logic to solve the full problem"
   ]
  },
  {
   "cell_type": "code",
   "execution_count": 3,
   "metadata": {
    "collapsed": false
   },
   "outputs": [
    {
     "ename": "ModuleNotFoundError",
     "evalue": "No module named 'search'",
     "output_type": "error",
     "traceback": [
      "\u001b[0;31m---------------------------------------------------------------------------\u001b[0m",
      "\u001b[0;31mModuleNotFoundError\u001b[0m                       Traceback (most recent call last)",
      "\u001b[0;32m<ipython-input-3-1f51bcc9db5c>\u001b[0m in \u001b[0;36m<module>\u001b[0;34m()\u001b[0m\n\u001b[1;32m      2\u001b[0m \u001b[0;32mfrom\u001b[0m \u001b[0magents\u001b[0m \u001b[0;32mimport\u001b[0m \u001b[0;34m*\u001b[0m\u001b[0;34m\u001b[0m\u001b[0m\n\u001b[1;32m      3\u001b[0m \u001b[0;32mfrom\u001b[0m \u001b[0mutils\u001b[0m \u001b[0;32mimport\u001b[0m \u001b[0;34m*\u001b[0m\u001b[0;34m\u001b[0m\u001b[0m\n\u001b[0;32m----> 4\u001b[0;31m \u001b[0;32mfrom\u001b[0m \u001b[0mplanning\u001b[0m \u001b[0;32mimport\u001b[0m \u001b[0;34m*\u001b[0m\u001b[0;34m\u001b[0m\u001b[0m\n\u001b[0m\u001b[1;32m      5\u001b[0m \u001b[0;32mfrom\u001b[0m \u001b[0mlogic\u001b[0m \u001b[0;32mimport\u001b[0m \u001b[0;34m*\u001b[0m\u001b[0;34m\u001b[0m\u001b[0m\n\u001b[1;32m      6\u001b[0m \u001b[0;34m\u001b[0m\u001b[0m\n",
      "\u001b[0;32m/home/dalinel/SimpleWumpusFOL/planning.py\u001b[0m in \u001b[0;36m<module>\u001b[0;34m()\u001b[0m\n\u001b[1;32m      3\u001b[0m \u001b[0;34m\u001b[0m\u001b[0m\n\u001b[1;32m      4\u001b[0m \u001b[0;32mimport\u001b[0m \u001b[0mitertools\u001b[0m\u001b[0;34m\u001b[0m\u001b[0m\n\u001b[0;32m----> 5\u001b[0;31m \u001b[0;32mfrom\u001b[0m \u001b[0msearch\u001b[0m \u001b[0;32mimport\u001b[0m \u001b[0mNode\u001b[0m\u001b[0;34m\u001b[0m\u001b[0m\n\u001b[0m\u001b[1;32m      6\u001b[0m \u001b[0;32mfrom\u001b[0m \u001b[0mutils\u001b[0m \u001b[0;32mimport\u001b[0m \u001b[0mExpr\u001b[0m\u001b[0;34m,\u001b[0m \u001b[0mexpr\u001b[0m\u001b[0;34m,\u001b[0m \u001b[0mfirst\u001b[0m\u001b[0;34m,\u001b[0m \u001b[0mFIFOQueue\u001b[0m\u001b[0;34m\u001b[0m\u001b[0m\n\u001b[1;32m      7\u001b[0m \u001b[0;32mfrom\u001b[0m \u001b[0mlogic\u001b[0m \u001b[0;32mimport\u001b[0m \u001b[0mFolKB\u001b[0m\u001b[0;34m\u001b[0m\u001b[0m\n",
      "\u001b[0;31mModuleNotFoundError\u001b[0m: No module named 'search'"
     ]
    }
   ],
   "source": [
    "from ipythonblocks import BlockGrid\n",
    "from agents import *\n",
    "from utils import *\n",
    "from planning import *\n",
    "from logic import *\n",
    "\n",
    "world = w.get_world()\n",
    "\n",
    "xmax=len(world)\n",
    "ymax=len(world[0])\n",
    "\n",
    "knowledge_base = []\n",
    "\n",
    "############ DEFINE FOL #############################\n",
    "# Initial State of the World\n",
    "for i in range(0,xmax):\n",
    "        for j in range(0,ymax):\n",
    "                unsafe = False;\n",
    "                for h in range(0,len(world[i][j])):\n",
    "                        if(isinstance(world[i][j][h],Wumpus) | isinstance(world[i][j][h],Pit) | isinstance(world[i][j][h],Wall)):\n",
    "                                unsafe = True;\n",
    "                        elif(isinstance(world[i][j][h],Gold)):\n",
    "                                goal_state = expr(\"At(T_%do%d)\"%(i,j));\n",
    "                if(unsafe==False):           \n",
    "                        knowledge_base.append(expr(\"Safe(T_%do%d)\"%(i,j)));\n",
    "                                     \n",
    "for i in range(0,xmax):\n",
    "        for j in range(0,ymax):\n",
    "            if(i==0 & j!=0):\n",
    "                knowledge_base.append(expr(\"Connected(T_%do%d,T_%do%d)\"%(i,j,i+1,j)));       \n",
    "                knowledge_base.append(expr(\"Connected(T_%do%d,T_%do%d)\"%(i,j,i,j+1))); \n",
    "                knowledge_base.append(expr(\"Connected(T_%do%d,T_%do%d)\"%(i,j,i,j-1)));  \n",
    "            elif(j==0 & i!=0):\n",
    "                knowledge_base.append(expr(\"Connected(T_%do%d,T_%do%d)\"%(i,j,i+1,j)));       \n",
    "                knowledge_base.append(expr(\"Connected(T_%do%d,T_%do%d)\"%(i,j,i-1,j)));  \n",
    "                knowledge_base.append(expr(\"Connected(T_%do%d,T_%do%d)\"%(i,j,i,j+1))); \n",
    "            elif(i==0 & j==0):\n",
    "                knowledge_base.append(expr(\"Connected(T_%do%d,T_%do%d)\"%(i,j,i+1,j)));         \n",
    "                knowledge_base.append(expr(\"Connected(T_%do%d,T_%do%d)\"%(i,j,i,j+1)));                 \n",
    "            else:\n",
    "                knowledge_base.append(expr(\"Connected(T_%do%d,T_%do%d)\"%(i,j,i+1,j)));       \n",
    "                knowledge_base.append(expr(\"Connected(T_%do%d,T_%do%d)\"%(i,j,i-1,j)));  \n",
    "                knowledge_base.append(expr(\"Connected(T_%do%d,T_%do%d)\"%(i,j,i,j+1))); \n",
    "                knowledge_base.append(expr(\"Connected(T_%do%d,T_%do%d)\"%(i,j,i,j-1)));  \n",
    "\n",
    "\n",
    "#Initial State of the Explorer\n",
    "knowledge_base.append(expr(\"At(T_1o1)\"))\n",
    "\n",
    "\n",
    "    \n",
    "##########  DEFINE ACTIONS ###########################################\n",
    "\n",
    "#Move to a safe position\n",
    "precond_pos = [expr('At(x)'),expr(\"Safe(y)\"),expr(\"Connected(x,y)\")]\n",
    "precond_neg = []\n",
    "effect_add = [expr('At(y)')]\n",
    "effect_rem = [expr('At(x)')]\n",
    "move = Action(expr('Move(x, y)'), [precond_pos, precond_neg], [effect_add, effect_rem])\n",
    "\n",
    "pddl = PDDL(knowledge_base, [move], goal_state)\n",
    "\n",
    "########## USE GRAPHPLAN ############################################\n",
    "negkb = FolKB([])\n",
    "graphplan = GraphPlan(pddl, negkb)\n",
    "\n",
    "\n",
    "def goal_test(kb, goals):\n",
    "        return all(kb.ask(q) is not False for q in goals)\n",
    "\n",
    "def run_graphplan():\n",
    "    goals_pos = [goal_state]\n",
    "    goals_neg = []\n",
    "\n",
    "    while True:\n",
    "        if (goal_test(graphplan.graph.levels[-1].poskb, goals_pos) and\n",
    "                graphplan.graph.non_mutex_goals(goals_pos+goals_neg, -1)):\n",
    "            solution = graphplan.extract_solution(goals_pos, goals_neg, -1)\n",
    "            if solution:\n",
    "                return solution\n",
    "        graphplan.graph.expand_graph()\n",
    "        if len(graphplan.graph.levels)>=2 and graphplan.check_leveloff():\n",
    "            return None\n",
    "        \n",
    "solution = run_graphplan()\n",
    "\n",
    "######## EXTRACT THE FINAL SOLUTION FROM GRAPHPLAN #################\n",
    "if solution == None:\n",
    "    final_solution = None;\n",
    "else :\n",
    "    final_solution = []\n",
    "    s=solution[0];\n",
    "    for i in range(0,len(s)):\n",
    "        for j in range(0,len(s[i])):\n",
    "            if(\"Move\" in repr(s[i][j])):\n",
    "                final_solution.append(s[i][j])\n",
    "                \n",
    "print(\"Solution of the problem : \", final_solution)\n"
   ]
  },
  {
   "cell_type": "markdown",
   "metadata": {},
   "source": [
    "##  Animation\n",
    "\n",
    "Play the solution, check that there exists a solution (final_solution != None)\n"
   ]
  },
  {
   "cell_type": "code",
   "execution_count": null,
   "metadata": {
    "collapsed": false
   },
   "outputs": [],
   "source": [
    "#Convert the final solution into a list of numbers used for the animation\n",
    "\n",
    "if(final_solution!=None) :\n",
    "    goal_state_string=repr(goal_state).split('_')[1].split(')')[0]\n",
    "    list_of_action =[]\n",
    "    j=1\n",
    "    for i in range(0,len(final_solution)):\n",
    "        action = final_solution[i]\n",
    "        if((repr(action).split('_')[2].split(')')[0])==goal_state_string):\n",
    "            while(repr(final_solution[i-j]).split('_')[1].split(',')[0]!=\"1o1\"):\n",
    "                  j=j+1\n",
    "            for h in range(i-j,i+1):\n",
    "                list_of_action.append(repr(final_solution[h]))\n",
    "                \n",
    "    final_list_of_action = []\n",
    "    for x in list_of_action :\n",
    "        final_list_of_action.append(x.split('_')[1].split(',')[0].split('o')[0])\n",
    "        final_list_of_action.append(x.split('_')[1].split(',')[0].split('o')[1])\n",
    "    final_list_of_action.append(list_of_action[len(list_of_action)-1].split('_')[2].split(')')[0].split('o')[0])\n",
    "    final_list_of_action.append(list_of_action[len(list_of_action)-1].split('_')[2].split(')')[0].split('o')[1])\n",
    "\n",
    "    print(final_list_of_action)             \n",
    "        \n",
    "            "
   ]
  },
  {
   "cell_type": "code",
   "execution_count": null,
   "metadata": {
    "collapsed": true
   },
   "outputs": [],
   "source": [
    "#Grid printing function\n",
    "def animateGrid(acts):\n",
    "    draw_grid(w.get_world())\n",
    "    grid.show()\n",
    "    for act in acts:\n",
    "        print(act)\n",
    "        w.step([act])\n",
    "        for block in grid:\n",
    "            clear_output() \n",
    "        draw_grid(w.get_world())\n",
    "        grid.show()\n",
    "        sleep(1)"
   ]
  },
  {
   "cell_type": "code",
   "execution_count": null,
   "metadata": {
    "collapsed": false
   },
   "outputs": [],
   "source": [
    "from animation import *\n",
    "if(final_solution!=None) :\n",
    "    acts = getActs(final_list_of_action)\n",
    "    animateGrid(acts)"
   ]
  },
  {
   "cell_type": "code",
   "execution_count": null,
   "metadata": {
    "collapsed": true
   },
   "outputs": [],
   "source": []
  }
 ],
 "metadata": {
  "kernelspec": {
   "display_name": "Python 3",
   "language": "python",
   "name": "python3"
  },
  "language_info": {
   "codemirror_mode": {
    "name": "ipython",
    "version": 3
   },
   "file_extension": ".py",
   "mimetype": "text/x-python",
   "name": "python",
   "nbconvert_exporter": "python",
   "pygments_lexer": "ipython3",
   "version": "3.6.0"
  }
 },
 "nbformat": 4,
 "nbformat_minor": 2
}
