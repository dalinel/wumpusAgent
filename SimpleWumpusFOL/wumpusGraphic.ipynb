{
 "cells": [
  {
   "cell_type": "markdown",
   "metadata": {},
   "source": [
    "# AI Project : Simplified Wumpus World and First Order Logic\n",
    "\n",
    "We based our project on the aima 2017 library. We have used the following files :\n",
    "* agent.py - contains the wumpus world environment\n",
    "* logic.py - contains databases and solvers\n",
    "* planning.py - contains first order logic algorithm\n",
    "\n",
    "\n",
    "In this file we are using first order logic, we use the graph solver from the aima library. Nevertheless, the library is not complete. For example it doesn't implement the followings for the first order logic :\n",
    "* <=>\n",
    "* ~\n",
    "* forall(x)\n",
    "* thereexist(x)\n",
    "\n",
    "The first order solver used ask something to the knowledge base is also very slow. \n",
    "In this file we are using a very simplified version of the wumpus world. We assume that the position of the gold and the obstacles are known and use the graphlan algorithm to find the best path."
   ]
  },
  {
   "cell_type": "markdown",
   "metadata": {},
   "source": [
    "# Generate and draw the wumpus world\n",
    "\n",
    "In this part we generate a wumpus world."
   ]
  },
  {
   "cell_type": "code",
   "execution_count": 1,
   "metadata": {
    "collapsed": false
   },
   "outputs": [],
   "source": [
    "from ipythonblocks import BlockGrid\n",
    "from IPython.display import clear_output\n",
    "from agents import *\n",
    "import time\n",
    "\n",
    "color = {\"Breeze\": (225, 225, 225),\n",
    "        \"Pit\": (0,0,0),\n",
    "        \"Gold\": (253, 208, 23),\n",
    "        \"Glitter\": (253, 208, 23),\n",
    "        \"Wumpus\": (255, 0, 255),\n",
    "        \"Stench\": (128, 0, 128),\n",
    "        \"Explorer\": (0, 0, 255),\n",
    "        \"Wall\": (255, 0, 0)\n",
    "        }\n",
    "\n",
    "def program(percepts):\n",
    "    '''Returns an action based on it's percepts'''\n",
    "    print(percepts)\n",
    "    return input()\n",
    "\n",
    "pit_proba = 0.05\n",
    "w = WumpusEnvironment(program, 7,7,pit_proba)         \n",
    "grid = BlockGrid(w.width, w.height, fill=(123, 234, 123))\n",
    "\n",
    "def draw_grid(world):\n",
    "    global grid\n",
    "    grid[:] = (123, 234, 123)\n",
    "    for x in range(0, len(world)):\n",
    "        for y in range(0, len(world[x])):\n",
    "            if len(world[x][y]):\n",
    "                g = -1\n",
    "                for i in world[x][y]:\n",
    "                    h = world[x][y].index(i)\n",
    "                    if(isinstance(i, Gold)):\n",
    "                        g = world[x][y].index(i)\n",
    "                        break\n",
    "                    elif(isinstance(i, Wumpus)):\n",
    "                        g = h\n",
    "                    elif(isinstance(i, Pit)):\n",
    "                        if (not isinstance(world[x][y][g],Wumpus)):\n",
    "                            g = h\n",
    "\n",
    "                grid[y, x] = color[world[x][y][g].__class__.__name__]"
   ]
  },
  {
   "cell_type": "markdown",
   "metadata": {},
   "source": [
    "## First order logic\n",
    "\n",
    "We connect the tiles together, assume safe everything that is not a pit or a wumpus, take the gold as a goal and define the action move.\n",
    "We tried to implement a more complicated world but the solver was taking several minutes to answer. We decided then decided to switch to porositional logic to solve the full problem"
   ]
  },
  {
   "cell_type": "code",
   "execution_count": 2,
   "metadata": {
    "collapsed": false
   },
   "outputs": [
    {
     "name": "stdout",
     "output_type": "stream",
     "text": [
      "Solution of the problem :  [Move(T_1o1, T_1o2), Move(T_1o2, T_1o3), Move(T_1o3, T_2o3), Move(T_1o1, T_1o2), Move(T_1o2, T_2o2), Move(T_1o1, T_2o1), Move(T_2o1, T_2o2), Move(T_2o2, T_2o3), Move(T_2o3, T_3o3), Move(T_1o1, T_1o2), Move(T_1o2, T_2o2), Move(T_1o1, T_2o1), Move(T_2o1, T_2o2), Move(T_2o2, T_3o2), Move(T_1o1, T_2o1), Move(T_2o1, T_3o1), Move(T_3o1, T_3o2), Move(T_3o2, T_3o3), Move(T_3o3, T_4o3), Move(T_1o1, T_2o1), Move(T_2o1, T_3o1), Move(T_3o1, T_4o1), Move(T_4o1, T_4o2), Move(T_1o1, T_1o2), Move(T_1o2, T_2o2), Move(T_1o1, T_2o1), Move(T_2o1, T_2o2), Move(T_2o2, T_3o2), Move(T_1o1, T_2o1), Move(T_2o1, T_3o1), Move(T_3o1, T_3o2), Move(T_3o2, T_4o2), Move(T_4o2, T_4o3), Move(T_4o3, T_5o3), Move(T_5o3, T_5o4), Move(T_1o1, T_1o2), Move(T_1o2, T_1o3), Move(T_1o3, T_2o3), Move(T_1o1, T_1o2), Move(T_1o2, T_2o2), Move(T_1o1, T_2o1), Move(T_2o1, T_2o2), Move(T_2o2, T_2o3), Move(T_2o3, T_3o3), Move(T_1o1, T_1o2), Move(T_1o2, T_2o2), Move(T_1o1, T_2o1), Move(T_2o1, T_2o2), Move(T_2o2, T_3o2), Move(T_1o1, T_2o1), Move(T_2o1, T_3o1), Move(T_3o1, T_3o2), Move(T_3o2, T_3o3), Move(T_3o3, T_3o4), Move(T_1o1, T_1o2), Move(T_1o2, T_1o3), Move(T_1o3, T_2o3), Move(T_1o1, T_1o2), Move(T_1o2, T_2o2), Move(T_1o1, T_2o1), Move(T_2o1, T_2o2), Move(T_2o2, T_2o3), Move(T_2o3, T_2o4), Move(T_1o1, T_1o2), Move(T_1o2, T_1o3), Move(T_1o3, T_1o4), Move(T_1o4, T_2o4), Move(T_2o4, T_3o4), Move(T_3o4, T_4o4), Move(T_1o1, T_1o2), Move(T_1o2, T_1o3), Move(T_1o3, T_2o3), Move(T_1o1, T_1o2), Move(T_1o2, T_2o2), Move(T_1o1, T_2o1), Move(T_2o1, T_2o2), Move(T_2o2, T_2o3), Move(T_2o3, T_3o3), Move(T_1o1, T_1o2), Move(T_1o2, T_2o2), Move(T_1o1, T_2o1), Move(T_2o1, T_2o2), Move(T_2o2, T_3o2), Move(T_1o1, T_2o1), Move(T_2o1, T_3o1), Move(T_3o1, T_3o2), Move(T_3o2, T_3o3), Move(T_3o3, T_4o3), Move(T_1o1, T_2o1), Move(T_2o1, T_3o1), Move(T_3o1, T_4o1), Move(T_4o1, T_4o2), Move(T_1o1, T_1o2), Move(T_1o2, T_2o2), Move(T_1o1, T_2o1), Move(T_2o1, T_2o2), Move(T_2o2, T_3o2), Move(T_1o1, T_2o1), Move(T_2o1, T_3o1), Move(T_3o1, T_3o2), Move(T_3o2, T_4o2), Move(T_4o2, T_4o3), Move(T_4o3, T_4o4), Move(T_4o4, T_5o4), Move(T_5o4, T_5o5)]\n"
     ]
    }
   ],
   "source": [
    "from ipythonblocks import BlockGrid\n",
    "from agents import *\n",
    "from utils import *\n",
    "from planning import *\n",
    "from logic import *\n",
    "\n",
    "world = w.get_world()\n",
    "\n",
    "xmax=len(world)\n",
    "ymax=len(world[0])\n",
    "\n",
    "knowledge_base = []\n",
    "\n",
    "############ DEFINE FOL #############################\n",
    "# Initial State of the World\n",
    "for i in range(0,xmax):\n",
    "        for j in range(0,ymax):\n",
    "                unsafe = False;\n",
    "                for h in range(0,len(world[i][j])):\n",
    "                        if(isinstance(world[i][j][h],Wumpus) | isinstance(world[i][j][h],Pit) | isinstance(world[i][j][h],Wall)):\n",
    "                                unsafe = True;\n",
    "                        elif(isinstance(world[i][j][h],Gold)):\n",
    "                                goal_state = expr(\"At(T_%do%d)\"%(i,j));\n",
    "                if(unsafe==False):           \n",
    "                        knowledge_base.append(expr(\"Safe(T_%do%d)\"%(i,j)));\n",
    "                                     \n",
    "for i in range(0,xmax):\n",
    "        for j in range(0,ymax):\n",
    "            if(i==0 & j!=0):\n",
    "                knowledge_base.append(expr(\"Connected(T_%do%d,T_%do%d)\"%(i,j,i+1,j)));       \n",
    "                knowledge_base.append(expr(\"Connected(T_%do%d,T_%do%d)\"%(i,j,i,j+1))); \n",
    "                knowledge_base.append(expr(\"Connected(T_%do%d,T_%do%d)\"%(i,j,i,j-1)));  \n",
    "            elif(j==0 & i!=0):\n",
    "                knowledge_base.append(expr(\"Connected(T_%do%d,T_%do%d)\"%(i,j,i+1,j)));       \n",
    "                knowledge_base.append(expr(\"Connected(T_%do%d,T_%do%d)\"%(i,j,i-1,j)));  \n",
    "                knowledge_base.append(expr(\"Connected(T_%do%d,T_%do%d)\"%(i,j,i,j+1))); \n",
    "            elif(i==0 & j==0):\n",
    "                knowledge_base.append(expr(\"Connected(T_%do%d,T_%do%d)\"%(i,j,i+1,j)));         \n",
    "                knowledge_base.append(expr(\"Connected(T_%do%d,T_%do%d)\"%(i,j,i,j+1)));                 \n",
    "            else:\n",
    "                knowledge_base.append(expr(\"Connected(T_%do%d,T_%do%d)\"%(i,j,i+1,j)));       \n",
    "                knowledge_base.append(expr(\"Connected(T_%do%d,T_%do%d)\"%(i,j,i-1,j)));  \n",
    "                knowledge_base.append(expr(\"Connected(T_%do%d,T_%do%d)\"%(i,j,i,j+1))); \n",
    "                knowledge_base.append(expr(\"Connected(T_%do%d,T_%do%d)\"%(i,j,i,j-1)));  \n",
    "\n",
    "\n",
    "#Initial State of the Explorer\n",
    "knowledge_base.append(expr(\"At(T_1o1)\"))\n",
    "\n",
    "\n",
    "    \n",
    "##########  DEFINE ACTIONS ###########################################\n",
    "\n",
    "#Move to a safe position\n",
    "precond_pos = [expr('At(x)'),expr(\"Safe(y)\"),expr(\"Connected(x,y)\")]\n",
    "precond_neg = []\n",
    "effect_add = [expr('At(y)')]\n",
    "effect_rem = [expr('At(x)')]\n",
    "move = Action(expr('Move(x, y)'), [precond_pos, precond_neg], [effect_add, effect_rem])\n",
    "\n",
    "pddl = PDDL(knowledge_base, [move], goal_state)\n",
    "\n",
    "########## USE GRAPHPLAN ############################################\n",
    "negkb = FolKB([])\n",
    "graphplan = GraphPlan(pddl, negkb)\n",
    "\n",
    "\n",
    "def goal_test(kb, goals):\n",
    "        return all(kb.ask(q) is not False for q in goals)\n",
    "\n",
    "def run_graphplan():\n",
    "    goals_pos = [goal_state]\n",
    "    goals_neg = []\n",
    "\n",
    "    while True:\n",
    "        if (goal_test(graphplan.graph.levels[-1].poskb, goals_pos) and\n",
    "                graphplan.graph.non_mutex_goals(goals_pos+goals_neg, -1)):\n",
    "            solution = graphplan.extract_solution(goals_pos, goals_neg, -1)\n",
    "            if solution:\n",
    "                return solution\n",
    "        graphplan.graph.expand_graph()\n",
    "        if len(graphplan.graph.levels)>=2 and graphplan.check_leveloff():\n",
    "            return None\n",
    "        \n",
    "solution = run_graphplan()\n",
    "\n",
    "######## EXTRACT THE FINAL SOLUTION FROM GRAPHPLAN #################\n",
    "if solution == None:\n",
    "    final_solution = None;\n",
    "else :\n",
    "    final_solution = []\n",
    "    s=solution[0];\n",
    "    for i in range(0,len(s)):\n",
    "        for j in range(0,len(s[i])):\n",
    "            if(\"Move\" in repr(s[i][j])):\n",
    "                final_solution.append(s[i][j])\n",
    "                \n",
    "print(\"Solution of the problem : \", final_solution)\n"
   ]
  },
  {
   "cell_type": "markdown",
   "metadata": {},
   "source": [
    "##  Animation\n",
    "\n",
    "Play the solution, check that there exists a solution (final_solution != None)\n"
   ]
  },
  {
   "cell_type": "code",
   "execution_count": 3,
   "metadata": {
    "collapsed": false
   },
   "outputs": [
    {
     "name": "stdout",
     "output_type": "stream",
     "text": [
      "['1', '1', '2', '1', '3', '1', '3', '2', '4', '2', '4', '3', '4', '4', '5', '4', '5', '5']\n"
     ]
    }
   ],
   "source": [
    "#Convert the final solution into a list of numbers used for the animation\n",
    "\n",
    "if(final_solution!=None) :\n",
    "    goal_state_string=repr(goal_state).split('_')[1].split(')')[0]\n",
    "    list_of_action =[]\n",
    "    j=1\n",
    "    for i in range(0,len(final_solution)):\n",
    "        action = final_solution[i]\n",
    "        if((repr(action).split('_')[2].split(')')[0])==goal_state_string):\n",
    "            while(repr(final_solution[i-j]).split('_')[1].split(',')[0]!=\"1o1\"):\n",
    "                  j=j+1\n",
    "            for h in range(i-j,i+1):\n",
    "                list_of_action.append(repr(final_solution[h]))\n",
    "                \n",
    "    final_list_of_action = []\n",
    "    for x in list_of_action :\n",
    "        final_list_of_action.append(x.split('_')[1].split(',')[0].split('o')[0])\n",
    "        final_list_of_action.append(x.split('_')[1].split(',')[0].split('o')[1])\n",
    "    final_list_of_action.append(list_of_action[len(list_of_action)-1].split('_')[2].split(')')[0].split('o')[0])\n",
    "    final_list_of_action.append(list_of_action[len(list_of_action)-1].split('_')[2].split(')')[0].split('o')[1])\n",
    "\n",
    "    print(final_list_of_action)             \n",
    "        \n",
    "            "
   ]
  },
  {
   "cell_type": "code",
   "execution_count": 4,
   "metadata": {
    "collapsed": true
   },
   "outputs": [],
   "source": [
    "#Grid printing function\n",
    "def animateGrid(acts):\n",
    "    draw_grid(w.get_world())\n",
    "    grid.show()\n",
    "    for act in acts:\n",
    "        print(act)\n",
    "        w.step([act])\n",
    "        for block in grid:\n",
    "            clear_output() \n",
    "        draw_grid(w.get_world())\n",
    "        grid.show()\n",
    "        sleep(1)"
   ]
  },
  {
   "cell_type": "code",
   "execution_count": 5,
   "metadata": {
    "collapsed": false
   },
   "outputs": [
    {
     "data": {
      "text/html": [
       "<style type=\"text/css\">table.blockgrid {border: none;} .blockgrid tr {border: none;} .blockgrid td {padding: 0px;} #blocks335269b6-3c58-4d1f-a273-e684775e6a65 td {border: 1px solid white;}</style><table id=\"blocks335269b6-3c58-4d1f-a273-e684775e6a65\" class=\"blockgrid\"><tbody><tr><td title=\"Index: [0, 0]&#10;Color: (255, 0, 0)\" style=\"width: 20px; height: 20px;background-color: rgb(255, 0, 0);\"></td><td title=\"Index: [0, 1]&#10;Color: (255, 0, 0)\" style=\"width: 20px; height: 20px;background-color: rgb(255, 0, 0);\"></td><td title=\"Index: [0, 2]&#10;Color: (255, 0, 0)\" style=\"width: 20px; height: 20px;background-color: rgb(255, 0, 0);\"></td><td title=\"Index: [0, 3]&#10;Color: (255, 0, 0)\" style=\"width: 20px; height: 20px;background-color: rgb(255, 0, 0);\"></td><td title=\"Index: [0, 4]&#10;Color: (255, 0, 0)\" style=\"width: 20px; height: 20px;background-color: rgb(255, 0, 0);\"></td><td title=\"Index: [0, 5]&#10;Color: (255, 0, 0)\" style=\"width: 20px; height: 20px;background-color: rgb(255, 0, 0);\"></td><td title=\"Index: [0, 6]&#10;Color: (255, 0, 0)\" style=\"width: 20px; height: 20px;background-color: rgb(255, 0, 0);\"></td></tr><tr><td title=\"Index: [1, 0]&#10;Color: (255, 0, 0)\" style=\"width: 20px; height: 20px;background-color: rgb(255, 0, 0);\"></td><td title=\"Index: [1, 1]&#10;Color: (123, 234, 123)\" style=\"width: 20px; height: 20px;background-color: rgb(123, 234, 123);\"></td><td title=\"Index: [1, 2]&#10;Color: (123, 234, 123)\" style=\"width: 20px; height: 20px;background-color: rgb(123, 234, 123);\"></td><td title=\"Index: [1, 3]&#10;Color: (123, 234, 123)\" style=\"width: 20px; height: 20px;background-color: rgb(123, 234, 123);\"></td><td title=\"Index: [1, 4]&#10;Color: (123, 234, 123)\" style=\"width: 20px; height: 20px;background-color: rgb(123, 234, 123);\"></td><td title=\"Index: [1, 5]&#10;Color: (128, 0, 128)\" style=\"width: 20px; height: 20px;background-color: rgb(128, 0, 128);\"></td><td title=\"Index: [1, 6]&#10;Color: (255, 0, 0)\" style=\"width: 20px; height: 20px;background-color: rgb(255, 0, 0);\"></td></tr><tr><td title=\"Index: [2, 0]&#10;Color: (255, 0, 0)\" style=\"width: 20px; height: 20px;background-color: rgb(255, 0, 0);\"></td><td title=\"Index: [2, 1]&#10;Color: (123, 234, 123)\" style=\"width: 20px; height: 20px;background-color: rgb(123, 234, 123);\"></td><td title=\"Index: [2, 2]&#10;Color: (123, 234, 123)\" style=\"width: 20px; height: 20px;background-color: rgb(123, 234, 123);\"></td><td title=\"Index: [2, 3]&#10;Color: (123, 234, 123)\" style=\"width: 20px; height: 20px;background-color: rgb(123, 234, 123);\"></td><td title=\"Index: [2, 4]&#10;Color: (128, 0, 128)\" style=\"width: 20px; height: 20px;background-color: rgb(128, 0, 128);\"></td><td title=\"Index: [2, 5]&#10;Color: (255, 0, 255)\" style=\"width: 20px; height: 20px;background-color: rgb(255, 0, 255);\"></td><td title=\"Index: [2, 6]&#10;Color: (255, 0, 0)\" style=\"width: 20px; height: 20px;background-color: rgb(255, 0, 0);\"></td></tr><tr><td title=\"Index: [3, 0]&#10;Color: (255, 0, 0)\" style=\"width: 20px; height: 20px;background-color: rgb(255, 0, 0);\"></td><td title=\"Index: [3, 1]&#10;Color: (123, 234, 123)\" style=\"width: 20px; height: 20px;background-color: rgb(123, 234, 123);\"></td><td title=\"Index: [3, 2]&#10;Color: (123, 234, 123)\" style=\"width: 20px; height: 20px;background-color: rgb(123, 234, 123);\"></td><td title=\"Index: [3, 3]&#10;Color: (123, 234, 123)\" style=\"width: 20px; height: 20px;background-color: rgb(123, 234, 123);\"></td><td title=\"Index: [3, 4]&#10;Color: (123, 234, 123)\" style=\"width: 20px; height: 20px;background-color: rgb(123, 234, 123);\"></td><td title=\"Index: [3, 5]&#10;Color: (128, 0, 128)\" style=\"width: 20px; height: 20px;background-color: rgb(128, 0, 128);\"></td><td title=\"Index: [3, 6]&#10;Color: (255, 0, 0)\" style=\"width: 20px; height: 20px;background-color: rgb(255, 0, 0);\"></td></tr><tr><td title=\"Index: [4, 0]&#10;Color: (255, 0, 0)\" style=\"width: 20px; height: 20px;background-color: rgb(255, 0, 0);\"></td><td title=\"Index: [4, 1]&#10;Color: (123, 234, 123)\" style=\"width: 20px; height: 20px;background-color: rgb(123, 234, 123);\"></td><td title=\"Index: [4, 2]&#10;Color: (123, 234, 123)\" style=\"width: 20px; height: 20px;background-color: rgb(123, 234, 123);\"></td><td title=\"Index: [4, 3]&#10;Color: (123, 234, 123)\" style=\"width: 20px; height: 20px;background-color: rgb(123, 234, 123);\"></td><td title=\"Index: [4, 4]&#10;Color: (225, 225, 225)\" style=\"width: 20px; height: 20px;background-color: rgb(225, 225, 225);\"></td><td title=\"Index: [4, 5]&#10;Color: (123, 234, 123)\" style=\"width: 20px; height: 20px;background-color: rgb(123, 234, 123);\"></td><td title=\"Index: [4, 6]&#10;Color: (255, 0, 0)\" style=\"width: 20px; height: 20px;background-color: rgb(255, 0, 0);\"></td></tr><tr><td title=\"Index: [5, 0]&#10;Color: (255, 0, 0)\" style=\"width: 20px; height: 20px;background-color: rgb(255, 0, 0);\"></td><td title=\"Index: [5, 1]&#10;Color: (123, 234, 123)\" style=\"width: 20px; height: 20px;background-color: rgb(123, 234, 123);\"></td><td title=\"Index: [5, 2]&#10;Color: (123, 234, 123)\" style=\"width: 20px; height: 20px;background-color: rgb(123, 234, 123);\"></td><td title=\"Index: [5, 3]&#10;Color: (225, 225, 225)\" style=\"width: 20px; height: 20px;background-color: rgb(225, 225, 225);\"></td><td title=\"Index: [5, 4]&#10;Color: (0, 0, 0)\" style=\"width: 20px; height: 20px;background-color: rgb(0, 0, 0);\"></td><td title=\"Index: [5, 5]&#10;Color: (253, 208, 23)\" style=\"width: 20px; height: 20px;background-color: rgb(253, 208, 23);\"></td><td title=\"Index: [5, 6]&#10;Color: (255, 0, 0)\" style=\"width: 20px; height: 20px;background-color: rgb(255, 0, 0);\"></td></tr><tr><td title=\"Index: [6, 0]&#10;Color: (255, 0, 0)\" style=\"width: 20px; height: 20px;background-color: rgb(255, 0, 0);\"></td><td title=\"Index: [6, 1]&#10;Color: (255, 0, 0)\" style=\"width: 20px; height: 20px;background-color: rgb(255, 0, 0);\"></td><td title=\"Index: [6, 2]&#10;Color: (255, 0, 0)\" style=\"width: 20px; height: 20px;background-color: rgb(255, 0, 0);\"></td><td title=\"Index: [6, 3]&#10;Color: (255, 0, 0)\" style=\"width: 20px; height: 20px;background-color: rgb(255, 0, 0);\"></td><td title=\"Index: [6, 4]&#10;Color: (255, 0, 0)\" style=\"width: 20px; height: 20px;background-color: rgb(255, 0, 0);\"></td><td title=\"Index: [6, 5]&#10;Color: (255, 0, 0)\" style=\"width: 20px; height: 20px;background-color: rgb(255, 0, 0);\"></td><td title=\"Index: [6, 6]&#10;Color: (255, 0, 0)\" style=\"width: 20px; height: 20px;background-color: rgb(255, 0, 0);\"></td></tr></tbody></table>"
      ],
      "text/plain": [
       "<IPython.core.display.HTML object>"
      ]
     },
     "metadata": {},
     "output_type": "display_data"
    }
   ],
   "source": [
    "from animation import *\n",
    "if(final_solution!=None) :\n",
    "    acts = getActs(final_list_of_action)\n",
    "    animateGrid(acts)"
   ]
  },
  {
   "cell_type": "code",
   "execution_count": null,
   "metadata": {
    "collapsed": true
   },
   "outputs": [],
   "source": []
  }
 ],
 "metadata": {
  "kernelspec": {
   "display_name": "Python 3",
   "language": "python",
   "name": "python3"
  },
  "language_info": {
   "codemirror_mode": {
    "name": "ipython",
    "version": 3
   },
   "file_extension": ".py",
   "mimetype": "text/x-python",
   "name": "python",
   "nbconvert_exporter": "python",
   "pygments_lexer": "ipython3",
   "version": "3.6.0"
  }
 },
 "nbformat": 4,
 "nbformat_minor": 2
}
