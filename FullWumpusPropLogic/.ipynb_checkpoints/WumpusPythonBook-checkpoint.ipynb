{
 "cells": [
  {
   "cell_type": "markdown",
   "metadata": {},
   "source": [
    "# AI Project : Wumpus World\n",
    "_Eloïse Dalin & Lukasz Dracz_\n",
    "\n",
    "**Please notice that you need to execute Kernel/Restart&ClearOutput after each execution otherwise the knowledge base might be corrupted**\n",
    "\n",
    "We based our project on the aima 2017 library. We have used the following files :\n",
    "* agent.py - contains the wumpus world environment\n",
    "* logic.py - contains databases and solvers\n",
    "* search.py - contains A* algorithm\n",
    "* utils.py\n",
    "\n",
    "\n",
    "In this file we are using propositional logic, we use the solver from the course which is more efficient than those embedded one in the aima library. A lot of modifications have been done in agent.py\n",
    "\n",
    "We don't use planning.py in this file because it is for first order logic planning."
   ]
  },
  {
   "cell_type": "markdown",
   "metadata": {},
   "source": [
    "## Wumpus World\n",
    "World is represented by different colored squares:\n",
    "* Blue - Explorer\n",
    "* Yellow - Gold\n",
    "* Purple - Wumpus\n",
    "* Dark Purple - Stench\n",
    "* Black - Pit\n",
    "* Grey - Breeze\n",
    "* Red - Wall\n",
    "* Green - Free square\n",
    "* Light blue - Tiles visited by the Explorer\n",
    "\n",
    "The goal is for the agent, to find the gold while avoiding the wumpus and possible pits.\n",
    "\n",
    "The wumpus is very hungry and must be avoided at all costs.\n",
    "\n",
    "<img src=\"cookie.gif\">"
   ]
  },
  {
   "cell_type": "markdown",
   "metadata": {},
   "source": [
    "Our planning algorithm attempts to find a path around the wumpus. If it is not possible, we return to where we felt the stench of the wumpus and shoot in the best educated guess we have for the direction of the wumpus.\n",
    "\n",
    "Our brave explorer is waiting and ready for this task.\n",
    "<img src=\"explorer.gif\">"
   ]
  },
  {
   "cell_type": "markdown",
   "metadata": {},
   "source": [
    "## Generate and draw the wumpus world\n",
    "\n",
    "In this part we generate a wumpus world. Notice that you can change the environment size and the pit probability here :\n",
    "\n",
    "w = WumpusEnvironment(program, xmax+2, ymax+2,pit_probability) \n",
    "\n",
    "We hadn't the time to test our program on grids with xmax,ymax > 9"
   ]
  },
  {
   "cell_type": "code",
   "execution_count": 1,
   "metadata": {
    "collapsed": false
   },
   "outputs": [
    {
     "data": {
      "text/html": [
       "<style type=\"text/css\">table.blockgrid {border: none;} .blockgrid tr {border: none;} .blockgrid td {padding: 0px;} #blocks07340610-9e37-48c7-bddf-1b776fdd9009 td {border: 1px solid white;}</style><table id=\"blocks07340610-9e37-48c7-bddf-1b776fdd9009\" class=\"blockgrid\"><tbody><tr><td title=\"Index: [0, 0]&#10;Color: (255, 0, 0)\" style=\"width: 20px; height: 20px;background-color: rgb(255, 0, 0);\"></td><td title=\"Index: [0, 1]&#10;Color: (255, 0, 0)\" style=\"width: 20px; height: 20px;background-color: rgb(255, 0, 0);\"></td><td title=\"Index: [0, 2]&#10;Color: (255, 0, 0)\" style=\"width: 20px; height: 20px;background-color: rgb(255, 0, 0);\"></td><td title=\"Index: [0, 3]&#10;Color: (255, 0, 0)\" style=\"width: 20px; height: 20px;background-color: rgb(255, 0, 0);\"></td><td title=\"Index: [0, 4]&#10;Color: (255, 0, 0)\" style=\"width: 20px; height: 20px;background-color: rgb(255, 0, 0);\"></td><td title=\"Index: [0, 5]&#10;Color: (255, 0, 0)\" style=\"width: 20px; height: 20px;background-color: rgb(255, 0, 0);\"></td><td title=\"Index: [0, 6]&#10;Color: (255, 0, 0)\" style=\"width: 20px; height: 20px;background-color: rgb(255, 0, 0);\"></td></tr><tr><td title=\"Index: [1, 0]&#10;Color: (255, 0, 0)\" style=\"width: 20px; height: 20px;background-color: rgb(255, 0, 0);\"></td><td title=\"Index: [1, 1]&#10;Color: (0, 0, 255)\" style=\"width: 20px; height: 20px;background-color: rgb(0, 0, 255);\"></td><td title=\"Index: [1, 2]&#10;Color: (123, 234, 123)\" style=\"width: 20px; height: 20px;background-color: rgb(123, 234, 123);\"></td><td title=\"Index: [1, 3]&#10;Color: (123, 234, 123)\" style=\"width: 20px; height: 20px;background-color: rgb(123, 234, 123);\"></td><td title=\"Index: [1, 4]&#10;Color: (123, 234, 123)\" style=\"width: 20px; height: 20px;background-color: rgb(123, 234, 123);\"></td><td title=\"Index: [1, 5]&#10;Color: (123, 234, 123)\" style=\"width: 20px; height: 20px;background-color: rgb(123, 234, 123);\"></td><td title=\"Index: [1, 6]&#10;Color: (255, 0, 0)\" style=\"width: 20px; height: 20px;background-color: rgb(255, 0, 0);\"></td></tr><tr><td title=\"Index: [2, 0]&#10;Color: (255, 0, 0)\" style=\"width: 20px; height: 20px;background-color: rgb(255, 0, 0);\"></td><td title=\"Index: [2, 1]&#10;Color: (123, 234, 123)\" style=\"width: 20px; height: 20px;background-color: rgb(123, 234, 123);\"></td><td title=\"Index: [2, 2]&#10;Color: (225, 225, 225)\" style=\"width: 20px; height: 20px;background-color: rgb(225, 225, 225);\"></td><td title=\"Index: [2, 3]&#10;Color: (123, 234, 123)\" style=\"width: 20px; height: 20px;background-color: rgb(123, 234, 123);\"></td><td title=\"Index: [2, 4]&#10;Color: (123, 234, 123)\" style=\"width: 20px; height: 20px;background-color: rgb(123, 234, 123);\"></td><td title=\"Index: [2, 5]&#10;Color: (123, 234, 123)\" style=\"width: 20px; height: 20px;background-color: rgb(123, 234, 123);\"></td><td title=\"Index: [2, 6]&#10;Color: (255, 0, 0)\" style=\"width: 20px; height: 20px;background-color: rgb(255, 0, 0);\"></td></tr><tr><td title=\"Index: [3, 0]&#10;Color: (255, 0, 0)\" style=\"width: 20px; height: 20px;background-color: rgb(255, 0, 0);\"></td><td title=\"Index: [3, 1]&#10;Color: (253, 208, 23)\" style=\"width: 20px; height: 20px;background-color: rgb(253, 208, 23);\"></td><td title=\"Index: [3, 2]&#10;Color: (0, 0, 0)\" style=\"width: 20px; height: 20px;background-color: rgb(0, 0, 0);\"></td><td title=\"Index: [3, 3]&#10;Color: (225, 225, 225)\" style=\"width: 20px; height: 20px;background-color: rgb(225, 225, 225);\"></td><td title=\"Index: [3, 4]&#10;Color: (123, 234, 123)\" style=\"width: 20px; height: 20px;background-color: rgb(123, 234, 123);\"></td><td title=\"Index: [3, 5]&#10;Color: (123, 234, 123)\" style=\"width: 20px; height: 20px;background-color: rgb(123, 234, 123);\"></td><td title=\"Index: [3, 6]&#10;Color: (255, 0, 0)\" style=\"width: 20px; height: 20px;background-color: rgb(255, 0, 0);\"></td></tr><tr><td title=\"Index: [4, 0]&#10;Color: (255, 0, 0)\" style=\"width: 20px; height: 20px;background-color: rgb(255, 0, 0);\"></td><td title=\"Index: [4, 1]&#10;Color: (255, 0, 255)\" style=\"width: 20px; height: 20px;background-color: rgb(255, 0, 255);\"></td><td title=\"Index: [4, 2]&#10;Color: (128, 0, 128)\" style=\"width: 20px; height: 20px;background-color: rgb(128, 0, 128);\"></td><td title=\"Index: [4, 3]&#10;Color: (123, 234, 123)\" style=\"width: 20px; height: 20px;background-color: rgb(123, 234, 123);\"></td><td title=\"Index: [4, 4]&#10;Color: (123, 234, 123)\" style=\"width: 20px; height: 20px;background-color: rgb(123, 234, 123);\"></td><td title=\"Index: [4, 5]&#10;Color: (123, 234, 123)\" style=\"width: 20px; height: 20px;background-color: rgb(123, 234, 123);\"></td><td title=\"Index: [4, 6]&#10;Color: (255, 0, 0)\" style=\"width: 20px; height: 20px;background-color: rgb(255, 0, 0);\"></td></tr><tr><td title=\"Index: [5, 0]&#10;Color: (255, 0, 0)\" style=\"width: 20px; height: 20px;background-color: rgb(255, 0, 0);\"></td><td title=\"Index: [5, 1]&#10;Color: (128, 0, 128)\" style=\"width: 20px; height: 20px;background-color: rgb(128, 0, 128);\"></td><td title=\"Index: [5, 2]&#10;Color: (123, 234, 123)\" style=\"width: 20px; height: 20px;background-color: rgb(123, 234, 123);\"></td><td title=\"Index: [5, 3]&#10;Color: (123, 234, 123)\" style=\"width: 20px; height: 20px;background-color: rgb(123, 234, 123);\"></td><td title=\"Index: [5, 4]&#10;Color: (123, 234, 123)\" style=\"width: 20px; height: 20px;background-color: rgb(123, 234, 123);\"></td><td title=\"Index: [5, 5]&#10;Color: (123, 234, 123)\" style=\"width: 20px; height: 20px;background-color: rgb(123, 234, 123);\"></td><td title=\"Index: [5, 6]&#10;Color: (255, 0, 0)\" style=\"width: 20px; height: 20px;background-color: rgb(255, 0, 0);\"></td></tr><tr><td title=\"Index: [6, 0]&#10;Color: (255, 0, 0)\" style=\"width: 20px; height: 20px;background-color: rgb(255, 0, 0);\"></td><td title=\"Index: [6, 1]&#10;Color: (255, 0, 0)\" style=\"width: 20px; height: 20px;background-color: rgb(255, 0, 0);\"></td><td title=\"Index: [6, 2]&#10;Color: (255, 0, 0)\" style=\"width: 20px; height: 20px;background-color: rgb(255, 0, 0);\"></td><td title=\"Index: [6, 3]&#10;Color: (255, 0, 0)\" style=\"width: 20px; height: 20px;background-color: rgb(255, 0, 0);\"></td><td title=\"Index: [6, 4]&#10;Color: (255, 0, 0)\" style=\"width: 20px; height: 20px;background-color: rgb(255, 0, 0);\"></td><td title=\"Index: [6, 5]&#10;Color: (255, 0, 0)\" style=\"width: 20px; height: 20px;background-color: rgb(255, 0, 0);\"></td><td title=\"Index: [6, 6]&#10;Color: (255, 0, 0)\" style=\"width: 20px; height: 20px;background-color: rgb(255, 0, 0);\"></td></tr></tbody></table>"
      ],
      "text/plain": [
       "<IPython.core.display.HTML object>"
      ]
     },
     "metadata": {},
     "output_type": "display_data"
    }
   ],
   "source": [
    "from ipythonblocks import BlockGrid\n",
    "from IPython.display import clear_output\n",
    "from agents import *\n",
    "from utils import *\n",
    "from logic import *\n",
    "import random\n",
    "import time\n",
    "from wumpus_actions import *\n",
    "from wumpus_kb import *\n",
    "import numpy as np\n",
    "from formula import *\n",
    "from dpll import *\n",
    "from search import *\n",
    "\n",
    "color = {\"Breeze\": (225, 225, 225),\n",
    "        \"Pit\": (0,0,0),\n",
    "        \"Gold\": (253, 208, 23),\n",
    "        \"Glitter\": (253, 208, 23),\n",
    "        \"Wumpus\": (255, 0, 255),\n",
    "        \"Stench\": (128, 0, 128),\n",
    "        \"Explorer\": (0, 0, 255),\n",
    "        \"Wall\": (255, 0, 0),\n",
    "        \"Visited\": (0, 200, 250)\n",
    "        }\n",
    "\n",
    "def program(percepts):\n",
    "    '''Returns an action based on it's pe4rcepts'''\n",
    "    print(percepts)\n",
    "    return input()\n",
    "\n",
    "pit_probability = 0.1\n",
    "w = WumpusEnvironment(program, 7, 7,pit_probability)         \n",
    "grid = BlockGrid(w.width, w.height, fill=(123, 234, 123))\n",
    "\n",
    "def draw_grid(world,visited):\n",
    "    global grid\n",
    "    global w\n",
    "    grid[:] = (123, 234, 123)\n",
    "    for x in range(0, len(world)):\n",
    "        for y in range(0, len(world[x])):\n",
    "            if len(world[x][y]):\n",
    "                g = -1\n",
    "                for i in world[x][y]:\n",
    "                    h = world[x][y].index(i)\n",
    "                    if(isinstance(i, Gold)):\n",
    "                        g = world[x][y].index(i)\n",
    "                        break\n",
    "                    elif(isinstance(i, Wumpus)):\n",
    "                        g = h                      \n",
    "                    elif(isinstance(i, Pit)):\n",
    "                        if (not isinstance(world[x][y][g],Wumpus)):\n",
    "                            g = h\n",
    "\n",
    "                grid[y, x] = color[world[x][y][g].__class__.__name__]\n",
    "    xo,yo = w.getlocation();\n",
    "    for tile in visited :\n",
    "        if((int(tile[0])==xo) and (int(tile[1])==yo)):\n",
    "            #DisplayPlayer\n",
    "            just_need_some_variable_for_else_to_work = True\n",
    "        else:\n",
    "            grid[int(tile[1]), int(tile[0])] = color[\"Visited\"];\n",
    "\n",
    "\n",
    "def draw_step():\n",
    "    global grid, w\n",
    "    draw_grid(w.get_world(),[])\n",
    "    grid.show()\n",
    "\n",
    "draw_step()\n",
    "currentD = 0;\n",
    "trackMoves = [];   "
   ]
  },
  {
   "cell_type": "markdown",
   "metadata": {},
   "source": [
    "## Generate the propositional logic database\n",
    "\n",
    "In this part we generate a  the propositional logic database. The percept bump is not properly defined in agent.py so we need to do special cases for the tiles wich are near the tiles.\n",
    "\n",
    "The database is defined in wumpus_kb.py\n"
   ]
  },
  {
   "cell_type": "code",
   "execution_count": 2,
   "metadata": {
    "collapsed": false
   },
   "outputs": [],
   "source": [
    "world = w.get_world()\n",
    "\n",
    "xmax=len(world)\n",
    "ymax=len(world[0])\n",
    "\n",
    "kb = wumpus_prop_knowledge_base(xmax,ymax)\n"
   ]
  },
  {
   "cell_type": "markdown",
   "metadata": {},
   "source": [
    "## Draw Inferences with DPLL\n",
    "\n",
    "We have decided to use the DPLL algorithm. To draw the inference of beta we check the satisfiability of alpha and not beta.\n",
    "\n",
    "We have tried to use the DPLL in aima but it was too slow, so we have decided to convert the aima propopositional knowledge base to fit the DPLL and formula architecture of the course."
   ]
  },
  {
   "cell_type": "code",
   "execution_count": 3,
   "metadata": {
    "collapsed": false
   },
   "outputs": [],
   "source": [
    "def dpll_ask_aima_slow(kb,alpha):\n",
    "    kb.tell(Expr(\"~\",alpha))\n",
    "    symbols = [];\n",
    "    for clause in kb.clauses :\n",
    "        for symbol in prop_symbols(clause):\n",
    "            symbols.append(symbol)\n",
    "    model = dpll(kb.clauses, symbols, {})\n",
    "    kb.retract(Expr(\"~\",alpha))\n",
    "    if(model== False):\n",
    "        return True\n",
    "    else:\n",
    "        return False"
   ]
  },
  {
   "cell_type": "code",
   "execution_count": 4,
   "metadata": {
    "collapsed": true
   },
   "outputs": [],
   "source": [
    "#From the aima PropKB map the symbols of the kb (python Expressions) with integers \n",
    "#The output is a dictionnary where the Expresssions are the keys\n",
    "def kb_to_dictionnary(kb):\n",
    "    symbols =[]\n",
    "    for clause in kb.clauses :\n",
    "        for symbol in prop_symbols(clause):\n",
    "            symbols.append(repr(symbol))\n",
    "    numb = list(range(1,len(symbols)+1))\n",
    "    kb_dict = dict(zip(symbols, numb))\n",
    "    return [kb_dict,symbols,numb]"
   ]
  },
  {
   "cell_type": "code",
   "execution_count": 5,
   "metadata": {
    "collapsed": false
   },
   "outputs": [],
   "source": [
    "#dpll_ask use dpll.py and formula.py from the course. The constructor of formula has been modified in \n",
    "#order to take as an input the PropKB and its caracteristics instead of an input file\n",
    "def dpll_ask(kb,alpha):\n",
    "    kb.tell(Expr(\"~\",alpha))\n",
    "    [kb_dict,symbols,numb]=kb_to_dictionnary(kb)\n",
    "    formula=Formula(kb,kb_dict,symbols,numb)\n",
    "    model=fast_dpll(formula, choose_variable_at_random)\n",
    "    kb.retract(Expr(\"~\",alpha))\n",
    "    \n",
    "    if(model== []):\n",
    "        return True\n",
    "    else:\n",
    "        return False"
   ]
  },
  {
   "cell_type": "code",
   "execution_count": 6,
   "metadata": {
    "collapsed": false
   },
   "outputs": [
    {
     "data": {
      "text/plain": [
       "True"
      ]
     },
     "execution_count": 6,
     "metadata": {},
     "output_type": "execute_result"
    }
   ],
   "source": [
    "#Example\n",
    "dpll_ask(kb,expr('Connect_4o1_5o1'))"
   ]
  },
  {
   "cell_type": "markdown",
   "metadata": {},
   "source": [
    "## A* algorithm\n",
    "\n",
    "During the execution of the progressive world state planner, we save the possible moves toward the unvisited safe tiles that the agent hasn't executed.  \n",
    "In the case where the agent cannot find an adjacent unvisited tile which is safe,we look at the position of the previously saved safe tiles and go there using A\\* on the set of already visited tiles."
   ]
  },
  {
   "cell_type": "code",
   "execution_count": 7,
   "metadata": {
    "collapsed": true
   },
   "outputs": [],
   "source": [
    "def convert_to_map(start,goal,v):\n",
    "    visited = v.copy();\n",
    "    visited.append(start);\n",
    "    visited.append(goal);\n",
    "    node_list = [];\n",
    "    node_dict = [];\n",
    "    for i in range(0,len(visited)-1):\n",
    "        linked_tiles = [];\n",
    "        cost=[];\n",
    "        for j in range(i+1,len(visited)):\n",
    "            if((abs(visited[i][0]-visited[j][0])==1) & (abs(visited[i][1]-visited[j][1])==0)):\n",
    "                linked_tiles.append(str(visited[j]));\n",
    "                cost.append(1);\n",
    "\n",
    "            if((abs(visited[i][0]-visited[j][0])==0) & (abs(visited[i][1]-visited[j][1])==1)):\n",
    "                linked_tiles.append(str(visited[j]));\n",
    "                cost.append(1);\n",
    "\n",
    "        if(len(linked_tiles)>0):\n",
    "            node_dict.append(dict(zip(linked_tiles, cost)));\n",
    "            node_list.append(str(visited[i]));\n",
    "            \n",
    "    visited_map = UndirectedGraph(dict(zip(node_list, node_dict)));\n",
    "    \n",
    "    name =[]\n",
    "    for tile in visited :\n",
    "        name.append(str(tile));\n",
    "    visited_map.locations = dict(zip(name, visited))\n",
    "    return visited_map\n"
   ]
  },
  {
   "cell_type": "code",
   "execution_count": 8,
   "metadata": {
    "collapsed": true
   },
   "outputs": [],
   "source": [
    "def astar_search_path(start,goal,v):\n",
    "    visited = v.copy();\n",
    "    path = [];\n",
    "    visited_map = convert_to_map(start,goal,visited)\n",
    "    path_problem = GraphProblem(str(start), str(goal), visited_map)\n",
    "    sol = astar_search(path_problem,path_problem.h)\n",
    "    sol = sol.path()\n",
    "    for node in sol:\n",
    "        str_node = node.state.split('[')[-1]\n",
    "        str_node = str_node.split(']')[0]\n",
    "        str_node = str_node.split(',')\n",
    "        int_node = [int(str_node[0]),int(str_node[1])]\n",
    "        path.append(int_node)\n",
    "    return path"
   ]
  },
  {
   "cell_type": "code",
   "execution_count": 9,
   "metadata": {
    "collapsed": false
   },
   "outputs": [
    {
     "name": "stdout",
     "output_type": "stream",
     "text": [
      "[[0, 1], [1, 1], [1, 2], [1, 3], [2, 3], [3, 3], [4, 3]]\n"
     ]
    }
   ],
   "source": [
    "#Example\n",
    "graph =[[2,3],[1,1],[2,1],[3,3],[1,2],[1,3]]\n",
    "start=[0,1]\n",
    "goal = [4,3]\n",
    "d= convert_to_map(start,goal,graph)\n",
    "path_problem = GraphProblem(str(start), str(goal), d)\n",
    "path = astar_search_path(start,goal,graph)\n",
    "print(path)"
   ]
  },
  {
   "cell_type": "markdown",
   "metadata": {},
   "source": [
    "### Animate Grid\n",
    "<img src=\"grid.gif\">\n",
    "The method redraws the environment every 0.5 seconds. This allows us to watch the explorer on his quest for the gold."
   ]
  },
  {
   "cell_type": "code",
   "execution_count": 10,
   "metadata": {
    "collapsed": true
   },
   "outputs": [],
   "source": [
    "def animateGrid(acts,trackMoves):\n",
    "\n",
    "    percepts = []\n",
    "    for act in acts:\n",
    "        p = w.step([act])\n",
    "        loc = w.getlocation()\n",
    "        newp = addLocToPercept(loc,p)\n",
    "        percepts.append(newp)\n",
    "        \n",
    "    for block in grid:\n",
    "        clear_output()  \n",
    "    draw_grid(w.get_world(),trackMoves)\n",
    "    grid.show(),\n",
    "    time.sleep(0.5)\n",
    "    return percepts"
   ]
  },
  {
   "cell_type": "markdown",
   "metadata": {},
   "source": [
    "## Possible Actions\n",
    "\n",
    "Possible_actions returns new actions that are safe to do for the explorer. They do not include actions that might move the explorer back in a visited sqaure."
   ]
  },
  {
   "cell_type": "code",
   "execution_count": 11,
   "metadata": {
    "collapsed": false
   },
   "outputs": [],
   "source": [
    "def possible_actions(kb):\n",
    "    possible_acts =[];\n",
    "    if (dpll_ask(kb,expr('HaveGold'))):\n",
    "        print('Success we have gold !!')\n",
    "    else:\n",
    "        #Grab\n",
    "        grab = possibleGrab(kb)\n",
    "        if len(grab) == 1:\n",
    "            possible_acts.append(grab);\n",
    "            return possible_acts\n",
    "        \n",
    "        #Possible Moves\n",
    "        moves = possibleNewMoves(kb)\n",
    "        i = len(moves)\n",
    "        if (i != 0):\n",
    "            for move in moves:\n",
    "                possible_acts.append(move)\n",
    "    return possible_acts"
   ]
  },
  {
   "cell_type": "markdown",
   "metadata": {},
   "source": [
    "possibleNewMoves finds Move commands only onto squares we have not explored yet. The 'visitedMoves' method from wumpus_actions.py finds moves that would bring the explorer back to a visited square.\n",
    "\n",
    "We have defined a Move command as follows\n",
    "\n",
    "Move_XoY_WoZ\n",
    "\n",
    "Where:\n",
    "* XoY - the current tile the explorer is on\n",
    "* WoZ - the tile the explorer will move to if it chooses that move command\n",
    "\n",
    "The o separes the x and y coordinate of the tile.\n",
    "An example:\n",
    "Move_1o1_1o2 -> The explorer moves from (1,1) to (1,2)"
   ]
  },
  {
   "cell_type": "code",
   "execution_count": 12,
   "metadata": {
    "collapsed": true
   },
   "outputs": [],
   "source": [
    "def possibleNewMoves(kb):\n",
    "    \n",
    "    moves = [];\n",
    "    loc = [];\n",
    "    loc2 = [];\n",
    "    loc3 = [];\n",
    "    loc4 = [];\n",
    "\n",
    "    #print('A')\n",
    "    for clause in kb.clauses:\n",
    "        if repr(clause)[0:2] == 'At':\n",
    "            len(repr(clause))\n",
    "            cl = repr(clause)[3:]\n",
    "            x,y = cl.split('o');\n",
    "            loc.append(x)\n",
    "            loc.append(y)\n",
    "            break\n",
    "\n",
    "    #print('B',loc)\n",
    "    for clause in kb.clauses:\n",
    "        if repr(clause)[0:7] == 'Connect':\n",
    "            cl = repr(clause)[8:]\n",
    "            term1, term2 = cl.split('_')\n",
    "            x,y = term1.split('o')\n",
    "            if loc[0] == x and loc[1] == y:\n",
    "                x2, y2 = term2.split('o')\n",
    "                loc2.append(x2)\n",
    "                loc2.append(y2)\n",
    "\n",
    "    #print('C',loc2)\n",
    "    i = int(len(loc2)/2);\n",
    "    if (i != 0):\n",
    "        for m in range (0,i):\n",
    "            safe = 'Safe_'+loc2[m*2]+'o'+loc2[m*2+1]\n",
    "            if (dpll_ask(kb,safe)):\n",
    "                loc3.append(loc2[m*2])\n",
    "                loc3.append(loc2[m*2+1])\n",
    "\n",
    "    #print('D',loc3)\n",
    "    for clause in kb.clauses:\n",
    "        if repr(clause)[0:7] == 'Visited':\n",
    "            cl = repr(clause)[8:]\n",
    "            x,y = cl.split('o')\n",
    "            i = int(len(loc3)/2);\n",
    "            \n",
    "            for m in range (0,i):\n",
    "                if loc3[m*2] == x and loc3[m*2+1] == y:\n",
    "                    loc4.append(m*2)\n",
    "                    loc4.append(m*2+1)\n",
    "    loc4.sort()\n",
    "    #print('E',loc4)                \n",
    "    count = 0\n",
    "    for i in loc4:\n",
    "        loc3.pop(i - count)\n",
    "        count = count + 1\n",
    "    \n",
    "    #print('F',loc3)\n",
    "    loc3len = len(loc3)\n",
    "    if loc3len != 0:\n",
    "        i = int(len(loc3)/2);\n",
    "        for m in range(0,i):\n",
    "            move = 'Move_' + str(loc[0]) + 'o' + str(loc[1]) + '_' + loc3[m*2] + 'o' + str(loc3[m*2+1]) \n",
    "            moves.append(move)\n",
    "    \n",
    "    \n",
    "    \n",
    "    return moves;        "
   ]
  },
  {
   "cell_type": "markdown",
   "metadata": {},
   "source": [
    "possibleGrab method checks if the explorer perceives a glitter at the position it is at. If it does, it will return a 'Grab' command as a possible action.\n",
    "\n",
    "\n",
    "<img src=\"glitter.gif\">\n",
    "<center>Explorer perceiving glitter</center>"
   ]
  },
  {
   "cell_type": "code",
   "execution_count": 13,
   "metadata": {
    "collapsed": true
   },
   "outputs": [],
   "source": [
    "def possibleGrab(kb):\n",
    "    loc = [];\n",
    "    for clause in kb.clauses:\n",
    "        if repr(clause)[0:2] == 'At':\n",
    "            len(repr(clause))\n",
    "            cl = repr(clause)[3:]\n",
    "            x,y = cl.split('o');\n",
    "            loc.append(x)\n",
    "            loc.append(y)\n",
    "            break\n",
    "    for clause in kb.clauses:\n",
    "        if repr(clause)[0:7] == 'Glitter':\n",
    "            cl = repr(clause)[8:]\n",
    "            x,y = cl.split('o')\n",
    "            if loc[0] == x and loc[1] == y:\n",
    "                return ['Grab']\n",
    "    return []"
   ]
  },
  {
   "cell_type": "markdown",
   "metadata": {},
   "source": [
    "## Wumpus Shoot Method\n",
    "\n",
    "The explorer is given one arrow at the beginning. It will attempt to find a path around the wumpus. When it has no possible safe tiles to explore, it will decide to be brave and try to shoot the wumpus. \n",
    "\n",
    "It will use the A* search algorithm to go to a stench tile.\n",
    "When on this stench tile it will turn in the direction that it guesses the wumpus is in and ...\n",
    "\n",
    "<img src=\"shoot.gif\">\n",
    "<center>Explorer shoots his only arrow</center>\n",
    "\n",
    "If it manages to hear a scream it will continue on its journey, through the new safe tiles. If no scream is heard the explorer will return back to the entrance of the cave"
   ]
  },
  {
   "cell_type": "code",
   "execution_count": 14,
   "metadata": {
    "collapsed": true
   },
   "outputs": [],
   "source": [
    "def tryShootTheWumpus(kb,visited,world,w,currentD):\n",
    "    stenches = findStenchLocations(kb)\n",
    "    sten = getRandomStench(stenches)\n",
    "    if(sten == None):\n",
    "        print(\"Not possible to shoot the wumpus, there is no stench\")\n",
    "    else:\n",
    "        [xo,yo]= w.getlocation()\n",
    "        print(\"Going to the stench position \", sten)\n",
    "        currentD = go_to_goal(kb,[xo,yo],[int(sten[0]),int(sten[1])],currentD)\n",
    "        print(\"At the stench position\", sten)\n",
    "        D = stenchDirection(kb,sten,stenches)\n",
    "        if len(D) == 0:\n",
    "            print('Wumpus Direction Failed')\n",
    "        if len(D) != 0:           \n",
    "            D = getRandD(D)\n",
    "            print('Choosing a random Direction to shoot D : ',D)\n",
    "            [wumpus_loc,wumpus_obj] = find_the_wumpus(world)\n",
    "            if(wumpus_loc == []):\n",
    "                print('Wumpus Location Failed, no wupus in the map ?')\n",
    "            else:\n",
    "                killTheWumpus = False\n",
    "                if(D==0):\n",
    "                    if(xo+1 == wumpus_loc[0]):\n",
    "                        killTheWumpus = True\n",
    "                       \n",
    "                elif(D==1):\n",
    "                    if(yo+1 == wumpus_loc[1]):\n",
    "                        killTheWumpus = True\n",
    "                elif(D==2):\n",
    "                    if(xo-1 == wumpus_loc[0]):\n",
    "                        killTheWumpus = True\n",
    "                elif(D==3):\n",
    "                    if(yo-1 == wumpus_loc[1]):\n",
    "                        killTheWumpus = True\n",
    "                        \n",
    "                if(killTheWumpus):\n",
    "                    kb.retract(expr('WumpusIsAlive'))\n",
    "                    kb.tell(expr('~WumpusIsAlive'))\n",
    "                    w.delete_thing(wumpus_obj)\n",
    "                    kb.retract(expr('HaveArrow'))\n",
    "                    kb.tell(expr('Scream'))\n",
    "                    print(\"The Arrow has been shot at the direction D, we heard a scream the Wumpus is dead\",D)\n",
    "                    return [True,currentD]\n",
    "                kb.retract(expr('HaveArrow'))\n",
    "                print(\"The Arrow has been shot at the direction D but the wumpus is still alive\",D)\n",
    "    return [False,currentD]\n",
    "                \n",
    "                \n",
    "            \n"
   ]
  },
  {
   "cell_type": "markdown",
   "metadata": {},
   "source": [
    "## Explorer's First Step\n",
    "\n",
    "The explorer's first step is do nothing and perceive the initial environment square."
   ]
  },
  {
   "cell_type": "code",
   "execution_count": 15,
   "metadata": {
    "collapsed": false
   },
   "outputs": [
    {
     "name": "stdout",
     "output_type": "stream",
     "text": [
      "[None]\n"
     ]
    },
    {
     "data": {
      "text/html": [
       "<style type=\"text/css\">table.blockgrid {border: none;} .blockgrid tr {border: none;} .blockgrid td {padding: 0px;} #blocks82bc4c2e-fd08-4e25-b3ac-b3c8417ead52 td {border: 1px solid white;}</style><table id=\"blocks82bc4c2e-fd08-4e25-b3ac-b3c8417ead52\" class=\"blockgrid\"><tbody><tr><td title=\"Index: [0, 0]&#10;Color: (255, 0, 0)\" style=\"width: 20px; height: 20px;background-color: rgb(255, 0, 0);\"></td><td title=\"Index: [0, 1]&#10;Color: (255, 0, 0)\" style=\"width: 20px; height: 20px;background-color: rgb(255, 0, 0);\"></td><td title=\"Index: [0, 2]&#10;Color: (255, 0, 0)\" style=\"width: 20px; height: 20px;background-color: rgb(255, 0, 0);\"></td><td title=\"Index: [0, 3]&#10;Color: (255, 0, 0)\" style=\"width: 20px; height: 20px;background-color: rgb(255, 0, 0);\"></td><td title=\"Index: [0, 4]&#10;Color: (255, 0, 0)\" style=\"width: 20px; height: 20px;background-color: rgb(255, 0, 0);\"></td><td title=\"Index: [0, 5]&#10;Color: (255, 0, 0)\" style=\"width: 20px; height: 20px;background-color: rgb(255, 0, 0);\"></td><td title=\"Index: [0, 6]&#10;Color: (255, 0, 0)\" style=\"width: 20px; height: 20px;background-color: rgb(255, 0, 0);\"></td></tr><tr><td title=\"Index: [1, 0]&#10;Color: (255, 0, 0)\" style=\"width: 20px; height: 20px;background-color: rgb(255, 0, 0);\"></td><td title=\"Index: [1, 1]&#10;Color: (0, 0, 255)\" style=\"width: 20px; height: 20px;background-color: rgb(0, 0, 255);\"></td><td title=\"Index: [1, 2]&#10;Color: (123, 234, 123)\" style=\"width: 20px; height: 20px;background-color: rgb(123, 234, 123);\"></td><td title=\"Index: [1, 3]&#10;Color: (123, 234, 123)\" style=\"width: 20px; height: 20px;background-color: rgb(123, 234, 123);\"></td><td title=\"Index: [1, 4]&#10;Color: (123, 234, 123)\" style=\"width: 20px; height: 20px;background-color: rgb(123, 234, 123);\"></td><td title=\"Index: [1, 5]&#10;Color: (123, 234, 123)\" style=\"width: 20px; height: 20px;background-color: rgb(123, 234, 123);\"></td><td title=\"Index: [1, 6]&#10;Color: (255, 0, 0)\" style=\"width: 20px; height: 20px;background-color: rgb(255, 0, 0);\"></td></tr><tr><td title=\"Index: [2, 0]&#10;Color: (255, 0, 0)\" style=\"width: 20px; height: 20px;background-color: rgb(255, 0, 0);\"></td><td title=\"Index: [2, 1]&#10;Color: (123, 234, 123)\" style=\"width: 20px; height: 20px;background-color: rgb(123, 234, 123);\"></td><td title=\"Index: [2, 2]&#10;Color: (225, 225, 225)\" style=\"width: 20px; height: 20px;background-color: rgb(225, 225, 225);\"></td><td title=\"Index: [2, 3]&#10;Color: (123, 234, 123)\" style=\"width: 20px; height: 20px;background-color: rgb(123, 234, 123);\"></td><td title=\"Index: [2, 4]&#10;Color: (123, 234, 123)\" style=\"width: 20px; height: 20px;background-color: rgb(123, 234, 123);\"></td><td title=\"Index: [2, 5]&#10;Color: (123, 234, 123)\" style=\"width: 20px; height: 20px;background-color: rgb(123, 234, 123);\"></td><td title=\"Index: [2, 6]&#10;Color: (255, 0, 0)\" style=\"width: 20px; height: 20px;background-color: rgb(255, 0, 0);\"></td></tr><tr><td title=\"Index: [3, 0]&#10;Color: (255, 0, 0)\" style=\"width: 20px; height: 20px;background-color: rgb(255, 0, 0);\"></td><td title=\"Index: [3, 1]&#10;Color: (253, 208, 23)\" style=\"width: 20px; height: 20px;background-color: rgb(253, 208, 23);\"></td><td title=\"Index: [3, 2]&#10;Color: (0, 0, 0)\" style=\"width: 20px; height: 20px;background-color: rgb(0, 0, 0);\"></td><td title=\"Index: [3, 3]&#10;Color: (225, 225, 225)\" style=\"width: 20px; height: 20px;background-color: rgb(225, 225, 225);\"></td><td title=\"Index: [3, 4]&#10;Color: (123, 234, 123)\" style=\"width: 20px; height: 20px;background-color: rgb(123, 234, 123);\"></td><td title=\"Index: [3, 5]&#10;Color: (123, 234, 123)\" style=\"width: 20px; height: 20px;background-color: rgb(123, 234, 123);\"></td><td title=\"Index: [3, 6]&#10;Color: (255, 0, 0)\" style=\"width: 20px; height: 20px;background-color: rgb(255, 0, 0);\"></td></tr><tr><td title=\"Index: [4, 0]&#10;Color: (255, 0, 0)\" style=\"width: 20px; height: 20px;background-color: rgb(255, 0, 0);\"></td><td title=\"Index: [4, 1]&#10;Color: (255, 0, 255)\" style=\"width: 20px; height: 20px;background-color: rgb(255, 0, 255);\"></td><td title=\"Index: [4, 2]&#10;Color: (128, 0, 128)\" style=\"width: 20px; height: 20px;background-color: rgb(128, 0, 128);\"></td><td title=\"Index: [4, 3]&#10;Color: (123, 234, 123)\" style=\"width: 20px; height: 20px;background-color: rgb(123, 234, 123);\"></td><td title=\"Index: [4, 4]&#10;Color: (123, 234, 123)\" style=\"width: 20px; height: 20px;background-color: rgb(123, 234, 123);\"></td><td title=\"Index: [4, 5]&#10;Color: (123, 234, 123)\" style=\"width: 20px; height: 20px;background-color: rgb(123, 234, 123);\"></td><td title=\"Index: [4, 6]&#10;Color: (255, 0, 0)\" style=\"width: 20px; height: 20px;background-color: rgb(255, 0, 0);\"></td></tr><tr><td title=\"Index: [5, 0]&#10;Color: (255, 0, 0)\" style=\"width: 20px; height: 20px;background-color: rgb(255, 0, 0);\"></td><td title=\"Index: [5, 1]&#10;Color: (128, 0, 128)\" style=\"width: 20px; height: 20px;background-color: rgb(128, 0, 128);\"></td><td title=\"Index: [5, 2]&#10;Color: (123, 234, 123)\" style=\"width: 20px; height: 20px;background-color: rgb(123, 234, 123);\"></td><td title=\"Index: [5, 3]&#10;Color: (123, 234, 123)\" style=\"width: 20px; height: 20px;background-color: rgb(123, 234, 123);\"></td><td title=\"Index: [5, 4]&#10;Color: (123, 234, 123)\" style=\"width: 20px; height: 20px;background-color: rgb(123, 234, 123);\"></td><td title=\"Index: [5, 5]&#10;Color: (123, 234, 123)\" style=\"width: 20px; height: 20px;background-color: rgb(123, 234, 123);\"></td><td title=\"Index: [5, 6]&#10;Color: (255, 0, 0)\" style=\"width: 20px; height: 20px;background-color: rgb(255, 0, 0);\"></td></tr><tr><td title=\"Index: [6, 0]&#10;Color: (255, 0, 0)\" style=\"width: 20px; height: 20px;background-color: rgb(255, 0, 0);\"></td><td title=\"Index: [6, 1]&#10;Color: (255, 0, 0)\" style=\"width: 20px; height: 20px;background-color: rgb(255, 0, 0);\"></td><td title=\"Index: [6, 2]&#10;Color: (255, 0, 0)\" style=\"width: 20px; height: 20px;background-color: rgb(255, 0, 0);\"></td><td title=\"Index: [6, 3]&#10;Color: (255, 0, 0)\" style=\"width: 20px; height: 20px;background-color: rgb(255, 0, 0);\"></td><td title=\"Index: [6, 4]&#10;Color: (255, 0, 0)\" style=\"width: 20px; height: 20px;background-color: rgb(255, 0, 0);\"></td><td title=\"Index: [6, 5]&#10;Color: (255, 0, 0)\" style=\"width: 20px; height: 20px;background-color: rgb(255, 0, 0);\"></td><td title=\"Index: [6, 6]&#10;Color: (255, 0, 0)\" style=\"width: 20px; height: 20px;background-color: rgb(255, 0, 0);\"></td></tr></tbody></table>"
      ],
      "text/plain": [
       "<IPython.core.display.HTML object>"
      ]
     },
     "metadata": {},
     "output_type": "display_data"
    }
   ],
   "source": [
    "per = animateGrid([\"Nothing\"],[])\n",
    "addPercepts(kb, per,w)"
   ]
  },
  {
   "cell_type": "markdown",
   "metadata": {},
   "source": [
    "go_to_goal method takes the path found by the A* search algorithm and animates the explorer moving along this path on the grid, "
   ]
  },
  {
   "cell_type": "code",
   "execution_count": 16,
   "metadata": {
    "collapsed": false
   },
   "outputs": [],
   "source": [
    "def go_to_goal(kb,start,goal,currentD):\n",
    "    visited = getAllVisited(kb)\n",
    "    path = astar_search_path(start,goal,visited)\n",
    "    prev = start\n",
    "    for p in path:\n",
    "        if (p != start):\n",
    "            moveNum = [str(prev[0]),str(prev[1]),str(p[0]),str(p[1])]\n",
    "            #Change the position of the agent in the database\n",
    "            changeAt(kb, moveNum)\n",
    "            acts = getActs(moveNum,currentD)\n",
    "            per = animateGrid(acts,visited)\n",
    "            addPercepts(kb, per,w)\n",
    "            currentD = acts.pop()\n",
    "            prev = p\n",
    "    return currentD"
   ]
  },
  {
   "cell_type": "markdown",
   "metadata": {},
   "source": [
    "## Planning\n",
    "\n",
    "The execute_action function is a sort of progressive world state planner. It is first checking if the goal state (HaveGold) is satisfied or not. If not it search for all the possible actions from where the agent is. It can be :\n",
    "* grab the gold\n",
    "* move to a safe unvisited tile\n",
    "\n",
    "Notice that we have prioritarized the grab action over the move actions.\n",
    "\n",
    "If none of those possible action exists the agent search for the closest safe unvisited tile that he has registered during the exploration. He goes there using A\\* on the set of visited tiles and continue the exploration.\n",
    "\n",
    "If no action but that the agent has an arrow, the agent will try to shoot the Wumpus. \n",
    "\n",
    "If no action is left  the agent goes back to its initial position.\n",
    "\n",
    "We then use A\\* to go back to the initial position instead of following the longer path used during the exploration\n"
   ]
  },
  {
   "cell_type": "code",
   "execution_count": 17,
   "metadata": {
    "collapsed": true
   },
   "outputs": [],
   "source": [
    "def execute_action(kb,currentD,w,possible_moves_unvisited):\n",
    "    play = True;\n",
    "    plan = [];\n",
    "    #Find the possible actions from where we are\n",
    "    possible_acts = possible_actions(kb)\n",
    "\n",
    "    if(dpll_ask(kb,expr(\"HaveGold\"))):\n",
    "        currentD = go_to_goal(kb,w.getlocation(),[1,1],currentD)\n",
    "        return [False,currentD,trackMoves];\n",
    "    \n",
    "    #Select a move randomly (except for grab which will be selected first) and \n",
    "    #keep track of the not selected moves in possible_moves_unvisited\n",
    "    move = select_random_action(possible_acts,possible_moves_unvisited)\n",
    "    \n",
    "    #Get rid of the duplicates in possible_moves_unvisited\n",
    "    possible_moves_unvisited = reduceToUniqueList(possible_moves_unvisited)\n",
    "    possible_moves_unvisited = ridOfExtra(kb,possible_moves_unvisited) \n",
    "\n",
    "    \n",
    "    if (move == []):\n",
    "        #If we have no unvisited safe tiles from where we are, we backtrackand go if possible\n",
    "        #to an unvisited safe tile using with astar on the set of already visited tiles. Else we try\n",
    "        #to shoot the wumpus\n",
    "        if (len(possible_moves_unvisited) == 0):\n",
    "            if(dpll_ask(kb,expr(\"HaveArrow\"))):\n",
    "                visited = getAllVisited(kb)\n",
    "                [wumpus_dead,currentD] = tryShootTheWumpus(kb,visited,world,w,currentD)\n",
    "                per = animateGrid([\"Nothing\"],[])\n",
    "                addPercepts(kb, per,w)\n",
    "                if(wumpus_dead == False):\n",
    "                    if(dpll_ask(kb,expr(\"HaveArrow\"))):\n",
    "                        print(\"There is no stench, cannot attempt to shoot, we go back to the initial position\")\n",
    "                    else:\n",
    "                        print(\"Arrow has been shot and the Wumpus is Alive, we go back to the initial position\")\n",
    "                    currentD = go_to_goal(kb,w.getlocation(),[1,1],currentD)\n",
    "                    play=False;\n",
    "            else:\n",
    "                print(\"No Move Possible, we go back to the initial position\")\n",
    "                currentD = go_to_goal(kb,w.getlocation(),[1,1],currentD)\n",
    "                play=False;\n",
    "        else:\n",
    "            start = w.getlocation()\n",
    "            dists = []\n",
    "            p_m_u = []\n",
    "            possible_moves_unvisited = purgeExtraChar(possible_moves_unvisited)\n",
    "            for m in possible_moves_unvisited:\n",
    "                dist = int(distance(start,[int(m[0]),int(m[1])]))\n",
    "                if(int(dist)!=0):\n",
    "                    dists.append(dist)\n",
    "                    p_m_u.append([int(m[0]),int(m[1])])\n",
    "            goal = p_m_u[dists.index(min(dists))]\n",
    "            \n",
    "            currentD = go_to_goal(kb,start,goal,currentD)\n",
    "            possible_moves_unvisited = reduceToUniqueList(possible_moves_unvisited)\n",
    "            possible_moves_unvisited = ridOfExtra(kb,possible_moves_unvisited)\n",
    "            \n",
    "            #addPercepts(kb, per)\n",
    "          \n",
    "    else:\n",
    "        #Grab action and effect on the kb and the world\n",
    "        if str(move[0]) == 'Grab':\n",
    "            acts = [move[0]]\n",
    "            loc = w.getlocation()\n",
    "            # If we have grab we need to remove the gold from the world\n",
    "            remGlitter(kb,loc)\n",
    "            kb.tell(expr(\"HaveGold\"))\n",
    "            print(\"We have the gold, we return to the initial position\")\n",
    "            play=True;\n",
    "        #Move action and effect on the kb\n",
    "        else:\n",
    "            moveNum = getNumOfMove(move)\n",
    "            #Change the position of the agent in the database\n",
    "            changeAt(kb, moveNum)\n",
    "            acts = getActs(moveNum,currentD)\n",
    "            currentD = acts.pop()\n",
    "            play=True;\n",
    "            \n",
    "        visited =getAllVisited(kb);\n",
    "        per = animateGrid(acts,visited)\n",
    "        addPercepts(kb, per,w)\n",
    "    return [play,currentD,trackMoves]"
   ]
  },
  {
   "cell_type": "markdown",
   "metadata": {},
   "source": [
    "# Execute Plan\n",
    "<img src=\"plan.gif\">\n",
    "<center>While there is a plan we keep trying actions</center>"
   ]
  },
  {
   "cell_type": "code",
   "execution_count": 18,
   "metadata": {
    "collapsed": false
   },
   "outputs": [],
   "source": [
    "def execute_plan(kb,currentD,w,trackMoves):\n",
    "    plan=True\n",
    "    i = 0;\n",
    "    while(plan == True):\n",
    "        i = i + 1\n",
    "        [plan,currentD,trackMoves]=execute_action(kb,currentD,w,trackMoves)\n",
    "        if (i == 1000):\n",
    "            plan = False\n",
    "    return [currentD,trackMoves]"
   ]
  },
  {
   "cell_type": "code",
   "execution_count": 19,
   "metadata": {
    "collapsed": false
   },
   "outputs": [
    {
     "data": {
      "application/javascript": [
       "IPython.OutputArea.prototype._should_scroll = function(lines) {\n",
       "    return false;\n",
       "}"
      ],
      "text/plain": [
       "<IPython.core.display.Javascript object>"
      ]
     },
     "metadata": {},
     "output_type": "display_data"
    }
   ],
   "source": [
    "%%javascript\n",
    "IPython.OutputArea.prototype._should_scroll = function(lines) {\n",
    "    return false;\n",
    "}"
   ]
  },
  {
   "cell_type": "code",
   "execution_count": 20,
   "metadata": {
    "collapsed": false
   },
   "outputs": [
    {
     "data": {
      "text/plain": [
       "True"
      ]
     },
     "execution_count": 20,
     "metadata": {},
     "output_type": "execute_result"
    }
   ],
   "source": [
    "#kb.tell(\"HaveArrow\")\n",
    "dpll_ask(kb,expr(\"HaveArrow\"))"
   ]
  },
  {
   "cell_type": "code",
   "execution_count": 21,
   "metadata": {
    "collapsed": false
   },
   "outputs": [
    {
     "name": "stdout",
     "output_type": "stream",
     "text": [
      "HaveGold  False\n",
      "Possiblemoves [['2', '1'], ['1', '2']]\n",
      "[None]\n",
      "[None]\n"
     ]
    },
    {
     "data": {
      "text/html": [
       "<style type=\"text/css\">table.blockgrid {border: none;} .blockgrid tr {border: none;} .blockgrid td {padding: 0px;} #blockse18a1116-700d-4baf-834d-ac357a9ce499 td {border: 1px solid white;}</style><table id=\"blockse18a1116-700d-4baf-834d-ac357a9ce499\" class=\"blockgrid\"><tbody><tr><td title=\"Index: [0, 0]&#10;Color: (255, 0, 0)\" style=\"width: 20px; height: 20px;background-color: rgb(255, 0, 0);\"></td><td title=\"Index: [0, 1]&#10;Color: (255, 0, 0)\" style=\"width: 20px; height: 20px;background-color: rgb(255, 0, 0);\"></td><td title=\"Index: [0, 2]&#10;Color: (255, 0, 0)\" style=\"width: 20px; height: 20px;background-color: rgb(255, 0, 0);\"></td><td title=\"Index: [0, 3]&#10;Color: (255, 0, 0)\" style=\"width: 20px; height: 20px;background-color: rgb(255, 0, 0);\"></td><td title=\"Index: [0, 4]&#10;Color: (255, 0, 0)\" style=\"width: 20px; height: 20px;background-color: rgb(255, 0, 0);\"></td><td title=\"Index: [0, 5]&#10;Color: (255, 0, 0)\" style=\"width: 20px; height: 20px;background-color: rgb(255, 0, 0);\"></td><td title=\"Index: [0, 6]&#10;Color: (255, 0, 0)\" style=\"width: 20px; height: 20px;background-color: rgb(255, 0, 0);\"></td></tr><tr><td title=\"Index: [1, 0]&#10;Color: (255, 0, 0)\" style=\"width: 20px; height: 20px;background-color: rgb(255, 0, 0);\"></td><td title=\"Index: [1, 1]&#10;Color: (0, 200, 250)\" style=\"width: 20px; height: 20px;background-color: rgb(0, 200, 250);\"></td><td title=\"Index: [1, 2]&#10;Color: (123, 234, 123)\" style=\"width: 20px; height: 20px;background-color: rgb(123, 234, 123);\"></td><td title=\"Index: [1, 3]&#10;Color: (123, 234, 123)\" style=\"width: 20px; height: 20px;background-color: rgb(123, 234, 123);\"></td><td title=\"Index: [1, 4]&#10;Color: (123, 234, 123)\" style=\"width: 20px; height: 20px;background-color: rgb(123, 234, 123);\"></td><td title=\"Index: [1, 5]&#10;Color: (123, 234, 123)\" style=\"width: 20px; height: 20px;background-color: rgb(123, 234, 123);\"></td><td title=\"Index: [1, 6]&#10;Color: (255, 0, 0)\" style=\"width: 20px; height: 20px;background-color: rgb(255, 0, 0);\"></td></tr><tr><td title=\"Index: [2, 0]&#10;Color: (255, 0, 0)\" style=\"width: 20px; height: 20px;background-color: rgb(255, 0, 0);\"></td><td title=\"Index: [2, 1]&#10;Color: (0, 0, 255)\" style=\"width: 20px; height: 20px;background-color: rgb(0, 0, 255);\"></td><td title=\"Index: [2, 2]&#10;Color: (225, 225, 225)\" style=\"width: 20px; height: 20px;background-color: rgb(225, 225, 225);\"></td><td title=\"Index: [2, 3]&#10;Color: (123, 234, 123)\" style=\"width: 20px; height: 20px;background-color: rgb(123, 234, 123);\"></td><td title=\"Index: [2, 4]&#10;Color: (123, 234, 123)\" style=\"width: 20px; height: 20px;background-color: rgb(123, 234, 123);\"></td><td title=\"Index: [2, 5]&#10;Color: (123, 234, 123)\" style=\"width: 20px; height: 20px;background-color: rgb(123, 234, 123);\"></td><td title=\"Index: [2, 6]&#10;Color: (255, 0, 0)\" style=\"width: 20px; height: 20px;background-color: rgb(255, 0, 0);\"></td></tr><tr><td title=\"Index: [3, 0]&#10;Color: (255, 0, 0)\" style=\"width: 20px; height: 20px;background-color: rgb(255, 0, 0);\"></td><td title=\"Index: [3, 1]&#10;Color: (253, 208, 23)\" style=\"width: 20px; height: 20px;background-color: rgb(253, 208, 23);\"></td><td title=\"Index: [3, 2]&#10;Color: (0, 0, 0)\" style=\"width: 20px; height: 20px;background-color: rgb(0, 0, 0);\"></td><td title=\"Index: [3, 3]&#10;Color: (225, 225, 225)\" style=\"width: 20px; height: 20px;background-color: rgb(225, 225, 225);\"></td><td title=\"Index: [3, 4]&#10;Color: (123, 234, 123)\" style=\"width: 20px; height: 20px;background-color: rgb(123, 234, 123);\"></td><td title=\"Index: [3, 5]&#10;Color: (123, 234, 123)\" style=\"width: 20px; height: 20px;background-color: rgb(123, 234, 123);\"></td><td title=\"Index: [3, 6]&#10;Color: (255, 0, 0)\" style=\"width: 20px; height: 20px;background-color: rgb(255, 0, 0);\"></td></tr><tr><td title=\"Index: [4, 0]&#10;Color: (255, 0, 0)\" style=\"width: 20px; height: 20px;background-color: rgb(255, 0, 0);\"></td><td title=\"Index: [4, 1]&#10;Color: (255, 0, 255)\" style=\"width: 20px; height: 20px;background-color: rgb(255, 0, 255);\"></td><td title=\"Index: [4, 2]&#10;Color: (128, 0, 128)\" style=\"width: 20px; height: 20px;background-color: rgb(128, 0, 128);\"></td><td title=\"Index: [4, 3]&#10;Color: (123, 234, 123)\" style=\"width: 20px; height: 20px;background-color: rgb(123, 234, 123);\"></td><td title=\"Index: [4, 4]&#10;Color: (123, 234, 123)\" style=\"width: 20px; height: 20px;background-color: rgb(123, 234, 123);\"></td><td title=\"Index: [4, 5]&#10;Color: (123, 234, 123)\" style=\"width: 20px; height: 20px;background-color: rgb(123, 234, 123);\"></td><td title=\"Index: [4, 6]&#10;Color: (255, 0, 0)\" style=\"width: 20px; height: 20px;background-color: rgb(255, 0, 0);\"></td></tr><tr><td title=\"Index: [5, 0]&#10;Color: (255, 0, 0)\" style=\"width: 20px; height: 20px;background-color: rgb(255, 0, 0);\"></td><td title=\"Index: [5, 1]&#10;Color: (128, 0, 128)\" style=\"width: 20px; height: 20px;background-color: rgb(128, 0, 128);\"></td><td title=\"Index: [5, 2]&#10;Color: (123, 234, 123)\" style=\"width: 20px; height: 20px;background-color: rgb(123, 234, 123);\"></td><td title=\"Index: [5, 3]&#10;Color: (123, 234, 123)\" style=\"width: 20px; height: 20px;background-color: rgb(123, 234, 123);\"></td><td title=\"Index: [5, 4]&#10;Color: (123, 234, 123)\" style=\"width: 20px; height: 20px;background-color: rgb(123, 234, 123);\"></td><td title=\"Index: [5, 5]&#10;Color: (123, 234, 123)\" style=\"width: 20px; height: 20px;background-color: rgb(123, 234, 123);\"></td><td title=\"Index: [5, 6]&#10;Color: (255, 0, 0)\" style=\"width: 20px; height: 20px;background-color: rgb(255, 0, 0);\"></td></tr><tr><td title=\"Index: [6, 0]&#10;Color: (255, 0, 0)\" style=\"width: 20px; height: 20px;background-color: rgb(255, 0, 0);\"></td><td title=\"Index: [6, 1]&#10;Color: (255, 0, 0)\" style=\"width: 20px; height: 20px;background-color: rgb(255, 0, 0);\"></td><td title=\"Index: [6, 2]&#10;Color: (255, 0, 0)\" style=\"width: 20px; height: 20px;background-color: rgb(255, 0, 0);\"></td><td title=\"Index: [6, 3]&#10;Color: (255, 0, 0)\" style=\"width: 20px; height: 20px;background-color: rgb(255, 0, 0);\"></td><td title=\"Index: [6, 4]&#10;Color: (255, 0, 0)\" style=\"width: 20px; height: 20px;background-color: rgb(255, 0, 0);\"></td><td title=\"Index: [6, 5]&#10;Color: (255, 0, 0)\" style=\"width: 20px; height: 20px;background-color: rgb(255, 0, 0);\"></td><td title=\"Index: [6, 6]&#10;Color: (255, 0, 0)\" style=\"width: 20px; height: 20px;background-color: rgb(255, 0, 0);\"></td></tr></tbody></table>"
      ],
      "text/plain": [
       "<IPython.core.display.HTML object>"
      ]
     },
     "metadata": {},
     "output_type": "display_data"
    },
    {
     "name": "stdout",
     "output_type": "stream",
     "text": [
      "HaveGold  False\n",
      "Possiblemoves [['1', '3'], ['2', '2'], ['2', '1']]\n",
      "[None]\n",
      "[<Breeze>]\n"
     ]
    },
    {
     "data": {
      "text/html": [
       "<style type=\"text/css\">table.blockgrid {border: none;} .blockgrid tr {border: none;} .blockgrid td {padding: 0px;} #blocks3890a6ac-0aba-4c7b-b9b2-fe8794296c02 td {border: 1px solid white;}</style><table id=\"blocks3890a6ac-0aba-4c7b-b9b2-fe8794296c02\" class=\"blockgrid\"><tbody><tr><td title=\"Index: [0, 0]&#10;Color: (255, 0, 0)\" style=\"width: 20px; height: 20px;background-color: rgb(255, 0, 0);\"></td><td title=\"Index: [0, 1]&#10;Color: (255, 0, 0)\" style=\"width: 20px; height: 20px;background-color: rgb(255, 0, 0);\"></td><td title=\"Index: [0, 2]&#10;Color: (255, 0, 0)\" style=\"width: 20px; height: 20px;background-color: rgb(255, 0, 0);\"></td><td title=\"Index: [0, 3]&#10;Color: (255, 0, 0)\" style=\"width: 20px; height: 20px;background-color: rgb(255, 0, 0);\"></td><td title=\"Index: [0, 4]&#10;Color: (255, 0, 0)\" style=\"width: 20px; height: 20px;background-color: rgb(255, 0, 0);\"></td><td title=\"Index: [0, 5]&#10;Color: (255, 0, 0)\" style=\"width: 20px; height: 20px;background-color: rgb(255, 0, 0);\"></td><td title=\"Index: [0, 6]&#10;Color: (255, 0, 0)\" style=\"width: 20px; height: 20px;background-color: rgb(255, 0, 0);\"></td></tr><tr><td title=\"Index: [1, 0]&#10;Color: (255, 0, 0)\" style=\"width: 20px; height: 20px;background-color: rgb(255, 0, 0);\"></td><td title=\"Index: [1, 1]&#10;Color: (0, 200, 250)\" style=\"width: 20px; height: 20px;background-color: rgb(0, 200, 250);\"></td><td title=\"Index: [1, 2]&#10;Color: (123, 234, 123)\" style=\"width: 20px; height: 20px;background-color: rgb(123, 234, 123);\"></td><td title=\"Index: [1, 3]&#10;Color: (123, 234, 123)\" style=\"width: 20px; height: 20px;background-color: rgb(123, 234, 123);\"></td><td title=\"Index: [1, 4]&#10;Color: (123, 234, 123)\" style=\"width: 20px; height: 20px;background-color: rgb(123, 234, 123);\"></td><td title=\"Index: [1, 5]&#10;Color: (123, 234, 123)\" style=\"width: 20px; height: 20px;background-color: rgb(123, 234, 123);\"></td><td title=\"Index: [1, 6]&#10;Color: (255, 0, 0)\" style=\"width: 20px; height: 20px;background-color: rgb(255, 0, 0);\"></td></tr><tr><td title=\"Index: [2, 0]&#10;Color: (255, 0, 0)\" style=\"width: 20px; height: 20px;background-color: rgb(255, 0, 0);\"></td><td title=\"Index: [2, 1]&#10;Color: (0, 200, 250)\" style=\"width: 20px; height: 20px;background-color: rgb(0, 200, 250);\"></td><td title=\"Index: [2, 2]&#10;Color: (0, 0, 255)\" style=\"width: 20px; height: 20px;background-color: rgb(0, 0, 255);\"></td><td title=\"Index: [2, 3]&#10;Color: (123, 234, 123)\" style=\"width: 20px; height: 20px;background-color: rgb(123, 234, 123);\"></td><td title=\"Index: [2, 4]&#10;Color: (123, 234, 123)\" style=\"width: 20px; height: 20px;background-color: rgb(123, 234, 123);\"></td><td title=\"Index: [2, 5]&#10;Color: (123, 234, 123)\" style=\"width: 20px; height: 20px;background-color: rgb(123, 234, 123);\"></td><td title=\"Index: [2, 6]&#10;Color: (255, 0, 0)\" style=\"width: 20px; height: 20px;background-color: rgb(255, 0, 0);\"></td></tr><tr><td title=\"Index: [3, 0]&#10;Color: (255, 0, 0)\" style=\"width: 20px; height: 20px;background-color: rgb(255, 0, 0);\"></td><td title=\"Index: [3, 1]&#10;Color: (253, 208, 23)\" style=\"width: 20px; height: 20px;background-color: rgb(253, 208, 23);\"></td><td title=\"Index: [3, 2]&#10;Color: (0, 0, 0)\" style=\"width: 20px; height: 20px;background-color: rgb(0, 0, 0);\"></td><td title=\"Index: [3, 3]&#10;Color: (225, 225, 225)\" style=\"width: 20px; height: 20px;background-color: rgb(225, 225, 225);\"></td><td title=\"Index: [3, 4]&#10;Color: (123, 234, 123)\" style=\"width: 20px; height: 20px;background-color: rgb(123, 234, 123);\"></td><td title=\"Index: [3, 5]&#10;Color: (123, 234, 123)\" style=\"width: 20px; height: 20px;background-color: rgb(123, 234, 123);\"></td><td title=\"Index: [3, 6]&#10;Color: (255, 0, 0)\" style=\"width: 20px; height: 20px;background-color: rgb(255, 0, 0);\"></td></tr><tr><td title=\"Index: [4, 0]&#10;Color: (255, 0, 0)\" style=\"width: 20px; height: 20px;background-color: rgb(255, 0, 0);\"></td><td title=\"Index: [4, 1]&#10;Color: (255, 0, 255)\" style=\"width: 20px; height: 20px;background-color: rgb(255, 0, 255);\"></td><td title=\"Index: [4, 2]&#10;Color: (128, 0, 128)\" style=\"width: 20px; height: 20px;background-color: rgb(128, 0, 128);\"></td><td title=\"Index: [4, 3]&#10;Color: (123, 234, 123)\" style=\"width: 20px; height: 20px;background-color: rgb(123, 234, 123);\"></td><td title=\"Index: [4, 4]&#10;Color: (123, 234, 123)\" style=\"width: 20px; height: 20px;background-color: rgb(123, 234, 123);\"></td><td title=\"Index: [4, 5]&#10;Color: (123, 234, 123)\" style=\"width: 20px; height: 20px;background-color: rgb(123, 234, 123);\"></td><td title=\"Index: [4, 6]&#10;Color: (255, 0, 0)\" style=\"width: 20px; height: 20px;background-color: rgb(255, 0, 0);\"></td></tr><tr><td title=\"Index: [5, 0]&#10;Color: (255, 0, 0)\" style=\"width: 20px; height: 20px;background-color: rgb(255, 0, 0);\"></td><td title=\"Index: [5, 1]&#10;Color: (128, 0, 128)\" style=\"width: 20px; height: 20px;background-color: rgb(128, 0, 128);\"></td><td title=\"Index: [5, 2]&#10;Color: (123, 234, 123)\" style=\"width: 20px; height: 20px;background-color: rgb(123, 234, 123);\"></td><td title=\"Index: [5, 3]&#10;Color: (123, 234, 123)\" style=\"width: 20px; height: 20px;background-color: rgb(123, 234, 123);\"></td><td title=\"Index: [5, 4]&#10;Color: (123, 234, 123)\" style=\"width: 20px; height: 20px;background-color: rgb(123, 234, 123);\"></td><td title=\"Index: [5, 5]&#10;Color: (123, 234, 123)\" style=\"width: 20px; height: 20px;background-color: rgb(123, 234, 123);\"></td><td title=\"Index: [5, 6]&#10;Color: (255, 0, 0)\" style=\"width: 20px; height: 20px;background-color: rgb(255, 0, 0);\"></td></tr><tr><td title=\"Index: [6, 0]&#10;Color: (255, 0, 0)\" style=\"width: 20px; height: 20px;background-color: rgb(255, 0, 0);\"></td><td title=\"Index: [6, 1]&#10;Color: (255, 0, 0)\" style=\"width: 20px; height: 20px;background-color: rgb(255, 0, 0);\"></td><td title=\"Index: [6, 2]&#10;Color: (255, 0, 0)\" style=\"width: 20px; height: 20px;background-color: rgb(255, 0, 0);\"></td><td title=\"Index: [6, 3]&#10;Color: (255, 0, 0)\" style=\"width: 20px; height: 20px;background-color: rgb(255, 0, 0);\"></td><td title=\"Index: [6, 4]&#10;Color: (255, 0, 0)\" style=\"width: 20px; height: 20px;background-color: rgb(255, 0, 0);\"></td><td title=\"Index: [6, 5]&#10;Color: (255, 0, 0)\" style=\"width: 20px; height: 20px;background-color: rgb(255, 0, 0);\"></td><td title=\"Index: [6, 6]&#10;Color: (255, 0, 0)\" style=\"width: 20px; height: 20px;background-color: rgb(255, 0, 0);\"></td></tr></tbody></table>"
      ],
      "text/plain": [
       "<IPython.core.display.HTML object>"
      ]
     },
     "metadata": {},
     "output_type": "display_data"
    },
    {
     "name": "stdout",
     "output_type": "stream",
     "text": [
      "HaveGold  False\n",
      "Possiblemoves [['1', '3'], ['2', '1']]\n",
      "[<Breeze>]\n",
      "[None]\n"
     ]
    },
    {
     "data": {
      "text/html": [
       "<style type=\"text/css\">table.blockgrid {border: none;} .blockgrid tr {border: none;} .blockgrid td {padding: 0px;} #blocks4def3637-e595-4733-a845-0eaeac86417c td {border: 1px solid white;}</style><table id=\"blocks4def3637-e595-4733-a845-0eaeac86417c\" class=\"blockgrid\"><tbody><tr><td title=\"Index: [0, 0]&#10;Color: (255, 0, 0)\" style=\"width: 20px; height: 20px;background-color: rgb(255, 0, 0);\"></td><td title=\"Index: [0, 1]&#10;Color: (255, 0, 0)\" style=\"width: 20px; height: 20px;background-color: rgb(255, 0, 0);\"></td><td title=\"Index: [0, 2]&#10;Color: (255, 0, 0)\" style=\"width: 20px; height: 20px;background-color: rgb(255, 0, 0);\"></td><td title=\"Index: [0, 3]&#10;Color: (255, 0, 0)\" style=\"width: 20px; height: 20px;background-color: rgb(255, 0, 0);\"></td><td title=\"Index: [0, 4]&#10;Color: (255, 0, 0)\" style=\"width: 20px; height: 20px;background-color: rgb(255, 0, 0);\"></td><td title=\"Index: [0, 5]&#10;Color: (255, 0, 0)\" style=\"width: 20px; height: 20px;background-color: rgb(255, 0, 0);\"></td><td title=\"Index: [0, 6]&#10;Color: (255, 0, 0)\" style=\"width: 20px; height: 20px;background-color: rgb(255, 0, 0);\"></td></tr><tr><td title=\"Index: [1, 0]&#10;Color: (255, 0, 0)\" style=\"width: 20px; height: 20px;background-color: rgb(255, 0, 0);\"></td><td title=\"Index: [1, 1]&#10;Color: (0, 200, 250)\" style=\"width: 20px; height: 20px;background-color: rgb(0, 200, 250);\"></td><td title=\"Index: [1, 2]&#10;Color: (0, 0, 255)\" style=\"width: 20px; height: 20px;background-color: rgb(0, 0, 255);\"></td><td title=\"Index: [1, 3]&#10;Color: (123, 234, 123)\" style=\"width: 20px; height: 20px;background-color: rgb(123, 234, 123);\"></td><td title=\"Index: [1, 4]&#10;Color: (123, 234, 123)\" style=\"width: 20px; height: 20px;background-color: rgb(123, 234, 123);\"></td><td title=\"Index: [1, 5]&#10;Color: (123, 234, 123)\" style=\"width: 20px; height: 20px;background-color: rgb(123, 234, 123);\"></td><td title=\"Index: [1, 6]&#10;Color: (255, 0, 0)\" style=\"width: 20px; height: 20px;background-color: rgb(255, 0, 0);\"></td></tr><tr><td title=\"Index: [2, 0]&#10;Color: (255, 0, 0)\" style=\"width: 20px; height: 20px;background-color: rgb(255, 0, 0);\"></td><td title=\"Index: [2, 1]&#10;Color: (0, 200, 250)\" style=\"width: 20px; height: 20px;background-color: rgb(0, 200, 250);\"></td><td title=\"Index: [2, 2]&#10;Color: (0, 200, 250)\" style=\"width: 20px; height: 20px;background-color: rgb(0, 200, 250);\"></td><td title=\"Index: [2, 3]&#10;Color: (123, 234, 123)\" style=\"width: 20px; height: 20px;background-color: rgb(123, 234, 123);\"></td><td title=\"Index: [2, 4]&#10;Color: (123, 234, 123)\" style=\"width: 20px; height: 20px;background-color: rgb(123, 234, 123);\"></td><td title=\"Index: [2, 5]&#10;Color: (123, 234, 123)\" style=\"width: 20px; height: 20px;background-color: rgb(123, 234, 123);\"></td><td title=\"Index: [2, 6]&#10;Color: (255, 0, 0)\" style=\"width: 20px; height: 20px;background-color: rgb(255, 0, 0);\"></td></tr><tr><td title=\"Index: [3, 0]&#10;Color: (255, 0, 0)\" style=\"width: 20px; height: 20px;background-color: rgb(255, 0, 0);\"></td><td title=\"Index: [3, 1]&#10;Color: (253, 208, 23)\" style=\"width: 20px; height: 20px;background-color: rgb(253, 208, 23);\"></td><td title=\"Index: [3, 2]&#10;Color: (0, 0, 0)\" style=\"width: 20px; height: 20px;background-color: rgb(0, 0, 0);\"></td><td title=\"Index: [3, 3]&#10;Color: (225, 225, 225)\" style=\"width: 20px; height: 20px;background-color: rgb(225, 225, 225);\"></td><td title=\"Index: [3, 4]&#10;Color: (123, 234, 123)\" style=\"width: 20px; height: 20px;background-color: rgb(123, 234, 123);\"></td><td title=\"Index: [3, 5]&#10;Color: (123, 234, 123)\" style=\"width: 20px; height: 20px;background-color: rgb(123, 234, 123);\"></td><td title=\"Index: [3, 6]&#10;Color: (255, 0, 0)\" style=\"width: 20px; height: 20px;background-color: rgb(255, 0, 0);\"></td></tr><tr><td title=\"Index: [4, 0]&#10;Color: (255, 0, 0)\" style=\"width: 20px; height: 20px;background-color: rgb(255, 0, 0);\"></td><td title=\"Index: [4, 1]&#10;Color: (255, 0, 255)\" style=\"width: 20px; height: 20px;background-color: rgb(255, 0, 255);\"></td><td title=\"Index: [4, 2]&#10;Color: (128, 0, 128)\" style=\"width: 20px; height: 20px;background-color: rgb(128, 0, 128);\"></td><td title=\"Index: [4, 3]&#10;Color: (123, 234, 123)\" style=\"width: 20px; height: 20px;background-color: rgb(123, 234, 123);\"></td><td title=\"Index: [4, 4]&#10;Color: (123, 234, 123)\" style=\"width: 20px; height: 20px;background-color: rgb(123, 234, 123);\"></td><td title=\"Index: [4, 5]&#10;Color: (123, 234, 123)\" style=\"width: 20px; height: 20px;background-color: rgb(123, 234, 123);\"></td><td title=\"Index: [4, 6]&#10;Color: (255, 0, 0)\" style=\"width: 20px; height: 20px;background-color: rgb(255, 0, 0);\"></td></tr><tr><td title=\"Index: [5, 0]&#10;Color: (255, 0, 0)\" style=\"width: 20px; height: 20px;background-color: rgb(255, 0, 0);\"></td><td title=\"Index: [5, 1]&#10;Color: (128, 0, 128)\" style=\"width: 20px; height: 20px;background-color: rgb(128, 0, 128);\"></td><td title=\"Index: [5, 2]&#10;Color: (123, 234, 123)\" style=\"width: 20px; height: 20px;background-color: rgb(123, 234, 123);\"></td><td title=\"Index: [5, 3]&#10;Color: (123, 234, 123)\" style=\"width: 20px; height: 20px;background-color: rgb(123, 234, 123);\"></td><td title=\"Index: [5, 4]&#10;Color: (123, 234, 123)\" style=\"width: 20px; height: 20px;background-color: rgb(123, 234, 123);\"></td><td title=\"Index: [5, 5]&#10;Color: (123, 234, 123)\" style=\"width: 20px; height: 20px;background-color: rgb(123, 234, 123);\"></td><td title=\"Index: [5, 6]&#10;Color: (255, 0, 0)\" style=\"width: 20px; height: 20px;background-color: rgb(255, 0, 0);\"></td></tr><tr><td title=\"Index: [6, 0]&#10;Color: (255, 0, 0)\" style=\"width: 20px; height: 20px;background-color: rgb(255, 0, 0);\"></td><td title=\"Index: [6, 1]&#10;Color: (255, 0, 0)\" style=\"width: 20px; height: 20px;background-color: rgb(255, 0, 0);\"></td><td title=\"Index: [6, 2]&#10;Color: (255, 0, 0)\" style=\"width: 20px; height: 20px;background-color: rgb(255, 0, 0);\"></td><td title=\"Index: [6, 3]&#10;Color: (255, 0, 0)\" style=\"width: 20px; height: 20px;background-color: rgb(255, 0, 0);\"></td><td title=\"Index: [6, 4]&#10;Color: (255, 0, 0)\" style=\"width: 20px; height: 20px;background-color: rgb(255, 0, 0);\"></td><td title=\"Index: [6, 5]&#10;Color: (255, 0, 0)\" style=\"width: 20px; height: 20px;background-color: rgb(255, 0, 0);\"></td><td title=\"Index: [6, 6]&#10;Color: (255, 0, 0)\" style=\"width: 20px; height: 20px;background-color: rgb(255, 0, 0);\"></td></tr></tbody></table>"
      ],
      "text/plain": [
       "<IPython.core.display.HTML object>"
      ]
     },
     "metadata": {},
     "output_type": "display_data"
    },
    {
     "name": "stdout",
     "output_type": "stream",
     "text": [
      "HaveGold  False\n",
      "Possiblemoves [['1', '3'], ['3', '1']]\n",
      "[None]\n",
      "[None]\n"
     ]
    },
    {
     "data": {
      "text/html": [
       "<style type=\"text/css\">table.blockgrid {border: none;} .blockgrid tr {border: none;} .blockgrid td {padding: 0px;} #blocks38e3278e-6426-4ca7-95a9-59747e21e469 td {border: 1px solid white;}</style><table id=\"blocks38e3278e-6426-4ca7-95a9-59747e21e469\" class=\"blockgrid\"><tbody><tr><td title=\"Index: [0, 0]&#10;Color: (255, 0, 0)\" style=\"width: 20px; height: 20px;background-color: rgb(255, 0, 0);\"></td><td title=\"Index: [0, 1]&#10;Color: (255, 0, 0)\" style=\"width: 20px; height: 20px;background-color: rgb(255, 0, 0);\"></td><td title=\"Index: [0, 2]&#10;Color: (255, 0, 0)\" style=\"width: 20px; height: 20px;background-color: rgb(255, 0, 0);\"></td><td title=\"Index: [0, 3]&#10;Color: (255, 0, 0)\" style=\"width: 20px; height: 20px;background-color: rgb(255, 0, 0);\"></td><td title=\"Index: [0, 4]&#10;Color: (255, 0, 0)\" style=\"width: 20px; height: 20px;background-color: rgb(255, 0, 0);\"></td><td title=\"Index: [0, 5]&#10;Color: (255, 0, 0)\" style=\"width: 20px; height: 20px;background-color: rgb(255, 0, 0);\"></td><td title=\"Index: [0, 6]&#10;Color: (255, 0, 0)\" style=\"width: 20px; height: 20px;background-color: rgb(255, 0, 0);\"></td></tr><tr><td title=\"Index: [1, 0]&#10;Color: (255, 0, 0)\" style=\"width: 20px; height: 20px;background-color: rgb(255, 0, 0);\"></td><td title=\"Index: [1, 1]&#10;Color: (0, 200, 250)\" style=\"width: 20px; height: 20px;background-color: rgb(0, 200, 250);\"></td><td title=\"Index: [1, 2]&#10;Color: (0, 200, 250)\" style=\"width: 20px; height: 20px;background-color: rgb(0, 200, 250);\"></td><td title=\"Index: [1, 3]&#10;Color: (0, 0, 255)\" style=\"width: 20px; height: 20px;background-color: rgb(0, 0, 255);\"></td><td title=\"Index: [1, 4]&#10;Color: (123, 234, 123)\" style=\"width: 20px; height: 20px;background-color: rgb(123, 234, 123);\"></td><td title=\"Index: [1, 5]&#10;Color: (123, 234, 123)\" style=\"width: 20px; height: 20px;background-color: rgb(123, 234, 123);\"></td><td title=\"Index: [1, 6]&#10;Color: (255, 0, 0)\" style=\"width: 20px; height: 20px;background-color: rgb(255, 0, 0);\"></td></tr><tr><td title=\"Index: [2, 0]&#10;Color: (255, 0, 0)\" style=\"width: 20px; height: 20px;background-color: rgb(255, 0, 0);\"></td><td title=\"Index: [2, 1]&#10;Color: (0, 200, 250)\" style=\"width: 20px; height: 20px;background-color: rgb(0, 200, 250);\"></td><td title=\"Index: [2, 2]&#10;Color: (0, 200, 250)\" style=\"width: 20px; height: 20px;background-color: rgb(0, 200, 250);\"></td><td title=\"Index: [2, 3]&#10;Color: (123, 234, 123)\" style=\"width: 20px; height: 20px;background-color: rgb(123, 234, 123);\"></td><td title=\"Index: [2, 4]&#10;Color: (123, 234, 123)\" style=\"width: 20px; height: 20px;background-color: rgb(123, 234, 123);\"></td><td title=\"Index: [2, 5]&#10;Color: (123, 234, 123)\" style=\"width: 20px; height: 20px;background-color: rgb(123, 234, 123);\"></td><td title=\"Index: [2, 6]&#10;Color: (255, 0, 0)\" style=\"width: 20px; height: 20px;background-color: rgb(255, 0, 0);\"></td></tr><tr><td title=\"Index: [3, 0]&#10;Color: (255, 0, 0)\" style=\"width: 20px; height: 20px;background-color: rgb(255, 0, 0);\"></td><td title=\"Index: [3, 1]&#10;Color: (253, 208, 23)\" style=\"width: 20px; height: 20px;background-color: rgb(253, 208, 23);\"></td><td title=\"Index: [3, 2]&#10;Color: (0, 0, 0)\" style=\"width: 20px; height: 20px;background-color: rgb(0, 0, 0);\"></td><td title=\"Index: [3, 3]&#10;Color: (225, 225, 225)\" style=\"width: 20px; height: 20px;background-color: rgb(225, 225, 225);\"></td><td title=\"Index: [3, 4]&#10;Color: (123, 234, 123)\" style=\"width: 20px; height: 20px;background-color: rgb(123, 234, 123);\"></td><td title=\"Index: [3, 5]&#10;Color: (123, 234, 123)\" style=\"width: 20px; height: 20px;background-color: rgb(123, 234, 123);\"></td><td title=\"Index: [3, 6]&#10;Color: (255, 0, 0)\" style=\"width: 20px; height: 20px;background-color: rgb(255, 0, 0);\"></td></tr><tr><td title=\"Index: [4, 0]&#10;Color: (255, 0, 0)\" style=\"width: 20px; height: 20px;background-color: rgb(255, 0, 0);\"></td><td title=\"Index: [4, 1]&#10;Color: (255, 0, 255)\" style=\"width: 20px; height: 20px;background-color: rgb(255, 0, 255);\"></td><td title=\"Index: [4, 2]&#10;Color: (128, 0, 128)\" style=\"width: 20px; height: 20px;background-color: rgb(128, 0, 128);\"></td><td title=\"Index: [4, 3]&#10;Color: (123, 234, 123)\" style=\"width: 20px; height: 20px;background-color: rgb(123, 234, 123);\"></td><td title=\"Index: [4, 4]&#10;Color: (123, 234, 123)\" style=\"width: 20px; height: 20px;background-color: rgb(123, 234, 123);\"></td><td title=\"Index: [4, 5]&#10;Color: (123, 234, 123)\" style=\"width: 20px; height: 20px;background-color: rgb(123, 234, 123);\"></td><td title=\"Index: [4, 6]&#10;Color: (255, 0, 0)\" style=\"width: 20px; height: 20px;background-color: rgb(255, 0, 0);\"></td></tr><tr><td title=\"Index: [5, 0]&#10;Color: (255, 0, 0)\" style=\"width: 20px; height: 20px;background-color: rgb(255, 0, 0);\"></td><td title=\"Index: [5, 1]&#10;Color: (128, 0, 128)\" style=\"width: 20px; height: 20px;background-color: rgb(128, 0, 128);\"></td><td title=\"Index: [5, 2]&#10;Color: (123, 234, 123)\" style=\"width: 20px; height: 20px;background-color: rgb(123, 234, 123);\"></td><td title=\"Index: [5, 3]&#10;Color: (123, 234, 123)\" style=\"width: 20px; height: 20px;background-color: rgb(123, 234, 123);\"></td><td title=\"Index: [5, 4]&#10;Color: (123, 234, 123)\" style=\"width: 20px; height: 20px;background-color: rgb(123, 234, 123);\"></td><td title=\"Index: [5, 5]&#10;Color: (123, 234, 123)\" style=\"width: 20px; height: 20px;background-color: rgb(123, 234, 123);\"></td><td title=\"Index: [5, 6]&#10;Color: (255, 0, 0)\" style=\"width: 20px; height: 20px;background-color: rgb(255, 0, 0);\"></td></tr><tr><td title=\"Index: [6, 0]&#10;Color: (255, 0, 0)\" style=\"width: 20px; height: 20px;background-color: rgb(255, 0, 0);\"></td><td title=\"Index: [6, 1]&#10;Color: (255, 0, 0)\" style=\"width: 20px; height: 20px;background-color: rgb(255, 0, 0);\"></td><td title=\"Index: [6, 2]&#10;Color: (255, 0, 0)\" style=\"width: 20px; height: 20px;background-color: rgb(255, 0, 0);\"></td><td title=\"Index: [6, 3]&#10;Color: (255, 0, 0)\" style=\"width: 20px; height: 20px;background-color: rgb(255, 0, 0);\"></td><td title=\"Index: [6, 4]&#10;Color: (255, 0, 0)\" style=\"width: 20px; height: 20px;background-color: rgb(255, 0, 0);\"></td><td title=\"Index: [6, 5]&#10;Color: (255, 0, 0)\" style=\"width: 20px; height: 20px;background-color: rgb(255, 0, 0);\"></td><td title=\"Index: [6, 6]&#10;Color: (255, 0, 0)\" style=\"width: 20px; height: 20px;background-color: rgb(255, 0, 0);\"></td></tr></tbody></table>"
      ],
      "text/plain": [
       "<IPython.core.display.HTML object>"
      ]
     },
     "metadata": {},
     "output_type": "display_data"
    },
    {
     "name": "stdout",
     "output_type": "stream",
     "text": [
      "HaveGold  False\n",
      "Possiblemoves [['3', '2'], ['1', '3'], ['4', '1']]\n",
      "[None]\n",
      "[None]\n"
     ]
    },
    {
     "data": {
      "text/html": [
       "<style type=\"text/css\">table.blockgrid {border: none;} .blockgrid tr {border: none;} .blockgrid td {padding: 0px;} #blocksfcab1afb-86a5-4402-b622-95e5d005edce td {border: 1px solid white;}</style><table id=\"blocksfcab1afb-86a5-4402-b622-95e5d005edce\" class=\"blockgrid\"><tbody><tr><td title=\"Index: [0, 0]&#10;Color: (255, 0, 0)\" style=\"width: 20px; height: 20px;background-color: rgb(255, 0, 0);\"></td><td title=\"Index: [0, 1]&#10;Color: (255, 0, 0)\" style=\"width: 20px; height: 20px;background-color: rgb(255, 0, 0);\"></td><td title=\"Index: [0, 2]&#10;Color: (255, 0, 0)\" style=\"width: 20px; height: 20px;background-color: rgb(255, 0, 0);\"></td><td title=\"Index: [0, 3]&#10;Color: (255, 0, 0)\" style=\"width: 20px; height: 20px;background-color: rgb(255, 0, 0);\"></td><td title=\"Index: [0, 4]&#10;Color: (255, 0, 0)\" style=\"width: 20px; height: 20px;background-color: rgb(255, 0, 0);\"></td><td title=\"Index: [0, 5]&#10;Color: (255, 0, 0)\" style=\"width: 20px; height: 20px;background-color: rgb(255, 0, 0);\"></td><td title=\"Index: [0, 6]&#10;Color: (255, 0, 0)\" style=\"width: 20px; height: 20px;background-color: rgb(255, 0, 0);\"></td></tr><tr><td title=\"Index: [1, 0]&#10;Color: (255, 0, 0)\" style=\"width: 20px; height: 20px;background-color: rgb(255, 0, 0);\"></td><td title=\"Index: [1, 1]&#10;Color: (0, 200, 250)\" style=\"width: 20px; height: 20px;background-color: rgb(0, 200, 250);\"></td><td title=\"Index: [1, 2]&#10;Color: (0, 200, 250)\" style=\"width: 20px; height: 20px;background-color: rgb(0, 200, 250);\"></td><td title=\"Index: [1, 3]&#10;Color: (0, 200, 250)\" style=\"width: 20px; height: 20px;background-color: rgb(0, 200, 250);\"></td><td title=\"Index: [1, 4]&#10;Color: (123, 234, 123)\" style=\"width: 20px; height: 20px;background-color: rgb(123, 234, 123);\"></td><td title=\"Index: [1, 5]&#10;Color: (123, 234, 123)\" style=\"width: 20px; height: 20px;background-color: rgb(123, 234, 123);\"></td><td title=\"Index: [1, 6]&#10;Color: (255, 0, 0)\" style=\"width: 20px; height: 20px;background-color: rgb(255, 0, 0);\"></td></tr><tr><td title=\"Index: [2, 0]&#10;Color: (255, 0, 0)\" style=\"width: 20px; height: 20px;background-color: rgb(255, 0, 0);\"></td><td title=\"Index: [2, 1]&#10;Color: (0, 200, 250)\" style=\"width: 20px; height: 20px;background-color: rgb(0, 200, 250);\"></td><td title=\"Index: [2, 2]&#10;Color: (0, 200, 250)\" style=\"width: 20px; height: 20px;background-color: rgb(0, 200, 250);\"></td><td title=\"Index: [2, 3]&#10;Color: (0, 0, 255)\" style=\"width: 20px; height: 20px;background-color: rgb(0, 0, 255);\"></td><td title=\"Index: [2, 4]&#10;Color: (123, 234, 123)\" style=\"width: 20px; height: 20px;background-color: rgb(123, 234, 123);\"></td><td title=\"Index: [2, 5]&#10;Color: (123, 234, 123)\" style=\"width: 20px; height: 20px;background-color: rgb(123, 234, 123);\"></td><td title=\"Index: [2, 6]&#10;Color: (255, 0, 0)\" style=\"width: 20px; height: 20px;background-color: rgb(255, 0, 0);\"></td></tr><tr><td title=\"Index: [3, 0]&#10;Color: (255, 0, 0)\" style=\"width: 20px; height: 20px;background-color: rgb(255, 0, 0);\"></td><td title=\"Index: [3, 1]&#10;Color: (253, 208, 23)\" style=\"width: 20px; height: 20px;background-color: rgb(253, 208, 23);\"></td><td title=\"Index: [3, 2]&#10;Color: (0, 0, 0)\" style=\"width: 20px; height: 20px;background-color: rgb(0, 0, 0);\"></td><td title=\"Index: [3, 3]&#10;Color: (225, 225, 225)\" style=\"width: 20px; height: 20px;background-color: rgb(225, 225, 225);\"></td><td title=\"Index: [3, 4]&#10;Color: (123, 234, 123)\" style=\"width: 20px; height: 20px;background-color: rgb(123, 234, 123);\"></td><td title=\"Index: [3, 5]&#10;Color: (123, 234, 123)\" style=\"width: 20px; height: 20px;background-color: rgb(123, 234, 123);\"></td><td title=\"Index: [3, 6]&#10;Color: (255, 0, 0)\" style=\"width: 20px; height: 20px;background-color: rgb(255, 0, 0);\"></td></tr><tr><td title=\"Index: [4, 0]&#10;Color: (255, 0, 0)\" style=\"width: 20px; height: 20px;background-color: rgb(255, 0, 0);\"></td><td title=\"Index: [4, 1]&#10;Color: (255, 0, 255)\" style=\"width: 20px; height: 20px;background-color: rgb(255, 0, 255);\"></td><td title=\"Index: [4, 2]&#10;Color: (128, 0, 128)\" style=\"width: 20px; height: 20px;background-color: rgb(128, 0, 128);\"></td><td title=\"Index: [4, 3]&#10;Color: (123, 234, 123)\" style=\"width: 20px; height: 20px;background-color: rgb(123, 234, 123);\"></td><td title=\"Index: [4, 4]&#10;Color: (123, 234, 123)\" style=\"width: 20px; height: 20px;background-color: rgb(123, 234, 123);\"></td><td title=\"Index: [4, 5]&#10;Color: (123, 234, 123)\" style=\"width: 20px; height: 20px;background-color: rgb(123, 234, 123);\"></td><td title=\"Index: [4, 6]&#10;Color: (255, 0, 0)\" style=\"width: 20px; height: 20px;background-color: rgb(255, 0, 0);\"></td></tr><tr><td title=\"Index: [5, 0]&#10;Color: (255, 0, 0)\" style=\"width: 20px; height: 20px;background-color: rgb(255, 0, 0);\"></td><td title=\"Index: [5, 1]&#10;Color: (128, 0, 128)\" style=\"width: 20px; height: 20px;background-color: rgb(128, 0, 128);\"></td><td title=\"Index: [5, 2]&#10;Color: (123, 234, 123)\" style=\"width: 20px; height: 20px;background-color: rgb(123, 234, 123);\"></td><td title=\"Index: [5, 3]&#10;Color: (123, 234, 123)\" style=\"width: 20px; height: 20px;background-color: rgb(123, 234, 123);\"></td><td title=\"Index: [5, 4]&#10;Color: (123, 234, 123)\" style=\"width: 20px; height: 20px;background-color: rgb(123, 234, 123);\"></td><td title=\"Index: [5, 5]&#10;Color: (123, 234, 123)\" style=\"width: 20px; height: 20px;background-color: rgb(123, 234, 123);\"></td><td title=\"Index: [5, 6]&#10;Color: (255, 0, 0)\" style=\"width: 20px; height: 20px;background-color: rgb(255, 0, 0);\"></td></tr><tr><td title=\"Index: [6, 0]&#10;Color: (255, 0, 0)\" style=\"width: 20px; height: 20px;background-color: rgb(255, 0, 0);\"></td><td title=\"Index: [6, 1]&#10;Color: (255, 0, 0)\" style=\"width: 20px; height: 20px;background-color: rgb(255, 0, 0);\"></td><td title=\"Index: [6, 2]&#10;Color: (255, 0, 0)\" style=\"width: 20px; height: 20px;background-color: rgb(255, 0, 0);\"></td><td title=\"Index: [6, 3]&#10;Color: (255, 0, 0)\" style=\"width: 20px; height: 20px;background-color: rgb(255, 0, 0);\"></td><td title=\"Index: [6, 4]&#10;Color: (255, 0, 0)\" style=\"width: 20px; height: 20px;background-color: rgb(255, 0, 0);\"></td><td title=\"Index: [6, 5]&#10;Color: (255, 0, 0)\" style=\"width: 20px; height: 20px;background-color: rgb(255, 0, 0);\"></td><td title=\"Index: [6, 6]&#10;Color: (255, 0, 0)\" style=\"width: 20px; height: 20px;background-color: rgb(255, 0, 0);\"></td></tr></tbody></table>"
      ],
      "text/plain": [
       "<IPython.core.display.HTML object>"
      ]
     },
     "metadata": {},
     "output_type": "display_data"
    },
    {
     "name": "stdout",
     "output_type": "stream",
     "text": [
      "HaveGold  False\n",
      "Possiblemoves [['3', '3'], ['1', '3'], ['4', '2'], ['4', '1']]\n",
      "[None]\n",
      "[None]\n"
     ]
    },
    {
     "data": {
      "text/html": [
       "<style type=\"text/css\">table.blockgrid {border: none;} .blockgrid tr {border: none;} .blockgrid td {padding: 0px;} #blocks50421234-92e3-4678-998f-4c2ff349348e td {border: 1px solid white;}</style><table id=\"blocks50421234-92e3-4678-998f-4c2ff349348e\" class=\"blockgrid\"><tbody><tr><td title=\"Index: [0, 0]&#10;Color: (255, 0, 0)\" style=\"width: 20px; height: 20px;background-color: rgb(255, 0, 0);\"></td><td title=\"Index: [0, 1]&#10;Color: (255, 0, 0)\" style=\"width: 20px; height: 20px;background-color: rgb(255, 0, 0);\"></td><td title=\"Index: [0, 2]&#10;Color: (255, 0, 0)\" style=\"width: 20px; height: 20px;background-color: rgb(255, 0, 0);\"></td><td title=\"Index: [0, 3]&#10;Color: (255, 0, 0)\" style=\"width: 20px; height: 20px;background-color: rgb(255, 0, 0);\"></td><td title=\"Index: [0, 4]&#10;Color: (255, 0, 0)\" style=\"width: 20px; height: 20px;background-color: rgb(255, 0, 0);\"></td><td title=\"Index: [0, 5]&#10;Color: (255, 0, 0)\" style=\"width: 20px; height: 20px;background-color: rgb(255, 0, 0);\"></td><td title=\"Index: [0, 6]&#10;Color: (255, 0, 0)\" style=\"width: 20px; height: 20px;background-color: rgb(255, 0, 0);\"></td></tr><tr><td title=\"Index: [1, 0]&#10;Color: (255, 0, 0)\" style=\"width: 20px; height: 20px;background-color: rgb(255, 0, 0);\"></td><td title=\"Index: [1, 1]&#10;Color: (0, 200, 250)\" style=\"width: 20px; height: 20px;background-color: rgb(0, 200, 250);\"></td><td title=\"Index: [1, 2]&#10;Color: (0, 200, 250)\" style=\"width: 20px; height: 20px;background-color: rgb(0, 200, 250);\"></td><td title=\"Index: [1, 3]&#10;Color: (0, 200, 250)\" style=\"width: 20px; height: 20px;background-color: rgb(0, 200, 250);\"></td><td title=\"Index: [1, 4]&#10;Color: (123, 234, 123)\" style=\"width: 20px; height: 20px;background-color: rgb(123, 234, 123);\"></td><td title=\"Index: [1, 5]&#10;Color: (123, 234, 123)\" style=\"width: 20px; height: 20px;background-color: rgb(123, 234, 123);\"></td><td title=\"Index: [1, 6]&#10;Color: (255, 0, 0)\" style=\"width: 20px; height: 20px;background-color: rgb(255, 0, 0);\"></td></tr><tr><td title=\"Index: [2, 0]&#10;Color: (255, 0, 0)\" style=\"width: 20px; height: 20px;background-color: rgb(255, 0, 0);\"></td><td title=\"Index: [2, 1]&#10;Color: (0, 200, 250)\" style=\"width: 20px; height: 20px;background-color: rgb(0, 200, 250);\"></td><td title=\"Index: [2, 2]&#10;Color: (0, 200, 250)\" style=\"width: 20px; height: 20px;background-color: rgb(0, 200, 250);\"></td><td title=\"Index: [2, 3]&#10;Color: (0, 200, 250)\" style=\"width: 20px; height: 20px;background-color: rgb(0, 200, 250);\"></td><td title=\"Index: [2, 4]&#10;Color: (0, 0, 255)\" style=\"width: 20px; height: 20px;background-color: rgb(0, 0, 255);\"></td><td title=\"Index: [2, 5]&#10;Color: (123, 234, 123)\" style=\"width: 20px; height: 20px;background-color: rgb(123, 234, 123);\"></td><td title=\"Index: [2, 6]&#10;Color: (255, 0, 0)\" style=\"width: 20px; height: 20px;background-color: rgb(255, 0, 0);\"></td></tr><tr><td title=\"Index: [3, 0]&#10;Color: (255, 0, 0)\" style=\"width: 20px; height: 20px;background-color: rgb(255, 0, 0);\"></td><td title=\"Index: [3, 1]&#10;Color: (253, 208, 23)\" style=\"width: 20px; height: 20px;background-color: rgb(253, 208, 23);\"></td><td title=\"Index: [3, 2]&#10;Color: (0, 0, 0)\" style=\"width: 20px; height: 20px;background-color: rgb(0, 0, 0);\"></td><td title=\"Index: [3, 3]&#10;Color: (225, 225, 225)\" style=\"width: 20px; height: 20px;background-color: rgb(225, 225, 225);\"></td><td title=\"Index: [3, 4]&#10;Color: (123, 234, 123)\" style=\"width: 20px; height: 20px;background-color: rgb(123, 234, 123);\"></td><td title=\"Index: [3, 5]&#10;Color: (123, 234, 123)\" style=\"width: 20px; height: 20px;background-color: rgb(123, 234, 123);\"></td><td title=\"Index: [3, 6]&#10;Color: (255, 0, 0)\" style=\"width: 20px; height: 20px;background-color: rgb(255, 0, 0);\"></td></tr><tr><td title=\"Index: [4, 0]&#10;Color: (255, 0, 0)\" style=\"width: 20px; height: 20px;background-color: rgb(255, 0, 0);\"></td><td title=\"Index: [4, 1]&#10;Color: (255, 0, 255)\" style=\"width: 20px; height: 20px;background-color: rgb(255, 0, 255);\"></td><td title=\"Index: [4, 2]&#10;Color: (128, 0, 128)\" style=\"width: 20px; height: 20px;background-color: rgb(128, 0, 128);\"></td><td title=\"Index: [4, 3]&#10;Color: (123, 234, 123)\" style=\"width: 20px; height: 20px;background-color: rgb(123, 234, 123);\"></td><td title=\"Index: [4, 4]&#10;Color: (123, 234, 123)\" style=\"width: 20px; height: 20px;background-color: rgb(123, 234, 123);\"></td><td title=\"Index: [4, 5]&#10;Color: (123, 234, 123)\" style=\"width: 20px; height: 20px;background-color: rgb(123, 234, 123);\"></td><td title=\"Index: [4, 6]&#10;Color: (255, 0, 0)\" style=\"width: 20px; height: 20px;background-color: rgb(255, 0, 0);\"></td></tr><tr><td title=\"Index: [5, 0]&#10;Color: (255, 0, 0)\" style=\"width: 20px; height: 20px;background-color: rgb(255, 0, 0);\"></td><td title=\"Index: [5, 1]&#10;Color: (128, 0, 128)\" style=\"width: 20px; height: 20px;background-color: rgb(128, 0, 128);\"></td><td title=\"Index: [5, 2]&#10;Color: (123, 234, 123)\" style=\"width: 20px; height: 20px;background-color: rgb(123, 234, 123);\"></td><td title=\"Index: [5, 3]&#10;Color: (123, 234, 123)\" style=\"width: 20px; height: 20px;background-color: rgb(123, 234, 123);\"></td><td title=\"Index: [5, 4]&#10;Color: (123, 234, 123)\" style=\"width: 20px; height: 20px;background-color: rgb(123, 234, 123);\"></td><td title=\"Index: [5, 5]&#10;Color: (123, 234, 123)\" style=\"width: 20px; height: 20px;background-color: rgb(123, 234, 123);\"></td><td title=\"Index: [5, 6]&#10;Color: (255, 0, 0)\" style=\"width: 20px; height: 20px;background-color: rgb(255, 0, 0);\"></td></tr><tr><td title=\"Index: [6, 0]&#10;Color: (255, 0, 0)\" style=\"width: 20px; height: 20px;background-color: rgb(255, 0, 0);\"></td><td title=\"Index: [6, 1]&#10;Color: (255, 0, 0)\" style=\"width: 20px; height: 20px;background-color: rgb(255, 0, 0);\"></td><td title=\"Index: [6, 2]&#10;Color: (255, 0, 0)\" style=\"width: 20px; height: 20px;background-color: rgb(255, 0, 0);\"></td><td title=\"Index: [6, 3]&#10;Color: (255, 0, 0)\" style=\"width: 20px; height: 20px;background-color: rgb(255, 0, 0);\"></td><td title=\"Index: [6, 4]&#10;Color: (255, 0, 0)\" style=\"width: 20px; height: 20px;background-color: rgb(255, 0, 0);\"></td><td title=\"Index: [6, 5]&#10;Color: (255, 0, 0)\" style=\"width: 20px; height: 20px;background-color: rgb(255, 0, 0);\"></td><td title=\"Index: [6, 6]&#10;Color: (255, 0, 0)\" style=\"width: 20px; height: 20px;background-color: rgb(255, 0, 0);\"></td></tr></tbody></table>"
      ],
      "text/plain": [
       "<IPython.core.display.HTML object>"
      ]
     },
     "metadata": {},
     "output_type": "display_data"
    },
    {
     "name": "stdout",
     "output_type": "stream",
     "text": [
      "HaveGold  False\n",
      "Possiblemoves [['4', '3'], ['3', '3'], ['5', '2'], ['1', '3'], ['4', '1']]\n",
      "[None]\n",
      "[None]\n"
     ]
    },
    {
     "data": {
      "text/html": [
       "<style type=\"text/css\">table.blockgrid {border: none;} .blockgrid tr {border: none;} .blockgrid td {padding: 0px;} #blocks62fad25a-8dfa-4344-955c-2ada37c00d59 td {border: 1px solid white;}</style><table id=\"blocks62fad25a-8dfa-4344-955c-2ada37c00d59\" class=\"blockgrid\"><tbody><tr><td title=\"Index: [0, 0]&#10;Color: (255, 0, 0)\" style=\"width: 20px; height: 20px;background-color: rgb(255, 0, 0);\"></td><td title=\"Index: [0, 1]&#10;Color: (255, 0, 0)\" style=\"width: 20px; height: 20px;background-color: rgb(255, 0, 0);\"></td><td title=\"Index: [0, 2]&#10;Color: (255, 0, 0)\" style=\"width: 20px; height: 20px;background-color: rgb(255, 0, 0);\"></td><td title=\"Index: [0, 3]&#10;Color: (255, 0, 0)\" style=\"width: 20px; height: 20px;background-color: rgb(255, 0, 0);\"></td><td title=\"Index: [0, 4]&#10;Color: (255, 0, 0)\" style=\"width: 20px; height: 20px;background-color: rgb(255, 0, 0);\"></td><td title=\"Index: [0, 5]&#10;Color: (255, 0, 0)\" style=\"width: 20px; height: 20px;background-color: rgb(255, 0, 0);\"></td><td title=\"Index: [0, 6]&#10;Color: (255, 0, 0)\" style=\"width: 20px; height: 20px;background-color: rgb(255, 0, 0);\"></td></tr><tr><td title=\"Index: [1, 0]&#10;Color: (255, 0, 0)\" style=\"width: 20px; height: 20px;background-color: rgb(255, 0, 0);\"></td><td title=\"Index: [1, 1]&#10;Color: (0, 200, 250)\" style=\"width: 20px; height: 20px;background-color: rgb(0, 200, 250);\"></td><td title=\"Index: [1, 2]&#10;Color: (0, 200, 250)\" style=\"width: 20px; height: 20px;background-color: rgb(0, 200, 250);\"></td><td title=\"Index: [1, 3]&#10;Color: (0, 200, 250)\" style=\"width: 20px; height: 20px;background-color: rgb(0, 200, 250);\"></td><td title=\"Index: [1, 4]&#10;Color: (0, 0, 255)\" style=\"width: 20px; height: 20px;background-color: rgb(0, 0, 255);\"></td><td title=\"Index: [1, 5]&#10;Color: (123, 234, 123)\" style=\"width: 20px; height: 20px;background-color: rgb(123, 234, 123);\"></td><td title=\"Index: [1, 6]&#10;Color: (255, 0, 0)\" style=\"width: 20px; height: 20px;background-color: rgb(255, 0, 0);\"></td></tr><tr><td title=\"Index: [2, 0]&#10;Color: (255, 0, 0)\" style=\"width: 20px; height: 20px;background-color: rgb(255, 0, 0);\"></td><td title=\"Index: [2, 1]&#10;Color: (0, 200, 250)\" style=\"width: 20px; height: 20px;background-color: rgb(0, 200, 250);\"></td><td title=\"Index: [2, 2]&#10;Color: (0, 200, 250)\" style=\"width: 20px; height: 20px;background-color: rgb(0, 200, 250);\"></td><td title=\"Index: [2, 3]&#10;Color: (0, 200, 250)\" style=\"width: 20px; height: 20px;background-color: rgb(0, 200, 250);\"></td><td title=\"Index: [2, 4]&#10;Color: (0, 200, 250)\" style=\"width: 20px; height: 20px;background-color: rgb(0, 200, 250);\"></td><td title=\"Index: [2, 5]&#10;Color: (123, 234, 123)\" style=\"width: 20px; height: 20px;background-color: rgb(123, 234, 123);\"></td><td title=\"Index: [2, 6]&#10;Color: (255, 0, 0)\" style=\"width: 20px; height: 20px;background-color: rgb(255, 0, 0);\"></td></tr><tr><td title=\"Index: [3, 0]&#10;Color: (255, 0, 0)\" style=\"width: 20px; height: 20px;background-color: rgb(255, 0, 0);\"></td><td title=\"Index: [3, 1]&#10;Color: (253, 208, 23)\" style=\"width: 20px; height: 20px;background-color: rgb(253, 208, 23);\"></td><td title=\"Index: [3, 2]&#10;Color: (0, 0, 0)\" style=\"width: 20px; height: 20px;background-color: rgb(0, 0, 0);\"></td><td title=\"Index: [3, 3]&#10;Color: (225, 225, 225)\" style=\"width: 20px; height: 20px;background-color: rgb(225, 225, 225);\"></td><td title=\"Index: [3, 4]&#10;Color: (123, 234, 123)\" style=\"width: 20px; height: 20px;background-color: rgb(123, 234, 123);\"></td><td title=\"Index: [3, 5]&#10;Color: (123, 234, 123)\" style=\"width: 20px; height: 20px;background-color: rgb(123, 234, 123);\"></td><td title=\"Index: [3, 6]&#10;Color: (255, 0, 0)\" style=\"width: 20px; height: 20px;background-color: rgb(255, 0, 0);\"></td></tr><tr><td title=\"Index: [4, 0]&#10;Color: (255, 0, 0)\" style=\"width: 20px; height: 20px;background-color: rgb(255, 0, 0);\"></td><td title=\"Index: [4, 1]&#10;Color: (255, 0, 255)\" style=\"width: 20px; height: 20px;background-color: rgb(255, 0, 255);\"></td><td title=\"Index: [4, 2]&#10;Color: (128, 0, 128)\" style=\"width: 20px; height: 20px;background-color: rgb(128, 0, 128);\"></td><td title=\"Index: [4, 3]&#10;Color: (123, 234, 123)\" style=\"width: 20px; height: 20px;background-color: rgb(123, 234, 123);\"></td><td title=\"Index: [4, 4]&#10;Color: (123, 234, 123)\" style=\"width: 20px; height: 20px;background-color: rgb(123, 234, 123);\"></td><td title=\"Index: [4, 5]&#10;Color: (123, 234, 123)\" style=\"width: 20px; height: 20px;background-color: rgb(123, 234, 123);\"></td><td title=\"Index: [4, 6]&#10;Color: (255, 0, 0)\" style=\"width: 20px; height: 20px;background-color: rgb(255, 0, 0);\"></td></tr><tr><td title=\"Index: [5, 0]&#10;Color: (255, 0, 0)\" style=\"width: 20px; height: 20px;background-color: rgb(255, 0, 0);\"></td><td title=\"Index: [5, 1]&#10;Color: (128, 0, 128)\" style=\"width: 20px; height: 20px;background-color: rgb(128, 0, 128);\"></td><td title=\"Index: [5, 2]&#10;Color: (123, 234, 123)\" style=\"width: 20px; height: 20px;background-color: rgb(123, 234, 123);\"></td><td title=\"Index: [5, 3]&#10;Color: (123, 234, 123)\" style=\"width: 20px; height: 20px;background-color: rgb(123, 234, 123);\"></td><td title=\"Index: [5, 4]&#10;Color: (123, 234, 123)\" style=\"width: 20px; height: 20px;background-color: rgb(123, 234, 123);\"></td><td title=\"Index: [5, 5]&#10;Color: (123, 234, 123)\" style=\"width: 20px; height: 20px;background-color: rgb(123, 234, 123);\"></td><td title=\"Index: [5, 6]&#10;Color: (255, 0, 0)\" style=\"width: 20px; height: 20px;background-color: rgb(255, 0, 0);\"></td></tr><tr><td title=\"Index: [6, 0]&#10;Color: (255, 0, 0)\" style=\"width: 20px; height: 20px;background-color: rgb(255, 0, 0);\"></td><td title=\"Index: [6, 1]&#10;Color: (255, 0, 0)\" style=\"width: 20px; height: 20px;background-color: rgb(255, 0, 0);\"></td><td title=\"Index: [6, 2]&#10;Color: (255, 0, 0)\" style=\"width: 20px; height: 20px;background-color: rgb(255, 0, 0);\"></td><td title=\"Index: [6, 3]&#10;Color: (255, 0, 0)\" style=\"width: 20px; height: 20px;background-color: rgb(255, 0, 0);\"></td><td title=\"Index: [6, 4]&#10;Color: (255, 0, 0)\" style=\"width: 20px; height: 20px;background-color: rgb(255, 0, 0);\"></td><td title=\"Index: [6, 5]&#10;Color: (255, 0, 0)\" style=\"width: 20px; height: 20px;background-color: rgb(255, 0, 0);\"></td><td title=\"Index: [6, 6]&#10;Color: (255, 0, 0)\" style=\"width: 20px; height: 20px;background-color: rgb(255, 0, 0);\"></td></tr></tbody></table>"
      ],
      "text/plain": [
       "<IPython.core.display.HTML object>"
      ]
     },
     "metadata": {},
     "output_type": "display_data"
    },
    {
     "name": "stdout",
     "output_type": "stream",
     "text": [
      "HaveGold  False\n",
      "Possiblemoves [['5', '1'], ['4', '3'], ['3', '3'], ['5', '2'], ['1', '3']]\n",
      "[None]\n",
      "[None]\n"
     ]
    },
    {
     "data": {
      "text/html": [
       "<style type=\"text/css\">table.blockgrid {border: none;} .blockgrid tr {border: none;} .blockgrid td {padding: 0px;} #blocks967931ec-f7aa-4457-aa22-2ec6188cbd2a td {border: 1px solid white;}</style><table id=\"blocks967931ec-f7aa-4457-aa22-2ec6188cbd2a\" class=\"blockgrid\"><tbody><tr><td title=\"Index: [0, 0]&#10;Color: (255, 0, 0)\" style=\"width: 20px; height: 20px;background-color: rgb(255, 0, 0);\"></td><td title=\"Index: [0, 1]&#10;Color: (255, 0, 0)\" style=\"width: 20px; height: 20px;background-color: rgb(255, 0, 0);\"></td><td title=\"Index: [0, 2]&#10;Color: (255, 0, 0)\" style=\"width: 20px; height: 20px;background-color: rgb(255, 0, 0);\"></td><td title=\"Index: [0, 3]&#10;Color: (255, 0, 0)\" style=\"width: 20px; height: 20px;background-color: rgb(255, 0, 0);\"></td><td title=\"Index: [0, 4]&#10;Color: (255, 0, 0)\" style=\"width: 20px; height: 20px;background-color: rgb(255, 0, 0);\"></td><td title=\"Index: [0, 5]&#10;Color: (255, 0, 0)\" style=\"width: 20px; height: 20px;background-color: rgb(255, 0, 0);\"></td><td title=\"Index: [0, 6]&#10;Color: (255, 0, 0)\" style=\"width: 20px; height: 20px;background-color: rgb(255, 0, 0);\"></td></tr><tr><td title=\"Index: [1, 0]&#10;Color: (255, 0, 0)\" style=\"width: 20px; height: 20px;background-color: rgb(255, 0, 0);\"></td><td title=\"Index: [1, 1]&#10;Color: (0, 200, 250)\" style=\"width: 20px; height: 20px;background-color: rgb(0, 200, 250);\"></td><td title=\"Index: [1, 2]&#10;Color: (0, 200, 250)\" style=\"width: 20px; height: 20px;background-color: rgb(0, 200, 250);\"></td><td title=\"Index: [1, 3]&#10;Color: (0, 200, 250)\" style=\"width: 20px; height: 20px;background-color: rgb(0, 200, 250);\"></td><td title=\"Index: [1, 4]&#10;Color: (0, 200, 250)\" style=\"width: 20px; height: 20px;background-color: rgb(0, 200, 250);\"></td><td title=\"Index: [1, 5]&#10;Color: (0, 0, 255)\" style=\"width: 20px; height: 20px;background-color: rgb(0, 0, 255);\"></td><td title=\"Index: [1, 6]&#10;Color: (255, 0, 0)\" style=\"width: 20px; height: 20px;background-color: rgb(255, 0, 0);\"></td></tr><tr><td title=\"Index: [2, 0]&#10;Color: (255, 0, 0)\" style=\"width: 20px; height: 20px;background-color: rgb(255, 0, 0);\"></td><td title=\"Index: [2, 1]&#10;Color: (0, 200, 250)\" style=\"width: 20px; height: 20px;background-color: rgb(0, 200, 250);\"></td><td title=\"Index: [2, 2]&#10;Color: (0, 200, 250)\" style=\"width: 20px; height: 20px;background-color: rgb(0, 200, 250);\"></td><td title=\"Index: [2, 3]&#10;Color: (0, 200, 250)\" style=\"width: 20px; height: 20px;background-color: rgb(0, 200, 250);\"></td><td title=\"Index: [2, 4]&#10;Color: (0, 200, 250)\" style=\"width: 20px; height: 20px;background-color: rgb(0, 200, 250);\"></td><td title=\"Index: [2, 5]&#10;Color: (123, 234, 123)\" style=\"width: 20px; height: 20px;background-color: rgb(123, 234, 123);\"></td><td title=\"Index: [2, 6]&#10;Color: (255, 0, 0)\" style=\"width: 20px; height: 20px;background-color: rgb(255, 0, 0);\"></td></tr><tr><td title=\"Index: [3, 0]&#10;Color: (255, 0, 0)\" style=\"width: 20px; height: 20px;background-color: rgb(255, 0, 0);\"></td><td title=\"Index: [3, 1]&#10;Color: (253, 208, 23)\" style=\"width: 20px; height: 20px;background-color: rgb(253, 208, 23);\"></td><td title=\"Index: [3, 2]&#10;Color: (0, 0, 0)\" style=\"width: 20px; height: 20px;background-color: rgb(0, 0, 0);\"></td><td title=\"Index: [3, 3]&#10;Color: (225, 225, 225)\" style=\"width: 20px; height: 20px;background-color: rgb(225, 225, 225);\"></td><td title=\"Index: [3, 4]&#10;Color: (123, 234, 123)\" style=\"width: 20px; height: 20px;background-color: rgb(123, 234, 123);\"></td><td title=\"Index: [3, 5]&#10;Color: (123, 234, 123)\" style=\"width: 20px; height: 20px;background-color: rgb(123, 234, 123);\"></td><td title=\"Index: [3, 6]&#10;Color: (255, 0, 0)\" style=\"width: 20px; height: 20px;background-color: rgb(255, 0, 0);\"></td></tr><tr><td title=\"Index: [4, 0]&#10;Color: (255, 0, 0)\" style=\"width: 20px; height: 20px;background-color: rgb(255, 0, 0);\"></td><td title=\"Index: [4, 1]&#10;Color: (255, 0, 255)\" style=\"width: 20px; height: 20px;background-color: rgb(255, 0, 255);\"></td><td title=\"Index: [4, 2]&#10;Color: (128, 0, 128)\" style=\"width: 20px; height: 20px;background-color: rgb(128, 0, 128);\"></td><td title=\"Index: [4, 3]&#10;Color: (123, 234, 123)\" style=\"width: 20px; height: 20px;background-color: rgb(123, 234, 123);\"></td><td title=\"Index: [4, 4]&#10;Color: (123, 234, 123)\" style=\"width: 20px; height: 20px;background-color: rgb(123, 234, 123);\"></td><td title=\"Index: [4, 5]&#10;Color: (123, 234, 123)\" style=\"width: 20px; height: 20px;background-color: rgb(123, 234, 123);\"></td><td title=\"Index: [4, 6]&#10;Color: (255, 0, 0)\" style=\"width: 20px; height: 20px;background-color: rgb(255, 0, 0);\"></td></tr><tr><td title=\"Index: [5, 0]&#10;Color: (255, 0, 0)\" style=\"width: 20px; height: 20px;background-color: rgb(255, 0, 0);\"></td><td title=\"Index: [5, 1]&#10;Color: (128, 0, 128)\" style=\"width: 20px; height: 20px;background-color: rgb(128, 0, 128);\"></td><td title=\"Index: [5, 2]&#10;Color: (123, 234, 123)\" style=\"width: 20px; height: 20px;background-color: rgb(123, 234, 123);\"></td><td title=\"Index: [5, 3]&#10;Color: (123, 234, 123)\" style=\"width: 20px; height: 20px;background-color: rgb(123, 234, 123);\"></td><td title=\"Index: [5, 4]&#10;Color: (123, 234, 123)\" style=\"width: 20px; height: 20px;background-color: rgb(123, 234, 123);\"></td><td title=\"Index: [5, 5]&#10;Color: (123, 234, 123)\" style=\"width: 20px; height: 20px;background-color: rgb(123, 234, 123);\"></td><td title=\"Index: [5, 6]&#10;Color: (255, 0, 0)\" style=\"width: 20px; height: 20px;background-color: rgb(255, 0, 0);\"></td></tr><tr><td title=\"Index: [6, 0]&#10;Color: (255, 0, 0)\" style=\"width: 20px; height: 20px;background-color: rgb(255, 0, 0);\"></td><td title=\"Index: [6, 1]&#10;Color: (255, 0, 0)\" style=\"width: 20px; height: 20px;background-color: rgb(255, 0, 0);\"></td><td title=\"Index: [6, 2]&#10;Color: (255, 0, 0)\" style=\"width: 20px; height: 20px;background-color: rgb(255, 0, 0);\"></td><td title=\"Index: [6, 3]&#10;Color: (255, 0, 0)\" style=\"width: 20px; height: 20px;background-color: rgb(255, 0, 0);\"></td><td title=\"Index: [6, 4]&#10;Color: (255, 0, 0)\" style=\"width: 20px; height: 20px;background-color: rgb(255, 0, 0);\"></td><td title=\"Index: [6, 5]&#10;Color: (255, 0, 0)\" style=\"width: 20px; height: 20px;background-color: rgb(255, 0, 0);\"></td><td title=\"Index: [6, 6]&#10;Color: (255, 0, 0)\" style=\"width: 20px; height: 20px;background-color: rgb(255, 0, 0);\"></td></tr></tbody></table>"
      ],
      "text/plain": [
       "<IPython.core.display.HTML object>"
      ]
     },
     "metadata": {},
     "output_type": "display_data"
    },
    {
     "name": "stdout",
     "output_type": "stream",
     "text": [
      "HaveGold  False\n",
      "Possiblemoves [['4', '3'], ['3', '3'], ['5', '2'], ['1', '3']]\n",
      "[None]\n",
      "[None]\n"
     ]
    },
    {
     "data": {
      "text/html": [
       "<style type=\"text/css\">table.blockgrid {border: none;} .blockgrid tr {border: none;} .blockgrid td {padding: 0px;} #blocks8f9161d4-8f16-4903-bc25-011ac82878ed td {border: 1px solid white;}</style><table id=\"blocks8f9161d4-8f16-4903-bc25-011ac82878ed\" class=\"blockgrid\"><tbody><tr><td title=\"Index: [0, 0]&#10;Color: (255, 0, 0)\" style=\"width: 20px; height: 20px;background-color: rgb(255, 0, 0);\"></td><td title=\"Index: [0, 1]&#10;Color: (255, 0, 0)\" style=\"width: 20px; height: 20px;background-color: rgb(255, 0, 0);\"></td><td title=\"Index: [0, 2]&#10;Color: (255, 0, 0)\" style=\"width: 20px; height: 20px;background-color: rgb(255, 0, 0);\"></td><td title=\"Index: [0, 3]&#10;Color: (255, 0, 0)\" style=\"width: 20px; height: 20px;background-color: rgb(255, 0, 0);\"></td><td title=\"Index: [0, 4]&#10;Color: (255, 0, 0)\" style=\"width: 20px; height: 20px;background-color: rgb(255, 0, 0);\"></td><td title=\"Index: [0, 5]&#10;Color: (255, 0, 0)\" style=\"width: 20px; height: 20px;background-color: rgb(255, 0, 0);\"></td><td title=\"Index: [0, 6]&#10;Color: (255, 0, 0)\" style=\"width: 20px; height: 20px;background-color: rgb(255, 0, 0);\"></td></tr><tr><td title=\"Index: [1, 0]&#10;Color: (255, 0, 0)\" style=\"width: 20px; height: 20px;background-color: rgb(255, 0, 0);\"></td><td title=\"Index: [1, 1]&#10;Color: (0, 200, 250)\" style=\"width: 20px; height: 20px;background-color: rgb(0, 200, 250);\"></td><td title=\"Index: [1, 2]&#10;Color: (0, 200, 250)\" style=\"width: 20px; height: 20px;background-color: rgb(0, 200, 250);\"></td><td title=\"Index: [1, 3]&#10;Color: (0, 200, 250)\" style=\"width: 20px; height: 20px;background-color: rgb(0, 200, 250);\"></td><td title=\"Index: [1, 4]&#10;Color: (0, 200, 250)\" style=\"width: 20px; height: 20px;background-color: rgb(0, 200, 250);\"></td><td title=\"Index: [1, 5]&#10;Color: (0, 200, 250)\" style=\"width: 20px; height: 20px;background-color: rgb(0, 200, 250);\"></td><td title=\"Index: [1, 6]&#10;Color: (255, 0, 0)\" style=\"width: 20px; height: 20px;background-color: rgb(255, 0, 0);\"></td></tr><tr><td title=\"Index: [2, 0]&#10;Color: (255, 0, 0)\" style=\"width: 20px; height: 20px;background-color: rgb(255, 0, 0);\"></td><td title=\"Index: [2, 1]&#10;Color: (0, 200, 250)\" style=\"width: 20px; height: 20px;background-color: rgb(0, 200, 250);\"></td><td title=\"Index: [2, 2]&#10;Color: (0, 200, 250)\" style=\"width: 20px; height: 20px;background-color: rgb(0, 200, 250);\"></td><td title=\"Index: [2, 3]&#10;Color: (0, 200, 250)\" style=\"width: 20px; height: 20px;background-color: rgb(0, 200, 250);\"></td><td title=\"Index: [2, 4]&#10;Color: (0, 200, 250)\" style=\"width: 20px; height: 20px;background-color: rgb(0, 200, 250);\"></td><td title=\"Index: [2, 5]&#10;Color: (0, 0, 255)\" style=\"width: 20px; height: 20px;background-color: rgb(0, 0, 255);\"></td><td title=\"Index: [2, 6]&#10;Color: (255, 0, 0)\" style=\"width: 20px; height: 20px;background-color: rgb(255, 0, 0);\"></td></tr><tr><td title=\"Index: [3, 0]&#10;Color: (255, 0, 0)\" style=\"width: 20px; height: 20px;background-color: rgb(255, 0, 0);\"></td><td title=\"Index: [3, 1]&#10;Color: (253, 208, 23)\" style=\"width: 20px; height: 20px;background-color: rgb(253, 208, 23);\"></td><td title=\"Index: [3, 2]&#10;Color: (0, 0, 0)\" style=\"width: 20px; height: 20px;background-color: rgb(0, 0, 0);\"></td><td title=\"Index: [3, 3]&#10;Color: (225, 225, 225)\" style=\"width: 20px; height: 20px;background-color: rgb(225, 225, 225);\"></td><td title=\"Index: [3, 4]&#10;Color: (123, 234, 123)\" style=\"width: 20px; height: 20px;background-color: rgb(123, 234, 123);\"></td><td title=\"Index: [3, 5]&#10;Color: (123, 234, 123)\" style=\"width: 20px; height: 20px;background-color: rgb(123, 234, 123);\"></td><td title=\"Index: [3, 6]&#10;Color: (255, 0, 0)\" style=\"width: 20px; height: 20px;background-color: rgb(255, 0, 0);\"></td></tr><tr><td title=\"Index: [4, 0]&#10;Color: (255, 0, 0)\" style=\"width: 20px; height: 20px;background-color: rgb(255, 0, 0);\"></td><td title=\"Index: [4, 1]&#10;Color: (255, 0, 255)\" style=\"width: 20px; height: 20px;background-color: rgb(255, 0, 255);\"></td><td title=\"Index: [4, 2]&#10;Color: (128, 0, 128)\" style=\"width: 20px; height: 20px;background-color: rgb(128, 0, 128);\"></td><td title=\"Index: [4, 3]&#10;Color: (123, 234, 123)\" style=\"width: 20px; height: 20px;background-color: rgb(123, 234, 123);\"></td><td title=\"Index: [4, 4]&#10;Color: (123, 234, 123)\" style=\"width: 20px; height: 20px;background-color: rgb(123, 234, 123);\"></td><td title=\"Index: [4, 5]&#10;Color: (123, 234, 123)\" style=\"width: 20px; height: 20px;background-color: rgb(123, 234, 123);\"></td><td title=\"Index: [4, 6]&#10;Color: (255, 0, 0)\" style=\"width: 20px; height: 20px;background-color: rgb(255, 0, 0);\"></td></tr><tr><td title=\"Index: [5, 0]&#10;Color: (255, 0, 0)\" style=\"width: 20px; height: 20px;background-color: rgb(255, 0, 0);\"></td><td title=\"Index: [5, 1]&#10;Color: (128, 0, 128)\" style=\"width: 20px; height: 20px;background-color: rgb(128, 0, 128);\"></td><td title=\"Index: [5, 2]&#10;Color: (123, 234, 123)\" style=\"width: 20px; height: 20px;background-color: rgb(123, 234, 123);\"></td><td title=\"Index: [5, 3]&#10;Color: (123, 234, 123)\" style=\"width: 20px; height: 20px;background-color: rgb(123, 234, 123);\"></td><td title=\"Index: [5, 4]&#10;Color: (123, 234, 123)\" style=\"width: 20px; height: 20px;background-color: rgb(123, 234, 123);\"></td><td title=\"Index: [5, 5]&#10;Color: (123, 234, 123)\" style=\"width: 20px; height: 20px;background-color: rgb(123, 234, 123);\"></td><td title=\"Index: [5, 6]&#10;Color: (255, 0, 0)\" style=\"width: 20px; height: 20px;background-color: rgb(255, 0, 0);\"></td></tr><tr><td title=\"Index: [6, 0]&#10;Color: (255, 0, 0)\" style=\"width: 20px; height: 20px;background-color: rgb(255, 0, 0);\"></td><td title=\"Index: [6, 1]&#10;Color: (255, 0, 0)\" style=\"width: 20px; height: 20px;background-color: rgb(255, 0, 0);\"></td><td title=\"Index: [6, 2]&#10;Color: (255, 0, 0)\" style=\"width: 20px; height: 20px;background-color: rgb(255, 0, 0);\"></td><td title=\"Index: [6, 3]&#10;Color: (255, 0, 0)\" style=\"width: 20px; height: 20px;background-color: rgb(255, 0, 0);\"></td><td title=\"Index: [6, 4]&#10;Color: (255, 0, 0)\" style=\"width: 20px; height: 20px;background-color: rgb(255, 0, 0);\"></td><td title=\"Index: [6, 5]&#10;Color: (255, 0, 0)\" style=\"width: 20px; height: 20px;background-color: rgb(255, 0, 0);\"></td><td title=\"Index: [6, 6]&#10;Color: (255, 0, 0)\" style=\"width: 20px; height: 20px;background-color: rgb(255, 0, 0);\"></td></tr></tbody></table>"
      ],
      "text/plain": [
       "<IPython.core.display.HTML object>"
      ]
     },
     "metadata": {},
     "output_type": "display_data"
    },
    {
     "name": "stdout",
     "output_type": "stream",
     "text": [
      "HaveGold  False\n",
      "Possiblemoves [['5', '3'], ['4', '3'], ['3', '3'], ['1', '3']]\n",
      "[None]\n"
     ]
    },
    {
     "data": {
      "text/html": [
       "<style type=\"text/css\">table.blockgrid {border: none;} .blockgrid tr {border: none;} .blockgrid td {padding: 0px;} #blockscddb1b1d-990d-4d73-997c-fc8470ad7295 td {border: 1px solid white;}</style><table id=\"blockscddb1b1d-990d-4d73-997c-fc8470ad7295\" class=\"blockgrid\"><tbody><tr><td title=\"Index: [0, 0]&#10;Color: (255, 0, 0)\" style=\"width: 20px; height: 20px;background-color: rgb(255, 0, 0);\"></td><td title=\"Index: [0, 1]&#10;Color: (255, 0, 0)\" style=\"width: 20px; height: 20px;background-color: rgb(255, 0, 0);\"></td><td title=\"Index: [0, 2]&#10;Color: (255, 0, 0)\" style=\"width: 20px; height: 20px;background-color: rgb(255, 0, 0);\"></td><td title=\"Index: [0, 3]&#10;Color: (255, 0, 0)\" style=\"width: 20px; height: 20px;background-color: rgb(255, 0, 0);\"></td><td title=\"Index: [0, 4]&#10;Color: (255, 0, 0)\" style=\"width: 20px; height: 20px;background-color: rgb(255, 0, 0);\"></td><td title=\"Index: [0, 5]&#10;Color: (255, 0, 0)\" style=\"width: 20px; height: 20px;background-color: rgb(255, 0, 0);\"></td><td title=\"Index: [0, 6]&#10;Color: (255, 0, 0)\" style=\"width: 20px; height: 20px;background-color: rgb(255, 0, 0);\"></td></tr><tr><td title=\"Index: [1, 0]&#10;Color: (255, 0, 0)\" style=\"width: 20px; height: 20px;background-color: rgb(255, 0, 0);\"></td><td title=\"Index: [1, 1]&#10;Color: (0, 200, 250)\" style=\"width: 20px; height: 20px;background-color: rgb(0, 200, 250);\"></td><td title=\"Index: [1, 2]&#10;Color: (0, 200, 250)\" style=\"width: 20px; height: 20px;background-color: rgb(0, 200, 250);\"></td><td title=\"Index: [1, 3]&#10;Color: (0, 200, 250)\" style=\"width: 20px; height: 20px;background-color: rgb(0, 200, 250);\"></td><td title=\"Index: [1, 4]&#10;Color: (0, 200, 250)\" style=\"width: 20px; height: 20px;background-color: rgb(0, 200, 250);\"></td><td title=\"Index: [1, 5]&#10;Color: (0, 200, 250)\" style=\"width: 20px; height: 20px;background-color: rgb(0, 200, 250);\"></td><td title=\"Index: [1, 6]&#10;Color: (255, 0, 0)\" style=\"width: 20px; height: 20px;background-color: rgb(255, 0, 0);\"></td></tr><tr><td title=\"Index: [2, 0]&#10;Color: (255, 0, 0)\" style=\"width: 20px; height: 20px;background-color: rgb(255, 0, 0);\"></td><td title=\"Index: [2, 1]&#10;Color: (0, 200, 250)\" style=\"width: 20px; height: 20px;background-color: rgb(0, 200, 250);\"></td><td title=\"Index: [2, 2]&#10;Color: (0, 200, 250)\" style=\"width: 20px; height: 20px;background-color: rgb(0, 200, 250);\"></td><td title=\"Index: [2, 3]&#10;Color: (0, 200, 250)\" style=\"width: 20px; height: 20px;background-color: rgb(0, 200, 250);\"></td><td title=\"Index: [2, 4]&#10;Color: (0, 200, 250)\" style=\"width: 20px; height: 20px;background-color: rgb(0, 200, 250);\"></td><td title=\"Index: [2, 5]&#10;Color: (0, 200, 250)\" style=\"width: 20px; height: 20px;background-color: rgb(0, 200, 250);\"></td><td title=\"Index: [2, 6]&#10;Color: (255, 0, 0)\" style=\"width: 20px; height: 20px;background-color: rgb(255, 0, 0);\"></td></tr><tr><td title=\"Index: [3, 0]&#10;Color: (255, 0, 0)\" style=\"width: 20px; height: 20px;background-color: rgb(255, 0, 0);\"></td><td title=\"Index: [3, 1]&#10;Color: (253, 208, 23)\" style=\"width: 20px; height: 20px;background-color: rgb(253, 208, 23);\"></td><td title=\"Index: [3, 2]&#10;Color: (0, 0, 0)\" style=\"width: 20px; height: 20px;background-color: rgb(0, 0, 0);\"></td><td title=\"Index: [3, 3]&#10;Color: (225, 225, 225)\" style=\"width: 20px; height: 20px;background-color: rgb(225, 225, 225);\"></td><td title=\"Index: [3, 4]&#10;Color: (123, 234, 123)\" style=\"width: 20px; height: 20px;background-color: rgb(123, 234, 123);\"></td><td title=\"Index: [3, 5]&#10;Color: (0, 0, 255)\" style=\"width: 20px; height: 20px;background-color: rgb(0, 0, 255);\"></td><td title=\"Index: [3, 6]&#10;Color: (255, 0, 0)\" style=\"width: 20px; height: 20px;background-color: rgb(255, 0, 0);\"></td></tr><tr><td title=\"Index: [4, 0]&#10;Color: (255, 0, 0)\" style=\"width: 20px; height: 20px;background-color: rgb(255, 0, 0);\"></td><td title=\"Index: [4, 1]&#10;Color: (255, 0, 255)\" style=\"width: 20px; height: 20px;background-color: rgb(255, 0, 255);\"></td><td title=\"Index: [4, 2]&#10;Color: (128, 0, 128)\" style=\"width: 20px; height: 20px;background-color: rgb(128, 0, 128);\"></td><td title=\"Index: [4, 3]&#10;Color: (123, 234, 123)\" style=\"width: 20px; height: 20px;background-color: rgb(123, 234, 123);\"></td><td title=\"Index: [4, 4]&#10;Color: (123, 234, 123)\" style=\"width: 20px; height: 20px;background-color: rgb(123, 234, 123);\"></td><td title=\"Index: [4, 5]&#10;Color: (123, 234, 123)\" style=\"width: 20px; height: 20px;background-color: rgb(123, 234, 123);\"></td><td title=\"Index: [4, 6]&#10;Color: (255, 0, 0)\" style=\"width: 20px; height: 20px;background-color: rgb(255, 0, 0);\"></td></tr><tr><td title=\"Index: [5, 0]&#10;Color: (255, 0, 0)\" style=\"width: 20px; height: 20px;background-color: rgb(255, 0, 0);\"></td><td title=\"Index: [5, 1]&#10;Color: (128, 0, 128)\" style=\"width: 20px; height: 20px;background-color: rgb(128, 0, 128);\"></td><td title=\"Index: [5, 2]&#10;Color: (123, 234, 123)\" style=\"width: 20px; height: 20px;background-color: rgb(123, 234, 123);\"></td><td title=\"Index: [5, 3]&#10;Color: (123, 234, 123)\" style=\"width: 20px; height: 20px;background-color: rgb(123, 234, 123);\"></td><td title=\"Index: [5, 4]&#10;Color: (123, 234, 123)\" style=\"width: 20px; height: 20px;background-color: rgb(123, 234, 123);\"></td><td title=\"Index: [5, 5]&#10;Color: (123, 234, 123)\" style=\"width: 20px; height: 20px;background-color: rgb(123, 234, 123);\"></td><td title=\"Index: [5, 6]&#10;Color: (255, 0, 0)\" style=\"width: 20px; height: 20px;background-color: rgb(255, 0, 0);\"></td></tr><tr><td title=\"Index: [6, 0]&#10;Color: (255, 0, 0)\" style=\"width: 20px; height: 20px;background-color: rgb(255, 0, 0);\"></td><td title=\"Index: [6, 1]&#10;Color: (255, 0, 0)\" style=\"width: 20px; height: 20px;background-color: rgb(255, 0, 0);\"></td><td title=\"Index: [6, 2]&#10;Color: (255, 0, 0)\" style=\"width: 20px; height: 20px;background-color: rgb(255, 0, 0);\"></td><td title=\"Index: [6, 3]&#10;Color: (255, 0, 0)\" style=\"width: 20px; height: 20px;background-color: rgb(255, 0, 0);\"></td><td title=\"Index: [6, 4]&#10;Color: (255, 0, 0)\" style=\"width: 20px; height: 20px;background-color: rgb(255, 0, 0);\"></td><td title=\"Index: [6, 5]&#10;Color: (255, 0, 0)\" style=\"width: 20px; height: 20px;background-color: rgb(255, 0, 0);\"></td><td title=\"Index: [6, 6]&#10;Color: (255, 0, 0)\" style=\"width: 20px; height: 20px;background-color: rgb(255, 0, 0);\"></td></tr></tbody></table>"
      ],
      "text/plain": [
       "<IPython.core.display.HTML object>"
      ]
     },
     "metadata": {},
     "output_type": "display_data"
    },
    {
     "name": "stdout",
     "output_type": "stream",
     "text": [
      "HaveGold  False\n",
      "Possiblemoves [['4', '3'], ['3', '3'], ['1', '3'], ['5', '4']]\n",
      "[None]\n"
     ]
    },
    {
     "data": {
      "text/html": [
       "<style type=\"text/css\">table.blockgrid {border: none;} .blockgrid tr {border: none;} .blockgrid td {padding: 0px;} #blocks7941db64-e7a4-4a32-9cac-961a4f590410 td {border: 1px solid white;}</style><table id=\"blocks7941db64-e7a4-4a32-9cac-961a4f590410\" class=\"blockgrid\"><tbody><tr><td title=\"Index: [0, 0]&#10;Color: (255, 0, 0)\" style=\"width: 20px; height: 20px;background-color: rgb(255, 0, 0);\"></td><td title=\"Index: [0, 1]&#10;Color: (255, 0, 0)\" style=\"width: 20px; height: 20px;background-color: rgb(255, 0, 0);\"></td><td title=\"Index: [0, 2]&#10;Color: (255, 0, 0)\" style=\"width: 20px; height: 20px;background-color: rgb(255, 0, 0);\"></td><td title=\"Index: [0, 3]&#10;Color: (255, 0, 0)\" style=\"width: 20px; height: 20px;background-color: rgb(255, 0, 0);\"></td><td title=\"Index: [0, 4]&#10;Color: (255, 0, 0)\" style=\"width: 20px; height: 20px;background-color: rgb(255, 0, 0);\"></td><td title=\"Index: [0, 5]&#10;Color: (255, 0, 0)\" style=\"width: 20px; height: 20px;background-color: rgb(255, 0, 0);\"></td><td title=\"Index: [0, 6]&#10;Color: (255, 0, 0)\" style=\"width: 20px; height: 20px;background-color: rgb(255, 0, 0);\"></td></tr><tr><td title=\"Index: [1, 0]&#10;Color: (255, 0, 0)\" style=\"width: 20px; height: 20px;background-color: rgb(255, 0, 0);\"></td><td title=\"Index: [1, 1]&#10;Color: (0, 200, 250)\" style=\"width: 20px; height: 20px;background-color: rgb(0, 200, 250);\"></td><td title=\"Index: [1, 2]&#10;Color: (0, 200, 250)\" style=\"width: 20px; height: 20px;background-color: rgb(0, 200, 250);\"></td><td title=\"Index: [1, 3]&#10;Color: (0, 200, 250)\" style=\"width: 20px; height: 20px;background-color: rgb(0, 200, 250);\"></td><td title=\"Index: [1, 4]&#10;Color: (0, 200, 250)\" style=\"width: 20px; height: 20px;background-color: rgb(0, 200, 250);\"></td><td title=\"Index: [1, 5]&#10;Color: (0, 200, 250)\" style=\"width: 20px; height: 20px;background-color: rgb(0, 200, 250);\"></td><td title=\"Index: [1, 6]&#10;Color: (255, 0, 0)\" style=\"width: 20px; height: 20px;background-color: rgb(255, 0, 0);\"></td></tr><tr><td title=\"Index: [2, 0]&#10;Color: (255, 0, 0)\" style=\"width: 20px; height: 20px;background-color: rgb(255, 0, 0);\"></td><td title=\"Index: [2, 1]&#10;Color: (0, 200, 250)\" style=\"width: 20px; height: 20px;background-color: rgb(0, 200, 250);\"></td><td title=\"Index: [2, 2]&#10;Color: (0, 200, 250)\" style=\"width: 20px; height: 20px;background-color: rgb(0, 200, 250);\"></td><td title=\"Index: [2, 3]&#10;Color: (0, 200, 250)\" style=\"width: 20px; height: 20px;background-color: rgb(0, 200, 250);\"></td><td title=\"Index: [2, 4]&#10;Color: (0, 200, 250)\" style=\"width: 20px; height: 20px;background-color: rgb(0, 200, 250);\"></td><td title=\"Index: [2, 5]&#10;Color: (0, 200, 250)\" style=\"width: 20px; height: 20px;background-color: rgb(0, 200, 250);\"></td><td title=\"Index: [2, 6]&#10;Color: (255, 0, 0)\" style=\"width: 20px; height: 20px;background-color: rgb(255, 0, 0);\"></td></tr><tr><td title=\"Index: [3, 0]&#10;Color: (255, 0, 0)\" style=\"width: 20px; height: 20px;background-color: rgb(255, 0, 0);\"></td><td title=\"Index: [3, 1]&#10;Color: (253, 208, 23)\" style=\"width: 20px; height: 20px;background-color: rgb(253, 208, 23);\"></td><td title=\"Index: [3, 2]&#10;Color: (0, 0, 0)\" style=\"width: 20px; height: 20px;background-color: rgb(0, 0, 0);\"></td><td title=\"Index: [3, 3]&#10;Color: (225, 225, 225)\" style=\"width: 20px; height: 20px;background-color: rgb(225, 225, 225);\"></td><td title=\"Index: [3, 4]&#10;Color: (123, 234, 123)\" style=\"width: 20px; height: 20px;background-color: rgb(123, 234, 123);\"></td><td title=\"Index: [3, 5]&#10;Color: (0, 200, 250)\" style=\"width: 20px; height: 20px;background-color: rgb(0, 200, 250);\"></td><td title=\"Index: [3, 6]&#10;Color: (255, 0, 0)\" style=\"width: 20px; height: 20px;background-color: rgb(255, 0, 0);\"></td></tr><tr><td title=\"Index: [4, 0]&#10;Color: (255, 0, 0)\" style=\"width: 20px; height: 20px;background-color: rgb(255, 0, 0);\"></td><td title=\"Index: [4, 1]&#10;Color: (255, 0, 255)\" style=\"width: 20px; height: 20px;background-color: rgb(255, 0, 255);\"></td><td title=\"Index: [4, 2]&#10;Color: (128, 0, 128)\" style=\"width: 20px; height: 20px;background-color: rgb(128, 0, 128);\"></td><td title=\"Index: [4, 3]&#10;Color: (123, 234, 123)\" style=\"width: 20px; height: 20px;background-color: rgb(123, 234, 123);\"></td><td title=\"Index: [4, 4]&#10;Color: (123, 234, 123)\" style=\"width: 20px; height: 20px;background-color: rgb(123, 234, 123);\"></td><td title=\"Index: [4, 5]&#10;Color: (0, 0, 255)\" style=\"width: 20px; height: 20px;background-color: rgb(0, 0, 255);\"></td><td title=\"Index: [4, 6]&#10;Color: (255, 0, 0)\" style=\"width: 20px; height: 20px;background-color: rgb(255, 0, 0);\"></td></tr><tr><td title=\"Index: [5, 0]&#10;Color: (255, 0, 0)\" style=\"width: 20px; height: 20px;background-color: rgb(255, 0, 0);\"></td><td title=\"Index: [5, 1]&#10;Color: (128, 0, 128)\" style=\"width: 20px; height: 20px;background-color: rgb(128, 0, 128);\"></td><td title=\"Index: [5, 2]&#10;Color: (123, 234, 123)\" style=\"width: 20px; height: 20px;background-color: rgb(123, 234, 123);\"></td><td title=\"Index: [5, 3]&#10;Color: (123, 234, 123)\" style=\"width: 20px; height: 20px;background-color: rgb(123, 234, 123);\"></td><td title=\"Index: [5, 4]&#10;Color: (123, 234, 123)\" style=\"width: 20px; height: 20px;background-color: rgb(123, 234, 123);\"></td><td title=\"Index: [5, 5]&#10;Color: (123, 234, 123)\" style=\"width: 20px; height: 20px;background-color: rgb(123, 234, 123);\"></td><td title=\"Index: [5, 6]&#10;Color: (255, 0, 0)\" style=\"width: 20px; height: 20px;background-color: rgb(255, 0, 0);\"></td></tr><tr><td title=\"Index: [6, 0]&#10;Color: (255, 0, 0)\" style=\"width: 20px; height: 20px;background-color: rgb(255, 0, 0);\"></td><td title=\"Index: [6, 1]&#10;Color: (255, 0, 0)\" style=\"width: 20px; height: 20px;background-color: rgb(255, 0, 0);\"></td><td title=\"Index: [6, 2]&#10;Color: (255, 0, 0)\" style=\"width: 20px; height: 20px;background-color: rgb(255, 0, 0);\"></td><td title=\"Index: [6, 3]&#10;Color: (255, 0, 0)\" style=\"width: 20px; height: 20px;background-color: rgb(255, 0, 0);\"></td><td title=\"Index: [6, 4]&#10;Color: (255, 0, 0)\" style=\"width: 20px; height: 20px;background-color: rgb(255, 0, 0);\"></td><td title=\"Index: [6, 5]&#10;Color: (255, 0, 0)\" style=\"width: 20px; height: 20px;background-color: rgb(255, 0, 0);\"></td><td title=\"Index: [6, 6]&#10;Color: (255, 0, 0)\" style=\"width: 20px; height: 20px;background-color: rgb(255, 0, 0);\"></td></tr></tbody></table>"
      ],
      "text/plain": [
       "<IPython.core.display.HTML object>"
      ]
     },
     "metadata": {},
     "output_type": "display_data"
    },
    {
     "name": "stdout",
     "output_type": "stream",
     "text": [
      "HaveGold  False\n",
      "Possiblemoves [['4', '4'], ['4', '3'], ['3', '3'], ['1', '3'], ['5', '5']]\n",
      "[None]\n",
      "[None]\n"
     ]
    },
    {
     "data": {
      "text/html": [
       "<style type=\"text/css\">table.blockgrid {border: none;} .blockgrid tr {border: none;} .blockgrid td {padding: 0px;} #blocks5a50d792-88ec-4610-8588-1173c8655a82 td {border: 1px solid white;}</style><table id=\"blocks5a50d792-88ec-4610-8588-1173c8655a82\" class=\"blockgrid\"><tbody><tr><td title=\"Index: [0, 0]&#10;Color: (255, 0, 0)\" style=\"width: 20px; height: 20px;background-color: rgb(255, 0, 0);\"></td><td title=\"Index: [0, 1]&#10;Color: (255, 0, 0)\" style=\"width: 20px; height: 20px;background-color: rgb(255, 0, 0);\"></td><td title=\"Index: [0, 2]&#10;Color: (255, 0, 0)\" style=\"width: 20px; height: 20px;background-color: rgb(255, 0, 0);\"></td><td title=\"Index: [0, 3]&#10;Color: (255, 0, 0)\" style=\"width: 20px; height: 20px;background-color: rgb(255, 0, 0);\"></td><td title=\"Index: [0, 4]&#10;Color: (255, 0, 0)\" style=\"width: 20px; height: 20px;background-color: rgb(255, 0, 0);\"></td><td title=\"Index: [0, 5]&#10;Color: (255, 0, 0)\" style=\"width: 20px; height: 20px;background-color: rgb(255, 0, 0);\"></td><td title=\"Index: [0, 6]&#10;Color: (255, 0, 0)\" style=\"width: 20px; height: 20px;background-color: rgb(255, 0, 0);\"></td></tr><tr><td title=\"Index: [1, 0]&#10;Color: (255, 0, 0)\" style=\"width: 20px; height: 20px;background-color: rgb(255, 0, 0);\"></td><td title=\"Index: [1, 1]&#10;Color: (0, 200, 250)\" style=\"width: 20px; height: 20px;background-color: rgb(0, 200, 250);\"></td><td title=\"Index: [1, 2]&#10;Color: (0, 200, 250)\" style=\"width: 20px; height: 20px;background-color: rgb(0, 200, 250);\"></td><td title=\"Index: [1, 3]&#10;Color: (0, 200, 250)\" style=\"width: 20px; height: 20px;background-color: rgb(0, 200, 250);\"></td><td title=\"Index: [1, 4]&#10;Color: (0, 200, 250)\" style=\"width: 20px; height: 20px;background-color: rgb(0, 200, 250);\"></td><td title=\"Index: [1, 5]&#10;Color: (0, 200, 250)\" style=\"width: 20px; height: 20px;background-color: rgb(0, 200, 250);\"></td><td title=\"Index: [1, 6]&#10;Color: (255, 0, 0)\" style=\"width: 20px; height: 20px;background-color: rgb(255, 0, 0);\"></td></tr><tr><td title=\"Index: [2, 0]&#10;Color: (255, 0, 0)\" style=\"width: 20px; height: 20px;background-color: rgb(255, 0, 0);\"></td><td title=\"Index: [2, 1]&#10;Color: (0, 200, 250)\" style=\"width: 20px; height: 20px;background-color: rgb(0, 200, 250);\"></td><td title=\"Index: [2, 2]&#10;Color: (0, 200, 250)\" style=\"width: 20px; height: 20px;background-color: rgb(0, 200, 250);\"></td><td title=\"Index: [2, 3]&#10;Color: (0, 200, 250)\" style=\"width: 20px; height: 20px;background-color: rgb(0, 200, 250);\"></td><td title=\"Index: [2, 4]&#10;Color: (0, 200, 250)\" style=\"width: 20px; height: 20px;background-color: rgb(0, 200, 250);\"></td><td title=\"Index: [2, 5]&#10;Color: (0, 200, 250)\" style=\"width: 20px; height: 20px;background-color: rgb(0, 200, 250);\"></td><td title=\"Index: [2, 6]&#10;Color: (255, 0, 0)\" style=\"width: 20px; height: 20px;background-color: rgb(255, 0, 0);\"></td></tr><tr><td title=\"Index: [3, 0]&#10;Color: (255, 0, 0)\" style=\"width: 20px; height: 20px;background-color: rgb(255, 0, 0);\"></td><td title=\"Index: [3, 1]&#10;Color: (253, 208, 23)\" style=\"width: 20px; height: 20px;background-color: rgb(253, 208, 23);\"></td><td title=\"Index: [3, 2]&#10;Color: (0, 0, 0)\" style=\"width: 20px; height: 20px;background-color: rgb(0, 0, 0);\"></td><td title=\"Index: [3, 3]&#10;Color: (225, 225, 225)\" style=\"width: 20px; height: 20px;background-color: rgb(225, 225, 225);\"></td><td title=\"Index: [3, 4]&#10;Color: (123, 234, 123)\" style=\"width: 20px; height: 20px;background-color: rgb(123, 234, 123);\"></td><td title=\"Index: [3, 5]&#10;Color: (0, 200, 250)\" style=\"width: 20px; height: 20px;background-color: rgb(0, 200, 250);\"></td><td title=\"Index: [3, 6]&#10;Color: (255, 0, 0)\" style=\"width: 20px; height: 20px;background-color: rgb(255, 0, 0);\"></td></tr><tr><td title=\"Index: [4, 0]&#10;Color: (255, 0, 0)\" style=\"width: 20px; height: 20px;background-color: rgb(255, 0, 0);\"></td><td title=\"Index: [4, 1]&#10;Color: (255, 0, 255)\" style=\"width: 20px; height: 20px;background-color: rgb(255, 0, 255);\"></td><td title=\"Index: [4, 2]&#10;Color: (128, 0, 128)\" style=\"width: 20px; height: 20px;background-color: rgb(128, 0, 128);\"></td><td title=\"Index: [4, 3]&#10;Color: (123, 234, 123)\" style=\"width: 20px; height: 20px;background-color: rgb(123, 234, 123);\"></td><td title=\"Index: [4, 4]&#10;Color: (0, 0, 255)\" style=\"width: 20px; height: 20px;background-color: rgb(0, 0, 255);\"></td><td title=\"Index: [4, 5]&#10;Color: (0, 200, 250)\" style=\"width: 20px; height: 20px;background-color: rgb(0, 200, 250);\"></td><td title=\"Index: [4, 6]&#10;Color: (255, 0, 0)\" style=\"width: 20px; height: 20px;background-color: rgb(255, 0, 0);\"></td></tr><tr><td title=\"Index: [5, 0]&#10;Color: (255, 0, 0)\" style=\"width: 20px; height: 20px;background-color: rgb(255, 0, 0);\"></td><td title=\"Index: [5, 1]&#10;Color: (128, 0, 128)\" style=\"width: 20px; height: 20px;background-color: rgb(128, 0, 128);\"></td><td title=\"Index: [5, 2]&#10;Color: (123, 234, 123)\" style=\"width: 20px; height: 20px;background-color: rgb(123, 234, 123);\"></td><td title=\"Index: [5, 3]&#10;Color: (123, 234, 123)\" style=\"width: 20px; height: 20px;background-color: rgb(123, 234, 123);\"></td><td title=\"Index: [5, 4]&#10;Color: (123, 234, 123)\" style=\"width: 20px; height: 20px;background-color: rgb(123, 234, 123);\"></td><td title=\"Index: [5, 5]&#10;Color: (123, 234, 123)\" style=\"width: 20px; height: 20px;background-color: rgb(123, 234, 123);\"></td><td title=\"Index: [5, 6]&#10;Color: (255, 0, 0)\" style=\"width: 20px; height: 20px;background-color: rgb(255, 0, 0);\"></td></tr><tr><td title=\"Index: [6, 0]&#10;Color: (255, 0, 0)\" style=\"width: 20px; height: 20px;background-color: rgb(255, 0, 0);\"></td><td title=\"Index: [6, 1]&#10;Color: (255, 0, 0)\" style=\"width: 20px; height: 20px;background-color: rgb(255, 0, 0);\"></td><td title=\"Index: [6, 2]&#10;Color: (255, 0, 0)\" style=\"width: 20px; height: 20px;background-color: rgb(255, 0, 0);\"></td><td title=\"Index: [6, 3]&#10;Color: (255, 0, 0)\" style=\"width: 20px; height: 20px;background-color: rgb(255, 0, 0);\"></td><td title=\"Index: [6, 4]&#10;Color: (255, 0, 0)\" style=\"width: 20px; height: 20px;background-color: rgb(255, 0, 0);\"></td><td title=\"Index: [6, 5]&#10;Color: (255, 0, 0)\" style=\"width: 20px; height: 20px;background-color: rgb(255, 0, 0);\"></td><td title=\"Index: [6, 6]&#10;Color: (255, 0, 0)\" style=\"width: 20px; height: 20px;background-color: rgb(255, 0, 0);\"></td></tr></tbody></table>"
      ],
      "text/plain": [
       "<IPython.core.display.HTML object>"
      ]
     },
     "metadata": {},
     "output_type": "display_data"
    },
    {
     "name": "stdout",
     "output_type": "stream",
     "text": [
      "HaveGold  False\n",
      "Possiblemoves [['4', '3'], ['3', '3'], ['1', '3'], ['3', '4'], ['5', '5'], ['4', '5']]\n",
      "[None]\n",
      "[None]\n"
     ]
    },
    {
     "data": {
      "text/html": [
       "<style type=\"text/css\">table.blockgrid {border: none;} .blockgrid tr {border: none;} .blockgrid td {padding: 0px;} #blocks33a7f431-3cf4-4eb3-9537-3949e38d0cf2 td {border: 1px solid white;}</style><table id=\"blocks33a7f431-3cf4-4eb3-9537-3949e38d0cf2\" class=\"blockgrid\"><tbody><tr><td title=\"Index: [0, 0]&#10;Color: (255, 0, 0)\" style=\"width: 20px; height: 20px;background-color: rgb(255, 0, 0);\"></td><td title=\"Index: [0, 1]&#10;Color: (255, 0, 0)\" style=\"width: 20px; height: 20px;background-color: rgb(255, 0, 0);\"></td><td title=\"Index: [0, 2]&#10;Color: (255, 0, 0)\" style=\"width: 20px; height: 20px;background-color: rgb(255, 0, 0);\"></td><td title=\"Index: [0, 3]&#10;Color: (255, 0, 0)\" style=\"width: 20px; height: 20px;background-color: rgb(255, 0, 0);\"></td><td title=\"Index: [0, 4]&#10;Color: (255, 0, 0)\" style=\"width: 20px; height: 20px;background-color: rgb(255, 0, 0);\"></td><td title=\"Index: [0, 5]&#10;Color: (255, 0, 0)\" style=\"width: 20px; height: 20px;background-color: rgb(255, 0, 0);\"></td><td title=\"Index: [0, 6]&#10;Color: (255, 0, 0)\" style=\"width: 20px; height: 20px;background-color: rgb(255, 0, 0);\"></td></tr><tr><td title=\"Index: [1, 0]&#10;Color: (255, 0, 0)\" style=\"width: 20px; height: 20px;background-color: rgb(255, 0, 0);\"></td><td title=\"Index: [1, 1]&#10;Color: (0, 200, 250)\" style=\"width: 20px; height: 20px;background-color: rgb(0, 200, 250);\"></td><td title=\"Index: [1, 2]&#10;Color: (0, 200, 250)\" style=\"width: 20px; height: 20px;background-color: rgb(0, 200, 250);\"></td><td title=\"Index: [1, 3]&#10;Color: (0, 200, 250)\" style=\"width: 20px; height: 20px;background-color: rgb(0, 200, 250);\"></td><td title=\"Index: [1, 4]&#10;Color: (0, 200, 250)\" style=\"width: 20px; height: 20px;background-color: rgb(0, 200, 250);\"></td><td title=\"Index: [1, 5]&#10;Color: (0, 200, 250)\" style=\"width: 20px; height: 20px;background-color: rgb(0, 200, 250);\"></td><td title=\"Index: [1, 6]&#10;Color: (255, 0, 0)\" style=\"width: 20px; height: 20px;background-color: rgb(255, 0, 0);\"></td></tr><tr><td title=\"Index: [2, 0]&#10;Color: (255, 0, 0)\" style=\"width: 20px; height: 20px;background-color: rgb(255, 0, 0);\"></td><td title=\"Index: [2, 1]&#10;Color: (0, 200, 250)\" style=\"width: 20px; height: 20px;background-color: rgb(0, 200, 250);\"></td><td title=\"Index: [2, 2]&#10;Color: (0, 200, 250)\" style=\"width: 20px; height: 20px;background-color: rgb(0, 200, 250);\"></td><td title=\"Index: [2, 3]&#10;Color: (0, 200, 250)\" style=\"width: 20px; height: 20px;background-color: rgb(0, 200, 250);\"></td><td title=\"Index: [2, 4]&#10;Color: (0, 200, 250)\" style=\"width: 20px; height: 20px;background-color: rgb(0, 200, 250);\"></td><td title=\"Index: [2, 5]&#10;Color: (0, 200, 250)\" style=\"width: 20px; height: 20px;background-color: rgb(0, 200, 250);\"></td><td title=\"Index: [2, 6]&#10;Color: (255, 0, 0)\" style=\"width: 20px; height: 20px;background-color: rgb(255, 0, 0);\"></td></tr><tr><td title=\"Index: [3, 0]&#10;Color: (255, 0, 0)\" style=\"width: 20px; height: 20px;background-color: rgb(255, 0, 0);\"></td><td title=\"Index: [3, 1]&#10;Color: (253, 208, 23)\" style=\"width: 20px; height: 20px;background-color: rgb(253, 208, 23);\"></td><td title=\"Index: [3, 2]&#10;Color: (0, 0, 0)\" style=\"width: 20px; height: 20px;background-color: rgb(0, 0, 0);\"></td><td title=\"Index: [3, 3]&#10;Color: (225, 225, 225)\" style=\"width: 20px; height: 20px;background-color: rgb(225, 225, 225);\"></td><td title=\"Index: [3, 4]&#10;Color: (0, 0, 255)\" style=\"width: 20px; height: 20px;background-color: rgb(0, 0, 255);\"></td><td title=\"Index: [3, 5]&#10;Color: (0, 200, 250)\" style=\"width: 20px; height: 20px;background-color: rgb(0, 200, 250);\"></td><td title=\"Index: [3, 6]&#10;Color: (255, 0, 0)\" style=\"width: 20px; height: 20px;background-color: rgb(255, 0, 0);\"></td></tr><tr><td title=\"Index: [4, 0]&#10;Color: (255, 0, 0)\" style=\"width: 20px; height: 20px;background-color: rgb(255, 0, 0);\"></td><td title=\"Index: [4, 1]&#10;Color: (255, 0, 255)\" style=\"width: 20px; height: 20px;background-color: rgb(255, 0, 255);\"></td><td title=\"Index: [4, 2]&#10;Color: (128, 0, 128)\" style=\"width: 20px; height: 20px;background-color: rgb(128, 0, 128);\"></td><td title=\"Index: [4, 3]&#10;Color: (123, 234, 123)\" style=\"width: 20px; height: 20px;background-color: rgb(123, 234, 123);\"></td><td title=\"Index: [4, 4]&#10;Color: (0, 200, 250)\" style=\"width: 20px; height: 20px;background-color: rgb(0, 200, 250);\"></td><td title=\"Index: [4, 5]&#10;Color: (0, 200, 250)\" style=\"width: 20px; height: 20px;background-color: rgb(0, 200, 250);\"></td><td title=\"Index: [4, 6]&#10;Color: (255, 0, 0)\" style=\"width: 20px; height: 20px;background-color: rgb(255, 0, 0);\"></td></tr><tr><td title=\"Index: [5, 0]&#10;Color: (255, 0, 0)\" style=\"width: 20px; height: 20px;background-color: rgb(255, 0, 0);\"></td><td title=\"Index: [5, 1]&#10;Color: (128, 0, 128)\" style=\"width: 20px; height: 20px;background-color: rgb(128, 0, 128);\"></td><td title=\"Index: [5, 2]&#10;Color: (123, 234, 123)\" style=\"width: 20px; height: 20px;background-color: rgb(123, 234, 123);\"></td><td title=\"Index: [5, 3]&#10;Color: (123, 234, 123)\" style=\"width: 20px; height: 20px;background-color: rgb(123, 234, 123);\"></td><td title=\"Index: [5, 4]&#10;Color: (123, 234, 123)\" style=\"width: 20px; height: 20px;background-color: rgb(123, 234, 123);\"></td><td title=\"Index: [5, 5]&#10;Color: (123, 234, 123)\" style=\"width: 20px; height: 20px;background-color: rgb(123, 234, 123);\"></td><td title=\"Index: [5, 6]&#10;Color: (255, 0, 0)\" style=\"width: 20px; height: 20px;background-color: rgb(255, 0, 0);\"></td></tr><tr><td title=\"Index: [6, 0]&#10;Color: (255, 0, 0)\" style=\"width: 20px; height: 20px;background-color: rgb(255, 0, 0);\"></td><td title=\"Index: [6, 1]&#10;Color: (255, 0, 0)\" style=\"width: 20px; height: 20px;background-color: rgb(255, 0, 0);\"></td><td title=\"Index: [6, 2]&#10;Color: (255, 0, 0)\" style=\"width: 20px; height: 20px;background-color: rgb(255, 0, 0);\"></td><td title=\"Index: [6, 3]&#10;Color: (255, 0, 0)\" style=\"width: 20px; height: 20px;background-color: rgb(255, 0, 0);\"></td><td title=\"Index: [6, 4]&#10;Color: (255, 0, 0)\" style=\"width: 20px; height: 20px;background-color: rgb(255, 0, 0);\"></td><td title=\"Index: [6, 5]&#10;Color: (255, 0, 0)\" style=\"width: 20px; height: 20px;background-color: rgb(255, 0, 0);\"></td><td title=\"Index: [6, 6]&#10;Color: (255, 0, 0)\" style=\"width: 20px; height: 20px;background-color: rgb(255, 0, 0);\"></td></tr></tbody></table>"
      ],
      "text/plain": [
       "<IPython.core.display.HTML object>"
      ]
     },
     "metadata": {},
     "output_type": "display_data"
    },
    {
     "name": "stdout",
     "output_type": "stream",
     "text": [
      "HaveGold  False\n",
      "Possiblemoves [['3', '3'], ['1', '3'], ['3', '4'], ['5', '5'], ['4', '5']]\n",
      "[None]\n",
      "[<Breeze>]\n"
     ]
    },
    {
     "data": {
      "text/html": [
       "<style type=\"text/css\">table.blockgrid {border: none;} .blockgrid tr {border: none;} .blockgrid td {padding: 0px;} #blocksd1a55df2-236d-41ef-8d3a-ac195c5c98c7 td {border: 1px solid white;}</style><table id=\"blocksd1a55df2-236d-41ef-8d3a-ac195c5c98c7\" class=\"blockgrid\"><tbody><tr><td title=\"Index: [0, 0]&#10;Color: (255, 0, 0)\" style=\"width: 20px; height: 20px;background-color: rgb(255, 0, 0);\"></td><td title=\"Index: [0, 1]&#10;Color: (255, 0, 0)\" style=\"width: 20px; height: 20px;background-color: rgb(255, 0, 0);\"></td><td title=\"Index: [0, 2]&#10;Color: (255, 0, 0)\" style=\"width: 20px; height: 20px;background-color: rgb(255, 0, 0);\"></td><td title=\"Index: [0, 3]&#10;Color: (255, 0, 0)\" style=\"width: 20px; height: 20px;background-color: rgb(255, 0, 0);\"></td><td title=\"Index: [0, 4]&#10;Color: (255, 0, 0)\" style=\"width: 20px; height: 20px;background-color: rgb(255, 0, 0);\"></td><td title=\"Index: [0, 5]&#10;Color: (255, 0, 0)\" style=\"width: 20px; height: 20px;background-color: rgb(255, 0, 0);\"></td><td title=\"Index: [0, 6]&#10;Color: (255, 0, 0)\" style=\"width: 20px; height: 20px;background-color: rgb(255, 0, 0);\"></td></tr><tr><td title=\"Index: [1, 0]&#10;Color: (255, 0, 0)\" style=\"width: 20px; height: 20px;background-color: rgb(255, 0, 0);\"></td><td title=\"Index: [1, 1]&#10;Color: (0, 200, 250)\" style=\"width: 20px; height: 20px;background-color: rgb(0, 200, 250);\"></td><td title=\"Index: [1, 2]&#10;Color: (0, 200, 250)\" style=\"width: 20px; height: 20px;background-color: rgb(0, 200, 250);\"></td><td title=\"Index: [1, 3]&#10;Color: (0, 200, 250)\" style=\"width: 20px; height: 20px;background-color: rgb(0, 200, 250);\"></td><td title=\"Index: [1, 4]&#10;Color: (0, 200, 250)\" style=\"width: 20px; height: 20px;background-color: rgb(0, 200, 250);\"></td><td title=\"Index: [1, 5]&#10;Color: (0, 200, 250)\" style=\"width: 20px; height: 20px;background-color: rgb(0, 200, 250);\"></td><td title=\"Index: [1, 6]&#10;Color: (255, 0, 0)\" style=\"width: 20px; height: 20px;background-color: rgb(255, 0, 0);\"></td></tr><tr><td title=\"Index: [2, 0]&#10;Color: (255, 0, 0)\" style=\"width: 20px; height: 20px;background-color: rgb(255, 0, 0);\"></td><td title=\"Index: [2, 1]&#10;Color: (0, 200, 250)\" style=\"width: 20px; height: 20px;background-color: rgb(0, 200, 250);\"></td><td title=\"Index: [2, 2]&#10;Color: (0, 200, 250)\" style=\"width: 20px; height: 20px;background-color: rgb(0, 200, 250);\"></td><td title=\"Index: [2, 3]&#10;Color: (0, 200, 250)\" style=\"width: 20px; height: 20px;background-color: rgb(0, 200, 250);\"></td><td title=\"Index: [2, 4]&#10;Color: (0, 200, 250)\" style=\"width: 20px; height: 20px;background-color: rgb(0, 200, 250);\"></td><td title=\"Index: [2, 5]&#10;Color: (0, 200, 250)\" style=\"width: 20px; height: 20px;background-color: rgb(0, 200, 250);\"></td><td title=\"Index: [2, 6]&#10;Color: (255, 0, 0)\" style=\"width: 20px; height: 20px;background-color: rgb(255, 0, 0);\"></td></tr><tr><td title=\"Index: [3, 0]&#10;Color: (255, 0, 0)\" style=\"width: 20px; height: 20px;background-color: rgb(255, 0, 0);\"></td><td title=\"Index: [3, 1]&#10;Color: (253, 208, 23)\" style=\"width: 20px; height: 20px;background-color: rgb(253, 208, 23);\"></td><td title=\"Index: [3, 2]&#10;Color: (0, 0, 0)\" style=\"width: 20px; height: 20px;background-color: rgb(0, 0, 0);\"></td><td title=\"Index: [3, 3]&#10;Color: (0, 0, 255)\" style=\"width: 20px; height: 20px;background-color: rgb(0, 0, 255);\"></td><td title=\"Index: [3, 4]&#10;Color: (0, 200, 250)\" style=\"width: 20px; height: 20px;background-color: rgb(0, 200, 250);\"></td><td title=\"Index: [3, 5]&#10;Color: (0, 200, 250)\" style=\"width: 20px; height: 20px;background-color: rgb(0, 200, 250);\"></td><td title=\"Index: [3, 6]&#10;Color: (255, 0, 0)\" style=\"width: 20px; height: 20px;background-color: rgb(255, 0, 0);\"></td></tr><tr><td title=\"Index: [4, 0]&#10;Color: (255, 0, 0)\" style=\"width: 20px; height: 20px;background-color: rgb(255, 0, 0);\"></td><td title=\"Index: [4, 1]&#10;Color: (255, 0, 255)\" style=\"width: 20px; height: 20px;background-color: rgb(255, 0, 255);\"></td><td title=\"Index: [4, 2]&#10;Color: (128, 0, 128)\" style=\"width: 20px; height: 20px;background-color: rgb(128, 0, 128);\"></td><td title=\"Index: [4, 3]&#10;Color: (123, 234, 123)\" style=\"width: 20px; height: 20px;background-color: rgb(123, 234, 123);\"></td><td title=\"Index: [4, 4]&#10;Color: (0, 200, 250)\" style=\"width: 20px; height: 20px;background-color: rgb(0, 200, 250);\"></td><td title=\"Index: [4, 5]&#10;Color: (0, 200, 250)\" style=\"width: 20px; height: 20px;background-color: rgb(0, 200, 250);\"></td><td title=\"Index: [4, 6]&#10;Color: (255, 0, 0)\" style=\"width: 20px; height: 20px;background-color: rgb(255, 0, 0);\"></td></tr><tr><td title=\"Index: [5, 0]&#10;Color: (255, 0, 0)\" style=\"width: 20px; height: 20px;background-color: rgb(255, 0, 0);\"></td><td title=\"Index: [5, 1]&#10;Color: (128, 0, 128)\" style=\"width: 20px; height: 20px;background-color: rgb(128, 0, 128);\"></td><td title=\"Index: [5, 2]&#10;Color: (123, 234, 123)\" style=\"width: 20px; height: 20px;background-color: rgb(123, 234, 123);\"></td><td title=\"Index: [5, 3]&#10;Color: (123, 234, 123)\" style=\"width: 20px; height: 20px;background-color: rgb(123, 234, 123);\"></td><td title=\"Index: [5, 4]&#10;Color: (123, 234, 123)\" style=\"width: 20px; height: 20px;background-color: rgb(123, 234, 123);\"></td><td title=\"Index: [5, 5]&#10;Color: (123, 234, 123)\" style=\"width: 20px; height: 20px;background-color: rgb(123, 234, 123);\"></td><td title=\"Index: [5, 6]&#10;Color: (255, 0, 0)\" style=\"width: 20px; height: 20px;background-color: rgb(255, 0, 0);\"></td></tr><tr><td title=\"Index: [6, 0]&#10;Color: (255, 0, 0)\" style=\"width: 20px; height: 20px;background-color: rgb(255, 0, 0);\"></td><td title=\"Index: [6, 1]&#10;Color: (255, 0, 0)\" style=\"width: 20px; height: 20px;background-color: rgb(255, 0, 0);\"></td><td title=\"Index: [6, 2]&#10;Color: (255, 0, 0)\" style=\"width: 20px; height: 20px;background-color: rgb(255, 0, 0);\"></td><td title=\"Index: [6, 3]&#10;Color: (255, 0, 0)\" style=\"width: 20px; height: 20px;background-color: rgb(255, 0, 0);\"></td><td title=\"Index: [6, 4]&#10;Color: (255, 0, 0)\" style=\"width: 20px; height: 20px;background-color: rgb(255, 0, 0);\"></td><td title=\"Index: [6, 5]&#10;Color: (255, 0, 0)\" style=\"width: 20px; height: 20px;background-color: rgb(255, 0, 0);\"></td><td title=\"Index: [6, 6]&#10;Color: (255, 0, 0)\" style=\"width: 20px; height: 20px;background-color: rgb(255, 0, 0);\"></td></tr></tbody></table>"
      ],
      "text/plain": [
       "<IPython.core.display.HTML object>"
      ]
     },
     "metadata": {},
     "output_type": "display_data"
    },
    {
     "name": "stdout",
     "output_type": "stream",
     "text": [
      "HaveGold  False\n",
      "Possiblemoves [['1', '3'], ['3', '4'], ['5', '5'], ['4', '5']]\n",
      "[<Breeze>]\n",
      "[None]\n"
     ]
    },
    {
     "data": {
      "text/html": [
       "<style type=\"text/css\">table.blockgrid {border: none;} .blockgrid tr {border: none;} .blockgrid td {padding: 0px;} #blocks9251c6f4-abf2-4ac0-b2ee-0e7c3da02737 td {border: 1px solid white;}</style><table id=\"blocks9251c6f4-abf2-4ac0-b2ee-0e7c3da02737\" class=\"blockgrid\"><tbody><tr><td title=\"Index: [0, 0]&#10;Color: (255, 0, 0)\" style=\"width: 20px; height: 20px;background-color: rgb(255, 0, 0);\"></td><td title=\"Index: [0, 1]&#10;Color: (255, 0, 0)\" style=\"width: 20px; height: 20px;background-color: rgb(255, 0, 0);\"></td><td title=\"Index: [0, 2]&#10;Color: (255, 0, 0)\" style=\"width: 20px; height: 20px;background-color: rgb(255, 0, 0);\"></td><td title=\"Index: [0, 3]&#10;Color: (255, 0, 0)\" style=\"width: 20px; height: 20px;background-color: rgb(255, 0, 0);\"></td><td title=\"Index: [0, 4]&#10;Color: (255, 0, 0)\" style=\"width: 20px; height: 20px;background-color: rgb(255, 0, 0);\"></td><td title=\"Index: [0, 5]&#10;Color: (255, 0, 0)\" style=\"width: 20px; height: 20px;background-color: rgb(255, 0, 0);\"></td><td title=\"Index: [0, 6]&#10;Color: (255, 0, 0)\" style=\"width: 20px; height: 20px;background-color: rgb(255, 0, 0);\"></td></tr><tr><td title=\"Index: [1, 0]&#10;Color: (255, 0, 0)\" style=\"width: 20px; height: 20px;background-color: rgb(255, 0, 0);\"></td><td title=\"Index: [1, 1]&#10;Color: (0, 200, 250)\" style=\"width: 20px; height: 20px;background-color: rgb(0, 200, 250);\"></td><td title=\"Index: [1, 2]&#10;Color: (0, 200, 250)\" style=\"width: 20px; height: 20px;background-color: rgb(0, 200, 250);\"></td><td title=\"Index: [1, 3]&#10;Color: (0, 200, 250)\" style=\"width: 20px; height: 20px;background-color: rgb(0, 200, 250);\"></td><td title=\"Index: [1, 4]&#10;Color: (0, 200, 250)\" style=\"width: 20px; height: 20px;background-color: rgb(0, 200, 250);\"></td><td title=\"Index: [1, 5]&#10;Color: (0, 200, 250)\" style=\"width: 20px; height: 20px;background-color: rgb(0, 200, 250);\"></td><td title=\"Index: [1, 6]&#10;Color: (255, 0, 0)\" style=\"width: 20px; height: 20px;background-color: rgb(255, 0, 0);\"></td></tr><tr><td title=\"Index: [2, 0]&#10;Color: (255, 0, 0)\" style=\"width: 20px; height: 20px;background-color: rgb(255, 0, 0);\"></td><td title=\"Index: [2, 1]&#10;Color: (0, 200, 250)\" style=\"width: 20px; height: 20px;background-color: rgb(0, 200, 250);\"></td><td title=\"Index: [2, 2]&#10;Color: (0, 200, 250)\" style=\"width: 20px; height: 20px;background-color: rgb(0, 200, 250);\"></td><td title=\"Index: [2, 3]&#10;Color: (0, 200, 250)\" style=\"width: 20px; height: 20px;background-color: rgb(0, 200, 250);\"></td><td title=\"Index: [2, 4]&#10;Color: (0, 200, 250)\" style=\"width: 20px; height: 20px;background-color: rgb(0, 200, 250);\"></td><td title=\"Index: [2, 5]&#10;Color: (0, 200, 250)\" style=\"width: 20px; height: 20px;background-color: rgb(0, 200, 250);\"></td><td title=\"Index: [2, 6]&#10;Color: (255, 0, 0)\" style=\"width: 20px; height: 20px;background-color: rgb(255, 0, 0);\"></td></tr><tr><td title=\"Index: [3, 0]&#10;Color: (255, 0, 0)\" style=\"width: 20px; height: 20px;background-color: rgb(255, 0, 0);\"></td><td title=\"Index: [3, 1]&#10;Color: (253, 208, 23)\" style=\"width: 20px; height: 20px;background-color: rgb(253, 208, 23);\"></td><td title=\"Index: [3, 2]&#10;Color: (0, 0, 0)\" style=\"width: 20px; height: 20px;background-color: rgb(0, 0, 0);\"></td><td title=\"Index: [3, 3]&#10;Color: (0, 200, 250)\" style=\"width: 20px; height: 20px;background-color: rgb(0, 200, 250);\"></td><td title=\"Index: [3, 4]&#10;Color: (0, 200, 250)\" style=\"width: 20px; height: 20px;background-color: rgb(0, 200, 250);\"></td><td title=\"Index: [3, 5]&#10;Color: (0, 200, 250)\" style=\"width: 20px; height: 20px;background-color: rgb(0, 200, 250);\"></td><td title=\"Index: [3, 6]&#10;Color: (255, 0, 0)\" style=\"width: 20px; height: 20px;background-color: rgb(255, 0, 0);\"></td></tr><tr><td title=\"Index: [4, 0]&#10;Color: (255, 0, 0)\" style=\"width: 20px; height: 20px;background-color: rgb(255, 0, 0);\"></td><td title=\"Index: [4, 1]&#10;Color: (255, 0, 255)\" style=\"width: 20px; height: 20px;background-color: rgb(255, 0, 255);\"></td><td title=\"Index: [4, 2]&#10;Color: (128, 0, 128)\" style=\"width: 20px; height: 20px;background-color: rgb(128, 0, 128);\"></td><td title=\"Index: [4, 3]&#10;Color: (0, 0, 255)\" style=\"width: 20px; height: 20px;background-color: rgb(0, 0, 255);\"></td><td title=\"Index: [4, 4]&#10;Color: (0, 200, 250)\" style=\"width: 20px; height: 20px;background-color: rgb(0, 200, 250);\"></td><td title=\"Index: [4, 5]&#10;Color: (0, 200, 250)\" style=\"width: 20px; height: 20px;background-color: rgb(0, 200, 250);\"></td><td title=\"Index: [4, 6]&#10;Color: (255, 0, 0)\" style=\"width: 20px; height: 20px;background-color: rgb(255, 0, 0);\"></td></tr><tr><td title=\"Index: [5, 0]&#10;Color: (255, 0, 0)\" style=\"width: 20px; height: 20px;background-color: rgb(255, 0, 0);\"></td><td title=\"Index: [5, 1]&#10;Color: (128, 0, 128)\" style=\"width: 20px; height: 20px;background-color: rgb(128, 0, 128);\"></td><td title=\"Index: [5, 2]&#10;Color: (123, 234, 123)\" style=\"width: 20px; height: 20px;background-color: rgb(123, 234, 123);\"></td><td title=\"Index: [5, 3]&#10;Color: (123, 234, 123)\" style=\"width: 20px; height: 20px;background-color: rgb(123, 234, 123);\"></td><td title=\"Index: [5, 4]&#10;Color: (123, 234, 123)\" style=\"width: 20px; height: 20px;background-color: rgb(123, 234, 123);\"></td><td title=\"Index: [5, 5]&#10;Color: (123, 234, 123)\" style=\"width: 20px; height: 20px;background-color: rgb(123, 234, 123);\"></td><td title=\"Index: [5, 6]&#10;Color: (255, 0, 0)\" style=\"width: 20px; height: 20px;background-color: rgb(255, 0, 0);\"></td></tr><tr><td title=\"Index: [6, 0]&#10;Color: (255, 0, 0)\" style=\"width: 20px; height: 20px;background-color: rgb(255, 0, 0);\"></td><td title=\"Index: [6, 1]&#10;Color: (255, 0, 0)\" style=\"width: 20px; height: 20px;background-color: rgb(255, 0, 0);\"></td><td title=\"Index: [6, 2]&#10;Color: (255, 0, 0)\" style=\"width: 20px; height: 20px;background-color: rgb(255, 0, 0);\"></td><td title=\"Index: [6, 3]&#10;Color: (255, 0, 0)\" style=\"width: 20px; height: 20px;background-color: rgb(255, 0, 0);\"></td><td title=\"Index: [6, 4]&#10;Color: (255, 0, 0)\" style=\"width: 20px; height: 20px;background-color: rgb(255, 0, 0);\"></td><td title=\"Index: [6, 5]&#10;Color: (255, 0, 0)\" style=\"width: 20px; height: 20px;background-color: rgb(255, 0, 0);\"></td><td title=\"Index: [6, 6]&#10;Color: (255, 0, 0)\" style=\"width: 20px; height: 20px;background-color: rgb(255, 0, 0);\"></td></tr></tbody></table>"
      ],
      "text/plain": [
       "<IPython.core.display.HTML object>"
      ]
     },
     "metadata": {},
     "output_type": "display_data"
    },
    {
     "name": "stdout",
     "output_type": "stream",
     "text": [
      "HaveGold  False\n",
      "Possiblemoves [['3', '5'], ['1', '3'], ['5', '5'], ['4', '5'], ['2', '4']]\n",
      "[None]\n",
      "[<Breeze>, <Stench>]\n"
     ]
    },
    {
     "data": {
      "text/html": [
       "<style type=\"text/css\">table.blockgrid {border: none;} .blockgrid tr {border: none;} .blockgrid td {padding: 0px;} #blocks2f283b95-eff0-4628-a5a7-4d2485558ec0 td {border: 1px solid white;}</style><table id=\"blocks2f283b95-eff0-4628-a5a7-4d2485558ec0\" class=\"blockgrid\"><tbody><tr><td title=\"Index: [0, 0]&#10;Color: (255, 0, 0)\" style=\"width: 20px; height: 20px;background-color: rgb(255, 0, 0);\"></td><td title=\"Index: [0, 1]&#10;Color: (255, 0, 0)\" style=\"width: 20px; height: 20px;background-color: rgb(255, 0, 0);\"></td><td title=\"Index: [0, 2]&#10;Color: (255, 0, 0)\" style=\"width: 20px; height: 20px;background-color: rgb(255, 0, 0);\"></td><td title=\"Index: [0, 3]&#10;Color: (255, 0, 0)\" style=\"width: 20px; height: 20px;background-color: rgb(255, 0, 0);\"></td><td title=\"Index: [0, 4]&#10;Color: (255, 0, 0)\" style=\"width: 20px; height: 20px;background-color: rgb(255, 0, 0);\"></td><td title=\"Index: [0, 5]&#10;Color: (255, 0, 0)\" style=\"width: 20px; height: 20px;background-color: rgb(255, 0, 0);\"></td><td title=\"Index: [0, 6]&#10;Color: (255, 0, 0)\" style=\"width: 20px; height: 20px;background-color: rgb(255, 0, 0);\"></td></tr><tr><td title=\"Index: [1, 0]&#10;Color: (255, 0, 0)\" style=\"width: 20px; height: 20px;background-color: rgb(255, 0, 0);\"></td><td title=\"Index: [1, 1]&#10;Color: (0, 200, 250)\" style=\"width: 20px; height: 20px;background-color: rgb(0, 200, 250);\"></td><td title=\"Index: [1, 2]&#10;Color: (0, 200, 250)\" style=\"width: 20px; height: 20px;background-color: rgb(0, 200, 250);\"></td><td title=\"Index: [1, 3]&#10;Color: (0, 200, 250)\" style=\"width: 20px; height: 20px;background-color: rgb(0, 200, 250);\"></td><td title=\"Index: [1, 4]&#10;Color: (0, 200, 250)\" style=\"width: 20px; height: 20px;background-color: rgb(0, 200, 250);\"></td><td title=\"Index: [1, 5]&#10;Color: (0, 200, 250)\" style=\"width: 20px; height: 20px;background-color: rgb(0, 200, 250);\"></td><td title=\"Index: [1, 6]&#10;Color: (255, 0, 0)\" style=\"width: 20px; height: 20px;background-color: rgb(255, 0, 0);\"></td></tr><tr><td title=\"Index: [2, 0]&#10;Color: (255, 0, 0)\" style=\"width: 20px; height: 20px;background-color: rgb(255, 0, 0);\"></td><td title=\"Index: [2, 1]&#10;Color: (0, 200, 250)\" style=\"width: 20px; height: 20px;background-color: rgb(0, 200, 250);\"></td><td title=\"Index: [2, 2]&#10;Color: (0, 200, 250)\" style=\"width: 20px; height: 20px;background-color: rgb(0, 200, 250);\"></td><td title=\"Index: [2, 3]&#10;Color: (0, 200, 250)\" style=\"width: 20px; height: 20px;background-color: rgb(0, 200, 250);\"></td><td title=\"Index: [2, 4]&#10;Color: (0, 200, 250)\" style=\"width: 20px; height: 20px;background-color: rgb(0, 200, 250);\"></td><td title=\"Index: [2, 5]&#10;Color: (0, 200, 250)\" style=\"width: 20px; height: 20px;background-color: rgb(0, 200, 250);\"></td><td title=\"Index: [2, 6]&#10;Color: (255, 0, 0)\" style=\"width: 20px; height: 20px;background-color: rgb(255, 0, 0);\"></td></tr><tr><td title=\"Index: [3, 0]&#10;Color: (255, 0, 0)\" style=\"width: 20px; height: 20px;background-color: rgb(255, 0, 0);\"></td><td title=\"Index: [3, 1]&#10;Color: (253, 208, 23)\" style=\"width: 20px; height: 20px;background-color: rgb(253, 208, 23);\"></td><td title=\"Index: [3, 2]&#10;Color: (0, 0, 0)\" style=\"width: 20px; height: 20px;background-color: rgb(0, 0, 0);\"></td><td title=\"Index: [3, 3]&#10;Color: (0, 200, 250)\" style=\"width: 20px; height: 20px;background-color: rgb(0, 200, 250);\"></td><td title=\"Index: [3, 4]&#10;Color: (0, 200, 250)\" style=\"width: 20px; height: 20px;background-color: rgb(0, 200, 250);\"></td><td title=\"Index: [3, 5]&#10;Color: (0, 200, 250)\" style=\"width: 20px; height: 20px;background-color: rgb(0, 200, 250);\"></td><td title=\"Index: [3, 6]&#10;Color: (255, 0, 0)\" style=\"width: 20px; height: 20px;background-color: rgb(255, 0, 0);\"></td></tr><tr><td title=\"Index: [4, 0]&#10;Color: (255, 0, 0)\" style=\"width: 20px; height: 20px;background-color: rgb(255, 0, 0);\"></td><td title=\"Index: [4, 1]&#10;Color: (255, 0, 255)\" style=\"width: 20px; height: 20px;background-color: rgb(255, 0, 255);\"></td><td title=\"Index: [4, 2]&#10;Color: (0, 0, 255)\" style=\"width: 20px; height: 20px;background-color: rgb(0, 0, 255);\"></td><td title=\"Index: [4, 3]&#10;Color: (0, 200, 250)\" style=\"width: 20px; height: 20px;background-color: rgb(0, 200, 250);\"></td><td title=\"Index: [4, 4]&#10;Color: (0, 200, 250)\" style=\"width: 20px; height: 20px;background-color: rgb(0, 200, 250);\"></td><td title=\"Index: [4, 5]&#10;Color: (0, 200, 250)\" style=\"width: 20px; height: 20px;background-color: rgb(0, 200, 250);\"></td><td title=\"Index: [4, 6]&#10;Color: (255, 0, 0)\" style=\"width: 20px; height: 20px;background-color: rgb(255, 0, 0);\"></td></tr><tr><td title=\"Index: [5, 0]&#10;Color: (255, 0, 0)\" style=\"width: 20px; height: 20px;background-color: rgb(255, 0, 0);\"></td><td title=\"Index: [5, 1]&#10;Color: (128, 0, 128)\" style=\"width: 20px; height: 20px;background-color: rgb(128, 0, 128);\"></td><td title=\"Index: [5, 2]&#10;Color: (123, 234, 123)\" style=\"width: 20px; height: 20px;background-color: rgb(123, 234, 123);\"></td><td title=\"Index: [5, 3]&#10;Color: (123, 234, 123)\" style=\"width: 20px; height: 20px;background-color: rgb(123, 234, 123);\"></td><td title=\"Index: [5, 4]&#10;Color: (123, 234, 123)\" style=\"width: 20px; height: 20px;background-color: rgb(123, 234, 123);\"></td><td title=\"Index: [5, 5]&#10;Color: (123, 234, 123)\" style=\"width: 20px; height: 20px;background-color: rgb(123, 234, 123);\"></td><td title=\"Index: [5, 6]&#10;Color: (255, 0, 0)\" style=\"width: 20px; height: 20px;background-color: rgb(255, 0, 0);\"></td></tr><tr><td title=\"Index: [6, 0]&#10;Color: (255, 0, 0)\" style=\"width: 20px; height: 20px;background-color: rgb(255, 0, 0);\"></td><td title=\"Index: [6, 1]&#10;Color: (255, 0, 0)\" style=\"width: 20px; height: 20px;background-color: rgb(255, 0, 0);\"></td><td title=\"Index: [6, 2]&#10;Color: (255, 0, 0)\" style=\"width: 20px; height: 20px;background-color: rgb(255, 0, 0);\"></td><td title=\"Index: [6, 3]&#10;Color: (255, 0, 0)\" style=\"width: 20px; height: 20px;background-color: rgb(255, 0, 0);\"></td><td title=\"Index: [6, 4]&#10;Color: (255, 0, 0)\" style=\"width: 20px; height: 20px;background-color: rgb(255, 0, 0);\"></td><td title=\"Index: [6, 5]&#10;Color: (255, 0, 0)\" style=\"width: 20px; height: 20px;background-color: rgb(255, 0, 0);\"></td><td title=\"Index: [6, 6]&#10;Color: (255, 0, 0)\" style=\"width: 20px; height: 20px;background-color: rgb(255, 0, 0);\"></td></tr></tbody></table>"
      ],
      "text/plain": [
       "<IPython.core.display.HTML object>"
      ]
     },
     "metadata": {},
     "output_type": "display_data"
    },
    {
     "name": "stdout",
     "output_type": "stream",
     "text": [
      "HaveGold  False\n",
      "Possiblemoves [['3', '5'], ['1', '3'], ['5', '5'], ['4', '5']]\n",
      "[<Breeze>, <Stench>]\n",
      "[<Breeze>, <Stench>]\n",
      "[None]\n",
      "[None]\n"
     ]
    },
    {
     "data": {
      "text/html": [
       "<style type=\"text/css\">table.blockgrid {border: none;} .blockgrid tr {border: none;} .blockgrid td {padding: 0px;} #blockscbaff27d-02f3-4617-abd6-275db56f00d4 td {border: 1px solid white;}</style><table id=\"blockscbaff27d-02f3-4617-abd6-275db56f00d4\" class=\"blockgrid\"><tbody><tr><td title=\"Index: [0, 0]&#10;Color: (255, 0, 0)\" style=\"width: 20px; height: 20px;background-color: rgb(255, 0, 0);\"></td><td title=\"Index: [0, 1]&#10;Color: (255, 0, 0)\" style=\"width: 20px; height: 20px;background-color: rgb(255, 0, 0);\"></td><td title=\"Index: [0, 2]&#10;Color: (255, 0, 0)\" style=\"width: 20px; height: 20px;background-color: rgb(255, 0, 0);\"></td><td title=\"Index: [0, 3]&#10;Color: (255, 0, 0)\" style=\"width: 20px; height: 20px;background-color: rgb(255, 0, 0);\"></td><td title=\"Index: [0, 4]&#10;Color: (255, 0, 0)\" style=\"width: 20px; height: 20px;background-color: rgb(255, 0, 0);\"></td><td title=\"Index: [0, 5]&#10;Color: (255, 0, 0)\" style=\"width: 20px; height: 20px;background-color: rgb(255, 0, 0);\"></td><td title=\"Index: [0, 6]&#10;Color: (255, 0, 0)\" style=\"width: 20px; height: 20px;background-color: rgb(255, 0, 0);\"></td></tr><tr><td title=\"Index: [1, 0]&#10;Color: (255, 0, 0)\" style=\"width: 20px; height: 20px;background-color: rgb(255, 0, 0);\"></td><td title=\"Index: [1, 1]&#10;Color: (0, 200, 250)\" style=\"width: 20px; height: 20px;background-color: rgb(0, 200, 250);\"></td><td title=\"Index: [1, 2]&#10;Color: (0, 200, 250)\" style=\"width: 20px; height: 20px;background-color: rgb(0, 200, 250);\"></td><td title=\"Index: [1, 3]&#10;Color: (0, 200, 250)\" style=\"width: 20px; height: 20px;background-color: rgb(0, 200, 250);\"></td><td title=\"Index: [1, 4]&#10;Color: (0, 200, 250)\" style=\"width: 20px; height: 20px;background-color: rgb(0, 200, 250);\"></td><td title=\"Index: [1, 5]&#10;Color: (0, 200, 250)\" style=\"width: 20px; height: 20px;background-color: rgb(0, 200, 250);\"></td><td title=\"Index: [1, 6]&#10;Color: (255, 0, 0)\" style=\"width: 20px; height: 20px;background-color: rgb(255, 0, 0);\"></td></tr><tr><td title=\"Index: [2, 0]&#10;Color: (255, 0, 0)\" style=\"width: 20px; height: 20px;background-color: rgb(255, 0, 0);\"></td><td title=\"Index: [2, 1]&#10;Color: (0, 200, 250)\" style=\"width: 20px; height: 20px;background-color: rgb(0, 200, 250);\"></td><td title=\"Index: [2, 2]&#10;Color: (0, 200, 250)\" style=\"width: 20px; height: 20px;background-color: rgb(0, 200, 250);\"></td><td title=\"Index: [2, 3]&#10;Color: (0, 200, 250)\" style=\"width: 20px; height: 20px;background-color: rgb(0, 200, 250);\"></td><td title=\"Index: [2, 4]&#10;Color: (0, 200, 250)\" style=\"width: 20px; height: 20px;background-color: rgb(0, 200, 250);\"></td><td title=\"Index: [2, 5]&#10;Color: (0, 200, 250)\" style=\"width: 20px; height: 20px;background-color: rgb(0, 200, 250);\"></td><td title=\"Index: [2, 6]&#10;Color: (255, 0, 0)\" style=\"width: 20px; height: 20px;background-color: rgb(255, 0, 0);\"></td></tr><tr><td title=\"Index: [3, 0]&#10;Color: (255, 0, 0)\" style=\"width: 20px; height: 20px;background-color: rgb(255, 0, 0);\"></td><td title=\"Index: [3, 1]&#10;Color: (253, 208, 23)\" style=\"width: 20px; height: 20px;background-color: rgb(253, 208, 23);\"></td><td title=\"Index: [3, 2]&#10;Color: (0, 0, 0)\" style=\"width: 20px; height: 20px;background-color: rgb(0, 0, 0);\"></td><td title=\"Index: [3, 3]&#10;Color: (0, 200, 250)\" style=\"width: 20px; height: 20px;background-color: rgb(0, 200, 250);\"></td><td title=\"Index: [3, 4]&#10;Color: (0, 200, 250)\" style=\"width: 20px; height: 20px;background-color: rgb(0, 200, 250);\"></td><td title=\"Index: [3, 5]&#10;Color: (0, 200, 250)\" style=\"width: 20px; height: 20px;background-color: rgb(0, 200, 250);\"></td><td title=\"Index: [3, 6]&#10;Color: (255, 0, 0)\" style=\"width: 20px; height: 20px;background-color: rgb(255, 0, 0);\"></td></tr><tr><td title=\"Index: [4, 0]&#10;Color: (255, 0, 0)\" style=\"width: 20px; height: 20px;background-color: rgb(255, 0, 0);\"></td><td title=\"Index: [4, 1]&#10;Color: (255, 0, 255)\" style=\"width: 20px; height: 20px;background-color: rgb(255, 0, 255);\"></td><td title=\"Index: [4, 2]&#10;Color: (0, 200, 250)\" style=\"width: 20px; height: 20px;background-color: rgb(0, 200, 250);\"></td><td title=\"Index: [4, 3]&#10;Color: (0, 0, 255)\" style=\"width: 20px; height: 20px;background-color: rgb(0, 0, 255);\"></td><td title=\"Index: [4, 4]&#10;Color: (0, 200, 250)\" style=\"width: 20px; height: 20px;background-color: rgb(0, 200, 250);\"></td><td title=\"Index: [4, 5]&#10;Color: (0, 200, 250)\" style=\"width: 20px; height: 20px;background-color: rgb(0, 200, 250);\"></td><td title=\"Index: [4, 6]&#10;Color: (255, 0, 0)\" style=\"width: 20px; height: 20px;background-color: rgb(255, 0, 0);\"></td></tr><tr><td title=\"Index: [5, 0]&#10;Color: (255, 0, 0)\" style=\"width: 20px; height: 20px;background-color: rgb(255, 0, 0);\"></td><td title=\"Index: [5, 1]&#10;Color: (128, 0, 128)\" style=\"width: 20px; height: 20px;background-color: rgb(128, 0, 128);\"></td><td title=\"Index: [5, 2]&#10;Color: (123, 234, 123)\" style=\"width: 20px; height: 20px;background-color: rgb(123, 234, 123);\"></td><td title=\"Index: [5, 3]&#10;Color: (123, 234, 123)\" style=\"width: 20px; height: 20px;background-color: rgb(123, 234, 123);\"></td><td title=\"Index: [5, 4]&#10;Color: (123, 234, 123)\" style=\"width: 20px; height: 20px;background-color: rgb(123, 234, 123);\"></td><td title=\"Index: [5, 5]&#10;Color: (123, 234, 123)\" style=\"width: 20px; height: 20px;background-color: rgb(123, 234, 123);\"></td><td title=\"Index: [5, 6]&#10;Color: (255, 0, 0)\" style=\"width: 20px; height: 20px;background-color: rgb(255, 0, 0);\"></td></tr><tr><td title=\"Index: [6, 0]&#10;Color: (255, 0, 0)\" style=\"width: 20px; height: 20px;background-color: rgb(255, 0, 0);\"></td><td title=\"Index: [6, 1]&#10;Color: (255, 0, 0)\" style=\"width: 20px; height: 20px;background-color: rgb(255, 0, 0);\"></td><td title=\"Index: [6, 2]&#10;Color: (255, 0, 0)\" style=\"width: 20px; height: 20px;background-color: rgb(255, 0, 0);\"></td><td title=\"Index: [6, 3]&#10;Color: (255, 0, 0)\" style=\"width: 20px; height: 20px;background-color: rgb(255, 0, 0);\"></td><td title=\"Index: [6, 4]&#10;Color: (255, 0, 0)\" style=\"width: 20px; height: 20px;background-color: rgb(255, 0, 0);\"></td><td title=\"Index: [6, 5]&#10;Color: (255, 0, 0)\" style=\"width: 20px; height: 20px;background-color: rgb(255, 0, 0);\"></td><td title=\"Index: [6, 6]&#10;Color: (255, 0, 0)\" style=\"width: 20px; height: 20px;background-color: rgb(255, 0, 0);\"></td></tr></tbody></table>"
      ],
      "text/plain": [
       "<IPython.core.display.HTML object>"
      ]
     },
     "metadata": {},
     "output_type": "display_data"
    },
    {
     "name": "stdout",
     "output_type": "stream",
     "text": [
      "[None]\n",
      "[None]\n",
      "[None]\n"
     ]
    },
    {
     "data": {
      "text/html": [
       "<style type=\"text/css\">table.blockgrid {border: none;} .blockgrid tr {border: none;} .blockgrid td {padding: 0px;} #blocks3597f50f-7bfa-4551-9be5-ec51bf18b389 td {border: 1px solid white;}</style><table id=\"blocks3597f50f-7bfa-4551-9be5-ec51bf18b389\" class=\"blockgrid\"><tbody><tr><td title=\"Index: [0, 0]&#10;Color: (255, 0, 0)\" style=\"width: 20px; height: 20px;background-color: rgb(255, 0, 0);\"></td><td title=\"Index: [0, 1]&#10;Color: (255, 0, 0)\" style=\"width: 20px; height: 20px;background-color: rgb(255, 0, 0);\"></td><td title=\"Index: [0, 2]&#10;Color: (255, 0, 0)\" style=\"width: 20px; height: 20px;background-color: rgb(255, 0, 0);\"></td><td title=\"Index: [0, 3]&#10;Color: (255, 0, 0)\" style=\"width: 20px; height: 20px;background-color: rgb(255, 0, 0);\"></td><td title=\"Index: [0, 4]&#10;Color: (255, 0, 0)\" style=\"width: 20px; height: 20px;background-color: rgb(255, 0, 0);\"></td><td title=\"Index: [0, 5]&#10;Color: (255, 0, 0)\" style=\"width: 20px; height: 20px;background-color: rgb(255, 0, 0);\"></td><td title=\"Index: [0, 6]&#10;Color: (255, 0, 0)\" style=\"width: 20px; height: 20px;background-color: rgb(255, 0, 0);\"></td></tr><tr><td title=\"Index: [1, 0]&#10;Color: (255, 0, 0)\" style=\"width: 20px; height: 20px;background-color: rgb(255, 0, 0);\"></td><td title=\"Index: [1, 1]&#10;Color: (0, 200, 250)\" style=\"width: 20px; height: 20px;background-color: rgb(0, 200, 250);\"></td><td title=\"Index: [1, 2]&#10;Color: (0, 200, 250)\" style=\"width: 20px; height: 20px;background-color: rgb(0, 200, 250);\"></td><td title=\"Index: [1, 3]&#10;Color: (0, 200, 250)\" style=\"width: 20px; height: 20px;background-color: rgb(0, 200, 250);\"></td><td title=\"Index: [1, 4]&#10;Color: (0, 200, 250)\" style=\"width: 20px; height: 20px;background-color: rgb(0, 200, 250);\"></td><td title=\"Index: [1, 5]&#10;Color: (0, 200, 250)\" style=\"width: 20px; height: 20px;background-color: rgb(0, 200, 250);\"></td><td title=\"Index: [1, 6]&#10;Color: (255, 0, 0)\" style=\"width: 20px; height: 20px;background-color: rgb(255, 0, 0);\"></td></tr><tr><td title=\"Index: [2, 0]&#10;Color: (255, 0, 0)\" style=\"width: 20px; height: 20px;background-color: rgb(255, 0, 0);\"></td><td title=\"Index: [2, 1]&#10;Color: (0, 200, 250)\" style=\"width: 20px; height: 20px;background-color: rgb(0, 200, 250);\"></td><td title=\"Index: [2, 2]&#10;Color: (0, 200, 250)\" style=\"width: 20px; height: 20px;background-color: rgb(0, 200, 250);\"></td><td title=\"Index: [2, 3]&#10;Color: (0, 200, 250)\" style=\"width: 20px; height: 20px;background-color: rgb(0, 200, 250);\"></td><td title=\"Index: [2, 4]&#10;Color: (0, 200, 250)\" style=\"width: 20px; height: 20px;background-color: rgb(0, 200, 250);\"></td><td title=\"Index: [2, 5]&#10;Color: (0, 200, 250)\" style=\"width: 20px; height: 20px;background-color: rgb(0, 200, 250);\"></td><td title=\"Index: [2, 6]&#10;Color: (255, 0, 0)\" style=\"width: 20px; height: 20px;background-color: rgb(255, 0, 0);\"></td></tr><tr><td title=\"Index: [3, 0]&#10;Color: (255, 0, 0)\" style=\"width: 20px; height: 20px;background-color: rgb(255, 0, 0);\"></td><td title=\"Index: [3, 1]&#10;Color: (253, 208, 23)\" style=\"width: 20px; height: 20px;background-color: rgb(253, 208, 23);\"></td><td title=\"Index: [3, 2]&#10;Color: (0, 0, 0)\" style=\"width: 20px; height: 20px;background-color: rgb(0, 0, 0);\"></td><td title=\"Index: [3, 3]&#10;Color: (0, 200, 250)\" style=\"width: 20px; height: 20px;background-color: rgb(0, 200, 250);\"></td><td title=\"Index: [3, 4]&#10;Color: (0, 200, 250)\" style=\"width: 20px; height: 20px;background-color: rgb(0, 200, 250);\"></td><td title=\"Index: [3, 5]&#10;Color: (0, 200, 250)\" style=\"width: 20px; height: 20px;background-color: rgb(0, 200, 250);\"></td><td title=\"Index: [3, 6]&#10;Color: (255, 0, 0)\" style=\"width: 20px; height: 20px;background-color: rgb(255, 0, 0);\"></td></tr><tr><td title=\"Index: [4, 0]&#10;Color: (255, 0, 0)\" style=\"width: 20px; height: 20px;background-color: rgb(255, 0, 0);\"></td><td title=\"Index: [4, 1]&#10;Color: (255, 0, 255)\" style=\"width: 20px; height: 20px;background-color: rgb(255, 0, 255);\"></td><td title=\"Index: [4, 2]&#10;Color: (0, 200, 250)\" style=\"width: 20px; height: 20px;background-color: rgb(0, 200, 250);\"></td><td title=\"Index: [4, 3]&#10;Color: (0, 200, 250)\" style=\"width: 20px; height: 20px;background-color: rgb(0, 200, 250);\"></td><td title=\"Index: [4, 4]&#10;Color: (0, 200, 250)\" style=\"width: 20px; height: 20px;background-color: rgb(0, 200, 250);\"></td><td title=\"Index: [4, 5]&#10;Color: (0, 200, 250)\" style=\"width: 20px; height: 20px;background-color: rgb(0, 200, 250);\"></td><td title=\"Index: [4, 6]&#10;Color: (255, 0, 0)\" style=\"width: 20px; height: 20px;background-color: rgb(255, 0, 0);\"></td></tr><tr><td title=\"Index: [5, 0]&#10;Color: (255, 0, 0)\" style=\"width: 20px; height: 20px;background-color: rgb(255, 0, 0);\"></td><td title=\"Index: [5, 1]&#10;Color: (128, 0, 128)\" style=\"width: 20px; height: 20px;background-color: rgb(128, 0, 128);\"></td><td title=\"Index: [5, 2]&#10;Color: (123, 234, 123)\" style=\"width: 20px; height: 20px;background-color: rgb(123, 234, 123);\"></td><td title=\"Index: [5, 3]&#10;Color: (0, 0, 255)\" style=\"width: 20px; height: 20px;background-color: rgb(0, 0, 255);\"></td><td title=\"Index: [5, 4]&#10;Color: (123, 234, 123)\" style=\"width: 20px; height: 20px;background-color: rgb(123, 234, 123);\"></td><td title=\"Index: [5, 5]&#10;Color: (123, 234, 123)\" style=\"width: 20px; height: 20px;background-color: rgb(123, 234, 123);\"></td><td title=\"Index: [5, 6]&#10;Color: (255, 0, 0)\" style=\"width: 20px; height: 20px;background-color: rgb(255, 0, 0);\"></td></tr><tr><td title=\"Index: [6, 0]&#10;Color: (255, 0, 0)\" style=\"width: 20px; height: 20px;background-color: rgb(255, 0, 0);\"></td><td title=\"Index: [6, 1]&#10;Color: (255, 0, 0)\" style=\"width: 20px; height: 20px;background-color: rgb(255, 0, 0);\"></td><td title=\"Index: [6, 2]&#10;Color: (255, 0, 0)\" style=\"width: 20px; height: 20px;background-color: rgb(255, 0, 0);\"></td><td title=\"Index: [6, 3]&#10;Color: (255, 0, 0)\" style=\"width: 20px; height: 20px;background-color: rgb(255, 0, 0);\"></td><td title=\"Index: [6, 4]&#10;Color: (255, 0, 0)\" style=\"width: 20px; height: 20px;background-color: rgb(255, 0, 0);\"></td><td title=\"Index: [6, 5]&#10;Color: (255, 0, 0)\" style=\"width: 20px; height: 20px;background-color: rgb(255, 0, 0);\"></td><td title=\"Index: [6, 6]&#10;Color: (255, 0, 0)\" style=\"width: 20px; height: 20px;background-color: rgb(255, 0, 0);\"></td></tr></tbody></table>"
      ],
      "text/plain": [
       "<IPython.core.display.HTML object>"
      ]
     },
     "metadata": {},
     "output_type": "display_data"
    },
    {
     "name": "stdout",
     "output_type": "stream",
     "text": [
      "HaveGold  False\n",
      "Possiblemoves [['4', '5'], ['5', '5'], ['1', '3'], ['2', '5']]\n",
      "[None]\n",
      "[None]\n"
     ]
    },
    {
     "data": {
      "text/html": [
       "<style type=\"text/css\">table.blockgrid {border: none;} .blockgrid tr {border: none;} .blockgrid td {padding: 0px;} #blocks7afe0b5d-c455-4284-a3a1-1ec9c16df936 td {border: 1px solid white;}</style><table id=\"blocks7afe0b5d-c455-4284-a3a1-1ec9c16df936\" class=\"blockgrid\"><tbody><tr><td title=\"Index: [0, 0]&#10;Color: (255, 0, 0)\" style=\"width: 20px; height: 20px;background-color: rgb(255, 0, 0);\"></td><td title=\"Index: [0, 1]&#10;Color: (255, 0, 0)\" style=\"width: 20px; height: 20px;background-color: rgb(255, 0, 0);\"></td><td title=\"Index: [0, 2]&#10;Color: (255, 0, 0)\" style=\"width: 20px; height: 20px;background-color: rgb(255, 0, 0);\"></td><td title=\"Index: [0, 3]&#10;Color: (255, 0, 0)\" style=\"width: 20px; height: 20px;background-color: rgb(255, 0, 0);\"></td><td title=\"Index: [0, 4]&#10;Color: (255, 0, 0)\" style=\"width: 20px; height: 20px;background-color: rgb(255, 0, 0);\"></td><td title=\"Index: [0, 5]&#10;Color: (255, 0, 0)\" style=\"width: 20px; height: 20px;background-color: rgb(255, 0, 0);\"></td><td title=\"Index: [0, 6]&#10;Color: (255, 0, 0)\" style=\"width: 20px; height: 20px;background-color: rgb(255, 0, 0);\"></td></tr><tr><td title=\"Index: [1, 0]&#10;Color: (255, 0, 0)\" style=\"width: 20px; height: 20px;background-color: rgb(255, 0, 0);\"></td><td title=\"Index: [1, 1]&#10;Color: (0, 200, 250)\" style=\"width: 20px; height: 20px;background-color: rgb(0, 200, 250);\"></td><td title=\"Index: [1, 2]&#10;Color: (0, 200, 250)\" style=\"width: 20px; height: 20px;background-color: rgb(0, 200, 250);\"></td><td title=\"Index: [1, 3]&#10;Color: (0, 200, 250)\" style=\"width: 20px; height: 20px;background-color: rgb(0, 200, 250);\"></td><td title=\"Index: [1, 4]&#10;Color: (0, 200, 250)\" style=\"width: 20px; height: 20px;background-color: rgb(0, 200, 250);\"></td><td title=\"Index: [1, 5]&#10;Color: (0, 200, 250)\" style=\"width: 20px; height: 20px;background-color: rgb(0, 200, 250);\"></td><td title=\"Index: [1, 6]&#10;Color: (255, 0, 0)\" style=\"width: 20px; height: 20px;background-color: rgb(255, 0, 0);\"></td></tr><tr><td title=\"Index: [2, 0]&#10;Color: (255, 0, 0)\" style=\"width: 20px; height: 20px;background-color: rgb(255, 0, 0);\"></td><td title=\"Index: [2, 1]&#10;Color: (0, 200, 250)\" style=\"width: 20px; height: 20px;background-color: rgb(0, 200, 250);\"></td><td title=\"Index: [2, 2]&#10;Color: (0, 200, 250)\" style=\"width: 20px; height: 20px;background-color: rgb(0, 200, 250);\"></td><td title=\"Index: [2, 3]&#10;Color: (0, 200, 250)\" style=\"width: 20px; height: 20px;background-color: rgb(0, 200, 250);\"></td><td title=\"Index: [2, 4]&#10;Color: (0, 200, 250)\" style=\"width: 20px; height: 20px;background-color: rgb(0, 200, 250);\"></td><td title=\"Index: [2, 5]&#10;Color: (0, 200, 250)\" style=\"width: 20px; height: 20px;background-color: rgb(0, 200, 250);\"></td><td title=\"Index: [2, 6]&#10;Color: (255, 0, 0)\" style=\"width: 20px; height: 20px;background-color: rgb(255, 0, 0);\"></td></tr><tr><td title=\"Index: [3, 0]&#10;Color: (255, 0, 0)\" style=\"width: 20px; height: 20px;background-color: rgb(255, 0, 0);\"></td><td title=\"Index: [3, 1]&#10;Color: (253, 208, 23)\" style=\"width: 20px; height: 20px;background-color: rgb(253, 208, 23);\"></td><td title=\"Index: [3, 2]&#10;Color: (0, 0, 0)\" style=\"width: 20px; height: 20px;background-color: rgb(0, 0, 0);\"></td><td title=\"Index: [3, 3]&#10;Color: (0, 200, 250)\" style=\"width: 20px; height: 20px;background-color: rgb(0, 200, 250);\"></td><td title=\"Index: [3, 4]&#10;Color: (0, 200, 250)\" style=\"width: 20px; height: 20px;background-color: rgb(0, 200, 250);\"></td><td title=\"Index: [3, 5]&#10;Color: (0, 200, 250)\" style=\"width: 20px; height: 20px;background-color: rgb(0, 200, 250);\"></td><td title=\"Index: [3, 6]&#10;Color: (255, 0, 0)\" style=\"width: 20px; height: 20px;background-color: rgb(255, 0, 0);\"></td></tr><tr><td title=\"Index: [4, 0]&#10;Color: (255, 0, 0)\" style=\"width: 20px; height: 20px;background-color: rgb(255, 0, 0);\"></td><td title=\"Index: [4, 1]&#10;Color: (255, 0, 255)\" style=\"width: 20px; height: 20px;background-color: rgb(255, 0, 255);\"></td><td title=\"Index: [4, 2]&#10;Color: (0, 200, 250)\" style=\"width: 20px; height: 20px;background-color: rgb(0, 200, 250);\"></td><td title=\"Index: [4, 3]&#10;Color: (0, 200, 250)\" style=\"width: 20px; height: 20px;background-color: rgb(0, 200, 250);\"></td><td title=\"Index: [4, 4]&#10;Color: (0, 200, 250)\" style=\"width: 20px; height: 20px;background-color: rgb(0, 200, 250);\"></td><td title=\"Index: [4, 5]&#10;Color: (0, 200, 250)\" style=\"width: 20px; height: 20px;background-color: rgb(0, 200, 250);\"></td><td title=\"Index: [4, 6]&#10;Color: (255, 0, 0)\" style=\"width: 20px; height: 20px;background-color: rgb(255, 0, 0);\"></td></tr><tr><td title=\"Index: [5, 0]&#10;Color: (255, 0, 0)\" style=\"width: 20px; height: 20px;background-color: rgb(255, 0, 0);\"></td><td title=\"Index: [5, 1]&#10;Color: (128, 0, 128)\" style=\"width: 20px; height: 20px;background-color: rgb(128, 0, 128);\"></td><td title=\"Index: [5, 2]&#10;Color: (123, 234, 123)\" style=\"width: 20px; height: 20px;background-color: rgb(123, 234, 123);\"></td><td title=\"Index: [5, 3]&#10;Color: (0, 200, 250)\" style=\"width: 20px; height: 20px;background-color: rgb(0, 200, 250);\"></td><td title=\"Index: [5, 4]&#10;Color: (0, 0, 255)\" style=\"width: 20px; height: 20px;background-color: rgb(0, 0, 255);\"></td><td title=\"Index: [5, 5]&#10;Color: (123, 234, 123)\" style=\"width: 20px; height: 20px;background-color: rgb(123, 234, 123);\"></td><td title=\"Index: [5, 6]&#10;Color: (255, 0, 0)\" style=\"width: 20px; height: 20px;background-color: rgb(255, 0, 0);\"></td></tr><tr><td title=\"Index: [6, 0]&#10;Color: (255, 0, 0)\" style=\"width: 20px; height: 20px;background-color: rgb(255, 0, 0);\"></td><td title=\"Index: [6, 1]&#10;Color: (255, 0, 0)\" style=\"width: 20px; height: 20px;background-color: rgb(255, 0, 0);\"></td><td title=\"Index: [6, 2]&#10;Color: (255, 0, 0)\" style=\"width: 20px; height: 20px;background-color: rgb(255, 0, 0);\"></td><td title=\"Index: [6, 3]&#10;Color: (255, 0, 0)\" style=\"width: 20px; height: 20px;background-color: rgb(255, 0, 0);\"></td><td title=\"Index: [6, 4]&#10;Color: (255, 0, 0)\" style=\"width: 20px; height: 20px;background-color: rgb(255, 0, 0);\"></td><td title=\"Index: [6, 5]&#10;Color: (255, 0, 0)\" style=\"width: 20px; height: 20px;background-color: rgb(255, 0, 0);\"></td><td title=\"Index: [6, 6]&#10;Color: (255, 0, 0)\" style=\"width: 20px; height: 20px;background-color: rgb(255, 0, 0);\"></td></tr></tbody></table>"
      ],
      "text/plain": [
       "<IPython.core.display.HTML object>"
      ]
     },
     "metadata": {},
     "output_type": "display_data"
    },
    {
     "name": "stdout",
     "output_type": "stream",
     "text": [
      "HaveGold  False\n",
      "Possiblemoves [['5', '5'], ['1', '3'], ['2', '5']]\n",
      "[None]\n"
     ]
    },
    {
     "data": {
      "text/html": [
       "<style type=\"text/css\">table.blockgrid {border: none;} .blockgrid tr {border: none;} .blockgrid td {padding: 0px;} #blocksee18ca05-19c0-4bdc-b7b5-b1b203df3da1 td {border: 1px solid white;}</style><table id=\"blocksee18ca05-19c0-4bdc-b7b5-b1b203df3da1\" class=\"blockgrid\"><tbody><tr><td title=\"Index: [0, 0]&#10;Color: (255, 0, 0)\" style=\"width: 20px; height: 20px;background-color: rgb(255, 0, 0);\"></td><td title=\"Index: [0, 1]&#10;Color: (255, 0, 0)\" style=\"width: 20px; height: 20px;background-color: rgb(255, 0, 0);\"></td><td title=\"Index: [0, 2]&#10;Color: (255, 0, 0)\" style=\"width: 20px; height: 20px;background-color: rgb(255, 0, 0);\"></td><td title=\"Index: [0, 3]&#10;Color: (255, 0, 0)\" style=\"width: 20px; height: 20px;background-color: rgb(255, 0, 0);\"></td><td title=\"Index: [0, 4]&#10;Color: (255, 0, 0)\" style=\"width: 20px; height: 20px;background-color: rgb(255, 0, 0);\"></td><td title=\"Index: [0, 5]&#10;Color: (255, 0, 0)\" style=\"width: 20px; height: 20px;background-color: rgb(255, 0, 0);\"></td><td title=\"Index: [0, 6]&#10;Color: (255, 0, 0)\" style=\"width: 20px; height: 20px;background-color: rgb(255, 0, 0);\"></td></tr><tr><td title=\"Index: [1, 0]&#10;Color: (255, 0, 0)\" style=\"width: 20px; height: 20px;background-color: rgb(255, 0, 0);\"></td><td title=\"Index: [1, 1]&#10;Color: (0, 200, 250)\" style=\"width: 20px; height: 20px;background-color: rgb(0, 200, 250);\"></td><td title=\"Index: [1, 2]&#10;Color: (0, 200, 250)\" style=\"width: 20px; height: 20px;background-color: rgb(0, 200, 250);\"></td><td title=\"Index: [1, 3]&#10;Color: (0, 200, 250)\" style=\"width: 20px; height: 20px;background-color: rgb(0, 200, 250);\"></td><td title=\"Index: [1, 4]&#10;Color: (0, 200, 250)\" style=\"width: 20px; height: 20px;background-color: rgb(0, 200, 250);\"></td><td title=\"Index: [1, 5]&#10;Color: (0, 200, 250)\" style=\"width: 20px; height: 20px;background-color: rgb(0, 200, 250);\"></td><td title=\"Index: [1, 6]&#10;Color: (255, 0, 0)\" style=\"width: 20px; height: 20px;background-color: rgb(255, 0, 0);\"></td></tr><tr><td title=\"Index: [2, 0]&#10;Color: (255, 0, 0)\" style=\"width: 20px; height: 20px;background-color: rgb(255, 0, 0);\"></td><td title=\"Index: [2, 1]&#10;Color: (0, 200, 250)\" style=\"width: 20px; height: 20px;background-color: rgb(0, 200, 250);\"></td><td title=\"Index: [2, 2]&#10;Color: (0, 200, 250)\" style=\"width: 20px; height: 20px;background-color: rgb(0, 200, 250);\"></td><td title=\"Index: [2, 3]&#10;Color: (0, 200, 250)\" style=\"width: 20px; height: 20px;background-color: rgb(0, 200, 250);\"></td><td title=\"Index: [2, 4]&#10;Color: (0, 200, 250)\" style=\"width: 20px; height: 20px;background-color: rgb(0, 200, 250);\"></td><td title=\"Index: [2, 5]&#10;Color: (0, 200, 250)\" style=\"width: 20px; height: 20px;background-color: rgb(0, 200, 250);\"></td><td title=\"Index: [2, 6]&#10;Color: (255, 0, 0)\" style=\"width: 20px; height: 20px;background-color: rgb(255, 0, 0);\"></td></tr><tr><td title=\"Index: [3, 0]&#10;Color: (255, 0, 0)\" style=\"width: 20px; height: 20px;background-color: rgb(255, 0, 0);\"></td><td title=\"Index: [3, 1]&#10;Color: (253, 208, 23)\" style=\"width: 20px; height: 20px;background-color: rgb(253, 208, 23);\"></td><td title=\"Index: [3, 2]&#10;Color: (0, 0, 0)\" style=\"width: 20px; height: 20px;background-color: rgb(0, 0, 0);\"></td><td title=\"Index: [3, 3]&#10;Color: (0, 200, 250)\" style=\"width: 20px; height: 20px;background-color: rgb(0, 200, 250);\"></td><td title=\"Index: [3, 4]&#10;Color: (0, 200, 250)\" style=\"width: 20px; height: 20px;background-color: rgb(0, 200, 250);\"></td><td title=\"Index: [3, 5]&#10;Color: (0, 200, 250)\" style=\"width: 20px; height: 20px;background-color: rgb(0, 200, 250);\"></td><td title=\"Index: [3, 6]&#10;Color: (255, 0, 0)\" style=\"width: 20px; height: 20px;background-color: rgb(255, 0, 0);\"></td></tr><tr><td title=\"Index: [4, 0]&#10;Color: (255, 0, 0)\" style=\"width: 20px; height: 20px;background-color: rgb(255, 0, 0);\"></td><td title=\"Index: [4, 1]&#10;Color: (255, 0, 255)\" style=\"width: 20px; height: 20px;background-color: rgb(255, 0, 255);\"></td><td title=\"Index: [4, 2]&#10;Color: (0, 200, 250)\" style=\"width: 20px; height: 20px;background-color: rgb(0, 200, 250);\"></td><td title=\"Index: [4, 3]&#10;Color: (0, 200, 250)\" style=\"width: 20px; height: 20px;background-color: rgb(0, 200, 250);\"></td><td title=\"Index: [4, 4]&#10;Color: (0, 200, 250)\" style=\"width: 20px; height: 20px;background-color: rgb(0, 200, 250);\"></td><td title=\"Index: [4, 5]&#10;Color: (0, 200, 250)\" style=\"width: 20px; height: 20px;background-color: rgb(0, 200, 250);\"></td><td title=\"Index: [4, 6]&#10;Color: (255, 0, 0)\" style=\"width: 20px; height: 20px;background-color: rgb(255, 0, 0);\"></td></tr><tr><td title=\"Index: [5, 0]&#10;Color: (255, 0, 0)\" style=\"width: 20px; height: 20px;background-color: rgb(255, 0, 0);\"></td><td title=\"Index: [5, 1]&#10;Color: (128, 0, 128)\" style=\"width: 20px; height: 20px;background-color: rgb(128, 0, 128);\"></td><td title=\"Index: [5, 2]&#10;Color: (123, 234, 123)\" style=\"width: 20px; height: 20px;background-color: rgb(123, 234, 123);\"></td><td title=\"Index: [5, 3]&#10;Color: (0, 200, 250)\" style=\"width: 20px; height: 20px;background-color: rgb(0, 200, 250);\"></td><td title=\"Index: [5, 4]&#10;Color: (0, 200, 250)\" style=\"width: 20px; height: 20px;background-color: rgb(0, 200, 250);\"></td><td title=\"Index: [5, 5]&#10;Color: (0, 0, 255)\" style=\"width: 20px; height: 20px;background-color: rgb(0, 0, 255);\"></td><td title=\"Index: [5, 6]&#10;Color: (255, 0, 0)\" style=\"width: 20px; height: 20px;background-color: rgb(255, 0, 0);\"></td></tr><tr><td title=\"Index: [6, 0]&#10;Color: (255, 0, 0)\" style=\"width: 20px; height: 20px;background-color: rgb(255, 0, 0);\"></td><td title=\"Index: [6, 1]&#10;Color: (255, 0, 0)\" style=\"width: 20px; height: 20px;background-color: rgb(255, 0, 0);\"></td><td title=\"Index: [6, 2]&#10;Color: (255, 0, 0)\" style=\"width: 20px; height: 20px;background-color: rgb(255, 0, 0);\"></td><td title=\"Index: [6, 3]&#10;Color: (255, 0, 0)\" style=\"width: 20px; height: 20px;background-color: rgb(255, 0, 0);\"></td><td title=\"Index: [6, 4]&#10;Color: (255, 0, 0)\" style=\"width: 20px; height: 20px;background-color: rgb(255, 0, 0);\"></td><td title=\"Index: [6, 5]&#10;Color: (255, 0, 0)\" style=\"width: 20px; height: 20px;background-color: rgb(255, 0, 0);\"></td><td title=\"Index: [6, 6]&#10;Color: (255, 0, 0)\" style=\"width: 20px; height: 20px;background-color: rgb(255, 0, 0);\"></td></tr></tbody></table>"
      ],
      "text/plain": [
       "<IPython.core.display.HTML object>"
      ]
     },
     "metadata": {},
     "output_type": "display_data"
    },
    {
     "name": "stdout",
     "output_type": "stream",
     "text": [
      "HaveGold  False\n",
      "Possiblemoves [['1', '3'], ['2', '5']]\n",
      "[None]\n",
      "[None]\n",
      "[None]\n",
      "[None]\n"
     ]
    },
    {
     "data": {
      "text/html": [
       "<style type=\"text/css\">table.blockgrid {border: none;} .blockgrid tr {border: none;} .blockgrid td {padding: 0px;} #blocks585ad39e-66a0-4cbe-8162-ae3df69250bc td {border: 1px solid white;}</style><table id=\"blocks585ad39e-66a0-4cbe-8162-ae3df69250bc\" class=\"blockgrid\"><tbody><tr><td title=\"Index: [0, 0]&#10;Color: (255, 0, 0)\" style=\"width: 20px; height: 20px;background-color: rgb(255, 0, 0);\"></td><td title=\"Index: [0, 1]&#10;Color: (255, 0, 0)\" style=\"width: 20px; height: 20px;background-color: rgb(255, 0, 0);\"></td><td title=\"Index: [0, 2]&#10;Color: (255, 0, 0)\" style=\"width: 20px; height: 20px;background-color: rgb(255, 0, 0);\"></td><td title=\"Index: [0, 3]&#10;Color: (255, 0, 0)\" style=\"width: 20px; height: 20px;background-color: rgb(255, 0, 0);\"></td><td title=\"Index: [0, 4]&#10;Color: (255, 0, 0)\" style=\"width: 20px; height: 20px;background-color: rgb(255, 0, 0);\"></td><td title=\"Index: [0, 5]&#10;Color: (255, 0, 0)\" style=\"width: 20px; height: 20px;background-color: rgb(255, 0, 0);\"></td><td title=\"Index: [0, 6]&#10;Color: (255, 0, 0)\" style=\"width: 20px; height: 20px;background-color: rgb(255, 0, 0);\"></td></tr><tr><td title=\"Index: [1, 0]&#10;Color: (255, 0, 0)\" style=\"width: 20px; height: 20px;background-color: rgb(255, 0, 0);\"></td><td title=\"Index: [1, 1]&#10;Color: (0, 200, 250)\" style=\"width: 20px; height: 20px;background-color: rgb(0, 200, 250);\"></td><td title=\"Index: [1, 2]&#10;Color: (0, 200, 250)\" style=\"width: 20px; height: 20px;background-color: rgb(0, 200, 250);\"></td><td title=\"Index: [1, 3]&#10;Color: (0, 200, 250)\" style=\"width: 20px; height: 20px;background-color: rgb(0, 200, 250);\"></td><td title=\"Index: [1, 4]&#10;Color: (0, 200, 250)\" style=\"width: 20px; height: 20px;background-color: rgb(0, 200, 250);\"></td><td title=\"Index: [1, 5]&#10;Color: (0, 200, 250)\" style=\"width: 20px; height: 20px;background-color: rgb(0, 200, 250);\"></td><td title=\"Index: [1, 6]&#10;Color: (255, 0, 0)\" style=\"width: 20px; height: 20px;background-color: rgb(255, 0, 0);\"></td></tr><tr><td title=\"Index: [2, 0]&#10;Color: (255, 0, 0)\" style=\"width: 20px; height: 20px;background-color: rgb(255, 0, 0);\"></td><td title=\"Index: [2, 1]&#10;Color: (0, 200, 250)\" style=\"width: 20px; height: 20px;background-color: rgb(0, 200, 250);\"></td><td title=\"Index: [2, 2]&#10;Color: (0, 200, 250)\" style=\"width: 20px; height: 20px;background-color: rgb(0, 200, 250);\"></td><td title=\"Index: [2, 3]&#10;Color: (0, 200, 250)\" style=\"width: 20px; height: 20px;background-color: rgb(0, 200, 250);\"></td><td title=\"Index: [2, 4]&#10;Color: (0, 200, 250)\" style=\"width: 20px; height: 20px;background-color: rgb(0, 200, 250);\"></td><td title=\"Index: [2, 5]&#10;Color: (0, 200, 250)\" style=\"width: 20px; height: 20px;background-color: rgb(0, 200, 250);\"></td><td title=\"Index: [2, 6]&#10;Color: (255, 0, 0)\" style=\"width: 20px; height: 20px;background-color: rgb(255, 0, 0);\"></td></tr><tr><td title=\"Index: [3, 0]&#10;Color: (255, 0, 0)\" style=\"width: 20px; height: 20px;background-color: rgb(255, 0, 0);\"></td><td title=\"Index: [3, 1]&#10;Color: (253, 208, 23)\" style=\"width: 20px; height: 20px;background-color: rgb(253, 208, 23);\"></td><td title=\"Index: [3, 2]&#10;Color: (0, 0, 0)\" style=\"width: 20px; height: 20px;background-color: rgb(0, 0, 0);\"></td><td title=\"Index: [3, 3]&#10;Color: (0, 200, 250)\" style=\"width: 20px; height: 20px;background-color: rgb(0, 200, 250);\"></td><td title=\"Index: [3, 4]&#10;Color: (0, 200, 250)\" style=\"width: 20px; height: 20px;background-color: rgb(0, 200, 250);\"></td><td title=\"Index: [3, 5]&#10;Color: (0, 200, 250)\" style=\"width: 20px; height: 20px;background-color: rgb(0, 200, 250);\"></td><td title=\"Index: [3, 6]&#10;Color: (255, 0, 0)\" style=\"width: 20px; height: 20px;background-color: rgb(255, 0, 0);\"></td></tr><tr><td title=\"Index: [4, 0]&#10;Color: (255, 0, 0)\" style=\"width: 20px; height: 20px;background-color: rgb(255, 0, 0);\"></td><td title=\"Index: [4, 1]&#10;Color: (255, 0, 255)\" style=\"width: 20px; height: 20px;background-color: rgb(255, 0, 255);\"></td><td title=\"Index: [4, 2]&#10;Color: (0, 200, 250)\" style=\"width: 20px; height: 20px;background-color: rgb(0, 200, 250);\"></td><td title=\"Index: [4, 3]&#10;Color: (0, 200, 250)\" style=\"width: 20px; height: 20px;background-color: rgb(0, 200, 250);\"></td><td title=\"Index: [4, 4]&#10;Color: (0, 200, 250)\" style=\"width: 20px; height: 20px;background-color: rgb(0, 200, 250);\"></td><td title=\"Index: [4, 5]&#10;Color: (0, 200, 250)\" style=\"width: 20px; height: 20px;background-color: rgb(0, 200, 250);\"></td><td title=\"Index: [4, 6]&#10;Color: (255, 0, 0)\" style=\"width: 20px; height: 20px;background-color: rgb(255, 0, 0);\"></td></tr><tr><td title=\"Index: [5, 0]&#10;Color: (255, 0, 0)\" style=\"width: 20px; height: 20px;background-color: rgb(255, 0, 0);\"></td><td title=\"Index: [5, 1]&#10;Color: (128, 0, 128)\" style=\"width: 20px; height: 20px;background-color: rgb(128, 0, 128);\"></td><td title=\"Index: [5, 2]&#10;Color: (123, 234, 123)\" style=\"width: 20px; height: 20px;background-color: rgb(123, 234, 123);\"></td><td title=\"Index: [5, 3]&#10;Color: (0, 200, 250)\" style=\"width: 20px; height: 20px;background-color: rgb(0, 200, 250);\"></td><td title=\"Index: [5, 4]&#10;Color: (0, 0, 255)\" style=\"width: 20px; height: 20px;background-color: rgb(0, 0, 255);\"></td><td title=\"Index: [5, 5]&#10;Color: (0, 200, 250)\" style=\"width: 20px; height: 20px;background-color: rgb(0, 200, 250);\"></td><td title=\"Index: [5, 6]&#10;Color: (255, 0, 0)\" style=\"width: 20px; height: 20px;background-color: rgb(255, 0, 0);\"></td></tr><tr><td title=\"Index: [6, 0]&#10;Color: (255, 0, 0)\" style=\"width: 20px; height: 20px;background-color: rgb(255, 0, 0);\"></td><td title=\"Index: [6, 1]&#10;Color: (255, 0, 0)\" style=\"width: 20px; height: 20px;background-color: rgb(255, 0, 0);\"></td><td title=\"Index: [6, 2]&#10;Color: (255, 0, 0)\" style=\"width: 20px; height: 20px;background-color: rgb(255, 0, 0);\"></td><td title=\"Index: [6, 3]&#10;Color: (255, 0, 0)\" style=\"width: 20px; height: 20px;background-color: rgb(255, 0, 0);\"></td><td title=\"Index: [6, 4]&#10;Color: (255, 0, 0)\" style=\"width: 20px; height: 20px;background-color: rgb(255, 0, 0);\"></td><td title=\"Index: [6, 5]&#10;Color: (255, 0, 0)\" style=\"width: 20px; height: 20px;background-color: rgb(255, 0, 0);\"></td><td title=\"Index: [6, 6]&#10;Color: (255, 0, 0)\" style=\"width: 20px; height: 20px;background-color: rgb(255, 0, 0);\"></td></tr></tbody></table>"
      ],
      "text/plain": [
       "<IPython.core.display.HTML object>"
      ]
     },
     "metadata": {},
     "output_type": "display_data"
    },
    {
     "name": "stdout",
     "output_type": "stream",
     "text": [
      "[None]\n",
      "[None]\n"
     ]
    },
    {
     "data": {
      "text/html": [
       "<style type=\"text/css\">table.blockgrid {border: none;} .blockgrid tr {border: none;} .blockgrid td {padding: 0px;} #blocks37e8794d-75a2-464b-88ca-39f9aeafa432 td {border: 1px solid white;}</style><table id=\"blocks37e8794d-75a2-464b-88ca-39f9aeafa432\" class=\"blockgrid\"><tbody><tr><td title=\"Index: [0, 0]&#10;Color: (255, 0, 0)\" style=\"width: 20px; height: 20px;background-color: rgb(255, 0, 0);\"></td><td title=\"Index: [0, 1]&#10;Color: (255, 0, 0)\" style=\"width: 20px; height: 20px;background-color: rgb(255, 0, 0);\"></td><td title=\"Index: [0, 2]&#10;Color: (255, 0, 0)\" style=\"width: 20px; height: 20px;background-color: rgb(255, 0, 0);\"></td><td title=\"Index: [0, 3]&#10;Color: (255, 0, 0)\" style=\"width: 20px; height: 20px;background-color: rgb(255, 0, 0);\"></td><td title=\"Index: [0, 4]&#10;Color: (255, 0, 0)\" style=\"width: 20px; height: 20px;background-color: rgb(255, 0, 0);\"></td><td title=\"Index: [0, 5]&#10;Color: (255, 0, 0)\" style=\"width: 20px; height: 20px;background-color: rgb(255, 0, 0);\"></td><td title=\"Index: [0, 6]&#10;Color: (255, 0, 0)\" style=\"width: 20px; height: 20px;background-color: rgb(255, 0, 0);\"></td></tr><tr><td title=\"Index: [1, 0]&#10;Color: (255, 0, 0)\" style=\"width: 20px; height: 20px;background-color: rgb(255, 0, 0);\"></td><td title=\"Index: [1, 1]&#10;Color: (0, 200, 250)\" style=\"width: 20px; height: 20px;background-color: rgb(0, 200, 250);\"></td><td title=\"Index: [1, 2]&#10;Color: (0, 200, 250)\" style=\"width: 20px; height: 20px;background-color: rgb(0, 200, 250);\"></td><td title=\"Index: [1, 3]&#10;Color: (0, 200, 250)\" style=\"width: 20px; height: 20px;background-color: rgb(0, 200, 250);\"></td><td title=\"Index: [1, 4]&#10;Color: (0, 200, 250)\" style=\"width: 20px; height: 20px;background-color: rgb(0, 200, 250);\"></td><td title=\"Index: [1, 5]&#10;Color: (0, 200, 250)\" style=\"width: 20px; height: 20px;background-color: rgb(0, 200, 250);\"></td><td title=\"Index: [1, 6]&#10;Color: (255, 0, 0)\" style=\"width: 20px; height: 20px;background-color: rgb(255, 0, 0);\"></td></tr><tr><td title=\"Index: [2, 0]&#10;Color: (255, 0, 0)\" style=\"width: 20px; height: 20px;background-color: rgb(255, 0, 0);\"></td><td title=\"Index: [2, 1]&#10;Color: (0, 200, 250)\" style=\"width: 20px; height: 20px;background-color: rgb(0, 200, 250);\"></td><td title=\"Index: [2, 2]&#10;Color: (0, 200, 250)\" style=\"width: 20px; height: 20px;background-color: rgb(0, 200, 250);\"></td><td title=\"Index: [2, 3]&#10;Color: (0, 200, 250)\" style=\"width: 20px; height: 20px;background-color: rgb(0, 200, 250);\"></td><td title=\"Index: [2, 4]&#10;Color: (0, 200, 250)\" style=\"width: 20px; height: 20px;background-color: rgb(0, 200, 250);\"></td><td title=\"Index: [2, 5]&#10;Color: (0, 200, 250)\" style=\"width: 20px; height: 20px;background-color: rgb(0, 200, 250);\"></td><td title=\"Index: [2, 6]&#10;Color: (255, 0, 0)\" style=\"width: 20px; height: 20px;background-color: rgb(255, 0, 0);\"></td></tr><tr><td title=\"Index: [3, 0]&#10;Color: (255, 0, 0)\" style=\"width: 20px; height: 20px;background-color: rgb(255, 0, 0);\"></td><td title=\"Index: [3, 1]&#10;Color: (253, 208, 23)\" style=\"width: 20px; height: 20px;background-color: rgb(253, 208, 23);\"></td><td title=\"Index: [3, 2]&#10;Color: (0, 0, 0)\" style=\"width: 20px; height: 20px;background-color: rgb(0, 0, 0);\"></td><td title=\"Index: [3, 3]&#10;Color: (0, 200, 250)\" style=\"width: 20px; height: 20px;background-color: rgb(0, 200, 250);\"></td><td title=\"Index: [3, 4]&#10;Color: (0, 200, 250)\" style=\"width: 20px; height: 20px;background-color: rgb(0, 200, 250);\"></td><td title=\"Index: [3, 5]&#10;Color: (0, 200, 250)\" style=\"width: 20px; height: 20px;background-color: rgb(0, 200, 250);\"></td><td title=\"Index: [3, 6]&#10;Color: (255, 0, 0)\" style=\"width: 20px; height: 20px;background-color: rgb(255, 0, 0);\"></td></tr><tr><td title=\"Index: [4, 0]&#10;Color: (255, 0, 0)\" style=\"width: 20px; height: 20px;background-color: rgb(255, 0, 0);\"></td><td title=\"Index: [4, 1]&#10;Color: (255, 0, 255)\" style=\"width: 20px; height: 20px;background-color: rgb(255, 0, 255);\"></td><td title=\"Index: [4, 2]&#10;Color: (0, 200, 250)\" style=\"width: 20px; height: 20px;background-color: rgb(0, 200, 250);\"></td><td title=\"Index: [4, 3]&#10;Color: (0, 200, 250)\" style=\"width: 20px; height: 20px;background-color: rgb(0, 200, 250);\"></td><td title=\"Index: [4, 4]&#10;Color: (0, 200, 250)\" style=\"width: 20px; height: 20px;background-color: rgb(0, 200, 250);\"></td><td title=\"Index: [4, 5]&#10;Color: (0, 200, 250)\" style=\"width: 20px; height: 20px;background-color: rgb(0, 200, 250);\"></td><td title=\"Index: [4, 6]&#10;Color: (255, 0, 0)\" style=\"width: 20px; height: 20px;background-color: rgb(255, 0, 0);\"></td></tr><tr><td title=\"Index: [5, 0]&#10;Color: (255, 0, 0)\" style=\"width: 20px; height: 20px;background-color: rgb(255, 0, 0);\"></td><td title=\"Index: [5, 1]&#10;Color: (128, 0, 128)\" style=\"width: 20px; height: 20px;background-color: rgb(128, 0, 128);\"></td><td title=\"Index: [5, 2]&#10;Color: (123, 234, 123)\" style=\"width: 20px; height: 20px;background-color: rgb(123, 234, 123);\"></td><td title=\"Index: [5, 3]&#10;Color: (0, 0, 255)\" style=\"width: 20px; height: 20px;background-color: rgb(0, 0, 255);\"></td><td title=\"Index: [5, 4]&#10;Color: (0, 200, 250)\" style=\"width: 20px; height: 20px;background-color: rgb(0, 200, 250);\"></td><td title=\"Index: [5, 5]&#10;Color: (0, 200, 250)\" style=\"width: 20px; height: 20px;background-color: rgb(0, 200, 250);\"></td><td title=\"Index: [5, 6]&#10;Color: (255, 0, 0)\" style=\"width: 20px; height: 20px;background-color: rgb(255, 0, 0);\"></td></tr><tr><td title=\"Index: [6, 0]&#10;Color: (255, 0, 0)\" style=\"width: 20px; height: 20px;background-color: rgb(255, 0, 0);\"></td><td title=\"Index: [6, 1]&#10;Color: (255, 0, 0)\" style=\"width: 20px; height: 20px;background-color: rgb(255, 0, 0);\"></td><td title=\"Index: [6, 2]&#10;Color: (255, 0, 0)\" style=\"width: 20px; height: 20px;background-color: rgb(255, 0, 0);\"></td><td title=\"Index: [6, 3]&#10;Color: (255, 0, 0)\" style=\"width: 20px; height: 20px;background-color: rgb(255, 0, 0);\"></td><td title=\"Index: [6, 4]&#10;Color: (255, 0, 0)\" style=\"width: 20px; height: 20px;background-color: rgb(255, 0, 0);\"></td><td title=\"Index: [6, 5]&#10;Color: (255, 0, 0)\" style=\"width: 20px; height: 20px;background-color: rgb(255, 0, 0);\"></td><td title=\"Index: [6, 6]&#10;Color: (255, 0, 0)\" style=\"width: 20px; height: 20px;background-color: rgb(255, 0, 0);\"></td></tr></tbody></table>"
      ],
      "text/plain": [
       "<IPython.core.display.HTML object>"
      ]
     },
     "metadata": {},
     "output_type": "display_data"
    },
    {
     "name": "stdout",
     "output_type": "stream",
     "text": [
      "[None]\n",
      "[None]\n"
     ]
    },
    {
     "data": {
      "text/html": [
       "<style type=\"text/css\">table.blockgrid {border: none;} .blockgrid tr {border: none;} .blockgrid td {padding: 0px;} #blocksd4ae49a7-3791-446a-a182-bb0a5e23999e td {border: 1px solid white;}</style><table id=\"blocksd4ae49a7-3791-446a-a182-bb0a5e23999e\" class=\"blockgrid\"><tbody><tr><td title=\"Index: [0, 0]&#10;Color: (255, 0, 0)\" style=\"width: 20px; height: 20px;background-color: rgb(255, 0, 0);\"></td><td title=\"Index: [0, 1]&#10;Color: (255, 0, 0)\" style=\"width: 20px; height: 20px;background-color: rgb(255, 0, 0);\"></td><td title=\"Index: [0, 2]&#10;Color: (255, 0, 0)\" style=\"width: 20px; height: 20px;background-color: rgb(255, 0, 0);\"></td><td title=\"Index: [0, 3]&#10;Color: (255, 0, 0)\" style=\"width: 20px; height: 20px;background-color: rgb(255, 0, 0);\"></td><td title=\"Index: [0, 4]&#10;Color: (255, 0, 0)\" style=\"width: 20px; height: 20px;background-color: rgb(255, 0, 0);\"></td><td title=\"Index: [0, 5]&#10;Color: (255, 0, 0)\" style=\"width: 20px; height: 20px;background-color: rgb(255, 0, 0);\"></td><td title=\"Index: [0, 6]&#10;Color: (255, 0, 0)\" style=\"width: 20px; height: 20px;background-color: rgb(255, 0, 0);\"></td></tr><tr><td title=\"Index: [1, 0]&#10;Color: (255, 0, 0)\" style=\"width: 20px; height: 20px;background-color: rgb(255, 0, 0);\"></td><td title=\"Index: [1, 1]&#10;Color: (0, 200, 250)\" style=\"width: 20px; height: 20px;background-color: rgb(0, 200, 250);\"></td><td title=\"Index: [1, 2]&#10;Color: (0, 200, 250)\" style=\"width: 20px; height: 20px;background-color: rgb(0, 200, 250);\"></td><td title=\"Index: [1, 3]&#10;Color: (0, 200, 250)\" style=\"width: 20px; height: 20px;background-color: rgb(0, 200, 250);\"></td><td title=\"Index: [1, 4]&#10;Color: (0, 200, 250)\" style=\"width: 20px; height: 20px;background-color: rgb(0, 200, 250);\"></td><td title=\"Index: [1, 5]&#10;Color: (0, 200, 250)\" style=\"width: 20px; height: 20px;background-color: rgb(0, 200, 250);\"></td><td title=\"Index: [1, 6]&#10;Color: (255, 0, 0)\" style=\"width: 20px; height: 20px;background-color: rgb(255, 0, 0);\"></td></tr><tr><td title=\"Index: [2, 0]&#10;Color: (255, 0, 0)\" style=\"width: 20px; height: 20px;background-color: rgb(255, 0, 0);\"></td><td title=\"Index: [2, 1]&#10;Color: (0, 200, 250)\" style=\"width: 20px; height: 20px;background-color: rgb(0, 200, 250);\"></td><td title=\"Index: [2, 2]&#10;Color: (0, 200, 250)\" style=\"width: 20px; height: 20px;background-color: rgb(0, 200, 250);\"></td><td title=\"Index: [2, 3]&#10;Color: (0, 200, 250)\" style=\"width: 20px; height: 20px;background-color: rgb(0, 200, 250);\"></td><td title=\"Index: [2, 4]&#10;Color: (0, 200, 250)\" style=\"width: 20px; height: 20px;background-color: rgb(0, 200, 250);\"></td><td title=\"Index: [2, 5]&#10;Color: (0, 200, 250)\" style=\"width: 20px; height: 20px;background-color: rgb(0, 200, 250);\"></td><td title=\"Index: [2, 6]&#10;Color: (255, 0, 0)\" style=\"width: 20px; height: 20px;background-color: rgb(255, 0, 0);\"></td></tr><tr><td title=\"Index: [3, 0]&#10;Color: (255, 0, 0)\" style=\"width: 20px; height: 20px;background-color: rgb(255, 0, 0);\"></td><td title=\"Index: [3, 1]&#10;Color: (253, 208, 23)\" style=\"width: 20px; height: 20px;background-color: rgb(253, 208, 23);\"></td><td title=\"Index: [3, 2]&#10;Color: (0, 0, 0)\" style=\"width: 20px; height: 20px;background-color: rgb(0, 0, 0);\"></td><td title=\"Index: [3, 3]&#10;Color: (0, 200, 250)\" style=\"width: 20px; height: 20px;background-color: rgb(0, 200, 250);\"></td><td title=\"Index: [3, 4]&#10;Color: (0, 200, 250)\" style=\"width: 20px; height: 20px;background-color: rgb(0, 200, 250);\"></td><td title=\"Index: [3, 5]&#10;Color: (0, 200, 250)\" style=\"width: 20px; height: 20px;background-color: rgb(0, 200, 250);\"></td><td title=\"Index: [3, 6]&#10;Color: (255, 0, 0)\" style=\"width: 20px; height: 20px;background-color: rgb(255, 0, 0);\"></td></tr><tr><td title=\"Index: [4, 0]&#10;Color: (255, 0, 0)\" style=\"width: 20px; height: 20px;background-color: rgb(255, 0, 0);\"></td><td title=\"Index: [4, 1]&#10;Color: (255, 0, 255)\" style=\"width: 20px; height: 20px;background-color: rgb(255, 0, 255);\"></td><td title=\"Index: [4, 2]&#10;Color: (0, 200, 250)\" style=\"width: 20px; height: 20px;background-color: rgb(0, 200, 250);\"></td><td title=\"Index: [4, 3]&#10;Color: (0, 200, 250)\" style=\"width: 20px; height: 20px;background-color: rgb(0, 200, 250);\"></td><td title=\"Index: [4, 4]&#10;Color: (0, 200, 250)\" style=\"width: 20px; height: 20px;background-color: rgb(0, 200, 250);\"></td><td title=\"Index: [4, 5]&#10;Color: (0, 200, 250)\" style=\"width: 20px; height: 20px;background-color: rgb(0, 200, 250);\"></td><td title=\"Index: [4, 6]&#10;Color: (255, 0, 0)\" style=\"width: 20px; height: 20px;background-color: rgb(255, 0, 0);\"></td></tr><tr><td title=\"Index: [5, 0]&#10;Color: (255, 0, 0)\" style=\"width: 20px; height: 20px;background-color: rgb(255, 0, 0);\"></td><td title=\"Index: [5, 1]&#10;Color: (128, 0, 128)\" style=\"width: 20px; height: 20px;background-color: rgb(128, 0, 128);\"></td><td title=\"Index: [5, 2]&#10;Color: (0, 0, 255)\" style=\"width: 20px; height: 20px;background-color: rgb(0, 0, 255);\"></td><td title=\"Index: [5, 3]&#10;Color: (0, 200, 250)\" style=\"width: 20px; height: 20px;background-color: rgb(0, 200, 250);\"></td><td title=\"Index: [5, 4]&#10;Color: (0, 200, 250)\" style=\"width: 20px; height: 20px;background-color: rgb(0, 200, 250);\"></td><td title=\"Index: [5, 5]&#10;Color: (0, 200, 250)\" style=\"width: 20px; height: 20px;background-color: rgb(0, 200, 250);\"></td><td title=\"Index: [5, 6]&#10;Color: (255, 0, 0)\" style=\"width: 20px; height: 20px;background-color: rgb(255, 0, 0);\"></td></tr><tr><td title=\"Index: [6, 0]&#10;Color: (255, 0, 0)\" style=\"width: 20px; height: 20px;background-color: rgb(255, 0, 0);\"></td><td title=\"Index: [6, 1]&#10;Color: (255, 0, 0)\" style=\"width: 20px; height: 20px;background-color: rgb(255, 0, 0);\"></td><td title=\"Index: [6, 2]&#10;Color: (255, 0, 0)\" style=\"width: 20px; height: 20px;background-color: rgb(255, 0, 0);\"></td><td title=\"Index: [6, 3]&#10;Color: (255, 0, 0)\" style=\"width: 20px; height: 20px;background-color: rgb(255, 0, 0);\"></td><td title=\"Index: [6, 4]&#10;Color: (255, 0, 0)\" style=\"width: 20px; height: 20px;background-color: rgb(255, 0, 0);\"></td><td title=\"Index: [6, 5]&#10;Color: (255, 0, 0)\" style=\"width: 20px; height: 20px;background-color: rgb(255, 0, 0);\"></td><td title=\"Index: [6, 6]&#10;Color: (255, 0, 0)\" style=\"width: 20px; height: 20px;background-color: rgb(255, 0, 0);\"></td></tr></tbody></table>"
      ],
      "text/plain": [
       "<IPython.core.display.HTML object>"
      ]
     },
     "metadata": {},
     "output_type": "display_data"
    },
    {
     "name": "stdout",
     "output_type": "stream",
     "text": [
      "HaveGold  False\n",
      "Possiblemoves [['1', '5'], ['1', '3']]\n",
      "[<Stench>]\n"
     ]
    },
    {
     "data": {
      "text/html": [
       "<style type=\"text/css\">table.blockgrid {border: none;} .blockgrid tr {border: none;} .blockgrid td {padding: 0px;} #blocks7f8fd844-57e0-43a9-b776-533edd4ba230 td {border: 1px solid white;}</style><table id=\"blocks7f8fd844-57e0-43a9-b776-533edd4ba230\" class=\"blockgrid\"><tbody><tr><td title=\"Index: [0, 0]&#10;Color: (255, 0, 0)\" style=\"width: 20px; height: 20px;background-color: rgb(255, 0, 0);\"></td><td title=\"Index: [0, 1]&#10;Color: (255, 0, 0)\" style=\"width: 20px; height: 20px;background-color: rgb(255, 0, 0);\"></td><td title=\"Index: [0, 2]&#10;Color: (255, 0, 0)\" style=\"width: 20px; height: 20px;background-color: rgb(255, 0, 0);\"></td><td title=\"Index: [0, 3]&#10;Color: (255, 0, 0)\" style=\"width: 20px; height: 20px;background-color: rgb(255, 0, 0);\"></td><td title=\"Index: [0, 4]&#10;Color: (255, 0, 0)\" style=\"width: 20px; height: 20px;background-color: rgb(255, 0, 0);\"></td><td title=\"Index: [0, 5]&#10;Color: (255, 0, 0)\" style=\"width: 20px; height: 20px;background-color: rgb(255, 0, 0);\"></td><td title=\"Index: [0, 6]&#10;Color: (255, 0, 0)\" style=\"width: 20px; height: 20px;background-color: rgb(255, 0, 0);\"></td></tr><tr><td title=\"Index: [1, 0]&#10;Color: (255, 0, 0)\" style=\"width: 20px; height: 20px;background-color: rgb(255, 0, 0);\"></td><td title=\"Index: [1, 1]&#10;Color: (0, 200, 250)\" style=\"width: 20px; height: 20px;background-color: rgb(0, 200, 250);\"></td><td title=\"Index: [1, 2]&#10;Color: (0, 200, 250)\" style=\"width: 20px; height: 20px;background-color: rgb(0, 200, 250);\"></td><td title=\"Index: [1, 3]&#10;Color: (0, 200, 250)\" style=\"width: 20px; height: 20px;background-color: rgb(0, 200, 250);\"></td><td title=\"Index: [1, 4]&#10;Color: (0, 200, 250)\" style=\"width: 20px; height: 20px;background-color: rgb(0, 200, 250);\"></td><td title=\"Index: [1, 5]&#10;Color: (0, 200, 250)\" style=\"width: 20px; height: 20px;background-color: rgb(0, 200, 250);\"></td><td title=\"Index: [1, 6]&#10;Color: (255, 0, 0)\" style=\"width: 20px; height: 20px;background-color: rgb(255, 0, 0);\"></td></tr><tr><td title=\"Index: [2, 0]&#10;Color: (255, 0, 0)\" style=\"width: 20px; height: 20px;background-color: rgb(255, 0, 0);\"></td><td title=\"Index: [2, 1]&#10;Color: (0, 200, 250)\" style=\"width: 20px; height: 20px;background-color: rgb(0, 200, 250);\"></td><td title=\"Index: [2, 2]&#10;Color: (0, 200, 250)\" style=\"width: 20px; height: 20px;background-color: rgb(0, 200, 250);\"></td><td title=\"Index: [2, 3]&#10;Color: (0, 200, 250)\" style=\"width: 20px; height: 20px;background-color: rgb(0, 200, 250);\"></td><td title=\"Index: [2, 4]&#10;Color: (0, 200, 250)\" style=\"width: 20px; height: 20px;background-color: rgb(0, 200, 250);\"></td><td title=\"Index: [2, 5]&#10;Color: (0, 200, 250)\" style=\"width: 20px; height: 20px;background-color: rgb(0, 200, 250);\"></td><td title=\"Index: [2, 6]&#10;Color: (255, 0, 0)\" style=\"width: 20px; height: 20px;background-color: rgb(255, 0, 0);\"></td></tr><tr><td title=\"Index: [3, 0]&#10;Color: (255, 0, 0)\" style=\"width: 20px; height: 20px;background-color: rgb(255, 0, 0);\"></td><td title=\"Index: [3, 1]&#10;Color: (253, 208, 23)\" style=\"width: 20px; height: 20px;background-color: rgb(253, 208, 23);\"></td><td title=\"Index: [3, 2]&#10;Color: (0, 0, 0)\" style=\"width: 20px; height: 20px;background-color: rgb(0, 0, 0);\"></td><td title=\"Index: [3, 3]&#10;Color: (0, 200, 250)\" style=\"width: 20px; height: 20px;background-color: rgb(0, 200, 250);\"></td><td title=\"Index: [3, 4]&#10;Color: (0, 200, 250)\" style=\"width: 20px; height: 20px;background-color: rgb(0, 200, 250);\"></td><td title=\"Index: [3, 5]&#10;Color: (0, 200, 250)\" style=\"width: 20px; height: 20px;background-color: rgb(0, 200, 250);\"></td><td title=\"Index: [3, 6]&#10;Color: (255, 0, 0)\" style=\"width: 20px; height: 20px;background-color: rgb(255, 0, 0);\"></td></tr><tr><td title=\"Index: [4, 0]&#10;Color: (255, 0, 0)\" style=\"width: 20px; height: 20px;background-color: rgb(255, 0, 0);\"></td><td title=\"Index: [4, 1]&#10;Color: (255, 0, 255)\" style=\"width: 20px; height: 20px;background-color: rgb(255, 0, 255);\"></td><td title=\"Index: [4, 2]&#10;Color: (0, 200, 250)\" style=\"width: 20px; height: 20px;background-color: rgb(0, 200, 250);\"></td><td title=\"Index: [4, 3]&#10;Color: (0, 200, 250)\" style=\"width: 20px; height: 20px;background-color: rgb(0, 200, 250);\"></td><td title=\"Index: [4, 4]&#10;Color: (0, 200, 250)\" style=\"width: 20px; height: 20px;background-color: rgb(0, 200, 250);\"></td><td title=\"Index: [4, 5]&#10;Color: (0, 200, 250)\" style=\"width: 20px; height: 20px;background-color: rgb(0, 200, 250);\"></td><td title=\"Index: [4, 6]&#10;Color: (255, 0, 0)\" style=\"width: 20px; height: 20px;background-color: rgb(255, 0, 0);\"></td></tr><tr><td title=\"Index: [5, 0]&#10;Color: (255, 0, 0)\" style=\"width: 20px; height: 20px;background-color: rgb(255, 0, 0);\"></td><td title=\"Index: [5, 1]&#10;Color: (0, 0, 255)\" style=\"width: 20px; height: 20px;background-color: rgb(0, 0, 255);\"></td><td title=\"Index: [5, 2]&#10;Color: (0, 200, 250)\" style=\"width: 20px; height: 20px;background-color: rgb(0, 200, 250);\"></td><td title=\"Index: [5, 3]&#10;Color: (0, 200, 250)\" style=\"width: 20px; height: 20px;background-color: rgb(0, 200, 250);\"></td><td title=\"Index: [5, 4]&#10;Color: (0, 200, 250)\" style=\"width: 20px; height: 20px;background-color: rgb(0, 200, 250);\"></td><td title=\"Index: [5, 5]&#10;Color: (0, 200, 250)\" style=\"width: 20px; height: 20px;background-color: rgb(0, 200, 250);\"></td><td title=\"Index: [5, 6]&#10;Color: (255, 0, 0)\" style=\"width: 20px; height: 20px;background-color: rgb(255, 0, 0);\"></td></tr><tr><td title=\"Index: [6, 0]&#10;Color: (255, 0, 0)\" style=\"width: 20px; height: 20px;background-color: rgb(255, 0, 0);\"></td><td title=\"Index: [6, 1]&#10;Color: (255, 0, 0)\" style=\"width: 20px; height: 20px;background-color: rgb(255, 0, 0);\"></td><td title=\"Index: [6, 2]&#10;Color: (255, 0, 0)\" style=\"width: 20px; height: 20px;background-color: rgb(255, 0, 0);\"></td><td title=\"Index: [6, 3]&#10;Color: (255, 0, 0)\" style=\"width: 20px; height: 20px;background-color: rgb(255, 0, 0);\"></td><td title=\"Index: [6, 4]&#10;Color: (255, 0, 0)\" style=\"width: 20px; height: 20px;background-color: rgb(255, 0, 0);\"></td><td title=\"Index: [6, 5]&#10;Color: (255, 0, 0)\" style=\"width: 20px; height: 20px;background-color: rgb(255, 0, 0);\"></td><td title=\"Index: [6, 6]&#10;Color: (255, 0, 0)\" style=\"width: 20px; height: 20px;background-color: rgb(255, 0, 0);\"></td></tr></tbody></table>"
      ],
      "text/plain": [
       "<IPython.core.display.HTML object>"
      ]
     },
     "metadata": {},
     "output_type": "display_data"
    },
    {
     "name": "stdout",
     "output_type": "stream",
     "text": [
      "HaveGold  False\n",
      "Possiblemoves [['1', '3']]\n",
      "[<Stench>]\n",
      "[<Stench>]\n",
      "[None]\n",
      "[None]\n"
     ]
    },
    {
     "data": {
      "text/html": [
       "<style type=\"text/css\">table.blockgrid {border: none;} .blockgrid tr {border: none;} .blockgrid td {padding: 0px;} #blocks814dcfa3-8134-436d-9b33-b611ca13a555 td {border: 1px solid white;}</style><table id=\"blocks814dcfa3-8134-436d-9b33-b611ca13a555\" class=\"blockgrid\"><tbody><tr><td title=\"Index: [0, 0]&#10;Color: (255, 0, 0)\" style=\"width: 20px; height: 20px;background-color: rgb(255, 0, 0);\"></td><td title=\"Index: [0, 1]&#10;Color: (255, 0, 0)\" style=\"width: 20px; height: 20px;background-color: rgb(255, 0, 0);\"></td><td title=\"Index: [0, 2]&#10;Color: (255, 0, 0)\" style=\"width: 20px; height: 20px;background-color: rgb(255, 0, 0);\"></td><td title=\"Index: [0, 3]&#10;Color: (255, 0, 0)\" style=\"width: 20px; height: 20px;background-color: rgb(255, 0, 0);\"></td><td title=\"Index: [0, 4]&#10;Color: (255, 0, 0)\" style=\"width: 20px; height: 20px;background-color: rgb(255, 0, 0);\"></td><td title=\"Index: [0, 5]&#10;Color: (255, 0, 0)\" style=\"width: 20px; height: 20px;background-color: rgb(255, 0, 0);\"></td><td title=\"Index: [0, 6]&#10;Color: (255, 0, 0)\" style=\"width: 20px; height: 20px;background-color: rgb(255, 0, 0);\"></td></tr><tr><td title=\"Index: [1, 0]&#10;Color: (255, 0, 0)\" style=\"width: 20px; height: 20px;background-color: rgb(255, 0, 0);\"></td><td title=\"Index: [1, 1]&#10;Color: (0, 200, 250)\" style=\"width: 20px; height: 20px;background-color: rgb(0, 200, 250);\"></td><td title=\"Index: [1, 2]&#10;Color: (0, 200, 250)\" style=\"width: 20px; height: 20px;background-color: rgb(0, 200, 250);\"></td><td title=\"Index: [1, 3]&#10;Color: (0, 200, 250)\" style=\"width: 20px; height: 20px;background-color: rgb(0, 200, 250);\"></td><td title=\"Index: [1, 4]&#10;Color: (0, 200, 250)\" style=\"width: 20px; height: 20px;background-color: rgb(0, 200, 250);\"></td><td title=\"Index: [1, 5]&#10;Color: (0, 200, 250)\" style=\"width: 20px; height: 20px;background-color: rgb(0, 200, 250);\"></td><td title=\"Index: [1, 6]&#10;Color: (255, 0, 0)\" style=\"width: 20px; height: 20px;background-color: rgb(255, 0, 0);\"></td></tr><tr><td title=\"Index: [2, 0]&#10;Color: (255, 0, 0)\" style=\"width: 20px; height: 20px;background-color: rgb(255, 0, 0);\"></td><td title=\"Index: [2, 1]&#10;Color: (0, 200, 250)\" style=\"width: 20px; height: 20px;background-color: rgb(0, 200, 250);\"></td><td title=\"Index: [2, 2]&#10;Color: (0, 200, 250)\" style=\"width: 20px; height: 20px;background-color: rgb(0, 200, 250);\"></td><td title=\"Index: [2, 3]&#10;Color: (0, 200, 250)\" style=\"width: 20px; height: 20px;background-color: rgb(0, 200, 250);\"></td><td title=\"Index: [2, 4]&#10;Color: (0, 200, 250)\" style=\"width: 20px; height: 20px;background-color: rgb(0, 200, 250);\"></td><td title=\"Index: [2, 5]&#10;Color: (0, 200, 250)\" style=\"width: 20px; height: 20px;background-color: rgb(0, 200, 250);\"></td><td title=\"Index: [2, 6]&#10;Color: (255, 0, 0)\" style=\"width: 20px; height: 20px;background-color: rgb(255, 0, 0);\"></td></tr><tr><td title=\"Index: [3, 0]&#10;Color: (255, 0, 0)\" style=\"width: 20px; height: 20px;background-color: rgb(255, 0, 0);\"></td><td title=\"Index: [3, 1]&#10;Color: (253, 208, 23)\" style=\"width: 20px; height: 20px;background-color: rgb(253, 208, 23);\"></td><td title=\"Index: [3, 2]&#10;Color: (0, 0, 0)\" style=\"width: 20px; height: 20px;background-color: rgb(0, 0, 0);\"></td><td title=\"Index: [3, 3]&#10;Color: (0, 200, 250)\" style=\"width: 20px; height: 20px;background-color: rgb(0, 200, 250);\"></td><td title=\"Index: [3, 4]&#10;Color: (0, 200, 250)\" style=\"width: 20px; height: 20px;background-color: rgb(0, 200, 250);\"></td><td title=\"Index: [3, 5]&#10;Color: (0, 200, 250)\" style=\"width: 20px; height: 20px;background-color: rgb(0, 200, 250);\"></td><td title=\"Index: [3, 6]&#10;Color: (255, 0, 0)\" style=\"width: 20px; height: 20px;background-color: rgb(255, 0, 0);\"></td></tr><tr><td title=\"Index: [4, 0]&#10;Color: (255, 0, 0)\" style=\"width: 20px; height: 20px;background-color: rgb(255, 0, 0);\"></td><td title=\"Index: [4, 1]&#10;Color: (255, 0, 255)\" style=\"width: 20px; height: 20px;background-color: rgb(255, 0, 255);\"></td><td title=\"Index: [4, 2]&#10;Color: (0, 200, 250)\" style=\"width: 20px; height: 20px;background-color: rgb(0, 200, 250);\"></td><td title=\"Index: [4, 3]&#10;Color: (0, 200, 250)\" style=\"width: 20px; height: 20px;background-color: rgb(0, 200, 250);\"></td><td title=\"Index: [4, 4]&#10;Color: (0, 200, 250)\" style=\"width: 20px; height: 20px;background-color: rgb(0, 200, 250);\"></td><td title=\"Index: [4, 5]&#10;Color: (0, 200, 250)\" style=\"width: 20px; height: 20px;background-color: rgb(0, 200, 250);\"></td><td title=\"Index: [4, 6]&#10;Color: (255, 0, 0)\" style=\"width: 20px; height: 20px;background-color: rgb(255, 0, 0);\"></td></tr><tr><td title=\"Index: [5, 0]&#10;Color: (255, 0, 0)\" style=\"width: 20px; height: 20px;background-color: rgb(255, 0, 0);\"></td><td title=\"Index: [5, 1]&#10;Color: (0, 200, 250)\" style=\"width: 20px; height: 20px;background-color: rgb(0, 200, 250);\"></td><td title=\"Index: [5, 2]&#10;Color: (0, 0, 255)\" style=\"width: 20px; height: 20px;background-color: rgb(0, 0, 255);\"></td><td title=\"Index: [5, 3]&#10;Color: (0, 200, 250)\" style=\"width: 20px; height: 20px;background-color: rgb(0, 200, 250);\"></td><td title=\"Index: [5, 4]&#10;Color: (0, 200, 250)\" style=\"width: 20px; height: 20px;background-color: rgb(0, 200, 250);\"></td><td title=\"Index: [5, 5]&#10;Color: (0, 200, 250)\" style=\"width: 20px; height: 20px;background-color: rgb(0, 200, 250);\"></td><td title=\"Index: [5, 6]&#10;Color: (255, 0, 0)\" style=\"width: 20px; height: 20px;background-color: rgb(255, 0, 0);\"></td></tr><tr><td title=\"Index: [6, 0]&#10;Color: (255, 0, 0)\" style=\"width: 20px; height: 20px;background-color: rgb(255, 0, 0);\"></td><td title=\"Index: [6, 1]&#10;Color: (255, 0, 0)\" style=\"width: 20px; height: 20px;background-color: rgb(255, 0, 0);\"></td><td title=\"Index: [6, 2]&#10;Color: (255, 0, 0)\" style=\"width: 20px; height: 20px;background-color: rgb(255, 0, 0);\"></td><td title=\"Index: [6, 3]&#10;Color: (255, 0, 0)\" style=\"width: 20px; height: 20px;background-color: rgb(255, 0, 0);\"></td><td title=\"Index: [6, 4]&#10;Color: (255, 0, 0)\" style=\"width: 20px; height: 20px;background-color: rgb(255, 0, 0);\"></td><td title=\"Index: [6, 5]&#10;Color: (255, 0, 0)\" style=\"width: 20px; height: 20px;background-color: rgb(255, 0, 0);\"></td><td title=\"Index: [6, 6]&#10;Color: (255, 0, 0)\" style=\"width: 20px; height: 20px;background-color: rgb(255, 0, 0);\"></td></tr></tbody></table>"
      ],
      "text/plain": [
       "<IPython.core.display.HTML object>"
      ]
     },
     "metadata": {},
     "output_type": "display_data"
    },
    {
     "name": "stdout",
     "output_type": "stream",
     "text": [
      "[None]\n",
      "[<Breeze>, <Stench>]\n",
      "[<Breeze>, <Stench>]\n"
     ]
    },
    {
     "data": {
      "text/html": [
       "<style type=\"text/css\">table.blockgrid {border: none;} .blockgrid tr {border: none;} .blockgrid td {padding: 0px;} #blocksd798a630-8ef1-4840-8fd8-959154c01496 td {border: 1px solid white;}</style><table id=\"blocksd798a630-8ef1-4840-8fd8-959154c01496\" class=\"blockgrid\"><tbody><tr><td title=\"Index: [0, 0]&#10;Color: (255, 0, 0)\" style=\"width: 20px; height: 20px;background-color: rgb(255, 0, 0);\"></td><td title=\"Index: [0, 1]&#10;Color: (255, 0, 0)\" style=\"width: 20px; height: 20px;background-color: rgb(255, 0, 0);\"></td><td title=\"Index: [0, 2]&#10;Color: (255, 0, 0)\" style=\"width: 20px; height: 20px;background-color: rgb(255, 0, 0);\"></td><td title=\"Index: [0, 3]&#10;Color: (255, 0, 0)\" style=\"width: 20px; height: 20px;background-color: rgb(255, 0, 0);\"></td><td title=\"Index: [0, 4]&#10;Color: (255, 0, 0)\" style=\"width: 20px; height: 20px;background-color: rgb(255, 0, 0);\"></td><td title=\"Index: [0, 5]&#10;Color: (255, 0, 0)\" style=\"width: 20px; height: 20px;background-color: rgb(255, 0, 0);\"></td><td title=\"Index: [0, 6]&#10;Color: (255, 0, 0)\" style=\"width: 20px; height: 20px;background-color: rgb(255, 0, 0);\"></td></tr><tr><td title=\"Index: [1, 0]&#10;Color: (255, 0, 0)\" style=\"width: 20px; height: 20px;background-color: rgb(255, 0, 0);\"></td><td title=\"Index: [1, 1]&#10;Color: (0, 200, 250)\" style=\"width: 20px; height: 20px;background-color: rgb(0, 200, 250);\"></td><td title=\"Index: [1, 2]&#10;Color: (0, 200, 250)\" style=\"width: 20px; height: 20px;background-color: rgb(0, 200, 250);\"></td><td title=\"Index: [1, 3]&#10;Color: (0, 200, 250)\" style=\"width: 20px; height: 20px;background-color: rgb(0, 200, 250);\"></td><td title=\"Index: [1, 4]&#10;Color: (0, 200, 250)\" style=\"width: 20px; height: 20px;background-color: rgb(0, 200, 250);\"></td><td title=\"Index: [1, 5]&#10;Color: (0, 200, 250)\" style=\"width: 20px; height: 20px;background-color: rgb(0, 200, 250);\"></td><td title=\"Index: [1, 6]&#10;Color: (255, 0, 0)\" style=\"width: 20px; height: 20px;background-color: rgb(255, 0, 0);\"></td></tr><tr><td title=\"Index: [2, 0]&#10;Color: (255, 0, 0)\" style=\"width: 20px; height: 20px;background-color: rgb(255, 0, 0);\"></td><td title=\"Index: [2, 1]&#10;Color: (0, 200, 250)\" style=\"width: 20px; height: 20px;background-color: rgb(0, 200, 250);\"></td><td title=\"Index: [2, 2]&#10;Color: (0, 200, 250)\" style=\"width: 20px; height: 20px;background-color: rgb(0, 200, 250);\"></td><td title=\"Index: [2, 3]&#10;Color: (0, 200, 250)\" style=\"width: 20px; height: 20px;background-color: rgb(0, 200, 250);\"></td><td title=\"Index: [2, 4]&#10;Color: (0, 200, 250)\" style=\"width: 20px; height: 20px;background-color: rgb(0, 200, 250);\"></td><td title=\"Index: [2, 5]&#10;Color: (0, 200, 250)\" style=\"width: 20px; height: 20px;background-color: rgb(0, 200, 250);\"></td><td title=\"Index: [2, 6]&#10;Color: (255, 0, 0)\" style=\"width: 20px; height: 20px;background-color: rgb(255, 0, 0);\"></td></tr><tr><td title=\"Index: [3, 0]&#10;Color: (255, 0, 0)\" style=\"width: 20px; height: 20px;background-color: rgb(255, 0, 0);\"></td><td title=\"Index: [3, 1]&#10;Color: (253, 208, 23)\" style=\"width: 20px; height: 20px;background-color: rgb(253, 208, 23);\"></td><td title=\"Index: [3, 2]&#10;Color: (0, 0, 0)\" style=\"width: 20px; height: 20px;background-color: rgb(0, 0, 0);\"></td><td title=\"Index: [3, 3]&#10;Color: (0, 200, 250)\" style=\"width: 20px; height: 20px;background-color: rgb(0, 200, 250);\"></td><td title=\"Index: [3, 4]&#10;Color: (0, 200, 250)\" style=\"width: 20px; height: 20px;background-color: rgb(0, 200, 250);\"></td><td title=\"Index: [3, 5]&#10;Color: (0, 200, 250)\" style=\"width: 20px; height: 20px;background-color: rgb(0, 200, 250);\"></td><td title=\"Index: [3, 6]&#10;Color: (255, 0, 0)\" style=\"width: 20px; height: 20px;background-color: rgb(255, 0, 0);\"></td></tr><tr><td title=\"Index: [4, 0]&#10;Color: (255, 0, 0)\" style=\"width: 20px; height: 20px;background-color: rgb(255, 0, 0);\"></td><td title=\"Index: [4, 1]&#10;Color: (255, 0, 255)\" style=\"width: 20px; height: 20px;background-color: rgb(255, 0, 255);\"></td><td title=\"Index: [4, 2]&#10;Color: (0, 0, 255)\" style=\"width: 20px; height: 20px;background-color: rgb(0, 0, 255);\"></td><td title=\"Index: [4, 3]&#10;Color: (0, 200, 250)\" style=\"width: 20px; height: 20px;background-color: rgb(0, 200, 250);\"></td><td title=\"Index: [4, 4]&#10;Color: (0, 200, 250)\" style=\"width: 20px; height: 20px;background-color: rgb(0, 200, 250);\"></td><td title=\"Index: [4, 5]&#10;Color: (0, 200, 250)\" style=\"width: 20px; height: 20px;background-color: rgb(0, 200, 250);\"></td><td title=\"Index: [4, 6]&#10;Color: (255, 0, 0)\" style=\"width: 20px; height: 20px;background-color: rgb(255, 0, 0);\"></td></tr><tr><td title=\"Index: [5, 0]&#10;Color: (255, 0, 0)\" style=\"width: 20px; height: 20px;background-color: rgb(255, 0, 0);\"></td><td title=\"Index: [5, 1]&#10;Color: (0, 200, 250)\" style=\"width: 20px; height: 20px;background-color: rgb(0, 200, 250);\"></td><td title=\"Index: [5, 2]&#10;Color: (0, 200, 250)\" style=\"width: 20px; height: 20px;background-color: rgb(0, 200, 250);\"></td><td title=\"Index: [5, 3]&#10;Color: (0, 200, 250)\" style=\"width: 20px; height: 20px;background-color: rgb(0, 200, 250);\"></td><td title=\"Index: [5, 4]&#10;Color: (0, 200, 250)\" style=\"width: 20px; height: 20px;background-color: rgb(0, 200, 250);\"></td><td title=\"Index: [5, 5]&#10;Color: (0, 200, 250)\" style=\"width: 20px; height: 20px;background-color: rgb(0, 200, 250);\"></td><td title=\"Index: [5, 6]&#10;Color: (255, 0, 0)\" style=\"width: 20px; height: 20px;background-color: rgb(255, 0, 0);\"></td></tr><tr><td title=\"Index: [6, 0]&#10;Color: (255, 0, 0)\" style=\"width: 20px; height: 20px;background-color: rgb(255, 0, 0);\"></td><td title=\"Index: [6, 1]&#10;Color: (255, 0, 0)\" style=\"width: 20px; height: 20px;background-color: rgb(255, 0, 0);\"></td><td title=\"Index: [6, 2]&#10;Color: (255, 0, 0)\" style=\"width: 20px; height: 20px;background-color: rgb(255, 0, 0);\"></td><td title=\"Index: [6, 3]&#10;Color: (255, 0, 0)\" style=\"width: 20px; height: 20px;background-color: rgb(255, 0, 0);\"></td><td title=\"Index: [6, 4]&#10;Color: (255, 0, 0)\" style=\"width: 20px; height: 20px;background-color: rgb(255, 0, 0);\"></td><td title=\"Index: [6, 5]&#10;Color: (255, 0, 0)\" style=\"width: 20px; height: 20px;background-color: rgb(255, 0, 0);\"></td><td title=\"Index: [6, 6]&#10;Color: (255, 0, 0)\" style=\"width: 20px; height: 20px;background-color: rgb(255, 0, 0);\"></td></tr></tbody></table>"
      ],
      "text/plain": [
       "<IPython.core.display.HTML object>"
      ]
     },
     "metadata": {},
     "output_type": "display_data"
    },
    {
     "name": "stdout",
     "output_type": "stream",
     "text": [
      "[<Breeze>, <Stench>]\n",
      "[None]\n",
      "[None]\n"
     ]
    },
    {
     "data": {
      "text/html": [
       "<style type=\"text/css\">table.blockgrid {border: none;} .blockgrid tr {border: none;} .blockgrid td {padding: 0px;} #blocksfebee30e-43c8-48e0-a929-33c0d22c3d5a td {border: 1px solid white;}</style><table id=\"blocksfebee30e-43c8-48e0-a929-33c0d22c3d5a\" class=\"blockgrid\"><tbody><tr><td title=\"Index: [0, 0]&#10;Color: (255, 0, 0)\" style=\"width: 20px; height: 20px;background-color: rgb(255, 0, 0);\"></td><td title=\"Index: [0, 1]&#10;Color: (255, 0, 0)\" style=\"width: 20px; height: 20px;background-color: rgb(255, 0, 0);\"></td><td title=\"Index: [0, 2]&#10;Color: (255, 0, 0)\" style=\"width: 20px; height: 20px;background-color: rgb(255, 0, 0);\"></td><td title=\"Index: [0, 3]&#10;Color: (255, 0, 0)\" style=\"width: 20px; height: 20px;background-color: rgb(255, 0, 0);\"></td><td title=\"Index: [0, 4]&#10;Color: (255, 0, 0)\" style=\"width: 20px; height: 20px;background-color: rgb(255, 0, 0);\"></td><td title=\"Index: [0, 5]&#10;Color: (255, 0, 0)\" style=\"width: 20px; height: 20px;background-color: rgb(255, 0, 0);\"></td><td title=\"Index: [0, 6]&#10;Color: (255, 0, 0)\" style=\"width: 20px; height: 20px;background-color: rgb(255, 0, 0);\"></td></tr><tr><td title=\"Index: [1, 0]&#10;Color: (255, 0, 0)\" style=\"width: 20px; height: 20px;background-color: rgb(255, 0, 0);\"></td><td title=\"Index: [1, 1]&#10;Color: (0, 200, 250)\" style=\"width: 20px; height: 20px;background-color: rgb(0, 200, 250);\"></td><td title=\"Index: [1, 2]&#10;Color: (0, 200, 250)\" style=\"width: 20px; height: 20px;background-color: rgb(0, 200, 250);\"></td><td title=\"Index: [1, 3]&#10;Color: (0, 200, 250)\" style=\"width: 20px; height: 20px;background-color: rgb(0, 200, 250);\"></td><td title=\"Index: [1, 4]&#10;Color: (0, 200, 250)\" style=\"width: 20px; height: 20px;background-color: rgb(0, 200, 250);\"></td><td title=\"Index: [1, 5]&#10;Color: (0, 200, 250)\" style=\"width: 20px; height: 20px;background-color: rgb(0, 200, 250);\"></td><td title=\"Index: [1, 6]&#10;Color: (255, 0, 0)\" style=\"width: 20px; height: 20px;background-color: rgb(255, 0, 0);\"></td></tr><tr><td title=\"Index: [2, 0]&#10;Color: (255, 0, 0)\" style=\"width: 20px; height: 20px;background-color: rgb(255, 0, 0);\"></td><td title=\"Index: [2, 1]&#10;Color: (0, 200, 250)\" style=\"width: 20px; height: 20px;background-color: rgb(0, 200, 250);\"></td><td title=\"Index: [2, 2]&#10;Color: (0, 200, 250)\" style=\"width: 20px; height: 20px;background-color: rgb(0, 200, 250);\"></td><td title=\"Index: [2, 3]&#10;Color: (0, 200, 250)\" style=\"width: 20px; height: 20px;background-color: rgb(0, 200, 250);\"></td><td title=\"Index: [2, 4]&#10;Color: (0, 200, 250)\" style=\"width: 20px; height: 20px;background-color: rgb(0, 200, 250);\"></td><td title=\"Index: [2, 5]&#10;Color: (0, 200, 250)\" style=\"width: 20px; height: 20px;background-color: rgb(0, 200, 250);\"></td><td title=\"Index: [2, 6]&#10;Color: (255, 0, 0)\" style=\"width: 20px; height: 20px;background-color: rgb(255, 0, 0);\"></td></tr><tr><td title=\"Index: [3, 0]&#10;Color: (255, 0, 0)\" style=\"width: 20px; height: 20px;background-color: rgb(255, 0, 0);\"></td><td title=\"Index: [3, 1]&#10;Color: (253, 208, 23)\" style=\"width: 20px; height: 20px;background-color: rgb(253, 208, 23);\"></td><td title=\"Index: [3, 2]&#10;Color: (0, 0, 0)\" style=\"width: 20px; height: 20px;background-color: rgb(0, 0, 0);\"></td><td title=\"Index: [3, 3]&#10;Color: (0, 200, 250)\" style=\"width: 20px; height: 20px;background-color: rgb(0, 200, 250);\"></td><td title=\"Index: [3, 4]&#10;Color: (0, 200, 250)\" style=\"width: 20px; height: 20px;background-color: rgb(0, 200, 250);\"></td><td title=\"Index: [3, 5]&#10;Color: (0, 200, 250)\" style=\"width: 20px; height: 20px;background-color: rgb(0, 200, 250);\"></td><td title=\"Index: [3, 6]&#10;Color: (255, 0, 0)\" style=\"width: 20px; height: 20px;background-color: rgb(255, 0, 0);\"></td></tr><tr><td title=\"Index: [4, 0]&#10;Color: (255, 0, 0)\" style=\"width: 20px; height: 20px;background-color: rgb(255, 0, 0);\"></td><td title=\"Index: [4, 1]&#10;Color: (255, 0, 255)\" style=\"width: 20px; height: 20px;background-color: rgb(255, 0, 255);\"></td><td title=\"Index: [4, 2]&#10;Color: (0, 200, 250)\" style=\"width: 20px; height: 20px;background-color: rgb(0, 200, 250);\"></td><td title=\"Index: [4, 3]&#10;Color: (0, 0, 255)\" style=\"width: 20px; height: 20px;background-color: rgb(0, 0, 255);\"></td><td title=\"Index: [4, 4]&#10;Color: (0, 200, 250)\" style=\"width: 20px; height: 20px;background-color: rgb(0, 200, 250);\"></td><td title=\"Index: [4, 5]&#10;Color: (0, 200, 250)\" style=\"width: 20px; height: 20px;background-color: rgb(0, 200, 250);\"></td><td title=\"Index: [4, 6]&#10;Color: (255, 0, 0)\" style=\"width: 20px; height: 20px;background-color: rgb(255, 0, 0);\"></td></tr><tr><td title=\"Index: [5, 0]&#10;Color: (255, 0, 0)\" style=\"width: 20px; height: 20px;background-color: rgb(255, 0, 0);\"></td><td title=\"Index: [5, 1]&#10;Color: (0, 200, 250)\" style=\"width: 20px; height: 20px;background-color: rgb(0, 200, 250);\"></td><td title=\"Index: [5, 2]&#10;Color: (0, 200, 250)\" style=\"width: 20px; height: 20px;background-color: rgb(0, 200, 250);\"></td><td title=\"Index: [5, 3]&#10;Color: (0, 200, 250)\" style=\"width: 20px; height: 20px;background-color: rgb(0, 200, 250);\"></td><td title=\"Index: [5, 4]&#10;Color: (0, 200, 250)\" style=\"width: 20px; height: 20px;background-color: rgb(0, 200, 250);\"></td><td title=\"Index: [5, 5]&#10;Color: (0, 200, 250)\" style=\"width: 20px; height: 20px;background-color: rgb(0, 200, 250);\"></td><td title=\"Index: [5, 6]&#10;Color: (255, 0, 0)\" style=\"width: 20px; height: 20px;background-color: rgb(255, 0, 0);\"></td></tr><tr><td title=\"Index: [6, 0]&#10;Color: (255, 0, 0)\" style=\"width: 20px; height: 20px;background-color: rgb(255, 0, 0);\"></td><td title=\"Index: [6, 1]&#10;Color: (255, 0, 0)\" style=\"width: 20px; height: 20px;background-color: rgb(255, 0, 0);\"></td><td title=\"Index: [6, 2]&#10;Color: (255, 0, 0)\" style=\"width: 20px; height: 20px;background-color: rgb(255, 0, 0);\"></td><td title=\"Index: [6, 3]&#10;Color: (255, 0, 0)\" style=\"width: 20px; height: 20px;background-color: rgb(255, 0, 0);\"></td><td title=\"Index: [6, 4]&#10;Color: (255, 0, 0)\" style=\"width: 20px; height: 20px;background-color: rgb(255, 0, 0);\"></td><td title=\"Index: [6, 5]&#10;Color: (255, 0, 0)\" style=\"width: 20px; height: 20px;background-color: rgb(255, 0, 0);\"></td><td title=\"Index: [6, 6]&#10;Color: (255, 0, 0)\" style=\"width: 20px; height: 20px;background-color: rgb(255, 0, 0);\"></td></tr></tbody></table>"
      ],
      "text/plain": [
       "<IPython.core.display.HTML object>"
      ]
     },
     "metadata": {},
     "output_type": "display_data"
    },
    {
     "name": "stdout",
     "output_type": "stream",
     "text": [
      "[None]\n",
      "[<Breeze>]\n",
      "[<Breeze>]\n"
     ]
    },
    {
     "data": {
      "text/html": [
       "<style type=\"text/css\">table.blockgrid {border: none;} .blockgrid tr {border: none;} .blockgrid td {padding: 0px;} #blocks4caa9a0e-3bb0-4c29-bc87-6f60e4b0be2c td {border: 1px solid white;}</style><table id=\"blocks4caa9a0e-3bb0-4c29-bc87-6f60e4b0be2c\" class=\"blockgrid\"><tbody><tr><td title=\"Index: [0, 0]&#10;Color: (255, 0, 0)\" style=\"width: 20px; height: 20px;background-color: rgb(255, 0, 0);\"></td><td title=\"Index: [0, 1]&#10;Color: (255, 0, 0)\" style=\"width: 20px; height: 20px;background-color: rgb(255, 0, 0);\"></td><td title=\"Index: [0, 2]&#10;Color: (255, 0, 0)\" style=\"width: 20px; height: 20px;background-color: rgb(255, 0, 0);\"></td><td title=\"Index: [0, 3]&#10;Color: (255, 0, 0)\" style=\"width: 20px; height: 20px;background-color: rgb(255, 0, 0);\"></td><td title=\"Index: [0, 4]&#10;Color: (255, 0, 0)\" style=\"width: 20px; height: 20px;background-color: rgb(255, 0, 0);\"></td><td title=\"Index: [0, 5]&#10;Color: (255, 0, 0)\" style=\"width: 20px; height: 20px;background-color: rgb(255, 0, 0);\"></td><td title=\"Index: [0, 6]&#10;Color: (255, 0, 0)\" style=\"width: 20px; height: 20px;background-color: rgb(255, 0, 0);\"></td></tr><tr><td title=\"Index: [1, 0]&#10;Color: (255, 0, 0)\" style=\"width: 20px; height: 20px;background-color: rgb(255, 0, 0);\"></td><td title=\"Index: [1, 1]&#10;Color: (0, 200, 250)\" style=\"width: 20px; height: 20px;background-color: rgb(0, 200, 250);\"></td><td title=\"Index: [1, 2]&#10;Color: (0, 200, 250)\" style=\"width: 20px; height: 20px;background-color: rgb(0, 200, 250);\"></td><td title=\"Index: [1, 3]&#10;Color: (0, 200, 250)\" style=\"width: 20px; height: 20px;background-color: rgb(0, 200, 250);\"></td><td title=\"Index: [1, 4]&#10;Color: (0, 200, 250)\" style=\"width: 20px; height: 20px;background-color: rgb(0, 200, 250);\"></td><td title=\"Index: [1, 5]&#10;Color: (0, 200, 250)\" style=\"width: 20px; height: 20px;background-color: rgb(0, 200, 250);\"></td><td title=\"Index: [1, 6]&#10;Color: (255, 0, 0)\" style=\"width: 20px; height: 20px;background-color: rgb(255, 0, 0);\"></td></tr><tr><td title=\"Index: [2, 0]&#10;Color: (255, 0, 0)\" style=\"width: 20px; height: 20px;background-color: rgb(255, 0, 0);\"></td><td title=\"Index: [2, 1]&#10;Color: (0, 200, 250)\" style=\"width: 20px; height: 20px;background-color: rgb(0, 200, 250);\"></td><td title=\"Index: [2, 2]&#10;Color: (0, 200, 250)\" style=\"width: 20px; height: 20px;background-color: rgb(0, 200, 250);\"></td><td title=\"Index: [2, 3]&#10;Color: (0, 200, 250)\" style=\"width: 20px; height: 20px;background-color: rgb(0, 200, 250);\"></td><td title=\"Index: [2, 4]&#10;Color: (0, 200, 250)\" style=\"width: 20px; height: 20px;background-color: rgb(0, 200, 250);\"></td><td title=\"Index: [2, 5]&#10;Color: (0, 200, 250)\" style=\"width: 20px; height: 20px;background-color: rgb(0, 200, 250);\"></td><td title=\"Index: [2, 6]&#10;Color: (255, 0, 0)\" style=\"width: 20px; height: 20px;background-color: rgb(255, 0, 0);\"></td></tr><tr><td title=\"Index: [3, 0]&#10;Color: (255, 0, 0)\" style=\"width: 20px; height: 20px;background-color: rgb(255, 0, 0);\"></td><td title=\"Index: [3, 1]&#10;Color: (253, 208, 23)\" style=\"width: 20px; height: 20px;background-color: rgb(253, 208, 23);\"></td><td title=\"Index: [3, 2]&#10;Color: (0, 0, 0)\" style=\"width: 20px; height: 20px;background-color: rgb(0, 0, 0);\"></td><td title=\"Index: [3, 3]&#10;Color: (0, 0, 255)\" style=\"width: 20px; height: 20px;background-color: rgb(0, 0, 255);\"></td><td title=\"Index: [3, 4]&#10;Color: (0, 200, 250)\" style=\"width: 20px; height: 20px;background-color: rgb(0, 200, 250);\"></td><td title=\"Index: [3, 5]&#10;Color: (0, 200, 250)\" style=\"width: 20px; height: 20px;background-color: rgb(0, 200, 250);\"></td><td title=\"Index: [3, 6]&#10;Color: (255, 0, 0)\" style=\"width: 20px; height: 20px;background-color: rgb(255, 0, 0);\"></td></tr><tr><td title=\"Index: [4, 0]&#10;Color: (255, 0, 0)\" style=\"width: 20px; height: 20px;background-color: rgb(255, 0, 0);\"></td><td title=\"Index: [4, 1]&#10;Color: (255, 0, 255)\" style=\"width: 20px; height: 20px;background-color: rgb(255, 0, 255);\"></td><td title=\"Index: [4, 2]&#10;Color: (0, 200, 250)\" style=\"width: 20px; height: 20px;background-color: rgb(0, 200, 250);\"></td><td title=\"Index: [4, 3]&#10;Color: (0, 200, 250)\" style=\"width: 20px; height: 20px;background-color: rgb(0, 200, 250);\"></td><td title=\"Index: [4, 4]&#10;Color: (0, 200, 250)\" style=\"width: 20px; height: 20px;background-color: rgb(0, 200, 250);\"></td><td title=\"Index: [4, 5]&#10;Color: (0, 200, 250)\" style=\"width: 20px; height: 20px;background-color: rgb(0, 200, 250);\"></td><td title=\"Index: [4, 6]&#10;Color: (255, 0, 0)\" style=\"width: 20px; height: 20px;background-color: rgb(255, 0, 0);\"></td></tr><tr><td title=\"Index: [5, 0]&#10;Color: (255, 0, 0)\" style=\"width: 20px; height: 20px;background-color: rgb(255, 0, 0);\"></td><td title=\"Index: [5, 1]&#10;Color: (0, 200, 250)\" style=\"width: 20px; height: 20px;background-color: rgb(0, 200, 250);\"></td><td title=\"Index: [5, 2]&#10;Color: (0, 200, 250)\" style=\"width: 20px; height: 20px;background-color: rgb(0, 200, 250);\"></td><td title=\"Index: [5, 3]&#10;Color: (0, 200, 250)\" style=\"width: 20px; height: 20px;background-color: rgb(0, 200, 250);\"></td><td title=\"Index: [5, 4]&#10;Color: (0, 200, 250)\" style=\"width: 20px; height: 20px;background-color: rgb(0, 200, 250);\"></td><td title=\"Index: [5, 5]&#10;Color: (0, 200, 250)\" style=\"width: 20px; height: 20px;background-color: rgb(0, 200, 250);\"></td><td title=\"Index: [5, 6]&#10;Color: (255, 0, 0)\" style=\"width: 20px; height: 20px;background-color: rgb(255, 0, 0);\"></td></tr><tr><td title=\"Index: [6, 0]&#10;Color: (255, 0, 0)\" style=\"width: 20px; height: 20px;background-color: rgb(255, 0, 0);\"></td><td title=\"Index: [6, 1]&#10;Color: (255, 0, 0)\" style=\"width: 20px; height: 20px;background-color: rgb(255, 0, 0);\"></td><td title=\"Index: [6, 2]&#10;Color: (255, 0, 0)\" style=\"width: 20px; height: 20px;background-color: rgb(255, 0, 0);\"></td><td title=\"Index: [6, 3]&#10;Color: (255, 0, 0)\" style=\"width: 20px; height: 20px;background-color: rgb(255, 0, 0);\"></td><td title=\"Index: [6, 4]&#10;Color: (255, 0, 0)\" style=\"width: 20px; height: 20px;background-color: rgb(255, 0, 0);\"></td><td title=\"Index: [6, 5]&#10;Color: (255, 0, 0)\" style=\"width: 20px; height: 20px;background-color: rgb(255, 0, 0);\"></td><td title=\"Index: [6, 6]&#10;Color: (255, 0, 0)\" style=\"width: 20px; height: 20px;background-color: rgb(255, 0, 0);\"></td></tr></tbody></table>"
      ],
      "text/plain": [
       "<IPython.core.display.HTML object>"
      ]
     },
     "metadata": {},
     "output_type": "display_data"
    },
    {
     "name": "stdout",
     "output_type": "stream",
     "text": [
      "[None]\n",
      "[None]\n"
     ]
    },
    {
     "data": {
      "text/html": [
       "<style type=\"text/css\">table.blockgrid {border: none;} .blockgrid tr {border: none;} .blockgrid td {padding: 0px;} #blocks0386e3ed-38dd-4d78-a697-b1e6f6a89223 td {border: 1px solid white;}</style><table id=\"blocks0386e3ed-38dd-4d78-a697-b1e6f6a89223\" class=\"blockgrid\"><tbody><tr><td title=\"Index: [0, 0]&#10;Color: (255, 0, 0)\" style=\"width: 20px; height: 20px;background-color: rgb(255, 0, 0);\"></td><td title=\"Index: [0, 1]&#10;Color: (255, 0, 0)\" style=\"width: 20px; height: 20px;background-color: rgb(255, 0, 0);\"></td><td title=\"Index: [0, 2]&#10;Color: (255, 0, 0)\" style=\"width: 20px; height: 20px;background-color: rgb(255, 0, 0);\"></td><td title=\"Index: [0, 3]&#10;Color: (255, 0, 0)\" style=\"width: 20px; height: 20px;background-color: rgb(255, 0, 0);\"></td><td title=\"Index: [0, 4]&#10;Color: (255, 0, 0)\" style=\"width: 20px; height: 20px;background-color: rgb(255, 0, 0);\"></td><td title=\"Index: [0, 5]&#10;Color: (255, 0, 0)\" style=\"width: 20px; height: 20px;background-color: rgb(255, 0, 0);\"></td><td title=\"Index: [0, 6]&#10;Color: (255, 0, 0)\" style=\"width: 20px; height: 20px;background-color: rgb(255, 0, 0);\"></td></tr><tr><td title=\"Index: [1, 0]&#10;Color: (255, 0, 0)\" style=\"width: 20px; height: 20px;background-color: rgb(255, 0, 0);\"></td><td title=\"Index: [1, 1]&#10;Color: (0, 200, 250)\" style=\"width: 20px; height: 20px;background-color: rgb(0, 200, 250);\"></td><td title=\"Index: [1, 2]&#10;Color: (0, 200, 250)\" style=\"width: 20px; height: 20px;background-color: rgb(0, 200, 250);\"></td><td title=\"Index: [1, 3]&#10;Color: (0, 200, 250)\" style=\"width: 20px; height: 20px;background-color: rgb(0, 200, 250);\"></td><td title=\"Index: [1, 4]&#10;Color: (0, 200, 250)\" style=\"width: 20px; height: 20px;background-color: rgb(0, 200, 250);\"></td><td title=\"Index: [1, 5]&#10;Color: (0, 200, 250)\" style=\"width: 20px; height: 20px;background-color: rgb(0, 200, 250);\"></td><td title=\"Index: [1, 6]&#10;Color: (255, 0, 0)\" style=\"width: 20px; height: 20px;background-color: rgb(255, 0, 0);\"></td></tr><tr><td title=\"Index: [2, 0]&#10;Color: (255, 0, 0)\" style=\"width: 20px; height: 20px;background-color: rgb(255, 0, 0);\"></td><td title=\"Index: [2, 1]&#10;Color: (0, 200, 250)\" style=\"width: 20px; height: 20px;background-color: rgb(0, 200, 250);\"></td><td title=\"Index: [2, 2]&#10;Color: (0, 200, 250)\" style=\"width: 20px; height: 20px;background-color: rgb(0, 200, 250);\"></td><td title=\"Index: [2, 3]&#10;Color: (0, 0, 255)\" style=\"width: 20px; height: 20px;background-color: rgb(0, 0, 255);\"></td><td title=\"Index: [2, 4]&#10;Color: (0, 200, 250)\" style=\"width: 20px; height: 20px;background-color: rgb(0, 200, 250);\"></td><td title=\"Index: [2, 5]&#10;Color: (0, 200, 250)\" style=\"width: 20px; height: 20px;background-color: rgb(0, 200, 250);\"></td><td title=\"Index: [2, 6]&#10;Color: (255, 0, 0)\" style=\"width: 20px; height: 20px;background-color: rgb(255, 0, 0);\"></td></tr><tr><td title=\"Index: [3, 0]&#10;Color: (255, 0, 0)\" style=\"width: 20px; height: 20px;background-color: rgb(255, 0, 0);\"></td><td title=\"Index: [3, 1]&#10;Color: (253, 208, 23)\" style=\"width: 20px; height: 20px;background-color: rgb(253, 208, 23);\"></td><td title=\"Index: [3, 2]&#10;Color: (0, 0, 0)\" style=\"width: 20px; height: 20px;background-color: rgb(0, 0, 0);\"></td><td title=\"Index: [3, 3]&#10;Color: (0, 200, 250)\" style=\"width: 20px; height: 20px;background-color: rgb(0, 200, 250);\"></td><td title=\"Index: [3, 4]&#10;Color: (0, 200, 250)\" style=\"width: 20px; height: 20px;background-color: rgb(0, 200, 250);\"></td><td title=\"Index: [3, 5]&#10;Color: (0, 200, 250)\" style=\"width: 20px; height: 20px;background-color: rgb(0, 200, 250);\"></td><td title=\"Index: [3, 6]&#10;Color: (255, 0, 0)\" style=\"width: 20px; height: 20px;background-color: rgb(255, 0, 0);\"></td></tr><tr><td title=\"Index: [4, 0]&#10;Color: (255, 0, 0)\" style=\"width: 20px; height: 20px;background-color: rgb(255, 0, 0);\"></td><td title=\"Index: [4, 1]&#10;Color: (255, 0, 255)\" style=\"width: 20px; height: 20px;background-color: rgb(255, 0, 255);\"></td><td title=\"Index: [4, 2]&#10;Color: (0, 200, 250)\" style=\"width: 20px; height: 20px;background-color: rgb(0, 200, 250);\"></td><td title=\"Index: [4, 3]&#10;Color: (0, 200, 250)\" style=\"width: 20px; height: 20px;background-color: rgb(0, 200, 250);\"></td><td title=\"Index: [4, 4]&#10;Color: (0, 200, 250)\" style=\"width: 20px; height: 20px;background-color: rgb(0, 200, 250);\"></td><td title=\"Index: [4, 5]&#10;Color: (0, 200, 250)\" style=\"width: 20px; height: 20px;background-color: rgb(0, 200, 250);\"></td><td title=\"Index: [4, 6]&#10;Color: (255, 0, 0)\" style=\"width: 20px; height: 20px;background-color: rgb(255, 0, 0);\"></td></tr><tr><td title=\"Index: [5, 0]&#10;Color: (255, 0, 0)\" style=\"width: 20px; height: 20px;background-color: rgb(255, 0, 0);\"></td><td title=\"Index: [5, 1]&#10;Color: (0, 200, 250)\" style=\"width: 20px; height: 20px;background-color: rgb(0, 200, 250);\"></td><td title=\"Index: [5, 2]&#10;Color: (0, 200, 250)\" style=\"width: 20px; height: 20px;background-color: rgb(0, 200, 250);\"></td><td title=\"Index: [5, 3]&#10;Color: (0, 200, 250)\" style=\"width: 20px; height: 20px;background-color: rgb(0, 200, 250);\"></td><td title=\"Index: [5, 4]&#10;Color: (0, 200, 250)\" style=\"width: 20px; height: 20px;background-color: rgb(0, 200, 250);\"></td><td title=\"Index: [5, 5]&#10;Color: (0, 200, 250)\" style=\"width: 20px; height: 20px;background-color: rgb(0, 200, 250);\"></td><td title=\"Index: [5, 6]&#10;Color: (255, 0, 0)\" style=\"width: 20px; height: 20px;background-color: rgb(255, 0, 0);\"></td></tr><tr><td title=\"Index: [6, 0]&#10;Color: (255, 0, 0)\" style=\"width: 20px; height: 20px;background-color: rgb(255, 0, 0);\"></td><td title=\"Index: [6, 1]&#10;Color: (255, 0, 0)\" style=\"width: 20px; height: 20px;background-color: rgb(255, 0, 0);\"></td><td title=\"Index: [6, 2]&#10;Color: (255, 0, 0)\" style=\"width: 20px; height: 20px;background-color: rgb(255, 0, 0);\"></td><td title=\"Index: [6, 3]&#10;Color: (255, 0, 0)\" style=\"width: 20px; height: 20px;background-color: rgb(255, 0, 0);\"></td><td title=\"Index: [6, 4]&#10;Color: (255, 0, 0)\" style=\"width: 20px; height: 20px;background-color: rgb(255, 0, 0);\"></td><td title=\"Index: [6, 5]&#10;Color: (255, 0, 0)\" style=\"width: 20px; height: 20px;background-color: rgb(255, 0, 0);\"></td><td title=\"Index: [6, 6]&#10;Color: (255, 0, 0)\" style=\"width: 20px; height: 20px;background-color: rgb(255, 0, 0);\"></td></tr></tbody></table>"
      ],
      "text/plain": [
       "<IPython.core.display.HTML object>"
      ]
     },
     "metadata": {},
     "output_type": "display_data"
    },
    {
     "name": "stdout",
     "output_type": "stream",
     "text": [
      "[None]\n",
      "[<Breeze>]\n",
      "[<Breeze>]\n"
     ]
    },
    {
     "data": {
      "text/html": [
       "<style type=\"text/css\">table.blockgrid {border: none;} .blockgrid tr {border: none;} .blockgrid td {padding: 0px;} #blocks3cb444dc-67ae-4263-bc57-b29b8cb5acfa td {border: 1px solid white;}</style><table id=\"blocks3cb444dc-67ae-4263-bc57-b29b8cb5acfa\" class=\"blockgrid\"><tbody><tr><td title=\"Index: [0, 0]&#10;Color: (255, 0, 0)\" style=\"width: 20px; height: 20px;background-color: rgb(255, 0, 0);\"></td><td title=\"Index: [0, 1]&#10;Color: (255, 0, 0)\" style=\"width: 20px; height: 20px;background-color: rgb(255, 0, 0);\"></td><td title=\"Index: [0, 2]&#10;Color: (255, 0, 0)\" style=\"width: 20px; height: 20px;background-color: rgb(255, 0, 0);\"></td><td title=\"Index: [0, 3]&#10;Color: (255, 0, 0)\" style=\"width: 20px; height: 20px;background-color: rgb(255, 0, 0);\"></td><td title=\"Index: [0, 4]&#10;Color: (255, 0, 0)\" style=\"width: 20px; height: 20px;background-color: rgb(255, 0, 0);\"></td><td title=\"Index: [0, 5]&#10;Color: (255, 0, 0)\" style=\"width: 20px; height: 20px;background-color: rgb(255, 0, 0);\"></td><td title=\"Index: [0, 6]&#10;Color: (255, 0, 0)\" style=\"width: 20px; height: 20px;background-color: rgb(255, 0, 0);\"></td></tr><tr><td title=\"Index: [1, 0]&#10;Color: (255, 0, 0)\" style=\"width: 20px; height: 20px;background-color: rgb(255, 0, 0);\"></td><td title=\"Index: [1, 1]&#10;Color: (0, 200, 250)\" style=\"width: 20px; height: 20px;background-color: rgb(0, 200, 250);\"></td><td title=\"Index: [1, 2]&#10;Color: (0, 200, 250)\" style=\"width: 20px; height: 20px;background-color: rgb(0, 200, 250);\"></td><td title=\"Index: [1, 3]&#10;Color: (0, 200, 250)\" style=\"width: 20px; height: 20px;background-color: rgb(0, 200, 250);\"></td><td title=\"Index: [1, 4]&#10;Color: (0, 200, 250)\" style=\"width: 20px; height: 20px;background-color: rgb(0, 200, 250);\"></td><td title=\"Index: [1, 5]&#10;Color: (0, 200, 250)\" style=\"width: 20px; height: 20px;background-color: rgb(0, 200, 250);\"></td><td title=\"Index: [1, 6]&#10;Color: (255, 0, 0)\" style=\"width: 20px; height: 20px;background-color: rgb(255, 0, 0);\"></td></tr><tr><td title=\"Index: [2, 0]&#10;Color: (255, 0, 0)\" style=\"width: 20px; height: 20px;background-color: rgb(255, 0, 0);\"></td><td title=\"Index: [2, 1]&#10;Color: (0, 200, 250)\" style=\"width: 20px; height: 20px;background-color: rgb(0, 200, 250);\"></td><td title=\"Index: [2, 2]&#10;Color: (0, 0, 255)\" style=\"width: 20px; height: 20px;background-color: rgb(0, 0, 255);\"></td><td title=\"Index: [2, 3]&#10;Color: (0, 200, 250)\" style=\"width: 20px; height: 20px;background-color: rgb(0, 200, 250);\"></td><td title=\"Index: [2, 4]&#10;Color: (0, 200, 250)\" style=\"width: 20px; height: 20px;background-color: rgb(0, 200, 250);\"></td><td title=\"Index: [2, 5]&#10;Color: (0, 200, 250)\" style=\"width: 20px; height: 20px;background-color: rgb(0, 200, 250);\"></td><td title=\"Index: [2, 6]&#10;Color: (255, 0, 0)\" style=\"width: 20px; height: 20px;background-color: rgb(255, 0, 0);\"></td></tr><tr><td title=\"Index: [3, 0]&#10;Color: (255, 0, 0)\" style=\"width: 20px; height: 20px;background-color: rgb(255, 0, 0);\"></td><td title=\"Index: [3, 1]&#10;Color: (253, 208, 23)\" style=\"width: 20px; height: 20px;background-color: rgb(253, 208, 23);\"></td><td title=\"Index: [3, 2]&#10;Color: (0, 0, 0)\" style=\"width: 20px; height: 20px;background-color: rgb(0, 0, 0);\"></td><td title=\"Index: [3, 3]&#10;Color: (0, 200, 250)\" style=\"width: 20px; height: 20px;background-color: rgb(0, 200, 250);\"></td><td title=\"Index: [3, 4]&#10;Color: (0, 200, 250)\" style=\"width: 20px; height: 20px;background-color: rgb(0, 200, 250);\"></td><td title=\"Index: [3, 5]&#10;Color: (0, 200, 250)\" style=\"width: 20px; height: 20px;background-color: rgb(0, 200, 250);\"></td><td title=\"Index: [3, 6]&#10;Color: (255, 0, 0)\" style=\"width: 20px; height: 20px;background-color: rgb(255, 0, 0);\"></td></tr><tr><td title=\"Index: [4, 0]&#10;Color: (255, 0, 0)\" style=\"width: 20px; height: 20px;background-color: rgb(255, 0, 0);\"></td><td title=\"Index: [4, 1]&#10;Color: (255, 0, 255)\" style=\"width: 20px; height: 20px;background-color: rgb(255, 0, 255);\"></td><td title=\"Index: [4, 2]&#10;Color: (0, 200, 250)\" style=\"width: 20px; height: 20px;background-color: rgb(0, 200, 250);\"></td><td title=\"Index: [4, 3]&#10;Color: (0, 200, 250)\" style=\"width: 20px; height: 20px;background-color: rgb(0, 200, 250);\"></td><td title=\"Index: [4, 4]&#10;Color: (0, 200, 250)\" style=\"width: 20px; height: 20px;background-color: rgb(0, 200, 250);\"></td><td title=\"Index: [4, 5]&#10;Color: (0, 200, 250)\" style=\"width: 20px; height: 20px;background-color: rgb(0, 200, 250);\"></td><td title=\"Index: [4, 6]&#10;Color: (255, 0, 0)\" style=\"width: 20px; height: 20px;background-color: rgb(255, 0, 0);\"></td></tr><tr><td title=\"Index: [5, 0]&#10;Color: (255, 0, 0)\" style=\"width: 20px; height: 20px;background-color: rgb(255, 0, 0);\"></td><td title=\"Index: [5, 1]&#10;Color: (0, 200, 250)\" style=\"width: 20px; height: 20px;background-color: rgb(0, 200, 250);\"></td><td title=\"Index: [5, 2]&#10;Color: (0, 200, 250)\" style=\"width: 20px; height: 20px;background-color: rgb(0, 200, 250);\"></td><td title=\"Index: [5, 3]&#10;Color: (0, 200, 250)\" style=\"width: 20px; height: 20px;background-color: rgb(0, 200, 250);\"></td><td title=\"Index: [5, 4]&#10;Color: (0, 200, 250)\" style=\"width: 20px; height: 20px;background-color: rgb(0, 200, 250);\"></td><td title=\"Index: [5, 5]&#10;Color: (0, 200, 250)\" style=\"width: 20px; height: 20px;background-color: rgb(0, 200, 250);\"></td><td title=\"Index: [5, 6]&#10;Color: (255, 0, 0)\" style=\"width: 20px; height: 20px;background-color: rgb(255, 0, 0);\"></td></tr><tr><td title=\"Index: [6, 0]&#10;Color: (255, 0, 0)\" style=\"width: 20px; height: 20px;background-color: rgb(255, 0, 0);\"></td><td title=\"Index: [6, 1]&#10;Color: (255, 0, 0)\" style=\"width: 20px; height: 20px;background-color: rgb(255, 0, 0);\"></td><td title=\"Index: [6, 2]&#10;Color: (255, 0, 0)\" style=\"width: 20px; height: 20px;background-color: rgb(255, 0, 0);\"></td><td title=\"Index: [6, 3]&#10;Color: (255, 0, 0)\" style=\"width: 20px; height: 20px;background-color: rgb(255, 0, 0);\"></td><td title=\"Index: [6, 4]&#10;Color: (255, 0, 0)\" style=\"width: 20px; height: 20px;background-color: rgb(255, 0, 0);\"></td><td title=\"Index: [6, 5]&#10;Color: (255, 0, 0)\" style=\"width: 20px; height: 20px;background-color: rgb(255, 0, 0);\"></td><td title=\"Index: [6, 6]&#10;Color: (255, 0, 0)\" style=\"width: 20px; height: 20px;background-color: rgb(255, 0, 0);\"></td></tr></tbody></table>"
      ],
      "text/plain": [
       "<IPython.core.display.HTML object>"
      ]
     },
     "metadata": {},
     "output_type": "display_data"
    },
    {
     "name": "stdout",
     "output_type": "stream",
     "text": [
      "[None]\n",
      "[None]\n"
     ]
    },
    {
     "data": {
      "text/html": [
       "<style type=\"text/css\">table.blockgrid {border: none;} .blockgrid tr {border: none;} .blockgrid td {padding: 0px;} #blocks45fdb86e-0d40-43be-b725-660643f9d01d td {border: 1px solid white;}</style><table id=\"blocks45fdb86e-0d40-43be-b725-660643f9d01d\" class=\"blockgrid\"><tbody><tr><td title=\"Index: [0, 0]&#10;Color: (255, 0, 0)\" style=\"width: 20px; height: 20px;background-color: rgb(255, 0, 0);\"></td><td title=\"Index: [0, 1]&#10;Color: (255, 0, 0)\" style=\"width: 20px; height: 20px;background-color: rgb(255, 0, 0);\"></td><td title=\"Index: [0, 2]&#10;Color: (255, 0, 0)\" style=\"width: 20px; height: 20px;background-color: rgb(255, 0, 0);\"></td><td title=\"Index: [0, 3]&#10;Color: (255, 0, 0)\" style=\"width: 20px; height: 20px;background-color: rgb(255, 0, 0);\"></td><td title=\"Index: [0, 4]&#10;Color: (255, 0, 0)\" style=\"width: 20px; height: 20px;background-color: rgb(255, 0, 0);\"></td><td title=\"Index: [0, 5]&#10;Color: (255, 0, 0)\" style=\"width: 20px; height: 20px;background-color: rgb(255, 0, 0);\"></td><td title=\"Index: [0, 6]&#10;Color: (255, 0, 0)\" style=\"width: 20px; height: 20px;background-color: rgb(255, 0, 0);\"></td></tr><tr><td title=\"Index: [1, 0]&#10;Color: (255, 0, 0)\" style=\"width: 20px; height: 20px;background-color: rgb(255, 0, 0);\"></td><td title=\"Index: [1, 1]&#10;Color: (0, 200, 250)\" style=\"width: 20px; height: 20px;background-color: rgb(0, 200, 250);\"></td><td title=\"Index: [1, 2]&#10;Color: (0, 200, 250)\" style=\"width: 20px; height: 20px;background-color: rgb(0, 200, 250);\"></td><td title=\"Index: [1, 3]&#10;Color: (0, 200, 250)\" style=\"width: 20px; height: 20px;background-color: rgb(0, 200, 250);\"></td><td title=\"Index: [1, 4]&#10;Color: (0, 200, 250)\" style=\"width: 20px; height: 20px;background-color: rgb(0, 200, 250);\"></td><td title=\"Index: [1, 5]&#10;Color: (0, 200, 250)\" style=\"width: 20px; height: 20px;background-color: rgb(0, 200, 250);\"></td><td title=\"Index: [1, 6]&#10;Color: (255, 0, 0)\" style=\"width: 20px; height: 20px;background-color: rgb(255, 0, 0);\"></td></tr><tr><td title=\"Index: [2, 0]&#10;Color: (255, 0, 0)\" style=\"width: 20px; height: 20px;background-color: rgb(255, 0, 0);\"></td><td title=\"Index: [2, 1]&#10;Color: (0, 0, 255)\" style=\"width: 20px; height: 20px;background-color: rgb(0, 0, 255);\"></td><td title=\"Index: [2, 2]&#10;Color: (0, 200, 250)\" style=\"width: 20px; height: 20px;background-color: rgb(0, 200, 250);\"></td><td title=\"Index: [2, 3]&#10;Color: (0, 200, 250)\" style=\"width: 20px; height: 20px;background-color: rgb(0, 200, 250);\"></td><td title=\"Index: [2, 4]&#10;Color: (0, 200, 250)\" style=\"width: 20px; height: 20px;background-color: rgb(0, 200, 250);\"></td><td title=\"Index: [2, 5]&#10;Color: (0, 200, 250)\" style=\"width: 20px; height: 20px;background-color: rgb(0, 200, 250);\"></td><td title=\"Index: [2, 6]&#10;Color: (255, 0, 0)\" style=\"width: 20px; height: 20px;background-color: rgb(255, 0, 0);\"></td></tr><tr><td title=\"Index: [3, 0]&#10;Color: (255, 0, 0)\" style=\"width: 20px; height: 20px;background-color: rgb(255, 0, 0);\"></td><td title=\"Index: [3, 1]&#10;Color: (253, 208, 23)\" style=\"width: 20px; height: 20px;background-color: rgb(253, 208, 23);\"></td><td title=\"Index: [3, 2]&#10;Color: (0, 0, 0)\" style=\"width: 20px; height: 20px;background-color: rgb(0, 0, 0);\"></td><td title=\"Index: [3, 3]&#10;Color: (0, 200, 250)\" style=\"width: 20px; height: 20px;background-color: rgb(0, 200, 250);\"></td><td title=\"Index: [3, 4]&#10;Color: (0, 200, 250)\" style=\"width: 20px; height: 20px;background-color: rgb(0, 200, 250);\"></td><td title=\"Index: [3, 5]&#10;Color: (0, 200, 250)\" style=\"width: 20px; height: 20px;background-color: rgb(0, 200, 250);\"></td><td title=\"Index: [3, 6]&#10;Color: (255, 0, 0)\" style=\"width: 20px; height: 20px;background-color: rgb(255, 0, 0);\"></td></tr><tr><td title=\"Index: [4, 0]&#10;Color: (255, 0, 0)\" style=\"width: 20px; height: 20px;background-color: rgb(255, 0, 0);\"></td><td title=\"Index: [4, 1]&#10;Color: (255, 0, 255)\" style=\"width: 20px; height: 20px;background-color: rgb(255, 0, 255);\"></td><td title=\"Index: [4, 2]&#10;Color: (0, 200, 250)\" style=\"width: 20px; height: 20px;background-color: rgb(0, 200, 250);\"></td><td title=\"Index: [4, 3]&#10;Color: (0, 200, 250)\" style=\"width: 20px; height: 20px;background-color: rgb(0, 200, 250);\"></td><td title=\"Index: [4, 4]&#10;Color: (0, 200, 250)\" style=\"width: 20px; height: 20px;background-color: rgb(0, 200, 250);\"></td><td title=\"Index: [4, 5]&#10;Color: (0, 200, 250)\" style=\"width: 20px; height: 20px;background-color: rgb(0, 200, 250);\"></td><td title=\"Index: [4, 6]&#10;Color: (255, 0, 0)\" style=\"width: 20px; height: 20px;background-color: rgb(255, 0, 0);\"></td></tr><tr><td title=\"Index: [5, 0]&#10;Color: (255, 0, 0)\" style=\"width: 20px; height: 20px;background-color: rgb(255, 0, 0);\"></td><td title=\"Index: [5, 1]&#10;Color: (0, 200, 250)\" style=\"width: 20px; height: 20px;background-color: rgb(0, 200, 250);\"></td><td title=\"Index: [5, 2]&#10;Color: (0, 200, 250)\" style=\"width: 20px; height: 20px;background-color: rgb(0, 200, 250);\"></td><td title=\"Index: [5, 3]&#10;Color: (0, 200, 250)\" style=\"width: 20px; height: 20px;background-color: rgb(0, 200, 250);\"></td><td title=\"Index: [5, 4]&#10;Color: (0, 200, 250)\" style=\"width: 20px; height: 20px;background-color: rgb(0, 200, 250);\"></td><td title=\"Index: [5, 5]&#10;Color: (0, 200, 250)\" style=\"width: 20px; height: 20px;background-color: rgb(0, 200, 250);\"></td><td title=\"Index: [5, 6]&#10;Color: (255, 0, 0)\" style=\"width: 20px; height: 20px;background-color: rgb(255, 0, 0);\"></td></tr><tr><td title=\"Index: [6, 0]&#10;Color: (255, 0, 0)\" style=\"width: 20px; height: 20px;background-color: rgb(255, 0, 0);\"></td><td title=\"Index: [6, 1]&#10;Color: (255, 0, 0)\" style=\"width: 20px; height: 20px;background-color: rgb(255, 0, 0);\"></td><td title=\"Index: [6, 2]&#10;Color: (255, 0, 0)\" style=\"width: 20px; height: 20px;background-color: rgb(255, 0, 0);\"></td><td title=\"Index: [6, 3]&#10;Color: (255, 0, 0)\" style=\"width: 20px; height: 20px;background-color: rgb(255, 0, 0);\"></td><td title=\"Index: [6, 4]&#10;Color: (255, 0, 0)\" style=\"width: 20px; height: 20px;background-color: rgb(255, 0, 0);\"></td><td title=\"Index: [6, 5]&#10;Color: (255, 0, 0)\" style=\"width: 20px; height: 20px;background-color: rgb(255, 0, 0);\"></td><td title=\"Index: [6, 6]&#10;Color: (255, 0, 0)\" style=\"width: 20px; height: 20px;background-color: rgb(255, 0, 0);\"></td></tr></tbody></table>"
      ],
      "text/plain": [
       "<IPython.core.display.HTML object>"
      ]
     },
     "metadata": {},
     "output_type": "display_data"
    },
    {
     "name": "stdout",
     "output_type": "stream",
     "text": [
      "[None]\n",
      "[<Breeze>, <Stench>, <Glitter>]\n",
      "[<Breeze>, <Stench>, <Glitter>]\n"
     ]
    },
    {
     "data": {
      "text/html": [
       "<style type=\"text/css\">table.blockgrid {border: none;} .blockgrid tr {border: none;} .blockgrid td {padding: 0px;} #blocks8d441ce2-9322-4cb0-9aee-604484514b1c td {border: 1px solid white;}</style><table id=\"blocks8d441ce2-9322-4cb0-9aee-604484514b1c\" class=\"blockgrid\"><tbody><tr><td title=\"Index: [0, 0]&#10;Color: (255, 0, 0)\" style=\"width: 20px; height: 20px;background-color: rgb(255, 0, 0);\"></td><td title=\"Index: [0, 1]&#10;Color: (255, 0, 0)\" style=\"width: 20px; height: 20px;background-color: rgb(255, 0, 0);\"></td><td title=\"Index: [0, 2]&#10;Color: (255, 0, 0)\" style=\"width: 20px; height: 20px;background-color: rgb(255, 0, 0);\"></td><td title=\"Index: [0, 3]&#10;Color: (255, 0, 0)\" style=\"width: 20px; height: 20px;background-color: rgb(255, 0, 0);\"></td><td title=\"Index: [0, 4]&#10;Color: (255, 0, 0)\" style=\"width: 20px; height: 20px;background-color: rgb(255, 0, 0);\"></td><td title=\"Index: [0, 5]&#10;Color: (255, 0, 0)\" style=\"width: 20px; height: 20px;background-color: rgb(255, 0, 0);\"></td><td title=\"Index: [0, 6]&#10;Color: (255, 0, 0)\" style=\"width: 20px; height: 20px;background-color: rgb(255, 0, 0);\"></td></tr><tr><td title=\"Index: [1, 0]&#10;Color: (255, 0, 0)\" style=\"width: 20px; height: 20px;background-color: rgb(255, 0, 0);\"></td><td title=\"Index: [1, 1]&#10;Color: (0, 200, 250)\" style=\"width: 20px; height: 20px;background-color: rgb(0, 200, 250);\"></td><td title=\"Index: [1, 2]&#10;Color: (0, 200, 250)\" style=\"width: 20px; height: 20px;background-color: rgb(0, 200, 250);\"></td><td title=\"Index: [1, 3]&#10;Color: (0, 200, 250)\" style=\"width: 20px; height: 20px;background-color: rgb(0, 200, 250);\"></td><td title=\"Index: [1, 4]&#10;Color: (0, 200, 250)\" style=\"width: 20px; height: 20px;background-color: rgb(0, 200, 250);\"></td><td title=\"Index: [1, 5]&#10;Color: (0, 200, 250)\" style=\"width: 20px; height: 20px;background-color: rgb(0, 200, 250);\"></td><td title=\"Index: [1, 6]&#10;Color: (255, 0, 0)\" style=\"width: 20px; height: 20px;background-color: rgb(255, 0, 0);\"></td></tr><tr><td title=\"Index: [2, 0]&#10;Color: (255, 0, 0)\" style=\"width: 20px; height: 20px;background-color: rgb(255, 0, 0);\"></td><td title=\"Index: [2, 1]&#10;Color: (0, 200, 250)\" style=\"width: 20px; height: 20px;background-color: rgb(0, 200, 250);\"></td><td title=\"Index: [2, 2]&#10;Color: (0, 200, 250)\" style=\"width: 20px; height: 20px;background-color: rgb(0, 200, 250);\"></td><td title=\"Index: [2, 3]&#10;Color: (0, 200, 250)\" style=\"width: 20px; height: 20px;background-color: rgb(0, 200, 250);\"></td><td title=\"Index: [2, 4]&#10;Color: (0, 200, 250)\" style=\"width: 20px; height: 20px;background-color: rgb(0, 200, 250);\"></td><td title=\"Index: [2, 5]&#10;Color: (0, 200, 250)\" style=\"width: 20px; height: 20px;background-color: rgb(0, 200, 250);\"></td><td title=\"Index: [2, 6]&#10;Color: (255, 0, 0)\" style=\"width: 20px; height: 20px;background-color: rgb(255, 0, 0);\"></td></tr><tr><td title=\"Index: [3, 0]&#10;Color: (255, 0, 0)\" style=\"width: 20px; height: 20px;background-color: rgb(255, 0, 0);\"></td><td title=\"Index: [3, 1]&#10;Color: (253, 208, 23)\" style=\"width: 20px; height: 20px;background-color: rgb(253, 208, 23);\"></td><td title=\"Index: [3, 2]&#10;Color: (0, 0, 0)\" style=\"width: 20px; height: 20px;background-color: rgb(0, 0, 0);\"></td><td title=\"Index: [3, 3]&#10;Color: (0, 200, 250)\" style=\"width: 20px; height: 20px;background-color: rgb(0, 200, 250);\"></td><td title=\"Index: [3, 4]&#10;Color: (0, 200, 250)\" style=\"width: 20px; height: 20px;background-color: rgb(0, 200, 250);\"></td><td title=\"Index: [3, 5]&#10;Color: (0, 200, 250)\" style=\"width: 20px; height: 20px;background-color: rgb(0, 200, 250);\"></td><td title=\"Index: [3, 6]&#10;Color: (255, 0, 0)\" style=\"width: 20px; height: 20px;background-color: rgb(255, 0, 0);\"></td></tr><tr><td title=\"Index: [4, 0]&#10;Color: (255, 0, 0)\" style=\"width: 20px; height: 20px;background-color: rgb(255, 0, 0);\"></td><td title=\"Index: [4, 1]&#10;Color: (255, 0, 255)\" style=\"width: 20px; height: 20px;background-color: rgb(255, 0, 255);\"></td><td title=\"Index: [4, 2]&#10;Color: (0, 200, 250)\" style=\"width: 20px; height: 20px;background-color: rgb(0, 200, 250);\"></td><td title=\"Index: [4, 3]&#10;Color: (0, 200, 250)\" style=\"width: 20px; height: 20px;background-color: rgb(0, 200, 250);\"></td><td title=\"Index: [4, 4]&#10;Color: (0, 200, 250)\" style=\"width: 20px; height: 20px;background-color: rgb(0, 200, 250);\"></td><td title=\"Index: [4, 5]&#10;Color: (0, 200, 250)\" style=\"width: 20px; height: 20px;background-color: rgb(0, 200, 250);\"></td><td title=\"Index: [4, 6]&#10;Color: (255, 0, 0)\" style=\"width: 20px; height: 20px;background-color: rgb(255, 0, 0);\"></td></tr><tr><td title=\"Index: [5, 0]&#10;Color: (255, 0, 0)\" style=\"width: 20px; height: 20px;background-color: rgb(255, 0, 0);\"></td><td title=\"Index: [5, 1]&#10;Color: (0, 200, 250)\" style=\"width: 20px; height: 20px;background-color: rgb(0, 200, 250);\"></td><td title=\"Index: [5, 2]&#10;Color: (0, 200, 250)\" style=\"width: 20px; height: 20px;background-color: rgb(0, 200, 250);\"></td><td title=\"Index: [5, 3]&#10;Color: (0, 200, 250)\" style=\"width: 20px; height: 20px;background-color: rgb(0, 200, 250);\"></td><td title=\"Index: [5, 4]&#10;Color: (0, 200, 250)\" style=\"width: 20px; height: 20px;background-color: rgb(0, 200, 250);\"></td><td title=\"Index: [5, 5]&#10;Color: (0, 200, 250)\" style=\"width: 20px; height: 20px;background-color: rgb(0, 200, 250);\"></td><td title=\"Index: [5, 6]&#10;Color: (255, 0, 0)\" style=\"width: 20px; height: 20px;background-color: rgb(255, 0, 0);\"></td></tr><tr><td title=\"Index: [6, 0]&#10;Color: (255, 0, 0)\" style=\"width: 20px; height: 20px;background-color: rgb(255, 0, 0);\"></td><td title=\"Index: [6, 1]&#10;Color: (255, 0, 0)\" style=\"width: 20px; height: 20px;background-color: rgb(255, 0, 0);\"></td><td title=\"Index: [6, 2]&#10;Color: (255, 0, 0)\" style=\"width: 20px; height: 20px;background-color: rgb(255, 0, 0);\"></td><td title=\"Index: [6, 3]&#10;Color: (255, 0, 0)\" style=\"width: 20px; height: 20px;background-color: rgb(255, 0, 0);\"></td><td title=\"Index: [6, 4]&#10;Color: (255, 0, 0)\" style=\"width: 20px; height: 20px;background-color: rgb(255, 0, 0);\"></td><td title=\"Index: [6, 5]&#10;Color: (255, 0, 0)\" style=\"width: 20px; height: 20px;background-color: rgb(255, 0, 0);\"></td><td title=\"Index: [6, 6]&#10;Color: (255, 0, 0)\" style=\"width: 20px; height: 20px;background-color: rgb(255, 0, 0);\"></td></tr></tbody></table>"
      ],
      "text/plain": [
       "<IPython.core.display.HTML object>"
      ]
     },
     "metadata": {},
     "output_type": "display_data"
    },
    {
     "name": "stdout",
     "output_type": "stream",
     "text": [
      "HaveGold  False\n",
      "Possiblemoves []\n",
      "We have the gold, we return to the initial position\n",
      "Grabbing Gold\n",
      "[<Breeze>, <Stench>]\n"
     ]
    },
    {
     "data": {
      "text/html": [
       "<style type=\"text/css\">table.blockgrid {border: none;} .blockgrid tr {border: none;} .blockgrid td {padding: 0px;} #blocks61262b08-2311-4cf9-8147-ab61006c0396 td {border: 1px solid white;}</style><table id=\"blocks61262b08-2311-4cf9-8147-ab61006c0396\" class=\"blockgrid\"><tbody><tr><td title=\"Index: [0, 0]&#10;Color: (255, 0, 0)\" style=\"width: 20px; height: 20px;background-color: rgb(255, 0, 0);\"></td><td title=\"Index: [0, 1]&#10;Color: (255, 0, 0)\" style=\"width: 20px; height: 20px;background-color: rgb(255, 0, 0);\"></td><td title=\"Index: [0, 2]&#10;Color: (255, 0, 0)\" style=\"width: 20px; height: 20px;background-color: rgb(255, 0, 0);\"></td><td title=\"Index: [0, 3]&#10;Color: (255, 0, 0)\" style=\"width: 20px; height: 20px;background-color: rgb(255, 0, 0);\"></td><td title=\"Index: [0, 4]&#10;Color: (255, 0, 0)\" style=\"width: 20px; height: 20px;background-color: rgb(255, 0, 0);\"></td><td title=\"Index: [0, 5]&#10;Color: (255, 0, 0)\" style=\"width: 20px; height: 20px;background-color: rgb(255, 0, 0);\"></td><td title=\"Index: [0, 6]&#10;Color: (255, 0, 0)\" style=\"width: 20px; height: 20px;background-color: rgb(255, 0, 0);\"></td></tr><tr><td title=\"Index: [1, 0]&#10;Color: (255, 0, 0)\" style=\"width: 20px; height: 20px;background-color: rgb(255, 0, 0);\"></td><td title=\"Index: [1, 1]&#10;Color: (0, 200, 250)\" style=\"width: 20px; height: 20px;background-color: rgb(0, 200, 250);\"></td><td title=\"Index: [1, 2]&#10;Color: (0, 200, 250)\" style=\"width: 20px; height: 20px;background-color: rgb(0, 200, 250);\"></td><td title=\"Index: [1, 3]&#10;Color: (0, 200, 250)\" style=\"width: 20px; height: 20px;background-color: rgb(0, 200, 250);\"></td><td title=\"Index: [1, 4]&#10;Color: (0, 200, 250)\" style=\"width: 20px; height: 20px;background-color: rgb(0, 200, 250);\"></td><td title=\"Index: [1, 5]&#10;Color: (0, 200, 250)\" style=\"width: 20px; height: 20px;background-color: rgb(0, 200, 250);\"></td><td title=\"Index: [1, 6]&#10;Color: (255, 0, 0)\" style=\"width: 20px; height: 20px;background-color: rgb(255, 0, 0);\"></td></tr><tr><td title=\"Index: [2, 0]&#10;Color: (255, 0, 0)\" style=\"width: 20px; height: 20px;background-color: rgb(255, 0, 0);\"></td><td title=\"Index: [2, 1]&#10;Color: (0, 200, 250)\" style=\"width: 20px; height: 20px;background-color: rgb(0, 200, 250);\"></td><td title=\"Index: [2, 2]&#10;Color: (0, 200, 250)\" style=\"width: 20px; height: 20px;background-color: rgb(0, 200, 250);\"></td><td title=\"Index: [2, 3]&#10;Color: (0, 200, 250)\" style=\"width: 20px; height: 20px;background-color: rgb(0, 200, 250);\"></td><td title=\"Index: [2, 4]&#10;Color: (0, 200, 250)\" style=\"width: 20px; height: 20px;background-color: rgb(0, 200, 250);\"></td><td title=\"Index: [2, 5]&#10;Color: (0, 200, 250)\" style=\"width: 20px; height: 20px;background-color: rgb(0, 200, 250);\"></td><td title=\"Index: [2, 6]&#10;Color: (255, 0, 0)\" style=\"width: 20px; height: 20px;background-color: rgb(255, 0, 0);\"></td></tr><tr><td title=\"Index: [3, 0]&#10;Color: (255, 0, 0)\" style=\"width: 20px; height: 20px;background-color: rgb(255, 0, 0);\"></td><td title=\"Index: [3, 1]&#10;Color: (0, 0, 255)\" style=\"width: 20px; height: 20px;background-color: rgb(0, 0, 255);\"></td><td title=\"Index: [3, 2]&#10;Color: (0, 0, 0)\" style=\"width: 20px; height: 20px;background-color: rgb(0, 0, 0);\"></td><td title=\"Index: [3, 3]&#10;Color: (0, 200, 250)\" style=\"width: 20px; height: 20px;background-color: rgb(0, 200, 250);\"></td><td title=\"Index: [3, 4]&#10;Color: (0, 200, 250)\" style=\"width: 20px; height: 20px;background-color: rgb(0, 200, 250);\"></td><td title=\"Index: [3, 5]&#10;Color: (0, 200, 250)\" style=\"width: 20px; height: 20px;background-color: rgb(0, 200, 250);\"></td><td title=\"Index: [3, 6]&#10;Color: (255, 0, 0)\" style=\"width: 20px; height: 20px;background-color: rgb(255, 0, 0);\"></td></tr><tr><td title=\"Index: [4, 0]&#10;Color: (255, 0, 0)\" style=\"width: 20px; height: 20px;background-color: rgb(255, 0, 0);\"></td><td title=\"Index: [4, 1]&#10;Color: (255, 0, 255)\" style=\"width: 20px; height: 20px;background-color: rgb(255, 0, 255);\"></td><td title=\"Index: [4, 2]&#10;Color: (0, 200, 250)\" style=\"width: 20px; height: 20px;background-color: rgb(0, 200, 250);\"></td><td title=\"Index: [4, 3]&#10;Color: (0, 200, 250)\" style=\"width: 20px; height: 20px;background-color: rgb(0, 200, 250);\"></td><td title=\"Index: [4, 4]&#10;Color: (0, 200, 250)\" style=\"width: 20px; height: 20px;background-color: rgb(0, 200, 250);\"></td><td title=\"Index: [4, 5]&#10;Color: (0, 200, 250)\" style=\"width: 20px; height: 20px;background-color: rgb(0, 200, 250);\"></td><td title=\"Index: [4, 6]&#10;Color: (255, 0, 0)\" style=\"width: 20px; height: 20px;background-color: rgb(255, 0, 0);\"></td></tr><tr><td title=\"Index: [5, 0]&#10;Color: (255, 0, 0)\" style=\"width: 20px; height: 20px;background-color: rgb(255, 0, 0);\"></td><td title=\"Index: [5, 1]&#10;Color: (0, 200, 250)\" style=\"width: 20px; height: 20px;background-color: rgb(0, 200, 250);\"></td><td title=\"Index: [5, 2]&#10;Color: (0, 200, 250)\" style=\"width: 20px; height: 20px;background-color: rgb(0, 200, 250);\"></td><td title=\"Index: [5, 3]&#10;Color: (0, 200, 250)\" style=\"width: 20px; height: 20px;background-color: rgb(0, 200, 250);\"></td><td title=\"Index: [5, 4]&#10;Color: (0, 200, 250)\" style=\"width: 20px; height: 20px;background-color: rgb(0, 200, 250);\"></td><td title=\"Index: [5, 5]&#10;Color: (0, 200, 250)\" style=\"width: 20px; height: 20px;background-color: rgb(0, 200, 250);\"></td><td title=\"Index: [5, 6]&#10;Color: (255, 0, 0)\" style=\"width: 20px; height: 20px;background-color: rgb(255, 0, 0);\"></td></tr><tr><td title=\"Index: [6, 0]&#10;Color: (255, 0, 0)\" style=\"width: 20px; height: 20px;background-color: rgb(255, 0, 0);\"></td><td title=\"Index: [6, 1]&#10;Color: (255, 0, 0)\" style=\"width: 20px; height: 20px;background-color: rgb(255, 0, 0);\"></td><td title=\"Index: [6, 2]&#10;Color: (255, 0, 0)\" style=\"width: 20px; height: 20px;background-color: rgb(255, 0, 0);\"></td><td title=\"Index: [6, 3]&#10;Color: (255, 0, 0)\" style=\"width: 20px; height: 20px;background-color: rgb(255, 0, 0);\"></td><td title=\"Index: [6, 4]&#10;Color: (255, 0, 0)\" style=\"width: 20px; height: 20px;background-color: rgb(255, 0, 0);\"></td><td title=\"Index: [6, 5]&#10;Color: (255, 0, 0)\" style=\"width: 20px; height: 20px;background-color: rgb(255, 0, 0);\"></td><td title=\"Index: [6, 6]&#10;Color: (255, 0, 0)\" style=\"width: 20px; height: 20px;background-color: rgb(255, 0, 0);\"></td></tr></tbody></table>"
      ],
      "text/plain": [
       "<IPython.core.display.HTML object>"
      ]
     },
     "metadata": {},
     "output_type": "display_data"
    },
    {
     "name": "stdout",
     "output_type": "stream",
     "text": [
      "Success we have gold !!\n",
      "HaveGold  True\n",
      "[<Breeze>, <Stench>]\n",
      "[<Breeze>, <Stench>]\n",
      "[None]\n",
      "[None]\n"
     ]
    },
    {
     "data": {
      "text/html": [
       "<style type=\"text/css\">table.blockgrid {border: none;} .blockgrid tr {border: none;} .blockgrid td {padding: 0px;} #blocksdc161ca7-3950-4d1a-abe6-82ad36e02cd7 td {border: 1px solid white;}</style><table id=\"blocksdc161ca7-3950-4d1a-abe6-82ad36e02cd7\" class=\"blockgrid\"><tbody><tr><td title=\"Index: [0, 0]&#10;Color: (255, 0, 0)\" style=\"width: 20px; height: 20px;background-color: rgb(255, 0, 0);\"></td><td title=\"Index: [0, 1]&#10;Color: (255, 0, 0)\" style=\"width: 20px; height: 20px;background-color: rgb(255, 0, 0);\"></td><td title=\"Index: [0, 2]&#10;Color: (255, 0, 0)\" style=\"width: 20px; height: 20px;background-color: rgb(255, 0, 0);\"></td><td title=\"Index: [0, 3]&#10;Color: (255, 0, 0)\" style=\"width: 20px; height: 20px;background-color: rgb(255, 0, 0);\"></td><td title=\"Index: [0, 4]&#10;Color: (255, 0, 0)\" style=\"width: 20px; height: 20px;background-color: rgb(255, 0, 0);\"></td><td title=\"Index: [0, 5]&#10;Color: (255, 0, 0)\" style=\"width: 20px; height: 20px;background-color: rgb(255, 0, 0);\"></td><td title=\"Index: [0, 6]&#10;Color: (255, 0, 0)\" style=\"width: 20px; height: 20px;background-color: rgb(255, 0, 0);\"></td></tr><tr><td title=\"Index: [1, 0]&#10;Color: (255, 0, 0)\" style=\"width: 20px; height: 20px;background-color: rgb(255, 0, 0);\"></td><td title=\"Index: [1, 1]&#10;Color: (0, 200, 250)\" style=\"width: 20px; height: 20px;background-color: rgb(0, 200, 250);\"></td><td title=\"Index: [1, 2]&#10;Color: (0, 200, 250)\" style=\"width: 20px; height: 20px;background-color: rgb(0, 200, 250);\"></td><td title=\"Index: [1, 3]&#10;Color: (0, 200, 250)\" style=\"width: 20px; height: 20px;background-color: rgb(0, 200, 250);\"></td><td title=\"Index: [1, 4]&#10;Color: (0, 200, 250)\" style=\"width: 20px; height: 20px;background-color: rgb(0, 200, 250);\"></td><td title=\"Index: [1, 5]&#10;Color: (0, 200, 250)\" style=\"width: 20px; height: 20px;background-color: rgb(0, 200, 250);\"></td><td title=\"Index: [1, 6]&#10;Color: (255, 0, 0)\" style=\"width: 20px; height: 20px;background-color: rgb(255, 0, 0);\"></td></tr><tr><td title=\"Index: [2, 0]&#10;Color: (255, 0, 0)\" style=\"width: 20px; height: 20px;background-color: rgb(255, 0, 0);\"></td><td title=\"Index: [2, 1]&#10;Color: (0, 0, 255)\" style=\"width: 20px; height: 20px;background-color: rgb(0, 0, 255);\"></td><td title=\"Index: [2, 2]&#10;Color: (0, 200, 250)\" style=\"width: 20px; height: 20px;background-color: rgb(0, 200, 250);\"></td><td title=\"Index: [2, 3]&#10;Color: (0, 200, 250)\" style=\"width: 20px; height: 20px;background-color: rgb(0, 200, 250);\"></td><td title=\"Index: [2, 4]&#10;Color: (0, 200, 250)\" style=\"width: 20px; height: 20px;background-color: rgb(0, 200, 250);\"></td><td title=\"Index: [2, 5]&#10;Color: (0, 200, 250)\" style=\"width: 20px; height: 20px;background-color: rgb(0, 200, 250);\"></td><td title=\"Index: [2, 6]&#10;Color: (255, 0, 0)\" style=\"width: 20px; height: 20px;background-color: rgb(255, 0, 0);\"></td></tr><tr><td title=\"Index: [3, 0]&#10;Color: (255, 0, 0)\" style=\"width: 20px; height: 20px;background-color: rgb(255, 0, 0);\"></td><td title=\"Index: [3, 1]&#10;Color: (0, 200, 250)\" style=\"width: 20px; height: 20px;background-color: rgb(0, 200, 250);\"></td><td title=\"Index: [3, 2]&#10;Color: (0, 0, 0)\" style=\"width: 20px; height: 20px;background-color: rgb(0, 0, 0);\"></td><td title=\"Index: [3, 3]&#10;Color: (0, 200, 250)\" style=\"width: 20px; height: 20px;background-color: rgb(0, 200, 250);\"></td><td title=\"Index: [3, 4]&#10;Color: (0, 200, 250)\" style=\"width: 20px; height: 20px;background-color: rgb(0, 200, 250);\"></td><td title=\"Index: [3, 5]&#10;Color: (0, 200, 250)\" style=\"width: 20px; height: 20px;background-color: rgb(0, 200, 250);\"></td><td title=\"Index: [3, 6]&#10;Color: (255, 0, 0)\" style=\"width: 20px; height: 20px;background-color: rgb(255, 0, 0);\"></td></tr><tr><td title=\"Index: [4, 0]&#10;Color: (255, 0, 0)\" style=\"width: 20px; height: 20px;background-color: rgb(255, 0, 0);\"></td><td title=\"Index: [4, 1]&#10;Color: (255, 0, 255)\" style=\"width: 20px; height: 20px;background-color: rgb(255, 0, 255);\"></td><td title=\"Index: [4, 2]&#10;Color: (0, 200, 250)\" style=\"width: 20px; height: 20px;background-color: rgb(0, 200, 250);\"></td><td title=\"Index: [4, 3]&#10;Color: (0, 200, 250)\" style=\"width: 20px; height: 20px;background-color: rgb(0, 200, 250);\"></td><td title=\"Index: [4, 4]&#10;Color: (0, 200, 250)\" style=\"width: 20px; height: 20px;background-color: rgb(0, 200, 250);\"></td><td title=\"Index: [4, 5]&#10;Color: (0, 200, 250)\" style=\"width: 20px; height: 20px;background-color: rgb(0, 200, 250);\"></td><td title=\"Index: [4, 6]&#10;Color: (255, 0, 0)\" style=\"width: 20px; height: 20px;background-color: rgb(255, 0, 0);\"></td></tr><tr><td title=\"Index: [5, 0]&#10;Color: (255, 0, 0)\" style=\"width: 20px; height: 20px;background-color: rgb(255, 0, 0);\"></td><td title=\"Index: [5, 1]&#10;Color: (0, 200, 250)\" style=\"width: 20px; height: 20px;background-color: rgb(0, 200, 250);\"></td><td title=\"Index: [5, 2]&#10;Color: (0, 200, 250)\" style=\"width: 20px; height: 20px;background-color: rgb(0, 200, 250);\"></td><td title=\"Index: [5, 3]&#10;Color: (0, 200, 250)\" style=\"width: 20px; height: 20px;background-color: rgb(0, 200, 250);\"></td><td title=\"Index: [5, 4]&#10;Color: (0, 200, 250)\" style=\"width: 20px; height: 20px;background-color: rgb(0, 200, 250);\"></td><td title=\"Index: [5, 5]&#10;Color: (0, 200, 250)\" style=\"width: 20px; height: 20px;background-color: rgb(0, 200, 250);\"></td><td title=\"Index: [5, 6]&#10;Color: (255, 0, 0)\" style=\"width: 20px; height: 20px;background-color: rgb(255, 0, 0);\"></td></tr><tr><td title=\"Index: [6, 0]&#10;Color: (255, 0, 0)\" style=\"width: 20px; height: 20px;background-color: rgb(255, 0, 0);\"></td><td title=\"Index: [6, 1]&#10;Color: (255, 0, 0)\" style=\"width: 20px; height: 20px;background-color: rgb(255, 0, 0);\"></td><td title=\"Index: [6, 2]&#10;Color: (255, 0, 0)\" style=\"width: 20px; height: 20px;background-color: rgb(255, 0, 0);\"></td><td title=\"Index: [6, 3]&#10;Color: (255, 0, 0)\" style=\"width: 20px; height: 20px;background-color: rgb(255, 0, 0);\"></td><td title=\"Index: [6, 4]&#10;Color: (255, 0, 0)\" style=\"width: 20px; height: 20px;background-color: rgb(255, 0, 0);\"></td><td title=\"Index: [6, 5]&#10;Color: (255, 0, 0)\" style=\"width: 20px; height: 20px;background-color: rgb(255, 0, 0);\"></td><td title=\"Index: [6, 6]&#10;Color: (255, 0, 0)\" style=\"width: 20px; height: 20px;background-color: rgb(255, 0, 0);\"></td></tr></tbody></table>"
      ],
      "text/plain": [
       "<IPython.core.display.HTML object>"
      ]
     },
     "metadata": {},
     "output_type": "display_data"
    },
    {
     "name": "stdout",
     "output_type": "stream",
     "text": [
      "[None]\n",
      "[None]\n"
     ]
    },
    {
     "data": {
      "text/html": [
       "<style type=\"text/css\">table.blockgrid {border: none;} .blockgrid tr {border: none;} .blockgrid td {padding: 0px;} #blockse8e29aa8-b51b-4842-ab29-9d3ac8a5b783 td {border: 1px solid white;}</style><table id=\"blockse8e29aa8-b51b-4842-ab29-9d3ac8a5b783\" class=\"blockgrid\"><tbody><tr><td title=\"Index: [0, 0]&#10;Color: (255, 0, 0)\" style=\"width: 20px; height: 20px;background-color: rgb(255, 0, 0);\"></td><td title=\"Index: [0, 1]&#10;Color: (255, 0, 0)\" style=\"width: 20px; height: 20px;background-color: rgb(255, 0, 0);\"></td><td title=\"Index: [0, 2]&#10;Color: (255, 0, 0)\" style=\"width: 20px; height: 20px;background-color: rgb(255, 0, 0);\"></td><td title=\"Index: [0, 3]&#10;Color: (255, 0, 0)\" style=\"width: 20px; height: 20px;background-color: rgb(255, 0, 0);\"></td><td title=\"Index: [0, 4]&#10;Color: (255, 0, 0)\" style=\"width: 20px; height: 20px;background-color: rgb(255, 0, 0);\"></td><td title=\"Index: [0, 5]&#10;Color: (255, 0, 0)\" style=\"width: 20px; height: 20px;background-color: rgb(255, 0, 0);\"></td><td title=\"Index: [0, 6]&#10;Color: (255, 0, 0)\" style=\"width: 20px; height: 20px;background-color: rgb(255, 0, 0);\"></td></tr><tr><td title=\"Index: [1, 0]&#10;Color: (255, 0, 0)\" style=\"width: 20px; height: 20px;background-color: rgb(255, 0, 0);\"></td><td title=\"Index: [1, 1]&#10;Color: (0, 0, 255)\" style=\"width: 20px; height: 20px;background-color: rgb(0, 0, 255);\"></td><td title=\"Index: [1, 2]&#10;Color: (0, 200, 250)\" style=\"width: 20px; height: 20px;background-color: rgb(0, 200, 250);\"></td><td title=\"Index: [1, 3]&#10;Color: (0, 200, 250)\" style=\"width: 20px; height: 20px;background-color: rgb(0, 200, 250);\"></td><td title=\"Index: [1, 4]&#10;Color: (0, 200, 250)\" style=\"width: 20px; height: 20px;background-color: rgb(0, 200, 250);\"></td><td title=\"Index: [1, 5]&#10;Color: (0, 200, 250)\" style=\"width: 20px; height: 20px;background-color: rgb(0, 200, 250);\"></td><td title=\"Index: [1, 6]&#10;Color: (255, 0, 0)\" style=\"width: 20px; height: 20px;background-color: rgb(255, 0, 0);\"></td></tr><tr><td title=\"Index: [2, 0]&#10;Color: (255, 0, 0)\" style=\"width: 20px; height: 20px;background-color: rgb(255, 0, 0);\"></td><td title=\"Index: [2, 1]&#10;Color: (0, 200, 250)\" style=\"width: 20px; height: 20px;background-color: rgb(0, 200, 250);\"></td><td title=\"Index: [2, 2]&#10;Color: (0, 200, 250)\" style=\"width: 20px; height: 20px;background-color: rgb(0, 200, 250);\"></td><td title=\"Index: [2, 3]&#10;Color: (0, 200, 250)\" style=\"width: 20px; height: 20px;background-color: rgb(0, 200, 250);\"></td><td title=\"Index: [2, 4]&#10;Color: (0, 200, 250)\" style=\"width: 20px; height: 20px;background-color: rgb(0, 200, 250);\"></td><td title=\"Index: [2, 5]&#10;Color: (0, 200, 250)\" style=\"width: 20px; height: 20px;background-color: rgb(0, 200, 250);\"></td><td title=\"Index: [2, 6]&#10;Color: (255, 0, 0)\" style=\"width: 20px; height: 20px;background-color: rgb(255, 0, 0);\"></td></tr><tr><td title=\"Index: [3, 0]&#10;Color: (255, 0, 0)\" style=\"width: 20px; height: 20px;background-color: rgb(255, 0, 0);\"></td><td title=\"Index: [3, 1]&#10;Color: (0, 200, 250)\" style=\"width: 20px; height: 20px;background-color: rgb(0, 200, 250);\"></td><td title=\"Index: [3, 2]&#10;Color: (0, 0, 0)\" style=\"width: 20px; height: 20px;background-color: rgb(0, 0, 0);\"></td><td title=\"Index: [3, 3]&#10;Color: (0, 200, 250)\" style=\"width: 20px; height: 20px;background-color: rgb(0, 200, 250);\"></td><td title=\"Index: [3, 4]&#10;Color: (0, 200, 250)\" style=\"width: 20px; height: 20px;background-color: rgb(0, 200, 250);\"></td><td title=\"Index: [3, 5]&#10;Color: (0, 200, 250)\" style=\"width: 20px; height: 20px;background-color: rgb(0, 200, 250);\"></td><td title=\"Index: [3, 6]&#10;Color: (255, 0, 0)\" style=\"width: 20px; height: 20px;background-color: rgb(255, 0, 0);\"></td></tr><tr><td title=\"Index: [4, 0]&#10;Color: (255, 0, 0)\" style=\"width: 20px; height: 20px;background-color: rgb(255, 0, 0);\"></td><td title=\"Index: [4, 1]&#10;Color: (255, 0, 255)\" style=\"width: 20px; height: 20px;background-color: rgb(255, 0, 255);\"></td><td title=\"Index: [4, 2]&#10;Color: (0, 200, 250)\" style=\"width: 20px; height: 20px;background-color: rgb(0, 200, 250);\"></td><td title=\"Index: [4, 3]&#10;Color: (0, 200, 250)\" style=\"width: 20px; height: 20px;background-color: rgb(0, 200, 250);\"></td><td title=\"Index: [4, 4]&#10;Color: (0, 200, 250)\" style=\"width: 20px; height: 20px;background-color: rgb(0, 200, 250);\"></td><td title=\"Index: [4, 5]&#10;Color: (0, 200, 250)\" style=\"width: 20px; height: 20px;background-color: rgb(0, 200, 250);\"></td><td title=\"Index: [4, 6]&#10;Color: (255, 0, 0)\" style=\"width: 20px; height: 20px;background-color: rgb(255, 0, 0);\"></td></tr><tr><td title=\"Index: [5, 0]&#10;Color: (255, 0, 0)\" style=\"width: 20px; height: 20px;background-color: rgb(255, 0, 0);\"></td><td title=\"Index: [5, 1]&#10;Color: (0, 200, 250)\" style=\"width: 20px; height: 20px;background-color: rgb(0, 200, 250);\"></td><td title=\"Index: [5, 2]&#10;Color: (0, 200, 250)\" style=\"width: 20px; height: 20px;background-color: rgb(0, 200, 250);\"></td><td title=\"Index: [5, 3]&#10;Color: (0, 200, 250)\" style=\"width: 20px; height: 20px;background-color: rgb(0, 200, 250);\"></td><td title=\"Index: [5, 4]&#10;Color: (0, 200, 250)\" style=\"width: 20px; height: 20px;background-color: rgb(0, 200, 250);\"></td><td title=\"Index: [5, 5]&#10;Color: (0, 200, 250)\" style=\"width: 20px; height: 20px;background-color: rgb(0, 200, 250);\"></td><td title=\"Index: [5, 6]&#10;Color: (255, 0, 0)\" style=\"width: 20px; height: 20px;background-color: rgb(255, 0, 0);\"></td></tr><tr><td title=\"Index: [6, 0]&#10;Color: (255, 0, 0)\" style=\"width: 20px; height: 20px;background-color: rgb(255, 0, 0);\"></td><td title=\"Index: [6, 1]&#10;Color: (255, 0, 0)\" style=\"width: 20px; height: 20px;background-color: rgb(255, 0, 0);\"></td><td title=\"Index: [6, 2]&#10;Color: (255, 0, 0)\" style=\"width: 20px; height: 20px;background-color: rgb(255, 0, 0);\"></td><td title=\"Index: [6, 3]&#10;Color: (255, 0, 0)\" style=\"width: 20px; height: 20px;background-color: rgb(255, 0, 0);\"></td><td title=\"Index: [6, 4]&#10;Color: (255, 0, 0)\" style=\"width: 20px; height: 20px;background-color: rgb(255, 0, 0);\"></td><td title=\"Index: [6, 5]&#10;Color: (255, 0, 0)\" style=\"width: 20px; height: 20px;background-color: rgb(255, 0, 0);\"></td><td title=\"Index: [6, 6]&#10;Color: (255, 0, 0)\" style=\"width: 20px; height: 20px;background-color: rgb(255, 0, 0);\"></td></tr></tbody></table>"
      ],
      "text/plain": [
       "<IPython.core.display.HTML object>"
      ]
     },
     "metadata": {},
     "output_type": "display_data"
    }
   ],
   "source": [
    "[currentD,trackMoves] = execute_plan(kb,currentD,w,trackMoves)"
   ]
  },
  {
   "cell_type": "code",
   "execution_count": null,
   "metadata": {
    "collapsed": true
   },
   "outputs": [],
   "source": []
  },
  {
   "cell_type": "code",
   "execution_count": null,
   "metadata": {
    "collapsed": true
   },
   "outputs": [],
   "source": []
  }
 ],
 "metadata": {
  "kernelspec": {
   "display_name": "Python 3",
   "language": "python",
   "name": "python3"
  },
  "language_info": {
   "codemirror_mode": {
    "name": "ipython",
    "version": 3
   },
   "file_extension": ".py",
   "mimetype": "text/x-python",
   "name": "python",
   "nbconvert_exporter": "python",
   "pygments_lexer": "ipython3",
   "version": "3.6.0"
  }
 },
 "nbformat": 4,
 "nbformat_minor": 2
}
