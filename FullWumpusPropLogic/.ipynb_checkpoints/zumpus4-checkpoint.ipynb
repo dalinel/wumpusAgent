{
 "cells": [
  {
   "cell_type": "markdown",
   "metadata": {},
   "source": [
    "# AI Project : Wumpus World\n",
    "_Eloïse Dalin & Lukasz Dracz_\n",
    "\n",
    "We based our project on the aima 2017 library. We have used the following files :\n",
    "* agent.py - contains the wumpus world environment\n",
    "* logic.py - contains databases and solvers\n",
    "* search.py - contains A* algorithm\n",
    "* utils.py\n",
    "\n",
    "\n",
    "In this file we are using propositional logic, we use the solver from the course which is more efficient than those embedded one in the aima library. A lot of modifications have been done in agent.py\n",
    "\n",
    "We don't use planning.py in this file because it is for first order logic planning."
   ]
  },
  {
   "cell_type": "markdown",
   "metadata": {},
   "source": [
    "## Wumpus World\n",
    "World is represented by different colored squares:\n",
    "* Blue - Explorer\n",
    "* Yellow - Gold\n",
    "* Purple - Wumpus\n",
    "* Dark Purple - Stench\n",
    "* Black - Pit\n",
    "* Grey - Breeze\n",
    "* Red - Wall\n",
    "* Green - Free square\n",
    "* Light blue - Tiles visited by the Explorer\n",
    "\n",
    "The goal is for the agent, to find the gold while avoiding the wumpus and possible pits.\n",
    "\n",
    "The wumpus is very hungry and must be avoided at all costs.\n",
    "\n",
    "<img src=\"cookie.gif\">"
   ]
  },
  {
   "cell_type": "markdown",
   "metadata": {},
   "source": [
    "Our planning algorithm attempts to find a path around the wumpus. If it is not possible, we return to where we felt the stench of the wumpus and shoot in the best educated guess we have for the direction of the wumpus.\n",
    "\n",
    "Our brave explorer is waiting and ready for this task.\n",
    "<img src=\"explorer.gif\">"
   ]
  },
  {
   "cell_type": "markdown",
   "metadata": {},
   "source": [
    "## Generate and draw the wumpus world\n",
    "\n",
    "In this part we generate a wumpus world."
   ]
  },
  {
   "cell_type": "code",
   "execution_count": 1,
   "metadata": {
    "collapsed": false
   },
   "outputs": [
    {
     "data": {
      "text/html": [
       "<style type=\"text/css\">table.blockgrid {border: none;} .blockgrid tr {border: none;} .blockgrid td {padding: 0px;} #blocksc366e0c3-b8bb-4084-a814-4221ad9c1230 td {border: 1px solid white;}</style><table id=\"blocksc366e0c3-b8bb-4084-a814-4221ad9c1230\" class=\"blockgrid\"><tbody><tr><td title=\"Index: [0, 0]&#10;Color: (255, 0, 0)\" style=\"width: 20px; height: 20px;background-color: rgb(255, 0, 0);\"></td><td title=\"Index: [0, 1]&#10;Color: (255, 0, 0)\" style=\"width: 20px; height: 20px;background-color: rgb(255, 0, 0);\"></td><td title=\"Index: [0, 2]&#10;Color: (255, 0, 0)\" style=\"width: 20px; height: 20px;background-color: rgb(255, 0, 0);\"></td><td title=\"Index: [0, 3]&#10;Color: (255, 0, 0)\" style=\"width: 20px; height: 20px;background-color: rgb(255, 0, 0);\"></td><td title=\"Index: [0, 4]&#10;Color: (255, 0, 0)\" style=\"width: 20px; height: 20px;background-color: rgb(255, 0, 0);\"></td><td title=\"Index: [0, 5]&#10;Color: (255, 0, 0)\" style=\"width: 20px; height: 20px;background-color: rgb(255, 0, 0);\"></td><td title=\"Index: [0, 6]&#10;Color: (255, 0, 0)\" style=\"width: 20px; height: 20px;background-color: rgb(255, 0, 0);\"></td></tr><tr><td title=\"Index: [1, 0]&#10;Color: (255, 0, 0)\" style=\"width: 20px; height: 20px;background-color: rgb(255, 0, 0);\"></td><td title=\"Index: [1, 1]&#10;Color: (0, 0, 255)\" style=\"width: 20px; height: 20px;background-color: rgb(0, 0, 255);\"></td><td title=\"Index: [1, 2]&#10;Color: (123, 234, 123)\" style=\"width: 20px; height: 20px;background-color: rgb(123, 234, 123);\"></td><td title=\"Index: [1, 3]&#10;Color: (123, 234, 123)\" style=\"width: 20px; height: 20px;background-color: rgb(123, 234, 123);\"></td><td title=\"Index: [1, 4]&#10;Color: (123, 234, 123)\" style=\"width: 20px; height: 20px;background-color: rgb(123, 234, 123);\"></td><td title=\"Index: [1, 5]&#10;Color: (123, 234, 123)\" style=\"width: 20px; height: 20px;background-color: rgb(123, 234, 123);\"></td><td title=\"Index: [1, 6]&#10;Color: (255, 0, 0)\" style=\"width: 20px; height: 20px;background-color: rgb(255, 0, 0);\"></td></tr><tr><td title=\"Index: [2, 0]&#10;Color: (255, 0, 0)\" style=\"width: 20px; height: 20px;background-color: rgb(255, 0, 0);\"></td><td title=\"Index: [2, 1]&#10;Color: (128, 0, 128)\" style=\"width: 20px; height: 20px;background-color: rgb(128, 0, 128);\"></td><td title=\"Index: [2, 2]&#10;Color: (123, 234, 123)\" style=\"width: 20px; height: 20px;background-color: rgb(123, 234, 123);\"></td><td title=\"Index: [2, 3]&#10;Color: (225, 225, 225)\" style=\"width: 20px; height: 20px;background-color: rgb(225, 225, 225);\"></td><td title=\"Index: [2, 4]&#10;Color: (123, 234, 123)\" style=\"width: 20px; height: 20px;background-color: rgb(123, 234, 123);\"></td><td title=\"Index: [2, 5]&#10;Color: (123, 234, 123)\" style=\"width: 20px; height: 20px;background-color: rgb(123, 234, 123);\"></td><td title=\"Index: [2, 6]&#10;Color: (255, 0, 0)\" style=\"width: 20px; height: 20px;background-color: rgb(255, 0, 0);\"></td></tr><tr><td title=\"Index: [3, 0]&#10;Color: (255, 0, 0)\" style=\"width: 20px; height: 20px;background-color: rgb(255, 0, 0);\"></td><td title=\"Index: [3, 1]&#10;Color: (255, 0, 255)\" style=\"width: 20px; height: 20px;background-color: rgb(255, 0, 255);\"></td><td title=\"Index: [3, 2]&#10;Color: (128, 0, 128)\" style=\"width: 20px; height: 20px;background-color: rgb(128, 0, 128);\"></td><td title=\"Index: [3, 3]&#10;Color: (0, 0, 0)\" style=\"width: 20px; height: 20px;background-color: rgb(0, 0, 0);\"></td><td title=\"Index: [3, 4]&#10;Color: (225, 225, 225)\" style=\"width: 20px; height: 20px;background-color: rgb(225, 225, 225);\"></td><td title=\"Index: [3, 5]&#10;Color: (123, 234, 123)\" style=\"width: 20px; height: 20px;background-color: rgb(123, 234, 123);\"></td><td title=\"Index: [3, 6]&#10;Color: (255, 0, 0)\" style=\"width: 20px; height: 20px;background-color: rgb(255, 0, 0);\"></td></tr><tr><td title=\"Index: [4, 0]&#10;Color: (255, 0, 0)\" style=\"width: 20px; height: 20px;background-color: rgb(255, 0, 0);\"></td><td title=\"Index: [4, 1]&#10;Color: (0, 0, 0)\" style=\"width: 20px; height: 20px;background-color: rgb(0, 0, 0);\"></td><td title=\"Index: [4, 2]&#10;Color: (225, 225, 225)\" style=\"width: 20px; height: 20px;background-color: rgb(225, 225, 225);\"></td><td title=\"Index: [4, 3]&#10;Color: (225, 225, 225)\" style=\"width: 20px; height: 20px;background-color: rgb(225, 225, 225);\"></td><td title=\"Index: [4, 4]&#10;Color: (123, 234, 123)\" style=\"width: 20px; height: 20px;background-color: rgb(123, 234, 123);\"></td><td title=\"Index: [4, 5]&#10;Color: (123, 234, 123)\" style=\"width: 20px; height: 20px;background-color: rgb(123, 234, 123);\"></td><td title=\"Index: [4, 6]&#10;Color: (255, 0, 0)\" style=\"width: 20px; height: 20px;background-color: rgb(255, 0, 0);\"></td></tr><tr><td title=\"Index: [5, 0]&#10;Color: (255, 0, 0)\" style=\"width: 20px; height: 20px;background-color: rgb(255, 0, 0);\"></td><td title=\"Index: [5, 1]&#10;Color: (225, 225, 225)\" style=\"width: 20px; height: 20px;background-color: rgb(225, 225, 225);\"></td><td title=\"Index: [5, 2]&#10;Color: (123, 234, 123)\" style=\"width: 20px; height: 20px;background-color: rgb(123, 234, 123);\"></td><td title=\"Index: [5, 3]&#10;Color: (123, 234, 123)\" style=\"width: 20px; height: 20px;background-color: rgb(123, 234, 123);\"></td><td title=\"Index: [5, 4]&#10;Color: (123, 234, 123)\" style=\"width: 20px; height: 20px;background-color: rgb(123, 234, 123);\"></td><td title=\"Index: [5, 5]&#10;Color: (253, 208, 23)\" style=\"width: 20px; height: 20px;background-color: rgb(253, 208, 23);\"></td><td title=\"Index: [5, 6]&#10;Color: (255, 0, 0)\" style=\"width: 20px; height: 20px;background-color: rgb(255, 0, 0);\"></td></tr><tr><td title=\"Index: [6, 0]&#10;Color: (255, 0, 0)\" style=\"width: 20px; height: 20px;background-color: rgb(255, 0, 0);\"></td><td title=\"Index: [6, 1]&#10;Color: (255, 0, 0)\" style=\"width: 20px; height: 20px;background-color: rgb(255, 0, 0);\"></td><td title=\"Index: [6, 2]&#10;Color: (255, 0, 0)\" style=\"width: 20px; height: 20px;background-color: rgb(255, 0, 0);\"></td><td title=\"Index: [6, 3]&#10;Color: (255, 0, 0)\" style=\"width: 20px; height: 20px;background-color: rgb(255, 0, 0);\"></td><td title=\"Index: [6, 4]&#10;Color: (255, 0, 0)\" style=\"width: 20px; height: 20px;background-color: rgb(255, 0, 0);\"></td><td title=\"Index: [6, 5]&#10;Color: (255, 0, 0)\" style=\"width: 20px; height: 20px;background-color: rgb(255, 0, 0);\"></td><td title=\"Index: [6, 6]&#10;Color: (255, 0, 0)\" style=\"width: 20px; height: 20px;background-color: rgb(255, 0, 0);\"></td></tr></tbody></table>"
      ],
      "text/plain": [
       "<IPython.core.display.HTML object>"
      ]
     },
     "metadata": {},
     "output_type": "display_data"
    }
   ],
   "source": [
    "from ipythonblocks import BlockGrid\n",
    "from IPython.display import clear_output\n",
    "from agents import *\n",
    "from utils import *\n",
    "from logic import *\n",
    "import random\n",
    "import time\n",
    "\n",
    "color = {\"Breeze\": (225, 225, 225),\n",
    "        \"Pit\": (0,0,0),\n",
    "        \"Gold\": (253, 208, 23),\n",
    "        \"Glitter\": (253, 208, 23),\n",
    "        \"Wumpus\": (255, 0, 255),\n",
    "        \"Stench\": (128, 0, 128),\n",
    "        \"Explorer\": (0, 0, 255),\n",
    "        \"Wall\": (255, 0, 0),\n",
    "        \"Visited\": (0, 200, 250)\n",
    "        }\n",
    "\n",
    "def program(percepts):\n",
    "    '''Returns an action based on it's pe4rcepts'''\n",
    "    print(percepts)\n",
    "    return input()\n",
    "\n",
    "pit_probability = 0.1\n",
    "w = WumpusEnvironment(program, 7, 7,pit_probability)         \n",
    "grid = BlockGrid(w.width, w.height, fill=(123, 234, 123))\n",
    "\n",
    "def draw_grid(world,visited):\n",
    "    global grid\n",
    "    global w\n",
    "    grid[:] = (123, 234, 123)\n",
    "    for x in range(0, len(world)):\n",
    "        for y in range(0, len(world[x])):\n",
    "            if len(world[x][y]):\n",
    "                g = -1\n",
    "                for i in world[x][y]:\n",
    "                    h = world[x][y].index(i)\n",
    "                    if(isinstance(i, Gold)):\n",
    "                        g = world[x][y].index(i)\n",
    "                        break\n",
    "                    elif(isinstance(i, Wumpus)):\n",
    "                        g = h                      \n",
    "                    elif(isinstance(i, Pit)):\n",
    "                        if (not isinstance(world[x][y][g],Wumpus)):\n",
    "                            g = h\n",
    "\n",
    "                grid[y, x] = color[world[x][y][g].__class__.__name__]\n",
    "    xo,yo = w.getlocation();\n",
    "    for tile in visited :\n",
    "        if((int(tile[0])==xo) and (int(tile[1])==yo)):\n",
    "            #DisplayPlayer\n",
    "            just_need_some_variable_for_else_to_work = True\n",
    "        else:\n",
    "            grid[int(tile[1]), int(tile[0])] = color[\"Visited\"];\n",
    "\n",
    "\n",
    "def draw_step():\n",
    "    global grid, w\n",
    "    draw_grid(w.get_world(),[])\n",
    "    grid.show()\n",
    "\n",
    "draw_step()\n",
    "currentD = 0;\n",
    "trackMoves = [];   "
   ]
  },
  {
   "cell_type": "markdown",
   "metadata": {},
   "source": [
    "## Generate the propositional logic database\n",
    "\n",
    "In this part we generate a  the propositional logic database. The percept bump is not properly defined in agent.py so we need to do special cases for the tiles wich are near the tiles.\n",
    "\n",
    "The database is defined in wumpus_kb.py\n"
   ]
  },
  {
   "cell_type": "code",
   "execution_count": 2,
   "metadata": {
    "collapsed": false
   },
   "outputs": [],
   "source": [
    "from ipythonblocks import BlockGrid\n",
    "from agents import *\n",
    "from utils import *\n",
    "from logic import *\n",
    "from wumpus_kb import *\n",
    "import numpy as np\n",
    "from formula import *\n",
    "import random\n",
    "from dpll import *\n",
    "from search import *\n",
    "\n",
    "world = w.get_world()\n",
    "\n",
    "xmax=len(world)\n",
    "ymax=len(world[0])\n",
    "\n",
    "kb = wumpus_prop_knowledge_base(xmax,ymax)\n"
   ]
  },
  {
   "cell_type": "markdown",
   "metadata": {},
   "source": [
    "## Draw Inferences with DPLL\n",
    "\n",
    "We have decided to use the DPLL algorithm. To draw the inference of beta we check the satisfiability of alpha and not beta.\n",
    "\n",
    "We have tried to use the DPLL in aima but it was too slow, so we have decided to convert the aima propopositional knowledge base to fit the DPLL and formula architecture of the course."
   ]
  },
  {
   "cell_type": "code",
   "execution_count": 3,
   "metadata": {
    "collapsed": false
   },
   "outputs": [],
   "source": [
    "def dpll_ask_aima_slow(kb,alpha):\n",
    "    kb.tell(Expr(\"~\",alpha))\n",
    "    symbols = [];\n",
    "    for clause in kb.clauses :\n",
    "        for symbol in prop_symbols(clause):\n",
    "            symbols.append(symbol)\n",
    "    model = dpll(kb.clauses, symbols, {})\n",
    "    kb.retract(Expr(\"~\",alpha))\n",
    "    if(model== False):\n",
    "        return True\n",
    "    else:\n",
    "        return False"
   ]
  },
  {
   "cell_type": "code",
   "execution_count": 4,
   "metadata": {
    "collapsed": true
   },
   "outputs": [],
   "source": [
    "#From the aima PropKB map the symbols of the kb (python Expressions) with integers \n",
    "#The output is a dictionnary where the Expresssions are the keys\n",
    "def kb_to_dictionnary(kb):\n",
    "    symbols =[]\n",
    "    for clause in kb.clauses :\n",
    "        for symbol in prop_symbols(clause):\n",
    "            symbols.append(repr(symbol))\n",
    "    numb = list(range(1,len(symbols)+1))\n",
    "    kb_dict = dict(zip(symbols, numb))\n",
    "    return [kb_dict,symbols,numb]"
   ]
  },
  {
   "cell_type": "code",
   "execution_count": 5,
   "metadata": {
    "collapsed": false
   },
   "outputs": [],
   "source": [
    "#dpll_ask use dpll.py and formula.py from the course. The constructor of formula has been modified in \n",
    "#order to take as an input the PropKB and its caracteristics instead of an input file\n",
    "def dpll_ask(kb,alpha):\n",
    "    kb.tell(Expr(\"~\",alpha))\n",
    "    [kb_dict,symbols,numb]=kb_to_dictionnary(kb)\n",
    "    formula=Formula(kb,kb_dict,symbols,numb)\n",
    "    model=fast_dpll(formula, choose_variable_at_random)\n",
    "    kb.retract(Expr(\"~\",alpha))\n",
    "    \n",
    "    if(model== []):\n",
    "        return True\n",
    "    else:\n",
    "        return False"
   ]
  },
  {
   "cell_type": "code",
   "execution_count": 6,
   "metadata": {
    "collapsed": false
   },
   "outputs": [
    {
     "data": {
      "text/plain": [
       "True"
      ]
     },
     "execution_count": 6,
     "metadata": {},
     "output_type": "execute_result"
    }
   ],
   "source": [
    "#Example\n",
    "dpll_ask(kb,expr('Connect_4o1_5o1'))"
   ]
  },
  {
   "cell_type": "markdown",
   "metadata": {},
   "source": [
    "## A* algorithm\n",
    "\n",
    "During the execution of the progressive world state planner, we save the possible moves toward the unvisited safe tiles that the agent hasn't executed.  \n",
    "In the case where the agent cannot find an adjacent unvisited tile which is safe,we look at the position of the previously saved safe tiles and go there using A\\* on the set of already visited tiles."
   ]
  },
  {
   "cell_type": "code",
   "execution_count": 7,
   "metadata": {
    "collapsed": true
   },
   "outputs": [],
   "source": [
    "def convert_to_map(start,goal,v):\n",
    "    visited = v.copy();\n",
    "    visited.append(start);\n",
    "    visited.append(goal);\n",
    "    node_list = [];\n",
    "    node_dict = [];\n",
    "    for i in range(0,len(visited)-1):\n",
    "        linked_tiles = [];\n",
    "        cost=[];\n",
    "        for j in range(i+1,len(visited)):\n",
    "            if((abs(visited[i][0]-visited[j][0])==1) & (abs(visited[i][1]-visited[j][1])==0)):\n",
    "                linked_tiles.append(str(visited[j]));\n",
    "                cost.append(1);\n",
    "\n",
    "            if((abs(visited[i][0]-visited[j][0])==0) & (abs(visited[i][1]-visited[j][1])==1)):\n",
    "                linked_tiles.append(str(visited[j]));\n",
    "                cost.append(1);\n",
    "\n",
    "        if(len(linked_tiles)>0):\n",
    "            node_dict.append(dict(zip(linked_tiles, cost)));\n",
    "            node_list.append(str(visited[i]));\n",
    "            \n",
    "    visited_map = UndirectedGraph(dict(zip(node_list, node_dict)));\n",
    "    \n",
    "    name =[]\n",
    "    for tile in visited :\n",
    "        name.append(str(tile));\n",
    "    visited_map.locations = dict(zip(name, visited))\n",
    "    return visited_map\n"
   ]
  },
  {
   "cell_type": "code",
   "execution_count": 8,
   "metadata": {
    "collapsed": true
   },
   "outputs": [],
   "source": [
    "def astar_search_path(start,goal,v):\n",
    "    visited = v.copy();\n",
    "    path = [];\n",
    "    visited_map = convert_to_map(start,goal,visited)\n",
    "    path_problem = GraphProblem(str(start), str(goal), visited_map)\n",
    "    sol = astar_search(path_problem,path_problem.h)\n",
    "    sol = sol.path()\n",
    "    for node in sol:\n",
    "        str_node = node.state.split('[')[-1]\n",
    "        str_node = str_node.split(']')[0]\n",
    "        str_node = str_node.split(',')\n",
    "        int_node = [int(str_node[0]),int(str_node[1])]\n",
    "        path.append(int_node)\n",
    "    return path"
   ]
  },
  {
   "cell_type": "code",
   "execution_count": 9,
   "metadata": {
    "collapsed": false
   },
   "outputs": [
    {
     "name": "stdout",
     "output_type": "stream",
     "text": [
      "[[0, 1], [1, 1], [1, 2], [1, 3], [2, 3], [3, 3], [4, 3]]\n"
     ]
    }
   ],
   "source": [
    "#Example\n",
    "graph =[[2,3],[1,1],[2,1],[3,3],[1,2],[1,3]]\n",
    "start=[0,1]\n",
    "goal = [4,3]\n",
    "d= convert_to_map(start,goal,graph)\n",
    "path_problem = GraphProblem(str(start), str(goal), d)\n",
    "path = astar_search_path(start,goal,graph)\n",
    "print(path)"
   ]
  },
  {
   "cell_type": "code",
   "execution_count": 10,
   "metadata": {
    "collapsed": true
   },
   "outputs": [],
   "source": [
    "def animateGrid(acts,trackMoves):\n",
    "\n",
    "    percepts = []\n",
    "    for act in acts:\n",
    "        #print(act)\n",
    "        p = w.step([act])\n",
    "        loc = w.getlocation()\n",
    "        #print(loc) \n",
    "        newp = addLocToPercept(loc,p)\n",
    "        percepts.append(newp)\n",
    "        \n",
    "    for block in grid:\n",
    "        clear_output()  \n",
    "    draw_grid(w.get_world(),trackMoves)\n",
    "    grid.show(),\n",
    "    time.sleep(0.5)\n",
    "    return percepts"
   ]
  },
  {
   "cell_type": "code",
   "execution_count": 11,
   "metadata": {
    "collapsed": false
   },
   "outputs": [],
   "source": [
    "def possible_actions(kb):\n",
    "    possible_acts =[];\n",
    "    if (dpll_ask(kb,expr('HaveGold'))):\n",
    "        print('Success we have gold !!')\n",
    "    else:\n",
    "        #Grab\n",
    "        grab = possibleGrab(kb)\n",
    "        if len(grab) == 1:\n",
    "            possible_acts.append(grab);\n",
    "            return possible_acts\n",
    "        \n",
    "        #Possible Moves\n",
    "        moves = possibleNewMoves(kb)\n",
    "        i = len(moves)\n",
    "        if (i != 0):\n",
    "            for move in moves:\n",
    "                possible_acts.append(move)\n",
    "    return possible_acts"
   ]
  },
  {
   "cell_type": "code",
   "execution_count": 12,
   "metadata": {
    "collapsed": true
   },
   "outputs": [],
   "source": [
    "def possibleNewMoves(kb):\n",
    "    \n",
    "    moves = [];\n",
    "    loc = [];\n",
    "    loc2 = [];\n",
    "    loc3 = [];\n",
    "    loc4 = [];\n",
    "\n",
    "    #print('A')\n",
    "    for clause in kb.clauses:\n",
    "        if repr(clause)[0:2] == 'At':\n",
    "            len(repr(clause))\n",
    "            cl = repr(clause)[3:]\n",
    "            x,y = cl.split('o');\n",
    "            loc.append(x)\n",
    "            loc.append(y)\n",
    "            break\n",
    "\n",
    "    #print('B',loc)\n",
    "    for clause in kb.clauses:\n",
    "        if repr(clause)[0:7] == 'Connect':\n",
    "            cl = repr(clause)[8:]\n",
    "            term1, term2 = cl.split('_')\n",
    "            x,y = term1.split('o')\n",
    "            if loc[0] == x and loc[1] == y:\n",
    "                x2, y2 = term2.split('o')\n",
    "                loc2.append(x2)\n",
    "                loc2.append(y2)\n",
    "\n",
    "    #print('C',loc2)\n",
    "    i = int(len(loc2)/2);\n",
    "    if (i != 0):\n",
    "        for m in range (0,i):\n",
    "            safe = 'Safe_'+loc2[m*2]+'o'+loc2[m*2+1]\n",
    "            if (dpll_ask(kb,safe)):\n",
    "                loc3.append(loc2[m*2])\n",
    "                loc3.append(loc2[m*2+1])\n",
    "\n",
    "    #print('D',loc3)\n",
    "    for clause in kb.clauses:\n",
    "        if repr(clause)[0:7] == 'Visited':\n",
    "            cl = repr(clause)[8:]\n",
    "            x,y = cl.split('o')\n",
    "            i = int(len(loc3)/2);\n",
    "            \n",
    "            for m in range (0,i):\n",
    "                if loc3[m*2] == x and loc3[m*2+1] == y:\n",
    "                    loc4.append(m*2)\n",
    "                    loc4.append(m*2+1)\n",
    "    loc4.sort()\n",
    "    #print('E',loc4)                \n",
    "    count = 0\n",
    "    for i in loc4:\n",
    "        loc3.pop(i - count)\n",
    "        count = count + 1\n",
    "    \n",
    "    #print('F',loc3)\n",
    "    loc3len = len(loc3)\n",
    "    if loc3len != 0:\n",
    "        i = int(len(loc3)/2);\n",
    "        for m in range(0,i):\n",
    "            move = 'Move_' + str(loc[0]) + 'o' + str(loc[1]) + '_' + loc3[m*2] + 'o' + str(loc3[m*2+1]) \n",
    "            moves.append(move)\n",
    "    \n",
    "    \n",
    "    \n",
    "    return moves;        "
   ]
  },
  {
   "cell_type": "code",
   "execution_count": 13,
   "metadata": {
    "collapsed": true
   },
   "outputs": [],
   "source": [
    "def possibleGrab(kb):\n",
    "    loc = [];\n",
    "    for clause in kb.clauses:\n",
    "        if repr(clause)[0:2] == 'At':\n",
    "            len(repr(clause))\n",
    "            cl = repr(clause)[3:]\n",
    "            x,y = cl.split('o');\n",
    "            loc.append(x)\n",
    "            loc.append(y)\n",
    "            break\n",
    "    for clause in kb.clauses:\n",
    "        if repr(clause)[0:7] == 'Glitter':\n",
    "            cl = repr(clause)[8:]\n",
    "            x,y = cl.split('o')\n",
    "            if loc[0] == x and loc[1] == y:\n",
    "                return ['Grab']\n",
    "    return []"
   ]
  },
  {
   "cell_type": "code",
   "execution_count": 14,
   "metadata": {
    "collapsed": true
   },
   "outputs": [],
   "source": [
    "def tryShootTheWumpus(kb,visited,world,w,currentD):\n",
    "    stenches = findStenchLocations(kb)\n",
    "    sten = getRandomStench(stenches)\n",
    "    if(sten == None):\n",
    "        print(\"Not possible to shoot the wumpus, there is no stench\")\n",
    "    else:\n",
    "        [xo,yo]= w.getlocation()\n",
    "        print(\"Going to the stench position \", sten)\n",
    "        currentD = go_to_goal(kb,[xo,yo],[int(sten[0]),int(sten[1])],currentD)\n",
    "        print(\"At the stench position\", sten)\n",
    "        D = stenchDirection(sten,stenches)\n",
    "        if len(D) == 0:\n",
    "            print('Wumpus Direction Failed')\n",
    "        if len(D) != 0:           \n",
    "            D = getRandD(D)\n",
    "            print('Choosing a random Direction to shoot D : ',D)\n",
    "            [wumpus_loc,wumpus_obj] = find_the_wumpus(world)\n",
    "            if(wumpus_loc == []):\n",
    "                print('Wumpus Location Failed, no wupus in the map ?')\n",
    "            else:\n",
    "                killTheWumpus = False\n",
    "                if(D==0):\n",
    "                    if(xo+1 == wumpus_loc[0]):\n",
    "                        killTheWumpus = True\n",
    "                       \n",
    "                elif(D==1):\n",
    "                    if(yo+1 == wumpus_loc[1]):\n",
    "                        killTheWumpus = True\n",
    "                elif(D==2):\n",
    "                    if(xo-1 == wumpus_loc[0]):\n",
    "                        killTheWumpus = True\n",
    "                elif(D==3):\n",
    "                    if(yo-1 == wumpus_loc[1]):\n",
    "                        killTheWumpus = True\n",
    "                        \n",
    "                if(killTheWumpus):\n",
    "                    kb.retract(expr('WumpusIsAlive'))\n",
    "                    kb.tell(expr('~WumpusIsAlive'))\n",
    "                    w.delete_thing(wumpus_obj)\n",
    "                    kb.retract(expr('HaveArrow'))\n",
    "                    kb.tell(expr('Scream'))\n",
    "                    print(\"The Arrow has been shot at the direction D, we heard a scream the Wumpus is dead\",D)\n",
    "                    return [True,currentD]\n",
    "                kb.retract(expr('HaveArrow'))\n",
    "                print(\"The Arrow has been shot at the direction D but the wumpus is still alive\",D)\n",
    "    return [False,currentD]\n",
    "                \n",
    "                \n",
    "            \n"
   ]
  },
  {
   "cell_type": "markdown",
   "metadata": {},
   "source": [
    "## Explorer's First Step\n",
    "\n",
    "The explorer's first step is do nothing and perceive the initial environment square."
   ]
  },
  {
   "cell_type": "code",
   "execution_count": 15,
   "metadata": {
    "collapsed": false
   },
   "outputs": [
    {
     "name": "stdout",
     "output_type": "stream",
     "text": [
      "[None]\n"
     ]
    },
    {
     "ename": "NameError",
     "evalue": "name 'addLocToPercept' is not defined",
     "output_type": "error",
     "traceback": [
      "\u001b[0;31m---------------------------------------------------------------------------\u001b[0m",
      "\u001b[0;31mNameError\u001b[0m                                 Traceback (most recent call last)",
      "\u001b[0;32m<ipython-input-15-4978ed189101>\u001b[0m in \u001b[0;36m<module>\u001b[0;34m()\u001b[0m\n\u001b[0;32m----> 1\u001b[0;31m \u001b[0mper\u001b[0m \u001b[0;34m=\u001b[0m \u001b[0manimateGrid\u001b[0m\u001b[0;34m(\u001b[0m\u001b[0;34m[\u001b[0m\u001b[0;34m\"Nothing\"\u001b[0m\u001b[0;34m]\u001b[0m\u001b[0;34m,\u001b[0m\u001b[0;34m[\u001b[0m\u001b[0;34m]\u001b[0m\u001b[0;34m)\u001b[0m\u001b[0;34m\u001b[0m\u001b[0m\n\u001b[0m\u001b[1;32m      2\u001b[0m \u001b[0maddPercepts\u001b[0m\u001b[0;34m(\u001b[0m\u001b[0mkb\u001b[0m\u001b[0;34m,\u001b[0m \u001b[0mper\u001b[0m\u001b[0;34m,\u001b[0m\u001b[0mw\u001b[0m\u001b[0;34m)\u001b[0m\u001b[0;34m\u001b[0m\u001b[0m\n",
      "\u001b[0;32m<ipython-input-10-314cf774aa67>\u001b[0m in \u001b[0;36manimateGrid\u001b[0;34m(acts, trackMoves)\u001b[0m\n\u001b[1;32m      7\u001b[0m         \u001b[0mloc\u001b[0m \u001b[0;34m=\u001b[0m \u001b[0mw\u001b[0m\u001b[0;34m.\u001b[0m\u001b[0mgetlocation\u001b[0m\u001b[0;34m(\u001b[0m\u001b[0;34m)\u001b[0m\u001b[0;34m\u001b[0m\u001b[0m\n\u001b[1;32m      8\u001b[0m         \u001b[0;31m#print(loc)\u001b[0m\u001b[0;34m\u001b[0m\u001b[0;34m\u001b[0m\u001b[0m\n\u001b[0;32m----> 9\u001b[0;31m         \u001b[0mnewp\u001b[0m \u001b[0;34m=\u001b[0m \u001b[0maddLocToPercept\u001b[0m\u001b[0;34m(\u001b[0m\u001b[0mloc\u001b[0m\u001b[0;34m,\u001b[0m\u001b[0mp\u001b[0m\u001b[0;34m)\u001b[0m\u001b[0;34m\u001b[0m\u001b[0m\n\u001b[0m\u001b[1;32m     10\u001b[0m         \u001b[0mpercepts\u001b[0m\u001b[0;34m.\u001b[0m\u001b[0mappend\u001b[0m\u001b[0;34m(\u001b[0m\u001b[0mnewp\u001b[0m\u001b[0;34m)\u001b[0m\u001b[0;34m\u001b[0m\u001b[0m\n\u001b[1;32m     11\u001b[0m \u001b[0;34m\u001b[0m\u001b[0m\n",
      "\u001b[0;31mNameError\u001b[0m: name 'addLocToPercept' is not defined"
     ]
    }
   ],
   "source": [
    "per = animateGrid([\"Nothing\"],[])\n",
    "addPercepts(kb, per,w)"
   ]
  },
  {
   "cell_type": "code",
   "execution_count": 16,
   "metadata": {
    "collapsed": false
   },
   "outputs": [],
   "source": [
    "def go_to_goal(kb,start,goal,currentD):\n",
    "    visited = getAllVisited(kb)\n",
    "    path = astar_search_path(start,goal,visited)\n",
    "    prev = start\n",
    "    for p in path:\n",
    "        if (p != start):\n",
    "            moveNum = [str(prev[0]),str(prev[1]),str(p[0]),str(p[1])]\n",
    "            #Change the position of the agent in the database\n",
    "            changeAt(kb, moveNum)\n",
    "            acts = getActs(moveNum,currentD)\n",
    "            per = animateGrid(acts,visited)\n",
    "            addPercepts(kb, per,w)\n",
    "            currentD = acts.pop()\n",
    "            prev = p\n",
    "    return currentD"
   ]
  },
  {
   "cell_type": "code",
   "execution_count": 17,
   "metadata": {
    "collapsed": true
   },
   "outputs": [],
   "source": [
    "def execute_action(kb,currentD,w,possible_moves_unvisited):\n",
    "    play = True;\n",
    "    plan = [];\n",
    "    #Find the possible actions from where we are\n",
    "    possible_acts = possible_actions(kb)\n",
    "    print(\"HaveGold \", dpll_ask(kb,expr(\"HaveGold\")))\n",
    "    if(dpll_ask(kb,expr(\"HaveGold\"))):\n",
    "        currentD = go_to_goal(kb,w.getlocation(),[1,1],currentD)\n",
    "        return [False,currentD,trackMoves];\n",
    "    \n",
    "    #Select a move randomly (except for grab which will be selected first) and \n",
    "    #keep track of the not selected moves in possible_moves_unvisited\n",
    "    move = select_random_action(possible_acts,possible_moves_unvisited)\n",
    "    \n",
    "    #Get rid of the duplicates in possible_moves_unvisited\n",
    "    possible_moves_unvisited = reduceToUniqueList(possible_moves_unvisited)\n",
    "    possible_moves_unvisited = ridOfExtra(kb,possible_moves_unvisited) \n",
    "    \n",
    "    if (move == []):\n",
    "        #If we have no unvisited safe tiles from where we are, we backtrackand go if possible\n",
    "        #to an unvisited safe tile using with astar on the set of already visited tiles. Else we try\n",
    "        #to shoot the wumpus\n",
    "        if (len(possible_moves_unvisited) == 0):\n",
    "            if(dpll_ask(kb,expr(\"HaveArrow\"))):\n",
    "                visited = getAllVisited(kb)\n",
    "                [wumpus_dead,currentD] = tryShootTheWumpus(kb,visited,world,w,currentD)\n",
    "                per = animateGrid([\"Nothing\"],[])\n",
    "                addPercepts(kb, per,w)\n",
    "                if(wumpus_dead == False):\n",
    "                    print(\"Arrow has been shot and the Wumpus is Alive, we go back to the initial position\")\n",
    "                    currentD = go_to_goal(kb,w.getlocation(),[1,1],currentD)\n",
    "                    play=False;\n",
    "            else:\n",
    "                print(\"No Move Possible, we go back to the initial position\")\n",
    "                currentD = go_to_goal(kb,w.getlocation(),[1,1],currentD)\n",
    "                play=False;\n",
    "        else:\n",
    "            start = w.getlocation()\n",
    "            dists = []\n",
    "            p_m_u = []\n",
    "            for m in possible_moves_unvisited:\n",
    "                dist = int(distance(start,[int(m[0]),int(m[1])]))\n",
    "                if(int(dist)!=0):\n",
    "                    dists.append(dist)\n",
    "                    p_m_u.append([int(m[0]),int(m[1])])\n",
    "            goal = p_m_u[dists.index(min(dists))]\n",
    "            \n",
    "            currentD = go_to_goal(kb,start,goal,currentD)\n",
    "            possible_moves_unvisited = reduceToUniqueList(possible_moves_unvisited)\n",
    "            possible_moves_unvisited = ridOfExtra(kb,possible_moves_unvisited)\n",
    "            \n",
    "            #addPercepts(kb, per)\n",
    "          \n",
    "    else:\n",
    "        #Grab action and effect on the kb and the world\n",
    "        if str(move[0]) == 'Grab':\n",
    "            acts = [move[0]]\n",
    "            loc = w.getlocation()\n",
    "            # If we have grab we need to remove the gold from the world\n",
    "            remGlitter(kb,loc)\n",
    "            kb.tell(expr(\"HaveGold\"))\n",
    "            print(\"We have the gold, we return to the initial position\")\n",
    "            play=True;\n",
    "        #Move action and effect on the kb\n",
    "        else:\n",
    "            moveNum = getNumOfMove(move)\n",
    "            #Change the position of the agent in the database\n",
    "            changeAt(kb, moveNum)\n",
    "            acts = getActs(moveNum,currentD)\n",
    "            currentD = acts.pop()\n",
    "            play=True;\n",
    "            \n",
    "        visited =getAllVisited(kb);\n",
    "        per = animateGrid(acts,visited)\n",
    "        addPercepts(kb, per,w)\n",
    "    return [play,currentD,trackMoves]"
   ]
  },
  {
   "cell_type": "code",
   "execution_count": 18,
   "metadata": {
    "collapsed": false
   },
   "outputs": [],
   "source": [
    "def execute_plan(kb,currentD,w,trackMoves):\n",
    "    plan=True\n",
    "    i = 0;\n",
    "    while(plan == True):\n",
    "        i = i + 1\n",
    "        [plan,currentD,trackMoves]=execute_action(kb,currentD,w,trackMoves)\n",
    "        if (i == 100):\n",
    "            plan = False\n",
    "    return [currentD,trackMoves]"
   ]
  },
  {
   "cell_type": "code",
   "execution_count": 19,
   "metadata": {
    "collapsed": false
   },
   "outputs": [
    {
     "data": {
      "application/javascript": [
       "IPython.OutputArea.prototype._should_scroll = function(lines) {\n",
       "    return false;\n",
       "}"
      ],
      "text/plain": [
       "<IPython.core.display.Javascript object>"
      ]
     },
     "metadata": {},
     "output_type": "display_data"
    }
   ],
   "source": [
    "%%javascript\n",
    "IPython.OutputArea.prototype._should_scroll = function(lines) {\n",
    "    return false;\n",
    "}"
   ]
  },
  {
   "cell_type": "code",
   "execution_count": 20,
   "metadata": {
    "collapsed": false
   },
   "outputs": [
    {
     "data": {
      "text/plain": [
       "True"
      ]
     },
     "execution_count": 20,
     "metadata": {},
     "output_type": "execute_result"
    }
   ],
   "source": [
    "dpll_ask(kb,expr(\"HaveArrow\"))"
   ]
  },
  {
   "cell_type": "code",
   "execution_count": 21,
   "metadata": {
    "collapsed": true
   },
   "outputs": [],
   "source": [
    "#kb.tell(\"HaveArrow\")"
   ]
  },
  {
   "cell_type": "code",
   "execution_count": 22,
   "metadata": {
    "collapsed": false
   },
   "outputs": [
    {
     "name": "stdout",
     "output_type": "stream",
     "text": [
      "HaveGold  False\n"
     ]
    },
    {
     "ename": "NameError",
     "evalue": "name 'select_random_action' is not defined",
     "output_type": "error",
     "traceback": [
      "\u001b[0;31m---------------------------------------------------------------------------\u001b[0m",
      "\u001b[0;31mNameError\u001b[0m                                 Traceback (most recent call last)",
      "\u001b[0;32m<ipython-input-22-2456f4f61696>\u001b[0m in \u001b[0;36m<module>\u001b[0;34m()\u001b[0m\n\u001b[0;32m----> 1\u001b[0;31m \u001b[0;34m[\u001b[0m\u001b[0mcurrentD\u001b[0m\u001b[0;34m,\u001b[0m\u001b[0mtrackMoves\u001b[0m\u001b[0;34m]\u001b[0m \u001b[0;34m=\u001b[0m \u001b[0mexecute_plan\u001b[0m\u001b[0;34m(\u001b[0m\u001b[0mkb\u001b[0m\u001b[0;34m,\u001b[0m\u001b[0mcurrentD\u001b[0m\u001b[0;34m,\u001b[0m\u001b[0mw\u001b[0m\u001b[0;34m,\u001b[0m\u001b[0mtrackMoves\u001b[0m\u001b[0;34m)\u001b[0m\u001b[0;34m\u001b[0m\u001b[0m\n\u001b[0m",
      "\u001b[0;32m<ipython-input-18-1830d7cfe95c>\u001b[0m in \u001b[0;36mexecute_plan\u001b[0;34m(kb, currentD, w, trackMoves)\u001b[0m\n\u001b[1;32m      4\u001b[0m     \u001b[0;32mwhile\u001b[0m\u001b[0;34m(\u001b[0m\u001b[0mplan\u001b[0m \u001b[0;34m==\u001b[0m \u001b[0;32mTrue\u001b[0m\u001b[0;34m)\u001b[0m\u001b[0;34m:\u001b[0m\u001b[0;34m\u001b[0m\u001b[0m\n\u001b[1;32m      5\u001b[0m         \u001b[0mi\u001b[0m \u001b[0;34m=\u001b[0m \u001b[0mi\u001b[0m \u001b[0;34m+\u001b[0m \u001b[0;36m1\u001b[0m\u001b[0;34m\u001b[0m\u001b[0m\n\u001b[0;32m----> 6\u001b[0;31m         \u001b[0;34m[\u001b[0m\u001b[0mplan\u001b[0m\u001b[0;34m,\u001b[0m\u001b[0mcurrentD\u001b[0m\u001b[0;34m,\u001b[0m\u001b[0mtrackMoves\u001b[0m\u001b[0;34m]\u001b[0m\u001b[0;34m=\u001b[0m\u001b[0mexecute_action\u001b[0m\u001b[0;34m(\u001b[0m\u001b[0mkb\u001b[0m\u001b[0;34m,\u001b[0m\u001b[0mcurrentD\u001b[0m\u001b[0;34m,\u001b[0m\u001b[0mw\u001b[0m\u001b[0;34m,\u001b[0m\u001b[0mtrackMoves\u001b[0m\u001b[0;34m)\u001b[0m\u001b[0;34m\u001b[0m\u001b[0m\n\u001b[0m\u001b[1;32m      7\u001b[0m         \u001b[0;32mif\u001b[0m \u001b[0;34m(\u001b[0m\u001b[0mi\u001b[0m \u001b[0;34m==\u001b[0m \u001b[0;36m100\u001b[0m\u001b[0;34m)\u001b[0m\u001b[0;34m:\u001b[0m\u001b[0;34m\u001b[0m\u001b[0m\n\u001b[1;32m      8\u001b[0m             \u001b[0mplan\u001b[0m \u001b[0;34m=\u001b[0m \u001b[0;32mFalse\u001b[0m\u001b[0;34m\u001b[0m\u001b[0m\n",
      "\u001b[0;32m<ipython-input-17-120466a8e279>\u001b[0m in \u001b[0;36mexecute_action\u001b[0;34m(kb, currentD, w, possible_moves_unvisited)\u001b[0m\n\u001b[1;32m     11\u001b[0m     \u001b[0;31m#Select a move randomly (except for grab which will be selected first) and\u001b[0m\u001b[0;34m\u001b[0m\u001b[0;34m\u001b[0m\u001b[0m\n\u001b[1;32m     12\u001b[0m     \u001b[0;31m#keep track of the not selected moves in possible_moves_unvisited\u001b[0m\u001b[0;34m\u001b[0m\u001b[0;34m\u001b[0m\u001b[0m\n\u001b[0;32m---> 13\u001b[0;31m     \u001b[0mmove\u001b[0m \u001b[0;34m=\u001b[0m \u001b[0mselect_random_action\u001b[0m\u001b[0;34m(\u001b[0m\u001b[0mpossible_acts\u001b[0m\u001b[0;34m,\u001b[0m\u001b[0mpossible_moves_unvisited\u001b[0m\u001b[0;34m)\u001b[0m\u001b[0;34m\u001b[0m\u001b[0m\n\u001b[0m\u001b[1;32m     14\u001b[0m \u001b[0;34m\u001b[0m\u001b[0m\n\u001b[1;32m     15\u001b[0m     \u001b[0;31m#Get rid of the duplicates in possible_moves_unvisited\u001b[0m\u001b[0;34m\u001b[0m\u001b[0;34m\u001b[0m\u001b[0m\n",
      "\u001b[0;31mNameError\u001b[0m: name 'select_random_action' is not defined"
     ]
    }
   ],
   "source": [
    "[currentD,trackMoves] = execute_plan(kb,currentD,w,trackMoves)"
   ]
  },
  {
   "cell_type": "code",
   "execution_count": null,
   "metadata": {
    "collapsed": true
   },
   "outputs": [],
   "source": []
  },
  {
   "cell_type": "code",
   "execution_count": null,
   "metadata": {
    "collapsed": true
   },
   "outputs": [],
   "source": []
  }
 ],
 "metadata": {
  "kernelspec": {
   "display_name": "Python 3",
   "language": "python",
   "name": "python3"
  },
  "language_info": {
   "codemirror_mode": {
    "name": "ipython",
    "version": 3
   },
   "file_extension": ".py",
   "mimetype": "text/x-python",
   "name": "python",
   "nbconvert_exporter": "python",
   "pygments_lexer": "ipython3",
   "version": "3.6.0"
  }
 },
 "nbformat": 4,
 "nbformat_minor": 2
}
